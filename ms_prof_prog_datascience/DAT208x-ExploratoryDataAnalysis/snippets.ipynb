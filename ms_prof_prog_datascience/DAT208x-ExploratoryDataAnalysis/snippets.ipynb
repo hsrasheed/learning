{
 "cells": [
  {
   "cell_type": "code",
   "execution_count": 8,
   "metadata": {},
   "outputs": [],
   "source": [
    "import pandas as pd\n",
    "recent_grads = pd.read_csv('recent_grads2.csv', header=0)\n",
    "#recent_grads = pd.read_table('recent_grads.csv')"
   ]
  },
  {
   "cell_type": "code",
   "execution_count": 9,
   "metadata": {},
   "outputs": [
    {
     "name": "stdout",
     "output_type": "stream",
     "text": [
      "   unemployed  unemployment_rate  median  p25th   p75th  college_jobs\n",
      "0          37           0.018381  110000  95000  125000          1534\n",
      "1          85           0.117241   75000  55000   90000           350\n",
      "2          16           0.024096   73000  50000  105000           456\n",
      "3          40           0.050125   70000  43000   80000           529\n",
      "4        1672           0.061098   65000  50000   75000         18314\n",
      "1672\n"
     ]
    }
   ],
   "source": [
    "print(recent_grads.head())\n",
    "print(recent_grads.iloc[4,0])"
   ]
  },
  {
   "cell_type": "code",
   "execution_count": 10,
   "metadata": {},
   "outputs": [
    {
     "name": "stdout",
     "output_type": "stream",
     "text": [
      "median    object\n",
      "p25th     object\n",
      "p75th     object\n",
      "dtype: object\n",
      "['110000' '75000' '73000' '70000' '65000' 'UN' '62000' '60000' '58000'\n",
      " '57100' '57000' '56000' '54000' '53000' '52000' '51000' '50000']\n"
     ]
    }
   ],
   "source": [
    "# Names of the columns we're searching for missing values \n",
    "columns = ['median', 'p25th', 'p75th']\n",
    "\n",
    "# Take a look at the dtypes\n",
    "print(recent_grads[columns].dtypes)\n",
    "\n",
    "# Find how missing values are represented\n",
    "print(recent_grads[\"median\"].unique())"
   ]
  },
  {
   "cell_type": "code",
   "execution_count": 14,
   "metadata": {},
   "outputs": [],
   "source": [
    "import numpy as np\n",
    "import pandas as pd\n",
    "\n",
    "# Replace missing values with NaN\n",
    "for column in columns:\n",
    "    recent_grads.loc[recent_grads[column] == 'UN', column] = np.nan"
   ]
  },
  {
   "cell_type": "code",
   "execution_count": 15,
   "metadata": {},
   "outputs": [
    {
     "name": "stdout",
     "output_type": "stream",
     "text": [
      "    unemployed  unemployment_rate  median  p25th   p75th  college_jobs\n",
      "0           37           0.018381  110000  95000  125000          1534\n",
      "1           85           0.117241   75000  55000   90000           350\n",
      "2           16           0.024096   73000  50000  105000           456\n",
      "3           40           0.050125   70000  43000   80000           529\n",
      "4         1672           0.061098   65000  50000   75000         18314\n",
      "5          400           0.177226   65000  50000  102000          1142\n",
      "6          308           0.095652     NaN    NaN     NaN          1768\n",
      "7           33           0.021167   62000  31500  109000           972\n",
      "8         4650           0.057342   60000  48000   70000         52844\n",
      "9         3895           0.059174   60000  45000   72000         45829\n",
      "10        2275           0.065409   60000  45000   75000         23694\n",
      "11         794           0.065162   60000  42000   70000          8184\n",
      "12        1019           0.092084   60000  36000   70000          6439\n",
      "13          78           0.023043   60000  39000   65000          2626\n",
      "14          23           0.006334   58000  25000   74000          2439\n",
      "15         589           0.087143   57100  40000   76000          3603\n",
      "16         699           0.042876   57000  37900   67000          8306\n",
      "17        2859           0.059824   56000  36000   69000         26898\n",
      "18         170           0.061931   54000  38000   65000          1665\n",
      "19          11           0.011690   54000  50000   54000           402\n",
      "20        6884           0.063173   53000  39000   70000         68622\n",
      "21         338           0.096931   53000  32000   70000          1183\n",
      "22         824           0.087557   52000  35000   60000          5126\n",
      "23          70           0.027789   52000  35000   62000          1911\n",
      "24        1015           0.058240   51000  38000   60000          6342\n",
      "25        3270           0.070610   50000  40000   60000         28526\n",
      "26        1042           0.060023   50000  36000   60000          3275\n",
      "27         504           0.047859   50000  40000   60000          1466\n",
      "28         597           0.074393   50000  39000   65000          3445\n",
      "29         670           0.128426   50000  35000   70000          1550\n"
     ]
    }
   ],
   "source": [
    "print(recent_grads)"
   ]
  },
  {
   "cell_type": "markdown",
   "metadata": {},
   "source": [
    "Converting a DataFrame to Numpy Array\n",
    "\n",
    "Since numpy is such a powerful Python module, this exercise asks you to convert a pandas DataFrame to a numpy array to then utilize a statistics metric available through numpy in the next exercise.\n",
    "Instructions\n",
    "70 XP\n",
    "\n",
    "    Select the columns unemployed and low_wage_jobs from recent_grads, then convert them to a numpy array. Save this as recent_grads_np.\n",
    "    Print the type of recent_grads_np to see that it is a numpy array.\n"
   ]
  },
  {
   "cell_type": "code",
   "execution_count": null,
   "metadata": {},
   "outputs": [],
   "source": [
    "# Convert to numpy array\n",
    "recent_grads_np = np.array(recent_grads.loc[:,['unemployed','low_wage_jobs']])\n",
    "\n",
    "\n",
    "# Print the type of recent_grads_np\n",
    "print(type(recent_grads_np))\n",
    "\n",
    "# Calculate correlation matrix\n",
    "print(np.corrcoef(recent_grads_np[:,0], recent_grads_np[:,1]))"
   ]
  },
  {
   "cell_type": "markdown",
   "metadata": {},
   "source": [
    "# Filtering rows\n",
    "\n",
    "Finally you can filter out for departments which fail the benchmark of a difference of more than 0.30. Since all the values are now positive, you can do this with a simple boolean operator.\n",
    "\n",
    "You want to find the rows containing departments that are skewed heavily towards men. Using work you've already done, you'll create a new DataFrame that contains this information.\n",
    "\n",
    "The DataFrame recent_grads still has the columns sharemen and gender_diff that you created in previous exercises.\n",
    "## Instructions\n",
    "100 XP\n",
    "\n",
    "    Create diff_30, a boolean Series that is True when the corresponding value of gender_diff is greater than 0.30 and False otherwise.\n",
    "    Make another boolean Series called more_men that's true when the corresponding row in recent_grads has more men than women.\n",
    "    Combine your two Series to make one that you can use to select rows that have both more men than women and a value of gender_diff greater than 0.30. Save the result as more_men_and_diff_30.\n",
    "    Use this new boolean Series to create the DataFrame fewer_women that contains only the rows you're interested in.\n"
   ]
  },
  {
   "cell_type": "code",
   "execution_count": null,
   "metadata": {},
   "outputs": [],
   "source": [
    "# Rows where gender rate difference is greater than .30 \n",
    "diff_30 = recent_grads['gender_diff'] > .30\n",
    "\n",
    "# Rows with more men\n",
    "more_men = recent_grads['sharemen'] > recent_grads['sharewomen']\n",
    "\n",
    "# Combine more_men and diff_30\n",
    "more_men_and_diff_30 = np.logical_and(diff_30,more_men)\n",
    "\n",
    "# Find rows with more men and and gender rate difference greater than .30\n",
    "fewer_women = recent_grads[more_men_and_diff_30]"
   ]
  },
  {
   "cell_type": "markdown",
   "metadata": {},
   "source": [
    "# Grouping with Counts\n",
    "\n",
    "There are various department categories but no sense of how many departments there are in each category. You'll use pandas to gain insight into this information.\n",
    "\n",
    "In particular, you'll use the .groupby() method of pandas. This was not introduced to you in the course, but you'll see it very frequently in your data science journey and it's an important method to understand. This set of exercises will extend your pandas knowledge by teaching you how to use the .groupby() method.\n",
    "\n",
    "Calls to .groupby() have the following three components: the column you want to group, the column you want to aggregate, and the statistic you want to aggregate by. For example, in our dataset, if we wanted to see the percentage of women ('sharewomen') per 'major_category', we could leverage a .groupby like so: recent_grads.groupby('major_category')['sharewomen'].mean(). Here, we are grouping by 'major_category', and aggregating 'sharewomen' by the mean. Give it a try in the IPython Shell if you're curious to see the result!\n",
    "## Instructions\n",
    "100 XP\n",
    "\n",
    "    Using the .groupby() method, group the recent_grads DataFrame by 'major_category' and then count the number of departments per category using .count().\n"
   ]
  },
  {
   "cell_type": "code",
   "execution_count": null,
   "metadata": {},
   "outputs": [],
   "source": [
    "# Group by major category and count\n",
    "print(recent_grads.groupby(['major_category']).major_category.count())"
   ]
  },
  {
   "cell_type": "markdown",
   "metadata": {},
   "source": [
    "# Grouping with Counts, Part 2\n",
    "\n",
    "You want to get a sense of the number of majors with a lot less women, so you'll perform a similar operation as the one from the last exercise.\n",
    "\n",
    "Use the fewer_women DataFrame from a previous exercise.\n",
    "## Instructions\n",
    "100 XP\n",
    "\n",
    "    Create a DataFrame that groups the departments by major category and shows the number of departments that are skewed in women.\n"
   ]
  },
  {
   "cell_type": "code",
   "execution_count": null,
   "metadata": {},
   "outputs": [],
   "source": [
    "# Group departments that have less women by category and count\n",
    "print(fewer_women.groupby(['major_category']).major_category.count())"
   ]
  },
  {
   "cell_type": "markdown",
   "metadata": {},
   "source": [
    "# Grouping One Column with Means\n",
    "\n",
    "Similar to the exercise you just completed, you can group rows to output the means of different groups within a column.\n",
    "\n",
    "The column gender_diff is still available in the recent_grads DataFrame.\n",
    "## Instructions\n",
    "100 XP\n",
    "\n",
    "    Write code that outputs the average gender percentage difference by major category.\n"
   ]
  },
  {
   "cell_type": "code",
   "execution_count": null,
   "metadata": {},
   "outputs": [],
   "source": [
    "# Report average gender difference by major category\n",
    "print(recent_grads.groupby(['major_category']).gender_diff.mean())"
   ]
  },
  {
   "cell_type": "markdown",
   "metadata": {},
   "source": [
    "# Grouping Two Columns with Means\n",
    "\n",
    "You can expand the previous operation to include two columns and output the means for each. To accomplish this, modify the code you just wrote.\n",
    "## Instructions\n",
    "100 XP\n",
    "\n",
    "    Write a query that outputs the mean number of 'low_wage_jobs' and average 'unemployment_rate' grouped by 'major_category'"
   ]
  },
  {
   "cell_type": "code",
   "execution_count": null,
   "metadata": {},
   "outputs": [],
   "source": [
    "# Find average number of low wage jobs and unemployment rate of each major category\n",
    "dept_stats = recent_grads.groupby(['major_category'])['low_wage_jobs', 'unemployment_rate'].mean()\n",
    "print(dept_stats)"
   ]
  },
  {
   "cell_type": "markdown",
   "metadata": {},
   "source": [
    "# Plotting Two Bar Graphs\n",
    "\n",
    "The previous visualization gives you a good picture of how many students are working at jobs that don't require a college degree, but it doesn't give you a sense of how each category is doing relative to one another. So you decide to add the college_jobs column as an extra bar of information so that you can evaluate the difference between the two.\n",
    "## Instructions\n",
    "70 XP\n",
    "\n",
    "    Use pandas to create a DataFrame that reports the number of graduates working at jobs that do require college degrees ('college_jobs'), and do not require college degrees ('non_college_jobs'). Assign this to a variable named df1.\n",
    "    Create a plot that reports this data with matplotlib.\n",
    "    Display the plot you've created!\n"
   ]
  },
  {
   "cell_type": "code",
   "execution_count": null,
   "metadata": {},
   "outputs": [],
   "source": [
    "# DataFrame of college and non-college job sums\n",
    "df1 = recent_grads.groupby('major_category')['college_jobs','non_college_jobs'].sum()\n",
    "\n",
    "# Plot bar chart\n",
    "df1.plot(kind='bar')\n",
    "\n",
    "# Show graph\n",
    "plt.show()"
   ]
  },
  {
   "cell_type": "markdown",
   "metadata": {},
   "source": [
    "Plotting Quantiles of Salary, Part 1\n",
    "\n",
    "Now you're interested in plotting a few different quantiles of the average salary across major categories so that you can compare the different distributions of salary. In this exercise you'll prepare your data for matplotlib.\n",
    "Instructions\n",
    "70 XP\n",
    "\n",
    "    The columns median, p25th, and p75th are currently encoded as strings. Convert these columns to numerical values. Then, divide the value of each column by 1000 to make the scale of the final plot easier to read.\n",
    "    Find the of each of the three columns for each major category. Save this as sal_quantiles\n"
   ]
  },
  {
   "cell_type": "code",
   "execution_count": null,
   "metadata": {},
   "outputs": [],
   "source": [
    "# Convert to numeric and divide by 1000\n",
    "recent_grads['median'] = pd.to_numeric(recent_grads['median'])/1000\n",
    "recent_grads['p25th'] = pd.to_numeric(recent_grads['p25th'])/1000\n",
    "recent_grads['p75th'] = pd.to_numeric(recent_grads['p75th'])/1000\n",
    "\n",
    "# Select averages by major category\n",
    "columns = ['median', 'p25th', 'p75th']\n",
    "sal_quantiles = recent_grads.groupby('major_category')[columns].mean()"
   ]
  },
  {
   "cell_type": "code",
   "execution_count": null,
   "metadata": {},
   "outputs": [],
   "source": []
  },
  {
   "cell_type": "code",
   "execution_count": null,
   "metadata": {},
   "outputs": [],
   "source": [
    "# Plot the data\n",
    "sal_quantiles.plot()\n",
    "\n",
    "# Set xticks\n",
    "plt.xticks(\n",
    "    np.arange(len(sal_quantiles.index)),\n",
    "    sal_quantiles.index, \n",
    "    rotation='vertical')\n",
    "\n",
    "# Show the plot\n",
    "plt.show()\n",
    "\n",
    "# Plot with subplots\n",
    "sal_quantiles.plot(subplots=True)\n",
    "plt.show()"
   ]
  },
  {
   "cell_type": "code",
   "execution_count": 1,
   "metadata": {},
   "outputs": [
    {
     "data": {
      "text/plain": [
       "[2, 5, 4]"
      ]
     },
     "execution_count": 1,
     "metadata": {},
     "output_type": "execute_result"
    }
   ],
   "source": [
    "x = [2, 5, 4, 3, 7, 1]\n",
    "x[:3]"
   ]
  },
  {
   "cell_type": "code",
   "execution_count": 2,
   "metadata": {},
   "outputs": [],
   "source": [
    "import numpy as np\n",
    "costs = np.column_stack(([1, 1, 1, 2, 2, 2, 1, 2], \n",
    "                         [7, 7, 5, 4, 5, 5, 5, 7]))"
   ]
  },
  {
   "cell_type": "code",
   "execution_count": 3,
   "metadata": {},
   "outputs": [
    {
     "name": "stdout",
     "output_type": "stream",
     "text": [
      "4.0\n"
     ]
    }
   ],
   "source": [
    "mean_costs = np.mean(costs[1])\n",
    "print(mean_costs)"
   ]
  },
  {
   "cell_type": "code",
   "execution_count": 4,
   "metadata": {},
   "outputs": [
    {
     "name": "stdout",
     "output_type": "stream",
     "text": [
      "['E', 'Q']\n"
     ]
    }
   ],
   "source": [
    "x = [\"B\", \"D\", \"Z\", \"A\", \"E\", \"Q\"]\n",
    "print(x[-2:])"
   ]
  },
  {
   "cell_type": "code",
   "execution_count": 6,
   "metadata": {},
   "outputs": [
    {
     "name": "stdout",
     "output_type": "stream",
     "text": [
      "1\n"
     ]
    }
   ],
   "source": [
    "x=1\n",
    "print(int(x))"
   ]
  },
  {
   "cell_type": "code",
   "execution_count": 16,
   "metadata": {},
   "outputs": [
    {
     "name": "stdout",
     "output_type": "stream",
     "text": [
      "[19, 18, 15, 8, 6, 1]\n"
     ]
    }
   ],
   "source": [
    "x = [6, 15, 19, 8, 18, 1]\n",
    "#print(order(x, reverse=True))\n",
    "#print(sort(x, reverse=True))\n",
    "print(sorted(x, reverse=True))\n",
    "#print(np.sorted(x, reverse=True))\n",
    "#print(np.order(x, reverse=True))\n",
    "#print(order(x, reverse=True))"
   ]
  },
  {
   "cell_type": "code",
   "execution_count": 19,
   "metadata": {},
   "outputs": [
    {
     "data": {
      "image/png": "[encoded data removed]",
      "text/plain": [
       "<matplotlib.figure.Figure at 0x7f79428d9160>"
      ]
     },
     "metadata": {},
     "output_type": "display_data"
    }
   ],
   "source": [
    "import matplotlib.pyplot as plt\n",
    "plt.plot([10, 20, 30, 40], [5, 6, 7, 8])\n",
    "plt.show()"
   ]
  },
  {
   "cell_type": "code",
   "execution_count": 21,
   "metadata": {},
   "outputs": [
    {
     "ename": "AttributeError",
     "evalue": "module 'matplotlib.pyplot' has no attribute 'lineplot'",
     "output_type": "error",
     "traceback": [
      "\u001b[0;31m---------------------------------------------------------------------------\u001b[0m",
      "\u001b[0;31mAttributeError\u001b[0m                            Traceback (most recent call last)",
      "\u001b[0;32m<ipython-input-21-38cea3efb17c>\u001b[0m in \u001b[0;36m<module>\u001b[0;34m()\u001b[0m\n\u001b[1;32m      1\u001b[0m \u001b[0;32mimport\u001b[0m \u001b[0mmatplotlib\u001b[0m\u001b[0;34m.\u001b[0m\u001b[0mpyplot\u001b[0m \u001b[0;32mas\u001b[0m \u001b[0mplt\u001b[0m\u001b[0;34m\u001b[0m\u001b[0m\n\u001b[0;32m----> 2\u001b[0;31m \u001b[0mplt\u001b[0m\u001b[0;34m.\u001b[0m\u001b[0mlineplot\u001b[0m\u001b[0;34m(\u001b[0m\u001b[0;34m[\u001b[0m\u001b[0;36m10\u001b[0m\u001b[0;34m,\u001b[0m \u001b[0;36m20\u001b[0m\u001b[0;34m,\u001b[0m \u001b[0;36m30\u001b[0m\u001b[0;34m,\u001b[0m \u001b[0;36m40\u001b[0m\u001b[0;34m]\u001b[0m\u001b[0;34m,\u001b[0m \u001b[0;34m[\u001b[0m\u001b[0;36m5\u001b[0m\u001b[0;34m,\u001b[0m \u001b[0;36m6\u001b[0m\u001b[0;34m,\u001b[0m \u001b[0;36m7\u001b[0m\u001b[0;34m,\u001b[0m \u001b[0;36m8\u001b[0m\u001b[0;34m]\u001b[0m\u001b[0;34m)\u001b[0m\u001b[0;34m\u001b[0m\u001b[0m\n\u001b[0m\u001b[1;32m      3\u001b[0m \u001b[0mplt\u001b[0m\u001b[0;34m.\u001b[0m\u001b[0mshow\u001b[0m\u001b[0;34m(\u001b[0m\u001b[0;34m)\u001b[0m\u001b[0;34m\u001b[0m\u001b[0m\n",
      "\u001b[0;31mAttributeError\u001b[0m: module 'matplotlib.pyplot' has no attribute 'lineplot'"
     ]
    }
   ],
   "source": [
    "import matplotlib.pyplot as plt\n",
    "plt.lineplot([10, 20, 30, 40], [5, 6, 7, 8])\n",
    "plt.show()"
   ]
  },
  {
   "cell_type": "code",
   "execution_count": 22,
   "metadata": {},
   "outputs": [
    {
     "name": "stdout",
     "output_type": "stream",
     "text": [
      "[[ 7]\n",
      " [14]]\n"
     ]
    }
   ],
   "source": [
    "import numpy as np\n",
    "np_2d = np.array([[7, 8, 9], \n",
    "                  [14, 15, 16]])\n",
    "print(np_2d[0:, :1])"
   ]
  },
  {
   "cell_type": "code",
   "execution_count": 23,
   "metadata": {},
   "outputs": [
    {
     "name": "stdout",
     "output_type": "stream",
     "text": [
      "Second attempt\n"
     ]
    }
   ],
   "source": [
    "x = 6\n",
    "if not x:\n",
    "    print(\"First attempt\")\n",
    "elif x % 2 == 0:\n",
    "    print(\"Second attempt\")\n",
    "else:\n",
    "    print(\"Final attempt\")"
   ]
  },
  {
   "cell_type": "code",
   "execution_count": 24,
   "metadata": {},
   "outputs": [
    {
     "name": "stdout",
     "output_type": "stream",
     "text": [
      "[9, 11]\n"
     ]
    }
   ],
   "source": [
    "x = [1, 3, 5, 7, 9, 11]\n",
    "print(x[4:])"
   ]
  },
  {
   "cell_type": "code",
   "execution_count": 25,
   "metadata": {},
   "outputs": [
    {
     "name": "stdout",
     "output_type": "stream",
     "text": [
      "[19, -2, 5]\n"
     ]
    }
   ],
   "source": [
    "x = 5\n",
    "y = -2\n",
    "z = 19\n",
    "print([z,y,x])"
   ]
  },
  {
   "cell_type": "code",
   "execution_count": 26,
   "metadata": {},
   "outputs": [
    {
     "name": "stdout",
     "output_type": "stream",
     "text": [
      "[1, 5, 6, 4]\n"
     ]
    }
   ],
   "source": [
    "x = [1, 2, 3, 4]\n",
    "y = x\n",
    "y[1:3] = [5, 6]\n",
    "print(x)"
   ]
  },
  {
   "cell_type": "code",
   "execution_count": 27,
   "metadata": {},
   "outputs": [
    {
     "name": "stdout",
     "output_type": "stream",
     "text": [
      "10\n"
     ]
    }
   ],
   "source": [
    "x = [7, 1, 3, 10, 5, 9]\n",
    "print(max(x))"
   ]
  },
  {
   "cell_type": "code",
   "execution_count": 33,
   "metadata": {},
   "outputs": [
    {
     "name": "stdout",
     "output_type": "stream",
     "text": [
      "[['a', 'b'], -2.5, [1, 'B', 19]]\n"
     ]
    }
   ],
   "source": [
    "a = -2.5\n",
    "b = [\"a\", \"b\"]\n",
    "c = [1, \"B\", 19]\n",
    "print([b,a,c])"
   ]
  },
  {
   "cell_type": "code",
   "execution_count": 34,
   "metadata": {},
   "outputs": [
    {
     "name": "stdout",
     "output_type": "stream",
     "text": [
      "The value of x is:15\n"
     ]
    }
   ],
   "source": [
    "x = 15\n",
    "y = \"The value of x is:\"\n",
    "print(y+(str(x)))"
   ]
  },
  {
   "cell_type": "code",
   "execution_count": 35,
   "metadata": {},
   "outputs": [
    {
     "name": "stdout",
     "output_type": "stream",
     "text": [
      "[[1.         1.5        0.66666667]\n",
      " [0.5        1.         1.        ]]\n"
     ]
    }
   ],
   "source": [
    "import numpy as np\n",
    "x = np.array([[2, 6, 4], [1, 2, 1]])\n",
    "y = np.array([[2, 4, 6], [2, 2, 1]])\n",
    "print(x / y)"
   ]
  },
  {
   "cell_type": "code",
   "execution_count": null,
   "metadata": {},
   "outputs": [],
   "source": []
  }
 ],
 "metadata": {
  "kernelspec": {
   "display_name": "Python 3",
   "language": "python",
   "name": "python3"
  },
  "language_info": {
   "codemirror_mode": {
    "name": "ipython",
    "version": 3
   },
   "file_extension": ".py",
   "mimetype": "text/x-python",
   "name": "python",
   "nbconvert_exporter": "python",
   "pygments_lexer": "ipython3",
   "version": "3.7.3"
  }
 },
 "nbformat": 4,
 "nbformat_minor": 4
}
