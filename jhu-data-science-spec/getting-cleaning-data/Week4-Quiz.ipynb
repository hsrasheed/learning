{
 "cells": [
  {
   "cell_type": "markdown",
   "metadata": {},
   "source": [
    "## Question 1\n",
    "\n",
    "The American Community Survey distributes downloadable data about United States communities. Download the 2006 microdata survey about housing for the state of Idaho using download.file() from here:\n",
    "\n",
    "https://d396qusza40orc.cloudfront.net/getdata%2Fdata%2Fss06hid.csv\n",
    "\n",
    "and load the data into R. The code book, describing the variable names is here:\n",
    "\n",
    "https://d396qusza40orc.cloudfront.net/getdata%2Fdata%2FPUMSDataDict06.pdf\n",
    "\n",
    "Apply strsplit() to split all the names of the data frame on the characters \"wgtp\". What is the value of the 123 element of the resulting list?"
   ]
  },
  {
   "cell_type": "code",
   "execution_count": 1,
   "metadata": {},
   "outputs": [],
   "source": [
    "download.file(\"https://d396qusza40orc.cloudfront.net/getdata%2Fdata%2Fss06hid.csv\",\"2006_Idaho_Housing_Data.csv\")"
   ]
  },
  {
   "cell_type": "code",
   "execution_count": 2,
   "metadata": {},
   "outputs": [],
   "source": [
    "df = read.csv(\"2006_Idaho_Housing_Data.csv\")"
   ]
  },
  {
   "cell_type": "code",
   "execution_count": 4,
   "metadata": {},
   "outputs": [],
   "source": [
    "splitnames = strsplit(names(df),\"wgtp\")"
   ]
  },
  {
   "cell_type": "code",
   "execution_count": 5,
   "metadata": {},
   "outputs": [
    {
     "data": {
      "text/html": [
       "<ol class=list-inline>\n",
       "\t<li>''</li>\n",
       "\t<li>'15'</li>\n",
       "</ol>\n"
      ],
      "text/latex": [
       "\\begin{enumerate*}\n",
       "\\item ''\n",
       "\\item '15'\n",
       "\\end{enumerate*}\n"
      ],
      "text/markdown": [
       "1. ''\n",
       "2. '15'\n",
       "\n",
       "\n"
      ],
      "text/plain": [
       "[1] \"\"   \"15\""
      ]
     },
     "metadata": {},
     "output_type": "display_data"
    }
   ],
   "source": [
    "splitnames[[123]]"
   ]
  },
  {
   "cell_type": "markdown",
   "metadata": {},
   "source": [
    "## Question 2\n",
    "\n",
    "Load the Gross Domestic Product data for the 190 ranked countries in this data set:\n",
    "\n",
    "https://d396qusza40orc.cloudfront.net/getdata%2Fdata%2FGDP.csv\n",
    "\n",
    "Remove the commas from the GDP numbers in millions of dollars and average them. What is the average?\n",
    "\n",
    "Original data sources:\n",
    "\n",
    "http://data.worldbank.org/data-catalog/GDP-ranking-table"
   ]
  },
  {
   "cell_type": "code",
   "execution_count": 6,
   "metadata": {},
   "outputs": [],
   "source": [
    "gdp_df = read.csv(\"GDP2.csv\")"
   ]
  },
  {
   "cell_type": "code",
   "execution_count": 7,
   "metadata": {},
   "outputs": [
    {
     "data": {
      "text/html": [
       "<table>\n",
       "<thead><tr><th scope=col>CountryCode</th><th scope=col>Rank</th><th scope=col>X</th><th scope=col>CountryName</th><th scope=col>GDPInMillions</th><th scope=col>X.1</th><th scope=col>X.2</th><th scope=col>X.3</th><th scope=col>X.4</th><th scope=col>X.5</th></tr></thead>\n",
       "<tbody>\n",
       "\t<tr><td>USA           </td><td>1             </td><td>NA            </td><td>United States </td><td> 16,244,600   </td><td>              </td><td>NA            </td><td>NA            </td><td>NA            </td><td>NA            </td></tr>\n",
       "\t<tr><td>CHN           </td><td>2             </td><td>NA            </td><td>China         </td><td> 8,227,103    </td><td>              </td><td>NA            </td><td>NA            </td><td>NA            </td><td>NA            </td></tr>\n",
       "\t<tr><td>JPN           </td><td>3             </td><td>NA            </td><td>Japan         </td><td> 5,959,718    </td><td>              </td><td>NA            </td><td>NA            </td><td>NA            </td><td>NA            </td></tr>\n",
       "\t<tr><td>DEU           </td><td>4             </td><td>NA            </td><td>Germany       </td><td> 3,428,131    </td><td>              </td><td>NA            </td><td>NA            </td><td>NA            </td><td>NA            </td></tr>\n",
       "\t<tr><td>FRA           </td><td>5             </td><td>NA            </td><td>France        </td><td> 2,612,878    </td><td>              </td><td>NA            </td><td>NA            </td><td>NA            </td><td>NA            </td></tr>\n",
       "\t<tr><td>GBR           </td><td>6             </td><td>NA            </td><td>United Kingdom</td><td> 2,471,784    </td><td>              </td><td>NA            </td><td>NA            </td><td>NA            </td><td>NA            </td></tr>\n",
       "</tbody>\n",
       "</table>\n"
      ],
      "text/latex": [
       "\\begin{tabular}{r|llllllllll}\n",
       " CountryCode & Rank & X & CountryName & GDPInMillions & X.1 & X.2 & X.3 & X.4 & X.5\\\\\n",
       "\\hline\n",
       "\t USA            & 1              & NA             & United States  &  16,244,600    &                & NA             & NA             & NA             & NA            \\\\\n",
       "\t CHN            & 2              & NA             & China          &  8,227,103     &                & NA             & NA             & NA             & NA            \\\\\n",
       "\t JPN            & 3              & NA             & Japan          &  5,959,718     &                & NA             & NA             & NA             & NA            \\\\\n",
       "\t DEU            & 4              & NA             & Germany        &  3,428,131     &                & NA             & NA             & NA             & NA            \\\\\n",
       "\t FRA            & 5              & NA             & France         &  2,612,878     &                & NA             & NA             & NA             & NA            \\\\\n",
       "\t GBR            & 6              & NA             & United Kingdom &  2,471,784     &                & NA             & NA             & NA             & NA            \\\\\n",
       "\\end{tabular}\n"
      ],
      "text/markdown": [
       "\n",
       "CountryCode | Rank | X | CountryName | GDPInMillions | X.1 | X.2 | X.3 | X.4 | X.5 | \n",
       "|---|---|---|---|---|---|\n",
       "| USA            | 1              | NA             | United States  |  16,244,600    |                | NA             | NA             | NA             | NA             | \n",
       "| CHN            | 2              | NA             | China          |  8,227,103     |                | NA             | NA             | NA             | NA             | \n",
       "| JPN            | 3              | NA             | Japan          |  5,959,718     |                | NA             | NA             | NA             | NA             | \n",
       "| DEU            | 4              | NA             | Germany        |  3,428,131     |                | NA             | NA             | NA             | NA             | \n",
       "| FRA            | 5              | NA             | France         |  2,612,878     |                | NA             | NA             | NA             | NA             | \n",
       "| GBR            | 6              | NA             | United Kingdom |  2,471,784     |                | NA             | NA             | NA             | NA             | \n",
       "\n",
       "\n"
      ],
      "text/plain": [
       "  CountryCode Rank X  CountryName    GDPInMillions X.1 X.2 X.3 X.4 X.5\n",
       "1 USA         1    NA United States   16,244,600       NA  NA  NA  NA \n",
       "2 CHN         2    NA China           8,227,103        NA  NA  NA  NA \n",
       "3 JPN         3    NA Japan           5,959,718        NA  NA  NA  NA \n",
       "4 DEU         4    NA Germany         3,428,131        NA  NA  NA  NA \n",
       "5 FRA         5    NA France          2,612,878        NA  NA  NA  NA \n",
       "6 GBR         6    NA United Kingdom  2,471,784        NA  NA  NA  NA "
      ]
     },
     "metadata": {},
     "output_type": "display_data"
    }
   ],
   "source": [
    "head(gdp_df)"
   ]
  },
  {
   "cell_type": "code",
   "execution_count": 10,
   "metadata": {},
   "outputs": [],
   "source": [
    "gdp_df$GDPInMillions = sub(\",\",\"\",gdp_df$GDPInMillions)"
   ]
  },
  {
   "cell_type": "code",
   "execution_count": 18,
   "metadata": {},
   "outputs": [
    {
     "data": {
      "text/html": [
       "<table>\n",
       "<thead><tr><th scope=col>CountryCode</th><th scope=col>Rank</th><th scope=col>X</th><th scope=col>CountryName</th><th scope=col>GDPInMillions</th><th scope=col>X.1</th><th scope=col>X.2</th><th scope=col>X.3</th><th scope=col>X.4</th><th scope=col>X.5</th></tr></thead>\n",
       "<tbody>\n",
       "\t<tr><td>USA           </td><td>1             </td><td>NA            </td><td>United States </td><td> 16244600     </td><td>              </td><td>NA            </td><td>NA            </td><td>NA            </td><td>NA            </td></tr>\n",
       "\t<tr><td>CHN           </td><td>2             </td><td>NA            </td><td>China         </td><td> 8227103      </td><td>              </td><td>NA            </td><td>NA            </td><td>NA            </td><td>NA            </td></tr>\n",
       "\t<tr><td>JPN           </td><td>3             </td><td>NA            </td><td>Japan         </td><td> 5959718      </td><td>              </td><td>NA            </td><td>NA            </td><td>NA            </td><td>NA            </td></tr>\n",
       "\t<tr><td>DEU           </td><td>4             </td><td>NA            </td><td>Germany       </td><td> 3428131      </td><td>              </td><td>NA            </td><td>NA            </td><td>NA            </td><td>NA            </td></tr>\n",
       "\t<tr><td>FRA           </td><td>5             </td><td>NA            </td><td>France        </td><td> 2612878      </td><td>              </td><td>NA            </td><td>NA            </td><td>NA            </td><td>NA            </td></tr>\n",
       "\t<tr><td>GBR           </td><td>6             </td><td>NA            </td><td>United Kingdom</td><td> 2471784      </td><td>              </td><td>NA            </td><td>NA            </td><td>NA            </td><td>NA            </td></tr>\n",
       "</tbody>\n",
       "</table>\n"
      ],
      "text/latex": [
       "\\begin{tabular}{r|llllllllll}\n",
       " CountryCode & Rank & X & CountryName & GDPInMillions & X.1 & X.2 & X.3 & X.4 & X.5\\\\\n",
       "\\hline\n",
       "\t USA            & 1              & NA             & United States  &  16244600      &                & NA             & NA             & NA             & NA            \\\\\n",
       "\t CHN            & 2              & NA             & China          &  8227103       &                & NA             & NA             & NA             & NA            \\\\\n",
       "\t JPN            & 3              & NA             & Japan          &  5959718       &                & NA             & NA             & NA             & NA            \\\\\n",
       "\t DEU            & 4              & NA             & Germany        &  3428131       &                & NA             & NA             & NA             & NA            \\\\\n",
       "\t FRA            & 5              & NA             & France         &  2612878       &                & NA             & NA             & NA             & NA            \\\\\n",
       "\t GBR            & 6              & NA             & United Kingdom &  2471784       &                & NA             & NA             & NA             & NA            \\\\\n",
       "\\end{tabular}\n"
      ],
      "text/markdown": [
       "\n",
       "CountryCode | Rank | X | CountryName | GDPInMillions | X.1 | X.2 | X.3 | X.4 | X.5 | \n",
       "|---|---|---|---|---|---|\n",
       "| USA            | 1              | NA             | United States  |  16244600      |                | NA             | NA             | NA             | NA             | \n",
       "| CHN            | 2              | NA             | China          |  8227103       |                | NA             | NA             | NA             | NA             | \n",
       "| JPN            | 3              | NA             | Japan          |  5959718       |                | NA             | NA             | NA             | NA             | \n",
       "| DEU            | 4              | NA             | Germany        |  3428131       |                | NA             | NA             | NA             | NA             | \n",
       "| FRA            | 5              | NA             | France         |  2612878       |                | NA             | NA             | NA             | NA             | \n",
       "| GBR            | 6              | NA             | United Kingdom |  2471784       |                | NA             | NA             | NA             | NA             | \n",
       "\n",
       "\n"
      ],
      "text/plain": [
       "  CountryCode Rank X  CountryName    GDPInMillions X.1 X.2 X.3 X.4 X.5\n",
       "1 USA         1    NA United States   16244600         NA  NA  NA  NA \n",
       "2 CHN         2    NA China           8227103          NA  NA  NA  NA \n",
       "3 JPN         3    NA Japan           5959718          NA  NA  NA  NA \n",
       "4 DEU         4    NA Germany         3428131          NA  NA  NA  NA \n",
       "5 FRA         5    NA France          2612878          NA  NA  NA  NA \n",
       "6 GBR         6    NA United Kingdom  2471784          NA  NA  NA  NA "
      ]
     },
     "metadata": {},
     "output_type": "display_data"
    },
    {
     "data": {
      "text/html": [
       "<table>\n",
       "<thead><tr><th></th><th scope=col>CountryCode</th><th scope=col>Rank</th><th scope=col>X</th><th scope=col>CountryName</th><th scope=col>GDPInMillions</th><th scope=col>X.1</th><th scope=col>X.2</th><th scope=col>X.3</th><th scope=col>X.4</th><th scope=col>X.5</th></tr></thead>\n",
       "<tbody>\n",
       "\t<tr><th scope=row>226</th><td>LAC                                                                     </td><td>NA                                                                      </td><td>NA                                                                      </td><td><span style=white-space:pre-wrap>  Latin America &amp; Caribbean </span></td><td>5344028                                                                 </td><td>                                                                        </td><td>NA                                                                      </td><td>NA                                                                      </td><td>NA                                                                      </td><td>NA                                                                      </td></tr>\n",
       "\t<tr><th scope=row>227</th><td>MNA                                                                     </td><td>NA                                                                      </td><td>NA                                                                      </td><td><span style=white-space:pre-wrap>  Middle East &amp; North Africa</span></td><td>1540807                                                                 </td><td>                                                                        </td><td>NA                                                                      </td><td>NA                                                                      </td><td>NA                                                                      </td><td>NA                                                                      </td></tr>\n",
       "\t<tr><th scope=row>228</th><td>SAS                         </td><td>NA                          </td><td>NA                          </td><td>  South Asia                </td><td>2286093                     </td><td>                            </td><td>NA                          </td><td>NA                          </td><td>NA                          </td><td>NA                          </td></tr>\n",
       "\t<tr><th scope=row>229</th><td>SSA                         </td><td>NA                          </td><td>NA                          </td><td>  Sub-Saharan Africa        </td><td>1289813                     </td><td>                            </td><td>NA                          </td><td>NA                          </td><td>NA                          </td><td>NA                          </td></tr>\n",
       "\t<tr><th scope=row>230</th><td>HIC                         </td><td>NA                          </td><td>NA                          </td><td>High income                 </td><td>49717634                    </td><td>                            </td><td>NA                          </td><td>NA                          </td><td>NA                          </td><td>NA                          </td></tr>\n",
       "\t<tr><th scope=row>231</th><td>EMU                         </td><td>NA                          </td><td>NA                          </td><td>  Euro area                 </td><td>12192344                    </td><td>                            </td><td>NA                          </td><td>NA                          </td><td>NA                          </td><td>NA                          </td></tr>\n",
       "</tbody>\n",
       "</table>\n"
      ],
      "text/latex": [
       "\\begin{tabular}{r|llllllllll}\n",
       "  & CountryCode & Rank & X & CountryName & GDPInMillions & X.1 & X.2 & X.3 & X.4 & X.5\\\\\n",
       "\\hline\n",
       "\t226 & LAC                            & NA                             & NA                             &   Latin America \\& Caribbean  & 5344028                        &                                & NA                             & NA                             & NA                             & NA                            \\\\\n",
       "\t227 & MNA                            & NA                             & NA                             &   Middle East \\& North Africa & 1540807                        &                                & NA                             & NA                             & NA                             & NA                            \\\\\n",
       "\t228 & SAS                          & NA                           & NA                           &   South Asia                 & 2286093                      &                              & NA                           & NA                           & NA                           & NA                          \\\\\n",
       "\t229 & SSA                          & NA                           & NA                           &   Sub-Saharan Africa         & 1289813                      &                              & NA                           & NA                           & NA                           & NA                          \\\\\n",
       "\t230 & HIC                          & NA                           & NA                           & High income                  & 49717634                     &                              & NA                           & NA                           & NA                           & NA                          \\\\\n",
       "\t231 & EMU                          & NA                           & NA                           &   Euro area                  & 12192344                     &                              & NA                           & NA                           & NA                           & NA                          \\\\\n",
       "\\end{tabular}\n"
      ],
      "text/markdown": [
       "\n",
       "| <!--/--> | CountryCode | Rank | X | CountryName | GDPInMillions | X.1 | X.2 | X.3 | X.4 | X.5 | \n",
       "|---|---|---|---|---|---|\n",
       "| 226 | LAC                          | NA                           | NA                           |   Latin America & Caribbean  | 5344028                      |                              | NA                           | NA                           | NA                           | NA                           | \n",
       "| 227 | MNA                          | NA                           | NA                           |   Middle East & North Africa | 1540807                      |                              | NA                           | NA                           | NA                           | NA                           | \n",
       "| 228 | SAS                          | NA                           | NA                           |   South Asia                 | 2286093                      |                              | NA                           | NA                           | NA                           | NA                           | \n",
       "| 229 | SSA                          | NA                           | NA                           |   Sub-Saharan Africa         | 1289813                      |                              | NA                           | NA                           | NA                           | NA                           | \n",
       "| 230 | HIC                          | NA                           | NA                           | High income                  | 49717634                     |                              | NA                           | NA                           | NA                           | NA                           | \n",
       "| 231 | EMU                          | NA                           | NA                           |   Euro area                  | 12192344                     |                              | NA                           | NA                           | NA                           | NA                           | \n",
       "\n",
       "\n"
      ],
      "text/plain": [
       "    CountryCode Rank X  CountryName                  GDPInMillions X.1 X.2 X.3\n",
       "226 LAC         NA   NA   Latin America & Caribbean  5344028           NA  NA \n",
       "227 MNA         NA   NA   Middle East & North Africa 1540807           NA  NA \n",
       "228 SAS         NA   NA   South Asia                 2286093           NA  NA \n",
       "229 SSA         NA   NA   Sub-Saharan Africa         1289813           NA  NA \n",
       "230 HIC         NA   NA High income                  49717634          NA  NA \n",
       "231 EMU         NA   NA   Euro area                  12192344          NA  NA \n",
       "    X.4 X.5\n",
       "226 NA  NA \n",
       "227 NA  NA \n",
       "228 NA  NA \n",
       "229 NA  NA \n",
       "230 NA  NA \n",
       "231 NA  NA "
      ]
     },
     "metadata": {},
     "output_type": "display_data"
    }
   ],
   "source": [
    "head(gdp_df)\n",
    "tail(gdp_df)"
   ]
  },
  {
   "cell_type": "code",
   "execution_count": 20,
   "metadata": {},
   "outputs": [
    {
     "data": {
      "text/html": [
       "<table>\n",
       "<thead><tr><th></th><th scope=col>CountryCode</th><th scope=col>Rank</th><th scope=col>X</th><th scope=col>CountryName</th><th scope=col>GDPInMillions</th><th scope=col>X.1</th><th scope=col>X.2</th><th scope=col>X.3</th><th scope=col>X.4</th><th scope=col>X.5</th></tr></thead>\n",
       "<tbody>\n",
       "\t<tr><th scope=row>185</th><td>FSM                  </td><td>185                  </td><td>NA                   </td><td>Micronesia, Fed. Sts.</td><td> 326                 </td><td>                     </td><td>NA                   </td><td>NA                   </td><td>NA                   </td><td>NA                   </td></tr>\n",
       "\t<tr><th scope=row>186</th><td>STP                  </td><td>186                  </td><td>NA                   </td><td>São Tomé and Principe</td><td> 263                 </td><td>                     </td><td>NA                   </td><td>NA                   </td><td>NA                   </td><td>NA                   </td></tr>\n",
       "\t<tr><th scope=row>187</th><td>PLW                  </td><td>187                  </td><td>NA                   </td><td>Palau                </td><td> 228                 </td><td>                     </td><td>NA                   </td><td>NA                   </td><td>NA                   </td><td>NA                   </td></tr>\n",
       "\t<tr><th scope=row>188</th><td>MHL                  </td><td>188                  </td><td>NA                   </td><td>Marshall Islands     </td><td> 182                 </td><td>                     </td><td>NA                   </td><td>NA                   </td><td>NA                   </td><td>NA                   </td></tr>\n",
       "\t<tr><th scope=row>189</th><td>KIR                  </td><td>189                  </td><td>NA                   </td><td>Kiribati             </td><td> 175                 </td><td>                     </td><td>NA                   </td><td>NA                   </td><td>NA                   </td><td>NA                   </td></tr>\n",
       "\t<tr><th scope=row>190</th><td>TUV                  </td><td>190                  </td><td>NA                   </td><td>Tuvalu               </td><td> 40                  </td><td>                     </td><td>NA                   </td><td>NA                   </td><td>NA                   </td><td>NA                   </td></tr>\n",
       "</tbody>\n",
       "</table>\n"
      ],
      "text/latex": [
       "\\begin{tabular}{r|llllllllll}\n",
       "  & CountryCode & Rank & X & CountryName & GDPInMillions & X.1 & X.2 & X.3 & X.4 & X.5\\\\\n",
       "\\hline\n",
       "\t185 & FSM                   & 185                   & NA                    & Micronesia, Fed. Sts. &  326                  &                       & NA                    & NA                    & NA                    & NA                   \\\\\n",
       "\t186 & STP                   & 186                   & NA                    & São Tomé and Principe &  263                  &                       & NA                    & NA                    & NA                    & NA                   \\\\\n",
       "\t187 & PLW                   & 187                   & NA                    & Palau                 &  228                  &                       & NA                    & NA                    & NA                    & NA                   \\\\\n",
       "\t188 & MHL                   & 188                   & NA                    & Marshall Islands      &  182                  &                       & NA                    & NA                    & NA                    & NA                   \\\\\n",
       "\t189 & KIR                   & 189                   & NA                    & Kiribati              &  175                  &                       & NA                    & NA                    & NA                    & NA                   \\\\\n",
       "\t190 & TUV                   & 190                   & NA                    & Tuvalu                &  40                   &                       & NA                    & NA                    & NA                    & NA                   \\\\\n",
       "\\end{tabular}\n"
      ],
      "text/markdown": [
       "\n",
       "| <!--/--> | CountryCode | Rank | X | CountryName | GDPInMillions | X.1 | X.2 | X.3 | X.4 | X.5 | \n",
       "|---|---|---|---|---|---|\n",
       "| 185 | FSM                   | 185                   | NA                    | Micronesia, Fed. Sts. |  326                  |                       | NA                    | NA                    | NA                    | NA                    | \n",
       "| 186 | STP                   | 186                   | NA                    | São Tomé and Principe |  263                  |                       | NA                    | NA                    | NA                    | NA                    | \n",
       "| 187 | PLW                   | 187                   | NA                    | Palau                 |  228                  |                       | NA                    | NA                    | NA                    | NA                    | \n",
       "| 188 | MHL                   | 188                   | NA                    | Marshall Islands      |  182                  |                       | NA                    | NA                    | NA                    | NA                    | \n",
       "| 189 | KIR                   | 189                   | NA                    | Kiribati              |  175                  |                       | NA                    | NA                    | NA                    | NA                    | \n",
       "| 190 | TUV                   | 190                   | NA                    | Tuvalu                |  40                   |                       | NA                    | NA                    | NA                    | NA                    | \n",
       "\n",
       "\n"
      ],
      "text/plain": [
       "    CountryCode Rank X  CountryName           GDPInMillions X.1 X.2 X.3 X.4 X.5\n",
       "185 FSM         185  NA Micronesia, Fed. Sts.  326              NA  NA  NA  NA \n",
       "186 STP         186  NA São Tomé and Principe  263              NA  NA  NA  NA \n",
       "187 PLW         187  NA Palau                  228              NA  NA  NA  NA \n",
       "188 MHL         188  NA Marshall Islands       182              NA  NA  NA  NA \n",
       "189 KIR         189  NA Kiribati               175              NA  NA  NA  NA \n",
       "190 TUV         190  NA Tuvalu                 40               NA  NA  NA  NA "
      ]
     },
     "metadata": {},
     "output_type": "display_data"
    }
   ],
   "source": [
    "country_gdp_df = gdp_df[which(gdp_df$Rank>0),]\n",
    "tail(country_gdp_df)"
   ]
  },
  {
   "cell_type": "code",
   "execution_count": 21,
   "metadata": {},
   "outputs": [
    {
     "data": {
      "text/html": [
       "377652.421052632"
      ],
      "text/latex": [
       "377652.421052632"
      ],
      "text/markdown": [
       "377652.421052632"
      ],
      "text/plain": [
       "[1] 377652.4"
      ]
     },
     "metadata": {},
     "output_type": "display_data"
    }
   ],
   "source": [
    "mean(as.numeric(country_gdp_df$GDPInMillions),na.rm=TRUE)"
   ]
  },
  {
   "cell_type": "markdown",
   "metadata": {},
   "source": [
    "## Question 3\n",
    "\n",
    "In the data set from Question 2 what is a regular expression that would allow you to count the number of countries whose name begins with \"United\"? Assume that the variable with the country names in it is named countryNames. How many countries begin with United? "
   ]
  },
  {
   "cell_type": "code",
   "execution_count": 22,
   "metadata": {},
   "outputs": [],
   "source": [
    "countryNames = country_gdp_df$CountryName"
   ]
  },
  {
   "cell_type": "code",
   "execution_count": 23,
   "metadata": {},
   "outputs": [
    {
     "data": {
      "text/html": [
       "<ol class=list-inline>\n",
       "\t<li>1</li>\n",
       "\t<li>6</li>\n",
       "\t<li>32</li>\n",
       "</ol>\n"
      ],
      "text/latex": [
       "\\begin{enumerate*}\n",
       "\\item 1\n",
       "\\item 6\n",
       "\\item 32\n",
       "\\end{enumerate*}\n"
      ],
      "text/markdown": [
       "1. 1\n",
       "2. 6\n",
       "3. 32\n",
       "\n",
       "\n"
      ],
      "text/plain": [
       "[1]  1  6 32"
      ]
     },
     "metadata": {},
     "output_type": "display_data"
    }
   ],
   "source": [
    "grep(\"^United\",countryNames)"
   ]
  },
  {
   "cell_type": "code",
   "execution_count": 25,
   "metadata": {},
   "outputs": [
    {
     "data": {
      "text/html": [
       "<ol class=list-inline>\n",
       "\t<li>1</li>\n",
       "\t<li>6</li>\n",
       "\t<li>32</li>\n",
       "</ol>\n"
      ],
      "text/latex": [
       "\\begin{enumerate*}\n",
       "\\item 1\n",
       "\\item 6\n",
       "\\item 32\n",
       "\\end{enumerate*}\n"
      ],
      "text/markdown": [
       "1. 1\n",
       "2. 6\n",
       "3. 32\n",
       "\n",
       "\n"
      ],
      "text/plain": [
       "[1]  1  6 32"
      ]
     },
     "metadata": {},
     "output_type": "display_data"
    }
   ],
   "source": [
    "grep(\"*United\",countryNames)"
   ]
  },
  {
   "cell_type": "markdown",
   "metadata": {},
   "source": [
    "## Question 4\n",
    "\n",
    "Load the Gross Domestic Product data for the 190 ranked countries in this data set:\n",
    "\n",
    "https://d396qusza40orc.cloudfront.net/getdata%2Fdata%2FGDP.csv\n",
    "\n",
    "Load the educational data from this data set:\n",
    "\n",
    "https://d396qusza40orc.cloudfront.net/getdata%2Fdata%2FEDSTATS_Country.csv\n",
    "\n",
    "Match the data based on the country shortcode. Of the countries for which the end of the fiscal year is available, how many end in June?\n",
    "\n",
    "Original data sources:\n",
    "\n",
    "http://data.worldbank.org/data-catalog/GDP-ranking-table\n",
    "\n",
    "http://data.worldbank.org/data-catalog/ed-stats"
   ]
  },
  {
   "cell_type": "code",
   "execution_count": 28,
   "metadata": {},
   "outputs": [
    {
     "data": {
      "text/html": [
       "<table>\n",
       "<thead><tr><th></th><th scope=col>CountryCode</th><th scope=col>Rank</th><th scope=col>X</th><th scope=col>CountryName</th><th scope=col>GDPInMillions</th><th scope=col>X.1</th><th scope=col>X.2</th><th scope=col>X.3</th><th scope=col>X.4</th><th scope=col>X.5</th><th scope=col>...</th><th scope=col>Source.of.most.recent.Income.and.expenditure.data</th><th scope=col>Vital.registration.complete</th><th scope=col>Latest.agricultural.census</th><th scope=col>Latest.industrial.data</th><th scope=col>Latest.trade.data</th><th scope=col>Latest.water.withdrawal.data</th><th scope=col>X2.alpha.code</th><th scope=col>WB.2.code</th><th scope=col>Table.Name</th><th scope=col>Short.Name</th></tr></thead>\n",
       "<tbody>\n",
       "\t<tr><th scope=row>184</th><td>WSM             </td><td>181             </td><td>NA              </td><td>Samoa           </td><td> 684            </td><td>                </td><td>NA              </td><td>NA              </td><td>NA              </td><td>NA              </td><td>...             </td><td>                </td><td>                </td><td>1999            </td><td>  NA            </td><td>2008            </td><td>  NA            </td><td>WS              </td><td>WS              </td><td>Samoa           </td><td>Samoa           </td></tr>\n",
       "\t<tr><th scope=row>185</th><td>YEM             </td><td> 90             </td><td>NA              </td><td>Yemen, Rep.     </td><td> 35,646         </td><td>                </td><td>NA              </td><td>NA              </td><td>NA              </td><td>NA              </td><td>...             </td><td>ES/BS, 2005     </td><td>                </td><td>2002            </td><td>2005            </td><td>2008            </td><td>2000            </td><td>YE              </td><td>RY              </td><td>Yemen, Rep.     </td><td>Yemen           </td></tr>\n",
       "\t<tr><th scope=row>186</th><td>ZAF             </td><td> 28             </td><td>NA              </td><td>South Africa    </td><td> 384,313        </td><td>                </td><td>NA              </td><td>NA              </td><td>NA              </td><td>NA              </td><td>...             </td><td>ES/BS, 2000     </td><td>                </td><td>2000            </td><td>2005            </td><td>2008            </td><td>2000            </td><td>ZA              </td><td>ZA              </td><td>South Africa    </td><td>South Africa    </td></tr>\n",
       "\t<tr><th scope=row>187</th><td>ZAR             </td><td>112             </td><td>NA              </td><td>Congo, Dem. Rep.</td><td> 17,204         </td><td>                </td><td>NA              </td><td>NA              </td><td>NA              </td><td>NA              </td><td>...             </td><td>1-2-3, 2005-06  </td><td>                </td><td>1990            </td><td>  NA            </td><td>1986            </td><td>2000            </td><td>CD              </td><td>ZR              </td><td>Congo, Dem. Rep.</td><td>Dem. Rep. Congo </td></tr>\n",
       "\t<tr><th scope=row>188</th><td>ZMB             </td><td>104             </td><td>NA              </td><td>Zambia          </td><td> 20,678         </td><td>                </td><td>NA              </td><td>NA              </td><td>NA              </td><td>NA              </td><td>...             </td><td>IHS, 2004-05    </td><td>                </td><td>1990            </td><td>  NA            </td><td>2008            </td><td>2000            </td><td>ZM              </td><td>ZM              </td><td>Zambia          </td><td>Zambia          </td></tr>\n",
       "\t<tr><th scope=row>189</th><td>ZWE             </td><td>134             </td><td>NA              </td><td>Zimbabwe        </td><td> 9,802          </td><td>                </td><td>NA              </td><td>NA              </td><td>NA              </td><td>NA              </td><td>...             </td><td>                </td><td>                </td><td>1960            </td><td>1995            </td><td>2008            </td><td>2002            </td><td>ZW              </td><td>ZW              </td><td>Zimbabwe        </td><td>Zimbabwe        </td></tr>\n",
       "</tbody>\n",
       "</table>\n"
      ],
      "text/latex": [
       "\\begin{tabular}{r|llllllllllllllllllllllllllllllllllllllll}\n",
       "  & CountryCode & Rank & X & CountryName & GDPInMillions & X.1 & X.2 & X.3 & X.4 & X.5 & ... & Source.of.most.recent.Income.and.expenditure.data & Vital.registration.complete & Latest.agricultural.census & Latest.industrial.data & Latest.trade.data & Latest.water.withdrawal.data & X2.alpha.code & WB.2.code & Table.Name & Short.Name\\\\\n",
       "\\hline\n",
       "\t184 & WSM              & 181              & NA               & Samoa            &  684             &                  & NA               & NA               & NA               & NA               & ...              &                  &                  & 1999             &   NA             & 2008             &   NA             & WS               & WS               & Samoa            & Samoa           \\\\\n",
       "\t185 & YEM              &  90              & NA               & Yemen, Rep.      &  35,646          &                  & NA               & NA               & NA               & NA               & ...              & ES/BS, 2005      &                  & 2002             & 2005             & 2008             & 2000             & YE               & RY               & Yemen, Rep.      & Yemen           \\\\\n",
       "\t186 & ZAF              &  28              & NA               & South Africa     &  384,313         &                  & NA               & NA               & NA               & NA               & ...              & ES/BS, 2000      &                  & 2000             & 2005             & 2008             & 2000             & ZA               & ZA               & South Africa     & South Africa    \\\\\n",
       "\t187 & ZAR              & 112              & NA               & Congo, Dem. Rep. &  17,204          &                  & NA               & NA               & NA               & NA               & ...              & 1-2-3, 2005-06   &                  & 1990             &   NA             & 1986             & 2000             & CD               & ZR               & Congo, Dem. Rep. & Dem. Rep. Congo \\\\\n",
       "\t188 & ZMB              & 104              & NA               & Zambia           &  20,678          &                  & NA               & NA               & NA               & NA               & ...              & IHS, 2004-05     &                  & 1990             &   NA             & 2008             & 2000             & ZM               & ZM               & Zambia           & Zambia          \\\\\n",
       "\t189 & ZWE              & 134              & NA               & Zimbabwe         &  9,802           &                  & NA               & NA               & NA               & NA               & ...              &                  &                  & 1960             & 1995             & 2008             & 2002             & ZW               & ZW               & Zimbabwe         & Zimbabwe        \\\\\n",
       "\\end{tabular}\n"
      ],
      "text/markdown": [
       "\n",
       "| <!--/--> | CountryCode | Rank | X | CountryName | GDPInMillions | X.1 | X.2 | X.3 | X.4 | X.5 | ... | Source.of.most.recent.Income.and.expenditure.data | Vital.registration.complete | Latest.agricultural.census | Latest.industrial.data | Latest.trade.data | Latest.water.withdrawal.data | X2.alpha.code | WB.2.code | Table.Name | Short.Name | \n",
       "|---|---|---|---|---|---|\n",
       "| 184 | WSM              | 181              | NA               | Samoa            |  684             |                  | NA               | NA               | NA               | NA               | ...              |                  |                  | 1999             |   NA             | 2008             |   NA             | WS               | WS               | Samoa            | Samoa            | \n",
       "| 185 | YEM              |  90              | NA               | Yemen, Rep.      |  35,646          |                  | NA               | NA               | NA               | NA               | ...              | ES/BS, 2005      |                  | 2002             | 2005             | 2008             | 2000             | YE               | RY               | Yemen, Rep.      | Yemen            | \n",
       "| 186 | ZAF              |  28              | NA               | South Africa     |  384,313         |                  | NA               | NA               | NA               | NA               | ...              | ES/BS, 2000      |                  | 2000             | 2005             | 2008             | 2000             | ZA               | ZA               | South Africa     | South Africa     | \n",
       "| 187 | ZAR              | 112              | NA               | Congo, Dem. Rep. |  17,204          |                  | NA               | NA               | NA               | NA               | ...              | 1-2-3, 2005-06   |                  | 1990             |   NA             | 1986             | 2000             | CD               | ZR               | Congo, Dem. Rep. | Dem. Rep. Congo  | \n",
       "| 188 | ZMB              | 104              | NA               | Zambia           |  20,678          |                  | NA               | NA               | NA               | NA               | ...              | IHS, 2004-05     |                  | 1990             |   NA             | 2008             | 2000             | ZM               | ZM               | Zambia           | Zambia           | \n",
       "| 189 | ZWE              | 134              | NA               | Zimbabwe         |  9,802           |                  | NA               | NA               | NA               | NA               | ...              |                  |                  | 1960             | 1995             | 2008             | 2002             | ZW               | ZW               | Zimbabwe         | Zimbabwe         | \n",
       "\n",
       "\n"
      ],
      "text/plain": [
       "    CountryCode Rank X  CountryName      GDPInMillions X.1 X.2 X.3 X.4 X.5 ...\n",
       "184 WSM         181  NA Samoa             684              NA  NA  NA  NA  ...\n",
       "185 YEM          90  NA Yemen, Rep.       35,646           NA  NA  NA  NA  ...\n",
       "186 ZAF          28  NA South Africa      384,313          NA  NA  NA  NA  ...\n",
       "187 ZAR         112  NA Congo, Dem. Rep.  17,204           NA  NA  NA  NA  ...\n",
       "188 ZMB         104  NA Zambia            20,678           NA  NA  NA  NA  ...\n",
       "189 ZWE         134  NA Zimbabwe          9,802            NA  NA  NA  NA  ...\n",
       "    Source.of.most.recent.Income.and.expenditure.data\n",
       "184                                                  \n",
       "185 ES/BS, 2005                                      \n",
       "186 ES/BS, 2000                                      \n",
       "187 1-2-3, 2005-06                                   \n",
       "188 IHS, 2004-05                                     \n",
       "189                                                  \n",
       "    Vital.registration.complete Latest.agricultural.census\n",
       "184                             1999                      \n",
       "185                             2002                      \n",
       "186                             2000                      \n",
       "187                             1990                      \n",
       "188                             1990                      \n",
       "189                             1960                      \n",
       "    Latest.industrial.data Latest.trade.data Latest.water.withdrawal.data\n",
       "184   NA                   2008                NA                        \n",
       "185 2005                   2008              2000                        \n",
       "186 2005                   2008              2000                        \n",
       "187   NA                   1986              2000                        \n",
       "188   NA                   2008              2000                        \n",
       "189 1995                   2008              2002                        \n",
       "    X2.alpha.code WB.2.code Table.Name       Short.Name     \n",
       "184 WS            WS        Samoa            Samoa          \n",
       "185 YE            RY        Yemen, Rep.      Yemen          \n",
       "186 ZA            ZA        South Africa     South Africa   \n",
       "187 CD            ZR        Congo, Dem. Rep. Dem. Rep. Congo\n",
       "188 ZM            ZM        Zambia           Zambia         \n",
       "189 ZW            ZW        Zimbabwe         Zimbabwe       "
      ]
     },
     "metadata": {},
     "output_type": "display_data"
    }
   ],
   "source": [
    "df1 = read.csv(\"GDP2.csv\")\n",
    "df1 = df1[which(df1$Rank>0),]\n",
    "df2 = read.csv(\"EDSTATS_Country.csv\")\n",
    "merged_df = merge(df1,df2,by.x=\"CountryCode\",by.y=\"CountryCode\")\n",
    "tail(merged_df)"
   ]
  },
  {
   "cell_type": "code",
   "execution_count": 31,
   "metadata": {},
   "outputs": [
    {
     "name": "stdout",
     "output_type": "stream",
     "text": [
      "'data.frame':\t189 obs. of  40 variables:\n",
      " $ CountryCode                                      : Factor w/ 229 levels \"\",\"ABW\",\"ADO\",..: 2 4 5 6 7 8 9 11 12 13 ...\n",
      " $ Rank                                             : int  161 105 60 125 32 26 133 172 12 27 ...\n",
      " $ X                                                : logi  NA NA NA NA NA NA ...\n",
      " $ CountryName                                      : Factor w/ 229 levels \"\",\"  East Asia & Pacific\",..: 20 11 16 12 216 18 19 17 21 22 ...\n",
      " $ GDPInMillions                                    : Factor w/ 205 levels \"\",\" 1,008 \",\" 1,129 \",..: 65 68 24 26 109 134 186 5 11 118 ...\n",
      " $ X.1                                              : Factor w/ 7 levels \"\",\"a\",\"b\",\"c\",..: 1 1 1 1 1 1 1 1 1 1 ...\n",
      " $ X.2                                              : logi  NA NA NA NA NA NA ...\n",
      " $ X.3                                              : logi  NA NA NA NA NA NA ...\n",
      " $ X.4                                              : logi  NA NA NA NA NA NA ...\n",
      " $ X.5                                              : logi  NA NA NA NA NA NA ...\n",
      " $ Long.Name                                        : Factor w/ 234 levels \"American Samoa\",..: 5 57 99 108 226 4 109 2 15 110 ...\n",
      " $ Income.Group                                     : Factor w/ 6 levels \"\",\"High income: nonOECD\",..: 2 4 5 6 2 6 5 6 3 3 ...\n",
      " $ Region                                           : Factor w/ 8 levels \"\",\"East Asia & Pacific\",..: 4 7 8 3 5 4 3 4 2 3 ...\n",
      " $ Lending.category                                 : Factor w/ 4 levels \"\",\"Blend\",\"IBRD\",..: 1 4 4 3 1 3 2 3 1 1 ...\n",
      " $ Other.groups                                     : Factor w/ 3 levels \"\",\"Euro area\",..: 1 3 1 1 1 1 1 1 1 2 ...\n",
      " $ Currency.Unit                                    : Factor w/ 155 levels \"\",\"Afghan afghani\",..: 8 2 5 3 144 6 7 44 9 49 ...\n",
      " $ Latest.population.census                         : Factor w/ 28 levels \"\",\"1970\",\"1979\",..: 17 3 2 18 22 18 18 18 23 18 ...\n",
      " $ Latest.household.survey                          : Factor w/ 56 levels \"\",\"CPS (monthly)\",..: 1 39 38 40 1 1 16 1 1 1 ...\n",
      " $ Special.Notes                                    : Factor w/ 70 levels \"\",\"A simple multiplier is used to convert the national currencies of EMU members to euros. The following irrevocab\"| __truncated__,..: 1 27 1 1 1 1 1 63 26 7 ...\n",
      " $ National.accounts.base.year                      : Factor w/ 44 levels \"\",\"1954\",\"1973\",..: 25 38 28 1 25 22 1 18 1 33 ...\n",
      " $ National.accounts.reference.year                 : int  NA NA NA 1996 NA NA 1996 NA 2007 NA ...\n",
      " $ System.of.National.Accounts                      : int  NA NA NA 1993 NA 1993 1993 NA 1993 1993 ...\n",
      " $ SNA.price.valuation                              : Factor w/ 3 levels \"\",\"VAB\",\"VAP\": 1 2 3 2 2 2 2 2 2 2 ...\n",
      " $ Alternative.conversion.factor                    : Factor w/ 33 levels \"\",\"1960-85\",\"1965-84\",..: 1 1 24 1 1 6 21 1 1 1 ...\n",
      " $ PPP.survey.year                                  : int  NA NA 2005 2005 NA 2005 2005 NA 2005 2005 ...\n",
      " $ Balance.of.Payments.Manual.in.use                : Factor w/ 3 levels \"\",\"BPM4\",\"BPM5\": 1 1 3 3 2 3 3 3 3 3 ...\n",
      " $ External.debt.Reporting.status                   : Factor w/ 4 levels \"\",\"Actual\",\"Estimate\",..: 1 2 2 2 1 2 2 1 1 1 ...\n",
      " $ System.of.trade                                  : Factor w/ 3 levels \"\",\"General\",\"Special\": 3 2 3 2 2 3 3 2 2 3 ...\n",
      " $ Government.Accounting.concept                    : Factor w/ 3 levels \"\",\"Budgetary\",..: 1 3 1 3 3 3 3 1 3 3 ...\n",
      " $ IMF.data.dissemination.standard                  : Factor w/ 3 levels \"\",\"GDDS\",\"SDDS\": 1 2 2 2 2 3 3 2 3 3 ...\n",
      " $ Source.of.most.recent.Income.and.expenditure.data: Factor w/ 77 levels \"\",\"1-2-3, 2005-06\",..: 1 1 35 66 1 45 46 1 13 48 ...\n",
      " $ Vital.registration.complete                      : Factor w/ 2 levels \"\",\"Yes\": 1 1 1 2 1 2 2 2 2 2 ...\n",
      " $ Latest.agricultural.census                       : Factor w/ 45 levels \"\",\"1960\",\"1964-65\",..: 1 1 3 32 32 41 1 1 39 35 ...\n",
      " $ Latest.industrial.data                           : int  NA NA NA 2005 NA 2001 NA NA 2004 2004 ...\n",
      " $ Latest.trade.data                                : int  2008 2008 1991 2008 2008 2008 2008 2007 2008 2008 ...\n",
      " $ Latest.water.withdrawal.data                     : int  NA 2000 2000 2000 2005 2000 2000 1990 2000 2000 ...\n",
      " $ X2.alpha.code                                    : Factor w/ 208 levels \"\",\"AD\",\"AE\",\"AF\",..: 13 4 8 6 3 9 7 5 12 11 ...\n",
      " $ WB.2.code                                        : Factor w/ 209 levels \"\",\"AD\",\"AE\",\"AF\",..: 13 4 8 6 3 9 7 5 12 11 ...\n",
      " $ Table.Name                                       : Factor w/ 234 levels \"Afghanistan\",..: 10 1 6 2 220 8 9 7 11 12 ...\n",
      " $ Short.Name                                       : Factor w/ 234 levels \"Afghanistan\",..: 10 1 6 2 220 8 9 7 11 12 ...\n"
     ]
    }
   ],
   "source": [
    "str(merged_df)"
   ]
  },
  {
   "cell_type": "code",
   "execution_count": null,
   "metadata": {},
   "outputs": [],
   "source": [
    "merged_df$Special.Notes"
   ]
  },
  {
   "cell_type": "code",
   "execution_count": 36,
   "metadata": {},
   "outputs": [
    {
     "data": {
      "text/html": [
       "<table>\n",
       "<thead><tr><th></th><th scope=col>CountryCode</th><th scope=col>Special.Notes</th></tr></thead>\n",
       "<tbody>\n",
       "\t<tr><th scope=row>9</th><td>AUS                                                                       </td><td>Fiscal year end: June 30; reporting period for national accounts data: FY.</td></tr>\n",
       "\t<tr><th scope=row>16</th><td>BGD                                                                       </td><td>Fiscal year end: June 30; reporting period for national accounts data: FY.</td></tr>\n",
       "\t<tr><th scope=row>29</th><td>BWA                                                                       </td><td>Fiscal year end: June 30; reporting period for national accounts data: FY.</td></tr>\n",
       "\t<tr><th scope=row>51</th><td>EGY                                                                       </td><td>Fiscal year end: June 30; reporting period for national accounts data: FY.</td></tr>\n",
       "\t<tr><th scope=row>65</th><td>GMB                                                                       </td><td>Fiscal year end: June 30; reporting period for national accounts data: CY.</td></tr>\n",
       "\t<tr><th scope=row>89</th><td>KEN                                                                       </td><td>Fiscal year end: June 30; reporting period for national accounts data: CY.</td></tr>\n",
       "\t<tr><th scope=row>96</th><td>KWT                                                                       </td><td>Fiscal year end: June 30; reporting period for national accounts data: CY.</td></tr>\n",
       "\t<tr><th scope=row>133</th><td>PAK                                                                       </td><td>Fiscal year end: June 30; reporting period for national accounts data: FY.</td></tr>\n",
       "\t<tr><th scope=row>140</th><td>PRI                                                                       </td><td>Fiscal year end: June 30; reporting period for national accounts data: FY.</td></tr>\n",
       "\t<tr><th scope=row>152</th><td>SLE                                                                       </td><td>Fiscal year end: June 30; reporting period for national accounts data: CY.</td></tr>\n",
       "\t<tr><th scope=row>159</th><td>SWE                                                                       </td><td>Fiscal year end: June 30; reporting period for national accounts data: CY.</td></tr>\n",
       "\t<tr><th scope=row>175</th><td>UGA                                                                       </td><td>Fiscal year end: June 30; reporting period for national accounts data: FY.</td></tr>\n",
       "\t<tr><th scope=row>189</th><td>ZWE                                                                       </td><td>Fiscal year end: June 30; reporting period for national accounts data: CY.</td></tr>\n",
       "</tbody>\n",
       "</table>\n"
      ],
      "text/latex": [
       "\\begin{tabular}{r|ll}\n",
       "  & CountryCode & Special.Notes\\\\\n",
       "\\hline\n",
       "\t9 & AUS                                                                        & Fiscal year end: June 30; reporting period for national accounts data: FY.\\\\\n",
       "\t16 & BGD                                                                        & Fiscal year end: June 30; reporting period for national accounts data: FY.\\\\\n",
       "\t29 & BWA                                                                        & Fiscal year end: June 30; reporting period for national accounts data: FY.\\\\\n",
       "\t51 & EGY                                                                        & Fiscal year end: June 30; reporting period for national accounts data: FY.\\\\\n",
       "\t65 & GMB                                                                        & Fiscal year end: June 30; reporting period for national accounts data: CY.\\\\\n",
       "\t89 & KEN                                                                        & Fiscal year end: June 30; reporting period for national accounts data: CY.\\\\\n",
       "\t96 & KWT                                                                        & Fiscal year end: June 30; reporting period for national accounts data: CY.\\\\\n",
       "\t133 & PAK                                                                        & Fiscal year end: June 30; reporting period for national accounts data: FY.\\\\\n",
       "\t140 & PRI                                                                        & Fiscal year end: June 30; reporting period for national accounts data: FY.\\\\\n",
       "\t152 & SLE                                                                        & Fiscal year end: June 30; reporting period for national accounts data: CY.\\\\\n",
       "\t159 & SWE                                                                        & Fiscal year end: June 30; reporting period for national accounts data: CY.\\\\\n",
       "\t175 & UGA                                                                        & Fiscal year end: June 30; reporting period for national accounts data: FY.\\\\\n",
       "\t189 & ZWE                                                                        & Fiscal year end: June 30; reporting period for national accounts data: CY.\\\\\n",
       "\\end{tabular}\n"
      ],
      "text/markdown": [
       "\n",
       "| <!--/--> | CountryCode | Special.Notes | \n",
       "|---|---|---|---|---|---|---|---|---|---|---|---|---|\n",
       "| 9 | AUS                                                                        | Fiscal year end: June 30; reporting period for national accounts data: FY. | \n",
       "| 16 | BGD                                                                        | Fiscal year end: June 30; reporting period for national accounts data: FY. | \n",
       "| 29 | BWA                                                                        | Fiscal year end: June 30; reporting period for national accounts data: FY. | \n",
       "| 51 | EGY                                                                        | Fiscal year end: June 30; reporting period for national accounts data: FY. | \n",
       "| 65 | GMB                                                                        | Fiscal year end: June 30; reporting period for national accounts data: CY. | \n",
       "| 89 | KEN                                                                        | Fiscal year end: June 30; reporting period for national accounts data: CY. | \n",
       "| 96 | KWT                                                                        | Fiscal year end: June 30; reporting period for national accounts data: CY. | \n",
       "| 133 | PAK                                                                        | Fiscal year end: June 30; reporting period for national accounts data: FY. | \n",
       "| 140 | PRI                                                                        | Fiscal year end: June 30; reporting period for national accounts data: FY. | \n",
       "| 152 | SLE                                                                        | Fiscal year end: June 30; reporting period for national accounts data: CY. | \n",
       "| 159 | SWE                                                                        | Fiscal year end: June 30; reporting period for national accounts data: CY. | \n",
       "| 175 | UGA                                                                        | Fiscal year end: June 30; reporting period for national accounts data: FY. | \n",
       "| 189 | ZWE                                                                        | Fiscal year end: June 30; reporting period for national accounts data: CY. | \n",
       "\n",
       "\n"
      ],
      "text/plain": [
       "    CountryCode\n",
       "9   AUS        \n",
       "16  BGD        \n",
       "29  BWA        \n",
       "51  EGY        \n",
       "65  GMB        \n",
       "89  KEN        \n",
       "96  KWT        \n",
       "133 PAK        \n",
       "140 PRI        \n",
       "152 SLE        \n",
       "159 SWE        \n",
       "175 UGA        \n",
       "189 ZWE        \n",
       "    Special.Notes                                                             \n",
       "9   Fiscal year end: June 30; reporting period for national accounts data: FY.\n",
       "16  Fiscal year end: June 30; reporting period for national accounts data: FY.\n",
       "29  Fiscal year end: June 30; reporting period for national accounts data: FY.\n",
       "51  Fiscal year end: June 30; reporting period for national accounts data: FY.\n",
       "65  Fiscal year end: June 30; reporting period for national accounts data: CY.\n",
       "89  Fiscal year end: June 30; reporting period for national accounts data: CY.\n",
       "96  Fiscal year end: June 30; reporting period for national accounts data: CY.\n",
       "133 Fiscal year end: June 30; reporting period for national accounts data: FY.\n",
       "140 Fiscal year end: June 30; reporting period for national accounts data: FY.\n",
       "152 Fiscal year end: June 30; reporting period for national accounts data: CY.\n",
       "159 Fiscal year end: June 30; reporting period for national accounts data: CY.\n",
       "175 Fiscal year end: June 30; reporting period for national accounts data: FY.\n",
       "189 Fiscal year end: June 30; reporting period for national accounts data: CY."
      ]
     },
     "metadata": {},
     "output_type": "display_data"
    }
   ],
   "source": [
    "notes = merged_df$Special.Notes\n",
    "merged_df[grep(\"Fiscal year end: June\",notes),c(\"CountryCode\",\"Special.Notes\")]"
   ]
  },
  {
   "cell_type": "markdown",
   "metadata": {},
   "source": [
    "## Question 5\n",
    "\n",
    "You can use the quantmod (http://www.quantmod.com/) package to get historical stock prices for publicly traded companies on the NASDAQ and NYSE. Use the following code to download data on Amazon's stock price and get the times the data was sampled.\n",
    "\n",
    "```r\n",
    "library(quantmod)\n",
    "amzn = getSymbols(\"AMZN\",auto.assign=FALSE)\n",
    "sampleTimes = index(amzn)\n",
    "```\n",
    "\n",
    "How many values were collected in 2012? How many values were collected on Mondays in 2012?"
   ]
  },
  {
   "cell_type": "code",
   "execution_count": 48,
   "metadata": {},
   "outputs": [
    {
     "ename": "ERROR",
     "evalue": "Error: 'getSymbols.google' is defunct.\nGoogle Finance stopped providing data in March, 2018.\nYou could try setting src = \"yahoo\" instead.\nSee help(\"Defunct\") and help(\"quantmod-defunct\")\n",
     "execution_count": 48,
     "output_type": "error",
     "traceback": [
      "Error: 'getSymbols.google' is defunct.\nGoogle Finance stopped providing data in March, 2018.\nYou could try setting src = \"yahoo\" instead.\nSee help(\"Defunct\") and help(\"quantmod-defunct\")\nTraceback:\n",
      "1. getSymbols(\"AMZN\", src = \"google\")",
      "2. do.call(paste(\"getSymbols.\", symbol.source, sep = \"\"), list(Symbols = current.symbols, \n .     env = env, verbose = verbose, warnings = warnings, auto.assign = auto.assign, \n .     ...))",
      "3. getSymbols.google(Symbols = \"AMZN\", env = <environment>, verbose = FALSE, \n .     warnings = TRUE, auto.assign = TRUE)",
      "4. .Defunct(\"getSymbols\", \"quantmod\", msg = msg)",
      "5. stop(paste(msg, collapse = \"\"), call. = FALSE, domain = NA)"
     ]
    }
   ],
   "source": [
    "library(quantmod)\n",
    "amzn = getSymbols(\"AMZN\",src=\"google\")\n",
    "sampleTimes = index(amzn)"
   ]
  },
  {
   "cell_type": "code",
   "execution_count": 49,
   "metadata": {},
   "outputs": [],
   "source": [
    "options(\"getSymbols.warning4.0\"=FALSE)"
   ]
  },
  {
   "cell_type": "code",
   "execution_count": null,
   "metadata": {},
   "outputs": [],
   "source": []
  },
  {
   "cell_type": "code",
   "execution_count": null,
   "metadata": {},
   "outputs": [],
   "source": []
  }
 ],
 "metadata": {
  "kernelspec": {
   "display_name": "R",
   "language": "R",
   "name": "ir"
  },
  "language_info": {
   "codemirror_mode": "r",
   "file_extension": ".r",
   "mimetype": "text/x-r-source",
   "name": "R",
   "pygments_lexer": "r",
   "version": "3.5.1"
  }
 },
 "nbformat": 4,
 "nbformat_minor": 2
}
