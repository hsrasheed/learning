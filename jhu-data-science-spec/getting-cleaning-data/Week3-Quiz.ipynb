{
 "cells": [
  {
   "cell_type": "markdown",
   "metadata": {},
   "source": [
    "## Question 1\n",
    "\n",
    "The American Community Survey distributes downloadable data about United States communities. Download the 2006 microdata survey about housing for the state of Idaho using download.file() from here:\n",
    "\n",
    "https://d396qusza40orc.cloudfront.net/getdata%2Fdata%2Fss06hid.csv\n",
    "\n",
    "and load the data into R. The code book, describing the variable names is here:\n",
    "\n",
    "https://d396qusza40orc.cloudfront.net/getdata%2Fdata%2FPUMSDataDict06.pdf\n",
    "\n",
    "Create a logical vector that identifies the households on greater than 10 acres who sold more than $10,000 worth of agriculture products. Assign that logical vector to the variable agricultureLogical. Apply the which() function like this to identify the rows of the data frame where the logical vector is TRUE.\n",
    "\n",
    "which(agricultureLogical)\n",
    "\n",
    "What are the first 3 values that result?"
   ]
  },
  {
   "cell_type": "code",
   "execution_count": 2,
   "metadata": {},
   "outputs": [],
   "source": [
    "#download.file(\"https://d396qusza40orc.cloudfront.net/getdata%2Fdata%2Fss06hid.csv\",\"getdata_data_ss06hid-2.csv\")"
   ]
  },
  {
   "cell_type": "code",
   "execution_count": 7,
   "metadata": {},
   "outputs": [],
   "source": [
    "df <- read.csv(\"getdata_data_ss06hid-2.csv\")"
   ]
  },
  {
   "cell_type": "code",
   "execution_count": 9,
   "metadata": {},
   "outputs": [],
   "source": [
    "agricultureLogical <- df$ACR == 3 & df$AGS == 6"
   ]
  },
  {
   "cell_type": "code",
   "execution_count": 10,
   "metadata": {},
   "outputs": [
    {
     "ename": "ERROR",
     "evalue": "Error in eval(substitute(expr), data, enclos = parent.frame()): invalid 'envir' argument of type 'logical'\n",
     "execution_count": 10,
     "output_type": "error",
     "traceback": [
      "Error in eval(substitute(expr), data, enclos = parent.frame()): invalid 'envir' argument of type 'logical'\nTraceback:\n",
      "1. df[which(with(df$ACR == 3 & df$AGS == 6))]",
      "2. `[.data.frame`(df, which(with(df$ACR == 3 & df$AGS == 6)))",
      "3. which(with(df$ACR == 3 & df$AGS == 6))",
      "4. with(df$ACR == 3 & df$AGS == 6)",
      "5. with.default(df$ACR == 3 & df$AGS == 6)",
      "6. eval(substitute(expr), data, enclos = parent.frame())"
     ]
    }
   ],
   "source": [
    "#df_new <- which(agricultureLogical)\n",
    "#X[which(X$var2 > 8),]\n",
    "df_new <- df[which(with(df$ACR == 3 & df$AGS == 6))]"
   ]
  },
  {
   "cell_type": "code",
   "execution_count": 11,
   "metadata": {},
   "outputs": [],
   "source": [
    "df_new2 <-df[which(df$ACR == 3 & df$AGS == 6),]"
   ]
  },
  {
   "cell_type": "code",
   "execution_count": 12,
   "metadata": {},
   "outputs": [
    {
     "data": {
      "text/html": [
       "<table>\n",
       "<thead><tr><th></th><th scope=col>RT</th><th scope=col>SERIALNO</th><th scope=col>DIVISION</th><th scope=col>PUMA</th><th scope=col>REGION</th><th scope=col>ST</th><th scope=col>ADJUST</th><th scope=col>WGTP</th><th scope=col>NP</th><th scope=col>TYPE</th><th scope=col>...</th><th scope=col>wgtp71</th><th scope=col>wgtp72</th><th scope=col>wgtp73</th><th scope=col>wgtp74</th><th scope=col>wgtp75</th><th scope=col>wgtp76</th><th scope=col>wgtp77</th><th scope=col>wgtp78</th><th scope=col>wgtp79</th><th scope=col>wgtp80</th></tr></thead>\n",
       "<tbody>\n",
       "\t<tr><th scope=row>125</th><td>H      </td><td> 30346 </td><td>8      </td><td>400    </td><td>4      </td><td>16     </td><td>1015675</td><td>120    </td><td>4      </td><td>1      </td><td>...    </td><td> 96    </td><td> 29    </td><td> 41    </td><td>202    </td><td>187    </td><td> 51    </td><td> 83    </td><td>158    </td><td>42     </td><td>112    </td></tr>\n",
       "\t<tr><th scope=row>238</th><td>H      </td><td> 53292 </td><td>8      </td><td>300    </td><td>4      </td><td>16     </td><td>1015675</td><td> 26    </td><td>3      </td><td>1      </td><td>...    </td><td> 23    </td><td>  8    </td><td> 14    </td><td>  8    </td><td>  8    </td><td> 24    </td><td> 25    </td><td>  8    </td><td> 6     </td><td>  8    </td></tr>\n",
       "\t<tr><th scope=row>262</th><td>H      </td><td> 56299 </td><td>8      </td><td>800    </td><td>4      </td><td>16     </td><td>1015675</td><td> 97    </td><td>2      </td><td>1      </td><td>...    </td><td>141    </td><td>176    </td><td>126    </td><td> 83    </td><td> 94    </td><td>114    </td><td>103    </td><td> 33    </td><td>33     </td><td> 28    </td></tr>\n",
       "\t<tr><th scope=row>470</th><td>H      </td><td>101282 </td><td>8      </td><td>800    </td><td>4      </td><td>16     </td><td>1015675</td><td> 76    </td><td>2      </td><td>1      </td><td>...    </td><td> 62    </td><td> 18    </td><td> 82    </td><td> 78    </td><td> 70    </td><td> 66    </td><td> 23    </td><td> 19    </td><td>67     </td><td>114    </td></tr>\n",
       "\t<tr><th scope=row>555</th><td>H      </td><td>120351 </td><td>8      </td><td>800    </td><td>4      </td><td>16     </td><td>1015675</td><td> 51    </td><td>5      </td><td>1      </td><td>...    </td><td> 96    </td><td> 93    </td><td> 86    </td><td> 55    </td><td> 61    </td><td> 55    </td><td> 45    </td><td> 73    </td><td>17     </td><td> 95    </td></tr>\n",
       "</tbody>\n",
       "</table>\n"
      ],
      "text/latex": [
       "\\begin{tabular}{r|llllllllllllllllllllllllllllllllllllllllllllllllllllllllllllllllllllllllllllllllllllllllllllllllllllllllllllllllllllllllllllllllllllllllllllllllllllllllllllllllllllllllllllllllllllllllllll}\n",
       "  & RT & SERIALNO & DIVISION & PUMA & REGION & ST & ADJUST & WGTP & NP & TYPE & ... & wgtp71 & wgtp72 & wgtp73 & wgtp74 & wgtp75 & wgtp76 & wgtp77 & wgtp78 & wgtp79 & wgtp80\\\\\n",
       "\\hline\n",
       "\t125 & H       &  30346  & 8       & 400     & 4       & 16      & 1015675 & 120     & 4       & 1       & ...     &  96     &  29     &  41     & 202     & 187     &  51     &  83     & 158     & 42      & 112    \\\\\n",
       "\t238 & H       &  53292  & 8       & 300     & 4       & 16      & 1015675 &  26     & 3       & 1       & ...     &  23     &   8     &  14     &   8     &   8     &  24     &  25     &   8     &  6      &   8    \\\\\n",
       "\t262 & H       &  56299  & 8       & 800     & 4       & 16      & 1015675 &  97     & 2       & 1       & ...     & 141     & 176     & 126     &  83     &  94     & 114     & 103     &  33     & 33      &  28    \\\\\n",
       "\t470 & H       & 101282  & 8       & 800     & 4       & 16      & 1015675 &  76     & 2       & 1       & ...     &  62     &  18     &  82     &  78     &  70     &  66     &  23     &  19     & 67      & 114    \\\\\n",
       "\t555 & H       & 120351  & 8       & 800     & 4       & 16      & 1015675 &  51     & 5       & 1       & ...     &  96     &  93     &  86     &  55     &  61     &  55     &  45     &  73     & 17      &  95    \\\\\n",
       "\\end{tabular}\n"
      ],
      "text/markdown": [
       "\n",
       "| <!--/--> | RT | SERIALNO | DIVISION | PUMA | REGION | ST | ADJUST | WGTP | NP | TYPE | ... | wgtp71 | wgtp72 | wgtp73 | wgtp74 | wgtp75 | wgtp76 | wgtp77 | wgtp78 | wgtp79 | wgtp80 | \n",
       "|---|---|---|---|---|\n",
       "| 125 | H       |  30346  | 8       | 400     | 4       | 16      | 1015675 | 120     | 4       | 1       | ...     |  96     |  29     |  41     | 202     | 187     |  51     |  83     | 158     | 42      | 112     | \n",
       "| 238 | H       |  53292  | 8       | 300     | 4       | 16      | 1015675 |  26     | 3       | 1       | ...     |  23     |   8     |  14     |   8     |   8     |  24     |  25     |   8     |  6      |   8     | \n",
       "| 262 | H       |  56299  | 8       | 800     | 4       | 16      | 1015675 |  97     | 2       | 1       | ...     | 141     | 176     | 126     |  83     |  94     | 114     | 103     |  33     | 33      |  28     | \n",
       "| 470 | H       | 101282  | 8       | 800     | 4       | 16      | 1015675 |  76     | 2       | 1       | ...     |  62     |  18     |  82     |  78     |  70     |  66     |  23     |  19     | 67      | 114     | \n",
       "| 555 | H       | 120351  | 8       | 800     | 4       | 16      | 1015675 |  51     | 5       | 1       | ...     |  96     |  93     |  86     |  55     |  61     |  55     |  45     |  73     | 17      |  95     | \n",
       "\n",
       "\n"
      ],
      "text/plain": [
       "    RT SERIALNO DIVISION PUMA REGION ST ADJUST  WGTP NP TYPE ... wgtp71 wgtp72\n",
       "125 H   30346   8        400  4      16 1015675 120  4  1    ...  96     29   \n",
       "238 H   53292   8        300  4      16 1015675  26  3  1    ...  23      8   \n",
       "262 H   56299   8        800  4      16 1015675  97  2  1    ... 141    176   \n",
       "470 H  101282   8        800  4      16 1015675  76  2  1    ...  62     18   \n",
       "555 H  120351   8        800  4      16 1015675  51  5  1    ...  96     93   \n",
       "    wgtp73 wgtp74 wgtp75 wgtp76 wgtp77 wgtp78 wgtp79 wgtp80\n",
       "125  41    202    187     51     83    158    42     112   \n",
       "238  14      8      8     24     25      8     6       8   \n",
       "262 126     83     94    114    103     33    33      28   \n",
       "470  82     78     70     66     23     19    67     114   \n",
       "555  86     55     61     55     45     73    17      95   "
      ]
     },
     "metadata": {},
     "output_type": "display_data"
    }
   ],
   "source": [
    "head(df_new2,n=5)"
   ]
  },
  {
   "cell_type": "markdown",
   "metadata": {},
   "source": [
    "## Question 2\n",
    "\n",
    "Using the jpeg package read in the following picture of your instructor into R\n",
    "\n",
    "https://d396qusza40orc.cloudfront.net/getdata%2Fjeff.jpg\n",
    "\n",
    "Use the parameter native=TRUE. What are the 30th and 80th quantiles of the resulting data? (some Linux systems may produce an answer 638 different for the 30th quantile)"
   ]
  },
  {
   "cell_type": "code",
   "execution_count": 20,
   "metadata": {},
   "outputs": [],
   "source": [
    "library(jpeg)\n",
    "download.file(\"https://d396qusza40orc.cloudfront.net/getdata%2Fjeff.jpg\",\"getdata-jeff.jpg\")\n",
    "pic_df <- readJPEG(\"getdata-jeff.jpg\",native=TRUE)"
   ]
  },
  {
   "cell_type": "code",
   "execution_count": 22,
   "metadata": {},
   "outputs": [
    {
     "name": "stdout",
     "output_type": "stream",
     "text": [
      " 'nativeRaster' int [1:180, 1:180] -2778472 -2778472 -2778472 -2778472 -2778472 -2778472 -2778472 -2778472 -2778472 -2778472 ...\n",
      " - attr(*, \"channels\")= int 3\n"
     ]
    }
   ],
   "source": [
    "str(pic_df)"
   ]
  },
  {
   "cell_type": "code",
   "execution_count": 136,
   "metadata": {},
   "outputs": [
    {
     "data": {
      "text/html": [
       "<dl class=dl-horizontal>\n",
       "\t<dt>0%</dt>\n",
       "\t\t<dd>-16777216</dd>\n",
       "\t<dt>30%</dt>\n",
       "\t\t<dd>-16776396</dd>\n",
       "\t<dt>80%</dt>\n",
       "\t\t<dd>-3735553</dd>\n",
       "\t<dt>100%</dt>\n",
       "\t\t<dd>-1</dd>\n",
       "</dl>\n"
      ],
      "text/latex": [
       "\\begin{description*}\n",
       "\\item[0\\textbackslash{}\\%] -16777216\n",
       "\\item[30\\textbackslash{}\\%] -16776396\n",
       "\\item[80\\textbackslash{}\\%] -3735553\n",
       "\\item[100\\textbackslash{}\\%] -1\n",
       "\\end{description*}\n"
      ],
      "text/markdown": [
       "0%\n",
       ":   -1677721630%\n",
       ":   -1677639680%\n",
       ":   -3735553100%\n",
       ":   -1\n",
       "\n"
      ],
      "text/plain": [
       "       0%       30%       80%      100% \n",
       "-16777216 -16776396  -3735553        -1 "
      ]
     },
     "metadata": {},
     "output_type": "display_data"
    }
   ],
   "source": [
    "quantile(pic_df, probs = c(0,0.30, 0.80,1.0))"
   ]
  },
  {
   "cell_type": "markdown",
   "metadata": {},
   "source": [
    "## Question 3\n",
    "\n",
    "Load the Gross Domestic Product data for the 190 ranked countries in this data set:\n",
    "\n",
    "https://d396qusza40orc.cloudfront.net/getdata%2Fdata%2FGDP.csv\n",
    "\n",
    "Load the educational data from this data set:\n",
    "\n",
    "https://d396qusza40orc.cloudfront.net/getdata%2Fdata%2FEDSTATS_Country.csv\n",
    "\n",
    "Match the data based on the country shortcode. How many of the IDs match? Sort the data frame in descending order by GDP rank (so United States is last). What is the 13th country in the resulting data frame?"
   ]
  },
  {
   "cell_type": "code",
   "execution_count": 25,
   "metadata": {},
   "outputs": [],
   "source": [
    "download.file(\"https://d396qusza40orc.cloudfront.net/getdata%2Fdata%2FGDP.csv\",\"GDP.csv\")\n",
    "download.file(\"https://d396qusza40orc.cloudfront.net/getdata%2Fdata%2FEDSTATS_Country.csv\",\"EDSTATS_Country.csv\")"
   ]
  },
  {
   "cell_type": "code",
   "execution_count": 105,
   "metadata": {},
   "outputs": [],
   "source": [
    "df_test = read.csv(\"GDP2.csv\")"
   ]
  },
  {
   "cell_type": "code",
   "execution_count": null,
   "metadata": {},
   "outputs": [],
   "source": [
    "df_clean <- df_test[,c(1,2,4,5)]\n",
    "df_clean"
   ]
  },
  {
   "cell_type": "code",
   "execution_count": 108,
   "metadata": {},
   "outputs": [
    {
     "data": {
      "text/html": [
       "231"
      ],
      "text/latex": [
       "231"
      ],
      "text/markdown": [
       "231"
      ],
      "text/plain": [
       "[1] 231"
      ]
     },
     "metadata": {},
     "output_type": "display_data"
    }
   ],
   "source": [
    "nrow(df_clean)"
   ]
  },
  {
   "cell_type": "code",
   "execution_count": 110,
   "metadata": {},
   "outputs": [],
   "source": [
    "#df1 = read.csv(\"GDP.csv\",skip = 4)\n",
    "df1 <- df_clean\n",
    "df2 = read.csv(\"EDSTATS_Country.csv\")"
   ]
  },
  {
   "cell_type": "code",
   "execution_count": null,
   "metadata": {},
   "outputs": [],
   "source": [
    "head(df1)\n",
    "head(df2)"
   ]
  },
  {
   "cell_type": "code",
   "execution_count": 113,
   "metadata": {},
   "outputs": [],
   "source": [
    "df1[,\"Rank\"] = sapply(df1[,\"Rank\"], as.integer)"
   ]
  },
  {
   "cell_type": "code",
   "execution_count": 115,
   "metadata": {},
   "outputs": [],
   "source": [
    "merged_df = merge(df1,df2,by.x=\"CountryCode\",by.y=\"CountryCode\",all.y=TRUE)"
   ]
  },
  {
   "cell_type": "code",
   "execution_count": 121,
   "metadata": {},
   "outputs": [],
   "source": [
    "#head(merged_df)\n",
    "#tail(merged_df)\n",
    "#df_new2 <-df[which(df$ACR == 3 & df$AGS == 6),]\n",
    "merged_df_clean <- merged_df[!is.na(merged_df$Rank),]"
   ]
  },
  {
   "cell_type": "code",
   "execution_count": 122,
   "metadata": {},
   "outputs": [],
   "source": [
    "sorted_df = merged_df_clean[order(merged_df_clean$Rank, decreasing=TRUE),]"
   ]
  },
  {
   "cell_type": "code",
   "execution_count": 123,
   "metadata": {},
   "outputs": [
    {
     "data": {
      "text/html": [
       "189"
      ],
      "text/latex": [
       "189"
      ],
      "text/markdown": [
       "189"
      ],
      "text/plain": [
       "[1] 189"
      ]
     },
     "metadata": {},
     "output_type": "display_data"
    }
   ],
   "source": [
    "nrow(sorted_df)"
   ]
  },
  {
   "cell_type": "code",
   "execution_count": 137,
   "metadata": {},
   "outputs": [
    {
     "data": {
      "text/html": [
       "<table>\n",
       "<thead><tr><th></th><th scope=col>CountryCode</th><th scope=col>Rank</th><th scope=col>CountryName</th><th scope=col>GDPInMillions</th><th scope=col>Long.Name</th><th scope=col>Income.Group</th><th scope=col>Region</th><th scope=col>Lending.category</th><th scope=col>Other.groups</th><th scope=col>Currency.Unit</th><th scope=col>...</th><th scope=col>Vital.registration.complete</th><th scope=col>Latest.agricultural.census</th><th scope=col>Latest.industrial.data</th><th scope=col>Latest.trade.data</th><th scope=col>Latest.water.withdrawal.data</th><th scope=col>X2.alpha.code</th><th scope=col>WB.2.code</th><th scope=col>Table.Name</th><th scope=col>Short.Name</th><th scope=col>GDPRankQuantile</th></tr></thead>\n",
       "<tbody>\n",
       "\t<tr><th scope=row>106</th><td>KNA                          </td><td>178                          </td><td>St. Kitts and Nevis          </td><td> 767                         </td><td>St. Kitts and Nevis          </td><td>Upper middle income          </td><td>Latin America &amp; Caribbean</td><td>IBRD                         </td><td>                             </td><td>East Caribbean dollar        </td><td>...                          </td><td>                             </td><td>                             </td><td>NA                           </td><td>2007                         </td><td>NA                           </td><td>KN                           </td><td>KN                           </td><td>St. Kitts and Nevis          </td><td>St. Kitts and Nevis          </td><td>(152,190]                    </td></tr>\n",
       "</tbody>\n",
       "</table>\n"
      ],
      "text/latex": [
       "\\begin{tabular}{r|lllllllllllllllllllllllllllllllllll}\n",
       "  & CountryCode & Rank & CountryName & GDPInMillions & Long.Name & Income.Group & Region & Lending.category & Other.groups & Currency.Unit & ... & Vital.registration.complete & Latest.agricultural.census & Latest.industrial.data & Latest.trade.data & Latest.water.withdrawal.data & X2.alpha.code & WB.2.code & Table.Name & Short.Name & GDPRankQuantile\\\\\n",
       "\\hline\n",
       "\t106 & KNA                         & 178                         & St. Kitts and Nevis         &  767                        & St. Kitts and Nevis         & Upper middle income         & Latin America \\& Caribbean & IBRD                        &                             & East Caribbean dollar       & ...                         &                             &                             & NA                          & 2007                        & NA                          & KN                          & KN                          & St. Kitts and Nevis         & St. Kitts and Nevis         & (152,190{]}                \\\\\n",
       "\\end{tabular}\n"
      ],
      "text/markdown": [
       "\n",
       "| <!--/--> | CountryCode | Rank | CountryName | GDPInMillions | Long.Name | Income.Group | Region | Lending.category | Other.groups | Currency.Unit | ... | Vital.registration.complete | Latest.agricultural.census | Latest.industrial.data | Latest.trade.data | Latest.water.withdrawal.data | X2.alpha.code | WB.2.code | Table.Name | Short.Name | GDPRankQuantile | \n",
       "|---|\n",
       "| 106 | KNA                       | 178                       | St. Kitts and Nevis       |  767                      | St. Kitts and Nevis       | Upper middle income       | Latin America & Caribbean | IBRD                      |                           | East Caribbean dollar     | ...                       |                           |                           | NA                        | 2007                      | NA                        | KN                        | KN                        | St. Kitts and Nevis       | St. Kitts and Nevis       | (152,190]                 | \n",
       "\n",
       "\n"
      ],
      "text/plain": [
       "    CountryCode Rank CountryName         GDPInMillions Long.Name          \n",
       "106 KNA         178  St. Kitts and Nevis  767          St. Kitts and Nevis\n",
       "    Income.Group        Region                    Lending.category Other.groups\n",
       "106 Upper middle income Latin America & Caribbean IBRD                         \n",
       "    Currency.Unit         ... Vital.registration.complete\n",
       "106 East Caribbean dollar ...                            \n",
       "    Latest.agricultural.census Latest.industrial.data Latest.trade.data\n",
       "106                            NA                     2007             \n",
       "    Latest.water.withdrawal.data X2.alpha.code WB.2.code Table.Name         \n",
       "106 NA                           KN            KN        St. Kitts and Nevis\n",
       "    Short.Name          GDPRankQuantile\n",
       "106 St. Kitts and Nevis (152,190]      "
      ]
     },
     "metadata": {},
     "output_type": "display_data"
    }
   ],
   "source": [
    "sorted_df[13,]"
   ]
  },
  {
   "cell_type": "code",
   "execution_count": null,
   "metadata": {},
   "outputs": [],
   "source": [
    "head(sorted_df,n=20)"
   ]
  },
  {
   "cell_type": "code",
   "execution_count": null,
   "metadata": {},
   "outputs": [],
   "source": [
    "oecd_gdp_all <- sorted_df[which(sorted_df$Income.Group == \"High income: OECD\" | sorted_df$Income.Group == \"High income: nonOECD\"),]\n",
    "avg_rank_all <- mean(oecd_gdp[,\"X.1\"])"
   ]
  },
  {
   "cell_type": "code",
   "execution_count": 126,
   "metadata": {},
   "outputs": [],
   "source": [
    "oecd_gdp1 <- sorted_df[which(sorted_df$Income.Group == \"High income: OECD\"),]\n",
    "avg_rank1 <- mean(oecd_gdp1[,\"Rank\"])"
   ]
  },
  {
   "cell_type": "code",
   "execution_count": 127,
   "metadata": {},
   "outputs": [],
   "source": [
    "oecd_gdp2 <- sorted_df[which(sorted_df$Income.Group == \"High income: nonOECD\"),]\n",
    "avg_rank2 <- mean(oecd_gdp2[,\"Rank\"])"
   ]
  },
  {
   "cell_type": "code",
   "execution_count": 128,
   "metadata": {},
   "outputs": [
    {
     "data": {
      "text/html": [
       "32.9666666666667"
      ],
      "text/latex": [
       "32.9666666666667"
      ],
      "text/markdown": [
       "32.9666666666667"
      ],
      "text/plain": [
       "[1] 32.96667"
      ]
     },
     "metadata": {},
     "output_type": "display_data"
    },
    {
     "data": {
      "text/html": [
       "91.9130434782609"
      ],
      "text/latex": [
       "91.9130434782609"
      ],
      "text/markdown": [
       "91.9130434782609"
      ],
      "text/plain": [
       "[1] 91.91304"
      ]
     },
     "metadata": {},
     "output_type": "display_data"
    }
   ],
   "source": [
    "avg_rank1\n",
    "avg_rank2"
   ]
  },
  {
   "cell_type": "code",
   "execution_count": 97,
   "metadata": {},
   "outputs": [
    {
     "data": {
      "text/html": [
       "<dl class=dl-horizontal>\n",
       "\t<dt>20%</dt>\n",
       "\t\t<dd>12.6</dd>\n",
       "\t<dt>40%</dt>\n",
       "\t\t<dd>58.2</dd>\n",
       "\t<dt>60%</dt>\n",
       "\t\t<dd>101.8</dd>\n",
       "\t<dt>80%</dt>\n",
       "\t\t<dd>146.4</dd>\n",
       "</dl>\n"
      ],
      "text/latex": [
       "\\begin{description*}\n",
       "\\item[20\\textbackslash{}\\%] 12.6\n",
       "\\item[40\\textbackslash{}\\%] 58.2\n",
       "\\item[60\\textbackslash{}\\%] 101.8\n",
       "\\item[80\\textbackslash{}\\%] 146.4\n",
       "\\end{description*}\n"
      ],
      "text/markdown": [
       "20%\n",
       ":   12.640%\n",
       ":   58.260%\n",
       ":   101.880%\n",
       ":   146.4\n",
       "\n"
      ],
      "text/plain": [
       "  20%   40%   60%   80% \n",
       " 12.6  58.2 101.8 146.4 "
      ]
     },
     "metadata": {},
     "output_type": "display_data"
    }
   ],
   "source": [
    "quantile(sorted_df$X.1,c(.2,.4,.6,.8),na.rm=TRUE)"
   ]
  },
  {
   "cell_type": "code",
   "execution_count": 99,
   "metadata": {},
   "outputs": [
    {
     "data": {
      "text/html": [
       "<table>\n",
       "<thead><tr><th></th><th scope=col>X</th><th scope=col>X.1</th><th scope=col>X.2</th><th scope=col>X.3</th><th scope=col>X.4</th><th scope=col>X.5</th><th scope=col>X.6</th><th scope=col>X.7</th><th scope=col>X.8</th><th scope=col>X.9</th><th scope=col>...</th><th scope=col>Source.of.most.recent.Income.and.expenditure.data</th><th scope=col>Vital.registration.complete</th><th scope=col>Latest.agricultural.census</th><th scope=col>Latest.industrial.data</th><th scope=col>Latest.trade.data</th><th scope=col>Latest.water.withdrawal.data</th><th scope=col>X2.alpha.code</th><th scope=col>WB.2.code</th><th scope=col>Table.Name</th><th scope=col>Short.Name</th></tr></thead>\n",
       "<tbody>\n",
       "\t<tr><th scope=row>140</th><td>MNG                </td><td>38                 </td><td>NA                 </td><td>Mongolia           </td><td> 10,271            </td><td>                   </td><td>NA                 </td><td>NA                 </td><td>NA                 </td><td>NA                 </td><td>...                </td><td>LSMS, 2006-08      </td><td>Yes                </td><td>                   </td><td>1999               </td><td>2007               </td><td>2000               </td><td>MN                 </td><td>MN                 </td><td>Mongolia           </td><td>Mongolia           </td></tr>\n",
       "\t<tr><th scope=row>151</th><td>NIC                </td><td>33                 </td><td>NA                 </td><td>Nicaragua          </td><td> 10,507            </td><td>                   </td><td>NA                 </td><td>NA                 </td><td>NA                 </td><td>NA                 </td><td>...                </td><td>LSMS, 2005         </td><td>                   </td><td>2001               </td><td>  NA               </td><td>2007               </td><td>2000               </td><td>NI                 </td><td>NI                 </td><td>Nicaragua          </td><td>Nicaragua          </td></tr>\n",
       "\t<tr><th scope=row>40</th><td>COG                </td><td>28                 </td><td>NA                 </td><td>Congo, Rep.        </td><td> 13,678            </td><td>                   </td><td>NA                 </td><td>NA                 </td><td>NA                 </td><td>NA                 </td><td>...                </td><td>CWIQ/ PS, 2005     </td><td>                   </td><td>1985-1986          </td><td>  NA               </td><td>1995               </td><td>2002               </td><td>CG                 </td><td>CG                 </td><td>Congo, Rep.        </td><td>Congo              </td></tr>\n",
       "\t<tr><th scope=row>176</th><td>SEN                </td><td>25                 </td><td>NA                 </td><td>Senegal            </td><td> 14,046            </td><td>                   </td><td>NA                 </td><td>NA                 </td><td>NA                 </td><td>NA                 </td><td>...                </td><td>PS 2005            </td><td>                   </td><td>1998-1999          </td><td>2001               </td><td>2008               </td><td>2002               </td><td>SN                 </td><td>SN                 </td><td>Senegal            </td><td>Senegal            </td></tr>\n",
       "\t<tr><th scope=row>162</th><td>PNG                </td><td>21                 </td><td>NA                 </td><td>Papua New Guinea   </td><td> 15,654            </td><td>                   </td><td>NA                 </td><td>NA                 </td><td>NA                 </td><td>NA                 </td><td>...                </td><td>IHS, 1996          </td><td>                   </td><td>                   </td><td>  NA               </td><td>2004               </td><td>2000               </td><td>PG                 </td><td>PG                 </td><td>Papua New Guinea   </td><td>Papua New Guinea   </td></tr>\n",
       "\t<tr><th scope=row>71</th><td>GEO                </td><td>20                 </td><td>NA                 </td><td>Georgia            </td><td> 15,747            </td><td>e                  </td><td>NA                 </td><td>NA                 </td><td>NA                 </td><td>NA                 </td><td>...                </td><td>IHS, 2007          </td><td>Yes                </td><td>2004               </td><td>2005               </td><td>2008               </td><td>2005               </td><td>GE                 </td><td>GE                 </td><td>Georgia            </td><td>Georgia            </td></tr>\n",
       "\t<tr><th scope=row>85</th><td>HND                </td><td>13                 </td><td>NA                 </td><td>Honduras           </td><td> 18,434            </td><td>                   </td><td>NA                 </td><td>NA                 </td><td>NA                 </td><td>NA                 </td><td>...                </td><td>IHS, 2006          </td><td>                   </td><td>1993               </td><td>  NA               </td><td>2007               </td><td>2000               </td><td>HN                 </td><td>HN                 </td><td>Honduras           </td><td>Honduras           </td></tr>\n",
       "\t<tr><th scope=row>180</th><td>SLV                </td><td> 5                 </td><td>NA                 </td><td>El Salvador        </td><td> 23,864            </td><td>                   </td><td>NA                 </td><td>NA                 </td><td>NA                 </td><td>NA                 </td><td>...                </td><td>IHS, 2007          </td><td>Yes                </td><td>1970-71            </td><td>  NA               </td><td>2008               </td><td>2000               </td><td>SV                 </td><td>SV                 </td><td>El Salvador        </td><td>El Salvador        </td></tr>\n",
       "\t<tr><th scope=row>91</th><td>IND                </td><td> 4                 </td><td>NA                 </td><td>India              </td><td> 1,841,710         </td><td>                   </td><td>NA                 </td><td>NA                 </td><td>NA                 </td><td>NA                 </td><td>...                </td><td>IHS, 2004/05       </td><td>                   </td><td>1995-1996/2000-2001</td><td>2003               </td><td>2008               </td><td>2000               </td><td>IN                 </td><td>IN                 </td><td>India              </td><td>India              </td></tr>\n",
       "\t<tr><th scope=row>50</th><td>DJI                </td><td> 1                 </td><td>NA                 </td><td>Djibouti           </td><td>                   </td><td>                   </td><td>NA                 </td><td>NA                 </td><td>NA                 </td><td>NA                 </td><td>...                </td><td>PS, 2002           </td><td>                   </td><td>                   </td><td>  NA               </td><td>1998               </td><td>2000               </td><td>DJ                 </td><td>DJ                 </td><td>Djibouti           </td><td>Djibouti           </td></tr>\n",
       "\t<tr><th scope=row>217</th><td>WBG                </td><td> 1                 </td><td>NA                 </td><td>West Bank and Gaza </td><td>..                 </td><td>                   </td><td>NA                 </td><td>NA                 </td><td>NA                 </td><td>NA                 </td><td>...                </td><td>                   </td><td>                   </td><td>1971               </td><td>  NA               </td><td>  NA               </td><td>  NA               </td><td>PS                 </td><td>GZ                 </td><td>West Bank and Gaza </td><td>West Bank and Gaza </td></tr>\n",
       "</tbody>\n",
       "</table>\n"
      ],
      "text/latex": [
       "\\begin{tabular}{r|llllllllllllllllllllllllllllllllllllllll}\n",
       "  & X & X.1 & X.2 & X.3 & X.4 & X.5 & X.6 & X.7 & X.8 & X.9 & ... & Source.of.most.recent.Income.and.expenditure.data & Vital.registration.complete & Latest.agricultural.census & Latest.industrial.data & Latest.trade.data & Latest.water.withdrawal.data & X2.alpha.code & WB.2.code & Table.Name & Short.Name\\\\\n",
       "\\hline\n",
       "\t140 & MNG                 & 38                  & NA                  & Mongolia            &  10,271             &                     & NA                  & NA                  & NA                  & NA                  & ...                 & LSMS, 2006-08       & Yes                 &                     & 1999                & 2007                & 2000                & MN                  & MN                  & Mongolia            & Mongolia           \\\\\n",
       "\t151 & NIC                 & 33                  & NA                  & Nicaragua           &  10,507             &                     & NA                  & NA                  & NA                  & NA                  & ...                 & LSMS, 2005          &                     & 2001                &   NA                & 2007                & 2000                & NI                  & NI                  & Nicaragua           & Nicaragua          \\\\\n",
       "\t40 & COG                 & 28                  & NA                  & Congo, Rep.         &  13,678             &                     & NA                  & NA                  & NA                  & NA                  & ...                 & CWIQ/ PS, 2005      &                     & 1985-1986           &   NA                & 1995                & 2002                & CG                  & CG                  & Congo, Rep.         & Congo              \\\\\n",
       "\t176 & SEN                 & 25                  & NA                  & Senegal             &  14,046             &                     & NA                  & NA                  & NA                  & NA                  & ...                 & PS 2005             &                     & 1998-1999           & 2001                & 2008                & 2002                & SN                  & SN                  & Senegal             & Senegal            \\\\\n",
       "\t162 & PNG                 & 21                  & NA                  & Papua New Guinea    &  15,654             &                     & NA                  & NA                  & NA                  & NA                  & ...                 & IHS, 1996           &                     &                     &   NA                & 2004                & 2000                & PG                  & PG                  & Papua New Guinea    & Papua New Guinea   \\\\\n",
       "\t71 & GEO                 & 20                  & NA                  & Georgia             &  15,747             & e                   & NA                  & NA                  & NA                  & NA                  & ...                 & IHS, 2007           & Yes                 & 2004                & 2005                & 2008                & 2005                & GE                  & GE                  & Georgia             & Georgia            \\\\\n",
       "\t85 & HND                 & 13                  & NA                  & Honduras            &  18,434             &                     & NA                  & NA                  & NA                  & NA                  & ...                 & IHS, 2006           &                     & 1993                &   NA                & 2007                & 2000                & HN                  & HN                  & Honduras            & Honduras           \\\\\n",
       "\t180 & SLV                 &  5                  & NA                  & El Salvador         &  23,864             &                     & NA                  & NA                  & NA                  & NA                  & ...                 & IHS, 2007           & Yes                 & 1970-71             &   NA                & 2008                & 2000                & SV                  & SV                  & El Salvador         & El Salvador        \\\\\n",
       "\t91 & IND                 &  4                  & NA                  & India               &  1,841,710          &                     & NA                  & NA                  & NA                  & NA                  & ...                 & IHS, 2004/05        &                     & 1995-1996/2000-2001 & 2003                & 2008                & 2000                & IN                  & IN                  & India               & India              \\\\\n",
       "\t50 & DJI                 &  1                  & NA                  & Djibouti            &                     &                     & NA                  & NA                  & NA                  & NA                  & ...                 & PS, 2002            &                     &                     &   NA                & 1998                & 2000                & DJ                  & DJ                  & Djibouti            & Djibouti           \\\\\n",
       "\t217 & WBG                 &  1                  & NA                  & West Bank and Gaza  & ..                  &                     & NA                  & NA                  & NA                  & NA                  & ...                 &                     &                     & 1971                &   NA                &   NA                &   NA                & PS                  & GZ                  & West Bank and Gaza  & West Bank and Gaza \\\\\n",
       "\\end{tabular}\n"
      ],
      "text/markdown": [
       "\n",
       "| <!--/--> | X | X.1 | X.2 | X.3 | X.4 | X.5 | X.6 | X.7 | X.8 | X.9 | ... | Source.of.most.recent.Income.and.expenditure.data | Vital.registration.complete | Latest.agricultural.census | Latest.industrial.data | Latest.trade.data | Latest.water.withdrawal.data | X2.alpha.code | WB.2.code | Table.Name | Short.Name | \n",
       "|---|---|---|---|---|---|---|---|---|---|---|\n",
       "| 140 | MNG                 | 38                  | NA                  | Mongolia            |  10,271             |                     | NA                  | NA                  | NA                  | NA                  | ...                 | LSMS, 2006-08       | Yes                 |                     | 1999                | 2007                | 2000                | MN                  | MN                  | Mongolia            | Mongolia            | \n",
       "| 151 | NIC                 | 33                  | NA                  | Nicaragua           |  10,507             |                     | NA                  | NA                  | NA                  | NA                  | ...                 | LSMS, 2005          |                     | 2001                |   NA                | 2007                | 2000                | NI                  | NI                  | Nicaragua           | Nicaragua           | \n",
       "| 40 | COG                 | 28                  | NA                  | Congo, Rep.         |  13,678             |                     | NA                  | NA                  | NA                  | NA                  | ...                 | CWIQ/ PS, 2005      |                     | 1985-1986           |   NA                | 1995                | 2002                | CG                  | CG                  | Congo, Rep.         | Congo               | \n",
       "| 176 | SEN                 | 25                  | NA                  | Senegal             |  14,046             |                     | NA                  | NA                  | NA                  | NA                  | ...                 | PS 2005             |                     | 1998-1999           | 2001                | 2008                | 2002                | SN                  | SN                  | Senegal             | Senegal             | \n",
       "| 162 | PNG                 | 21                  | NA                  | Papua New Guinea    |  15,654             |                     | NA                  | NA                  | NA                  | NA                  | ...                 | IHS, 1996           |                     |                     |   NA                | 2004                | 2000                | PG                  | PG                  | Papua New Guinea    | Papua New Guinea    | \n",
       "| 71 | GEO                 | 20                  | NA                  | Georgia             |  15,747             | e                   | NA                  | NA                  | NA                  | NA                  | ...                 | IHS, 2007           | Yes                 | 2004                | 2005                | 2008                | 2005                | GE                  | GE                  | Georgia             | Georgia             | \n",
       "| 85 | HND                 | 13                  | NA                  | Honduras            |  18,434             |                     | NA                  | NA                  | NA                  | NA                  | ...                 | IHS, 2006           |                     | 1993                |   NA                | 2007                | 2000                | HN                  | HN                  | Honduras            | Honduras            | \n",
       "| 180 | SLV                 |  5                  | NA                  | El Salvador         |  23,864             |                     | NA                  | NA                  | NA                  | NA                  | ...                 | IHS, 2007           | Yes                 | 1970-71             |   NA                | 2008                | 2000                | SV                  | SV                  | El Salvador         | El Salvador         | \n",
       "| 91 | IND                 |  4                  | NA                  | India               |  1,841,710          |                     | NA                  | NA                  | NA                  | NA                  | ...                 | IHS, 2004/05        |                     | 1995-1996/2000-2001 | 2003                | 2008                | 2000                | IN                  | IN                  | India               | India               | \n",
       "| 50 | DJI                 |  1                  | NA                  | Djibouti            |                     |                     | NA                  | NA                  | NA                  | NA                  | ...                 | PS, 2002            |                     |                     |   NA                | 1998                | 2000                | DJ                  | DJ                  | Djibouti            | Djibouti            | \n",
       "| 217 | WBG                 |  1                  | NA                  | West Bank and Gaza  | ..                  |                     | NA                  | NA                  | NA                  | NA                  | ...                 |                     |                     | 1971                |   NA                |   NA                |   NA                | PS                  | GZ                  | West Bank and Gaza  | West Bank and Gaza  | \n",
       "\n",
       "\n"
      ],
      "text/plain": [
       "    X   X.1 X.2 X.3                X.4         X.5 X.6 X.7 X.8 X.9 ...\n",
       "140 MNG 38  NA  Mongolia            10,271         NA  NA  NA  NA  ...\n",
       "151 NIC 33  NA  Nicaragua           10,507         NA  NA  NA  NA  ...\n",
       "40  COG 28  NA  Congo, Rep.         13,678         NA  NA  NA  NA  ...\n",
       "176 SEN 25  NA  Senegal             14,046         NA  NA  NA  NA  ...\n",
       "162 PNG 21  NA  Papua New Guinea    15,654         NA  NA  NA  NA  ...\n",
       "71  GEO 20  NA  Georgia             15,747     e   NA  NA  NA  NA  ...\n",
       "85  HND 13  NA  Honduras            18,434         NA  NA  NA  NA  ...\n",
       "180 SLV  5  NA  El Salvador         23,864         NA  NA  NA  NA  ...\n",
       "91  IND  4  NA  India               1,841,710      NA  NA  NA  NA  ...\n",
       "50  DJI  1  NA  Djibouti                           NA  NA  NA  NA  ...\n",
       "217 WBG  1  NA  West Bank and Gaza ..              NA  NA  NA  NA  ...\n",
       "    Source.of.most.recent.Income.and.expenditure.data\n",
       "140 LSMS, 2006-08                                    \n",
       "151 LSMS, 2005                                       \n",
       "40  CWIQ/ PS, 2005                                   \n",
       "176 PS 2005                                          \n",
       "162 IHS, 1996                                        \n",
       "71  IHS, 2007                                        \n",
       "85  IHS, 2006                                        \n",
       "180 IHS, 2007                                        \n",
       "91  IHS, 2004/05                                     \n",
       "50  PS, 2002                                         \n",
       "217                                                  \n",
       "    Vital.registration.complete Latest.agricultural.census\n",
       "140 Yes                                                   \n",
       "151                             2001                      \n",
       "40                              1985-1986                 \n",
       "176                             1998-1999                 \n",
       "162                                                       \n",
       "71  Yes                         2004                      \n",
       "85                              1993                      \n",
       "180 Yes                         1970-71                   \n",
       "91                              1995-1996/2000-2001       \n",
       "50                                                        \n",
       "217                             1971                      \n",
       "    Latest.industrial.data Latest.trade.data Latest.water.withdrawal.data\n",
       "140 1999                   2007              2000                        \n",
       "151   NA                   2007              2000                        \n",
       "40    NA                   1995              2002                        \n",
       "176 2001                   2008              2002                        \n",
       "162   NA                   2004              2000                        \n",
       "71  2005                   2008              2005                        \n",
       "85    NA                   2007              2000                        \n",
       "180   NA                   2008              2000                        \n",
       "91  2003                   2008              2000                        \n",
       "50    NA                   1998              2000                        \n",
       "217   NA                     NA                NA                        \n",
       "    X2.alpha.code WB.2.code Table.Name         Short.Name        \n",
       "140 MN            MN        Mongolia           Mongolia          \n",
       "151 NI            NI        Nicaragua          Nicaragua         \n",
       "40  CG            CG        Congo, Rep.        Congo             \n",
       "176 SN            SN        Senegal            Senegal           \n",
       "162 PG            PG        Papua New Guinea   Papua New Guinea  \n",
       "71  GE            GE        Georgia            Georgia           \n",
       "85  HN            HN        Honduras           Honduras          \n",
       "180 SV            SV        El Salvador        El Salvador       \n",
       "91  IN            IN        India              India             \n",
       "50  DJ            DJ        Djibouti           Djibouti          \n",
       "217 PS            GZ        West Bank and Gaza West Bank and Gaza"
      ]
     },
     "metadata": {},
     "output_type": "display_data"
    }
   ],
   "source": [
    "#Lower middle income\n",
    "sorted_df[which(sorted_df$Income.Group == \"Lower middle income\" & sorted_df$X.1 <39),]"
   ]
  },
  {
   "cell_type": "markdown",
   "metadata": {},
   "source": [
    "## Question 5: Cut the GDP ranking into 5 separate quantile groups. Make a table versus Income.Group. How many countries are Lower middle income but among the 38 nations with highest GDP?"
   ]
  },
  {
   "cell_type": "code",
   "execution_count": 133,
   "metadata": {},
   "outputs": [],
   "source": [
    "sorted_df$GDPRankQuantile = cut(sorted_df$Rank, breaks=quantile(sorted_df$Rank,c(0,.2,.4,.6,.8,1.0),na.rm=TRUE))"
   ]
  },
  {
   "cell_type": "code",
   "execution_count": 134,
   "metadata": {},
   "outputs": [
    {
     "data": {
      "text/html": [
       "<table>\n",
       "<thead><tr><th></th><th scope=col>CountryCode</th><th scope=col>Rank</th><th scope=col>CountryName</th><th scope=col>GDPInMillions</th><th scope=col>Long.Name</th><th scope=col>Income.Group</th><th scope=col>Region</th><th scope=col>Lending.category</th><th scope=col>Other.groups</th><th scope=col>Currency.Unit</th><th scope=col>...</th><th scope=col>Vital.registration.complete</th><th scope=col>Latest.agricultural.census</th><th scope=col>Latest.industrial.data</th><th scope=col>Latest.trade.data</th><th scope=col>Latest.water.withdrawal.data</th><th scope=col>X2.alpha.code</th><th scope=col>WB.2.code</th><th scope=col>Table.Name</th><th scope=col>Short.Name</th><th scope=col>GDPRankQuantile</th></tr></thead>\n",
       "<tbody>\n",
       "\t<tr><th scope=row>204</th><td>TUV                                                                                 </td><td>190                                                                                 </td><td><span style=white-space:pre-wrap>Tuvalu               </span>                       </td><td><span style=white-space:pre-wrap> 40  </span>                                       </td><td><span style=white-space:pre-wrap>Tuvalu                                      </span></td><td>Lower middle income                                                                 </td><td>East Asia &amp; Pacific                                                             </td><td><span style=white-space:pre-wrap>    </span>                                        </td><td><span style=white-space:pre-wrap>    </span>                                        </td><td><span style=white-space:pre-wrap>Australian dollar          </span>                 </td><td>...                                                                                 </td><td><span style=white-space:pre-wrap>   </span>                                         </td><td>                                                                                    </td><td>NA                                                                                  </td><td><span style=white-space:pre-wrap>  NA</span>                                        </td><td>NA                                                                                  </td><td>TV                                                                                  </td><td>TV                                                                                  </td><td><span style=white-space:pre-wrap>Tuvalu               </span>                       </td><td><span style=white-space:pre-wrap>Tuvalu               </span>                       </td><td>(152,190]                                                                           </td></tr>\n",
       "\t<tr><th scope=row>105</th><td>KIR                                                                                 </td><td>189                                                                                 </td><td><span style=white-space:pre-wrap>Kiribati             </span>                       </td><td> 175                                                                                </td><td><span style=white-space:pre-wrap>Republic of Kiribati                        </span></td><td>Lower middle income                                                                 </td><td>East Asia &amp; Pacific                                                             </td><td>IDA                                                                                 </td><td><span style=white-space:pre-wrap>    </span>                                        </td><td><span style=white-space:pre-wrap>Australian dollar          </span>                 </td><td>...                                                                                 </td><td><span style=white-space:pre-wrap>   </span>                                         </td><td>                                                                                    </td><td>NA                                                                                  </td><td>2005                                                                                </td><td>NA                                                                                  </td><td>KI                                                                                  </td><td>KI                                                                                  </td><td><span style=white-space:pre-wrap>Kiribati             </span>                       </td><td><span style=white-space:pre-wrap>Kiribati             </span>                       </td><td>(152,190]                                                                           </td></tr>\n",
       "\t<tr><th scope=row>132</th><td>MHL                                                                                 </td><td>188                                                                                 </td><td><span style=white-space:pre-wrap>Marshall Islands     </span>                       </td><td> 182                                                                                </td><td><span style=white-space:pre-wrap>Republic of the Marshall Islands            </span></td><td>Lower middle income                                                                 </td><td>East Asia &amp; Pacific                                                             </td><td>IBRD                                                                                </td><td><span style=white-space:pre-wrap>    </span>                                        </td><td><span style=white-space:pre-wrap>U.S. dollar                </span>                 </td><td>...                                                                                 </td><td><span style=white-space:pre-wrap>   </span>                                         </td><td>                                                                                    </td><td>NA                                                                                  </td><td><span style=white-space:pre-wrap>  NA</span>                                        </td><td>NA                                                                                  </td><td>MH                                                                                  </td><td>MH                                                                                  </td><td><span style=white-space:pre-wrap>Marshall Islands     </span>                       </td><td><span style=white-space:pre-wrap>Marshall Islands     </span>                       </td><td>(152,190]                                                                           </td></tr>\n",
       "\t<tr><th scope=row>161</th><td>PLW                                                                                 </td><td>187                                                                                 </td><td><span style=white-space:pre-wrap>Palau                </span>                       </td><td> 228                                                                                </td><td><span style=white-space:pre-wrap>Republic of Palau                           </span></td><td>Upper middle income                                                                 </td><td>East Asia &amp; Pacific                                                             </td><td>IBRD                                                                                </td><td><span style=white-space:pre-wrap>    </span>                                        </td><td><span style=white-space:pre-wrap>U.S. dollar                </span>                 </td><td>...                                                                                 </td><td>Yes                                                                                 </td><td>                                                                                    </td><td>NA                                                                                  </td><td><span style=white-space:pre-wrap>  NA</span>                                        </td><td>NA                                                                                  </td><td>PW                                                                                  </td><td>PW                                                                                  </td><td><span style=white-space:pre-wrap>Palau                </span>                       </td><td><span style=white-space:pre-wrap>Palau                </span>                       </td><td>(152,190]                                                                           </td></tr>\n",
       "\t<tr><th scope=row>185</th><td>STP                                         </td><td>186                                         </td><td>São Tomé and Principe                       </td><td> 263                                        </td><td>Democratic Republic of São Tomé and Principe</td><td>Lower middle income                         </td><td>Sub-Saharan Africa                          </td><td>IDA                                         </td><td>HIPC                                        </td><td>São Tomé and Principe dobra                 </td><td>...                                         </td><td>                                            </td><td>                                            </td><td>NA                                          </td><td>2008                                        </td><td>NA                                          </td><td>ST                                          </td><td>ST                                          </td><td>São Tomé and Principe                       </td><td>São Tomé and Principe                       </td><td>(152,190]                                   </td></tr>\n",
       "\t<tr><th scope=row>68</th><td>FSM                                                                                 </td><td>185                                                                                 </td><td>Micronesia, Fed. Sts.                                                               </td><td> 326                                                                                </td><td><span style=white-space:pre-wrap>Federated States of Micronesia              </span></td><td>Lower middle income                                                                 </td><td>East Asia &amp; Pacific                                                             </td><td>IBRD                                                                                </td><td><span style=white-space:pre-wrap>    </span>                                        </td><td><span style=white-space:pre-wrap>U.S. dollar                </span>                 </td><td>...                                                                                 </td><td><span style=white-space:pre-wrap>   </span>                                         </td><td>                                                                                    </td><td>NA                                                                                  </td><td><span style=white-space:pre-wrap>  NA</span>                                        </td><td>NA                                                                                  </td><td>FM                                                                                  </td><td>FM                                                                                  </td><td>Micronesia, Fed. Sts.                                                               </td><td><span style=white-space:pre-wrap>Micronesia           </span>                       </td><td>(152,190]                                                                           </td></tr>\n",
       "</tbody>\n",
       "</table>\n"
      ],
      "text/latex": [
       "\\begin{tabular}{r|lllllllllllllllllllllllllllllllllll}\n",
       "  & CountryCode & Rank & CountryName & GDPInMillions & Long.Name & Income.Group & Region & Lending.category & Other.groups & Currency.Unit & ... & Vital.registration.complete & Latest.agricultural.census & Latest.industrial.data & Latest.trade.data & Latest.water.withdrawal.data & X2.alpha.code & WB.2.code & Table.Name & Short.Name & GDPRankQuantile\\\\\n",
       "\\hline\n",
       "\t204 & TUV                                          & 190                                          & Tuvalu                                       &  40                                          & Tuvalu                                       & Lower middle income                          & East Asia \\& Pacific                        &                                              &                                              & Australian dollar                            & ...                                          &                                              &                                              & NA                                           &   NA                                         & NA                                           & TV                                           & TV                                           & Tuvalu                                       & Tuvalu                                       & (152,190{]}                                 \\\\\n",
       "\t105 & KIR                                          & 189                                          & Kiribati                                     &  175                                         & Republic of Kiribati                         & Lower middle income                          & East Asia \\& Pacific                        & IDA                                          &                                              & Australian dollar                            & ...                                          &                                              &                                              & NA                                           & 2005                                         & NA                                           & KI                                           & KI                                           & Kiribati                                     & Kiribati                                     & (152,190{]}                                 \\\\\n",
       "\t132 & MHL                                          & 188                                          & Marshall Islands                             &  182                                         & Republic of the Marshall Islands             & Lower middle income                          & East Asia \\& Pacific                        & IBRD                                         &                                              & U.S. dollar                                  & ...                                          &                                              &                                              & NA                                           &   NA                                         & NA                                           & MH                                           & MH                                           & Marshall Islands                             & Marshall Islands                             & (152,190{]}                                 \\\\\n",
       "\t161 & PLW                                          & 187                                          & Palau                                        &  228                                         & Republic of Palau                            & Upper middle income                          & East Asia \\& Pacific                        & IBRD                                         &                                              & U.S. dollar                                  & ...                                          & Yes                                          &                                              & NA                                           &   NA                                         & NA                                           & PW                                           & PW                                           & Palau                                        & Palau                                        & (152,190{]}                                 \\\\\n",
       "\t185 & STP                                          & 186                                          & São Tomé and Principe                        &  263                                         & Democratic Republic of São Tomé and Principe & Lower middle income                          & Sub-Saharan Africa                           & IDA                                          & HIPC                                         & São Tomé and Principe dobra                  & ...                                          &                                              &                                              & NA                                           & 2008                                         & NA                                           & ST                                           & ST                                           & São Tomé and Principe                        & São Tomé and Principe                        & (152,190{]}                                 \\\\\n",
       "\t68 & FSM                                          & 185                                          & Micronesia, Fed. Sts.                        &  326                                         & Federated States of Micronesia               & Lower middle income                          & East Asia \\& Pacific                        & IBRD                                         &                                              & U.S. dollar                                  & ...                                          &                                              &                                              & NA                                           &   NA                                         & NA                                           & FM                                           & FM                                           & Micronesia, Fed. Sts.                        & Micronesia                                   & (152,190{]}                                 \\\\\n",
       "\\end{tabular}\n"
      ],
      "text/markdown": [
       "\n",
       "| <!--/--> | CountryCode | Rank | CountryName | GDPInMillions | Long.Name | Income.Group | Region | Lending.category | Other.groups | Currency.Unit | ... | Vital.registration.complete | Latest.agricultural.census | Latest.industrial.data | Latest.trade.data | Latest.water.withdrawal.data | X2.alpha.code | WB.2.code | Table.Name | Short.Name | GDPRankQuantile | \n",
       "|---|---|---|---|---|---|\n",
       "| 204 | TUV                                          | 190                                          | Tuvalu                                       |  40                                          | Tuvalu                                       | Lower middle income                          | East Asia & Pacific                          |                                              |                                              | Australian dollar                            | ...                                          |                                              |                                              | NA                                           |   NA                                         | NA                                           | TV                                           | TV                                           | Tuvalu                                       | Tuvalu                                       | (152,190]                                    | \n",
       "| 105 | KIR                                          | 189                                          | Kiribati                                     |  175                                         | Republic of Kiribati                         | Lower middle income                          | East Asia & Pacific                          | IDA                                          |                                              | Australian dollar                            | ...                                          |                                              |                                              | NA                                           | 2005                                         | NA                                           | KI                                           | KI                                           | Kiribati                                     | Kiribati                                     | (152,190]                                    | \n",
       "| 132 | MHL                                          | 188                                          | Marshall Islands                             |  182                                         | Republic of the Marshall Islands             | Lower middle income                          | East Asia & Pacific                          | IBRD                                         |                                              | U.S. dollar                                  | ...                                          |                                              |                                              | NA                                           |   NA                                         | NA                                           | MH                                           | MH                                           | Marshall Islands                             | Marshall Islands                             | (152,190]                                    | \n",
       "| 161 | PLW                                          | 187                                          | Palau                                        |  228                                         | Republic of Palau                            | Upper middle income                          | East Asia & Pacific                          | IBRD                                         |                                              | U.S. dollar                                  | ...                                          | Yes                                          |                                              | NA                                           |   NA                                         | NA                                           | PW                                           | PW                                           | Palau                                        | Palau                                        | (152,190]                                    | \n",
       "| 185 | STP                                          | 186                                          | São Tomé and Principe                        |  263                                         | Democratic Republic of São Tomé and Principe | Lower middle income                          | Sub-Saharan Africa                           | IDA                                          | HIPC                                         | São Tomé and Principe dobra                  | ...                                          |                                              |                                              | NA                                           | 2008                                         | NA                                           | ST                                           | ST                                           | São Tomé and Principe                        | São Tomé and Principe                        | (152,190]                                    | \n",
       "| 68 | FSM                                          | 185                                          | Micronesia, Fed. Sts.                        |  326                                         | Federated States of Micronesia               | Lower middle income                          | East Asia & Pacific                          | IBRD                                         |                                              | U.S. dollar                                  | ...                                          |                                              |                                              | NA                                           |   NA                                         | NA                                           | FM                                           | FM                                           | Micronesia, Fed. Sts.                        | Micronesia                                   | (152,190]                                    | \n",
       "\n",
       "\n"
      ],
      "text/plain": [
       "    CountryCode Rank CountryName           GDPInMillions\n",
       "204 TUV         190  Tuvalu                 40          \n",
       "105 KIR         189  Kiribati               175         \n",
       "132 MHL         188  Marshall Islands       182         \n",
       "161 PLW         187  Palau                  228         \n",
       "185 STP         186  São Tomé and Principe  263         \n",
       "68  FSM         185  Micronesia, Fed. Sts.  326         \n",
       "    Long.Name                                    Income.Group       \n",
       "204 Tuvalu                                       Lower middle income\n",
       "105 Republic of Kiribati                         Lower middle income\n",
       "132 Republic of the Marshall Islands             Lower middle income\n",
       "161 Republic of Palau                            Upper middle income\n",
       "185 Democratic Republic of São Tomé and Principe Lower middle income\n",
       "68  Federated States of Micronesia               Lower middle income\n",
       "    Region              Lending.category Other.groups\n",
       "204 East Asia & Pacific                              \n",
       "105 East Asia & Pacific IDA                          \n",
       "132 East Asia & Pacific IBRD                         \n",
       "161 East Asia & Pacific IBRD                         \n",
       "185 Sub-Saharan Africa  IDA              HIPC        \n",
       "68  East Asia & Pacific IBRD                         \n",
       "    Currency.Unit               ... Vital.registration.complete\n",
       "204 Australian dollar           ...                            \n",
       "105 Australian dollar           ...                            \n",
       "132 U.S. dollar                 ...                            \n",
       "161 U.S. dollar                 ... Yes                        \n",
       "185 São Tomé and Principe dobra ...                            \n",
       "68  U.S. dollar                 ...                            \n",
       "    Latest.agricultural.census Latest.industrial.data Latest.trade.data\n",
       "204                            NA                       NA             \n",
       "105                            NA                     2005             \n",
       "132                            NA                       NA             \n",
       "161                            NA                       NA             \n",
       "185                            NA                     2008             \n",
       "68                             NA                       NA             \n",
       "    Latest.water.withdrawal.data X2.alpha.code WB.2.code Table.Name           \n",
       "204 NA                           TV            TV        Tuvalu               \n",
       "105 NA                           KI            KI        Kiribati             \n",
       "132 NA                           MH            MH        Marshall Islands     \n",
       "161 NA                           PW            PW        Palau                \n",
       "185 NA                           ST            ST        São Tomé and Principe\n",
       "68  NA                           FM            FM        Micronesia, Fed. Sts.\n",
       "    Short.Name            GDPRankQuantile\n",
       "204 Tuvalu                (152,190]      \n",
       "105 Kiribati              (152,190]      \n",
       "132 Marshall Islands      (152,190]      \n",
       "161 Palau                 (152,190]      \n",
       "185 São Tomé and Principe (152,190]      \n",
       "68  Micronesia            (152,190]      "
      ]
     },
     "metadata": {},
     "output_type": "display_data"
    }
   ],
   "source": [
    "head(sorted_df)"
   ]
  },
  {
   "cell_type": "code",
   "execution_count": 135,
   "metadata": {},
   "outputs": [
    {
     "data": {
      "text/plain": [
       "             \n",
       "                 High income: nonOECD High income: OECD Low income\n",
       "  (1,38.6]     0                    4                17          0\n",
       "  (38.6,76.2]  0                    5                10          1\n",
       "  (76.2,114]   0                    8                 1          9\n",
       "  (114,152]    0                    4                 1         16\n",
       "  (152,190]    0                    2                 0         11\n",
       "             \n",
       "              Lower middle income Upper middle income\n",
       "  (1,38.6]                      5                  11\n",
       "  (38.6,76.2]                  13                   9\n",
       "  (76.2,114]                   11                   8\n",
       "  (114,152]                     9                   8\n",
       "  (152,190]                    16                   9"
      ]
     },
     "metadata": {},
     "output_type": "display_data"
    }
   ],
   "source": [
    "# make a two dimensional table\n",
    "table(sorted_df$GDPRankQuantile,sorted_df$Income.Group)"
   ]
  },
  {
   "cell_type": "code",
   "execution_count": null,
   "metadata": {},
   "outputs": [],
   "source": []
  }
 ],
 "metadata": {
  "kernelspec": {
   "display_name": "R",
   "language": "R",
   "name": "ir"
  },
  "language_info": {
   "codemirror_mode": "r",
   "file_extension": ".r",
   "mimetype": "text/x-r-source",
   "name": "R",
   "pygments_lexer": "r",
   "version": "3.5.1"
  }
 },
 "nbformat": 4,
 "nbformat_minor": 2
}
