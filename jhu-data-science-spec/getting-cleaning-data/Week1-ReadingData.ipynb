{
 "cells": [
  {
   "cell_type": "code",
   "execution_count": 7,
   "metadata": {},
   "outputs": [],
   "source": [
    "setwd(\"C:\\\\Users\\\\harash\\\\Dropbox\\\\github-repo\\\\learning\\\\courses\\\\jhu-data-science-spec\\\\getting-cleaning-data\")"
   ]
  },
  {
   "cell_type": "code",
   "execution_count": 8,
   "metadata": {},
   "outputs": [],
   "source": [
    "df <- read.csv(\"getdata_data_ss06hid.csv\", colClasses = \"character\")\n",
    "#str(df)"
   ]
  },
  {
   "cell_type": "code",
   "execution_count": 9,
   "metadata": {},
   "outputs": [
    {
     "name": "stdout",
     "output_type": "stream",
     "text": [
      "[1] 53\n"
     ]
    }
   ],
   "source": [
    "df[, \"VAL\"] <- as.numeric(df[, \"VAL\"])\n",
    "df_filter <- df[ df[[\"VAL\"]] == 24, ]\n",
    "df_filter <- na.omit(df_filter)\n",
    "#print(df_filter[1:5,])\n",
    "print(nrow(df_filter))"
   ]
  },
  {
   "cell_type": "code",
   "execution_count": 13,
   "metadata": {},
   "outputs": [
    {
     "ename": "ERROR",
     "evalue": "Error in parse(text = x, srcfile = src): <text>:2:12: unexpected '/'\n1: language: R\n2: cran: http:/\n              ^\n",
     "execution_count": 13,
     "output_type": "error",
     "traceback": [
      "Error in parse(text = x, srcfile = src): <text>:2:12: unexpected '/'\n1: language: R\n2: cran: http:/\n              ^\nTraceback:\n"
     ]
    }
   ],
   "source": [
    "language: R\n",
    "cran: http://cran.rstudio.com\n",
    "#install.packages('xlsx')\n",
    "install.packages(\"readxl\")"
   ]
  },
  {
   "cell_type": "code",
   "execution_count": 54,
   "metadata": {},
   "outputs": [],
   "source": [
    "library(\"readxl\")\n",
    "# xls files\n",
    "my_data <- read_excel(\"getdata_data_DATA.gov_NGAP.xlsx\",cell_rows(18:23),sheet=1,col_names = TRUE)\n",
    "#df2 <- read.xlsx(\"getdata_data_DATA.gov_NGAP.xlsx\", colClasses = \"character\")"
   ]
  },
  {
   "cell_type": "code",
   "execution_count": 55,
   "metadata": {},
   "outputs": [
    {
     "name": "stdout",
     "output_type": "stream",
     "text": [
      "Classes 'tbl_df', 'tbl' and 'data.frame':\t5 obs. of  15 variables:\n",
      " $ StateAbbrev: chr  \"OK\" \"GA\" \"OK\" \"CO\" ...\n",
      " $ CName      : chr  \"Tiger Natural Gas\" \"PS Energy\" \"Geary Energy\" \"Utility Resource Solutions\" ...\n",
      " $ Address1   : chr  \"1422 E 71st  Suite J\" \"2987 Clairmont Rd\" \"7712 S Yale Ave\" \"1700 Lincoln St.\" ...\n",
      " $ Address2   : chr  NA \"Suite 500\" \"Suite 201\" \"Suite 2530\" ...\n",
      " $ Address3   : logi  NA NA NA NA NA\n",
      " $ City       : chr  \"Tulsa\" \"Atlanta\" \"Tulsa\" \"Denver\" ...\n",
      " $ Zip        : num  74136 30329 74136 80203 80120\n",
      " $ CuCurrent  : num  0 1 1 0 1\n",
      " $ PaCurrent  : num  1 0 0 1 0\n",
      " $ PoCurrent  : num  0 0 0 0 0\n",
      " $ Contact    : chr  \"918-491-6998\" \"404-321-5711\" \"918-523-2516\" \"303-864-1919\" ...\n",
      " $ Ext        : num  0 NA 0 0 456\n",
      " $ Fax        : chr  \"918-491-6659\" NA \"918-523-2522\" NA ...\n",
      " $ email      : logi  NA NA NA NA NA\n",
      " $ Status     : num  1 1 1 1 1\n"
     ]
    }
   ],
   "source": [
    "str(my_data)"
   ]
  },
  {
   "cell_type": "code",
   "execution_count": 57,
   "metadata": {},
   "outputs": [
    {
     "data": {
      "text/html": [
       "<table>\n",
       "<thead><tr><th scope=col>StateAbbrev</th><th scope=col>CName</th><th scope=col>Address1</th><th scope=col>Address2</th><th scope=col>Address3</th><th scope=col>City</th><th scope=col>Zip</th><th scope=col>CuCurrent</th><th scope=col>PaCurrent</th><th scope=col>PoCurrent</th><th scope=col>Contact</th><th scope=col>Ext</th><th scope=col>Fax</th><th scope=col>email</th><th scope=col>Status</th></tr></thead>\n",
       "<tbody>\n",
       "\t<tr><td>OK                  </td><td>Tiger Natural Gas   </td><td>1422 E 71st  Suite J</td><td>NA                  </td><td>NA                  </td><td>Tulsa               </td><td>74136               </td><td>0                   </td><td>1                   </td><td>0                   </td><td>918-491-6998        </td><td> 0                  </td><td>918-491-6659        </td><td>NA                  </td><td>1                   </td></tr>\n",
       "\t<tr><td>GA                  </td><td>PS Energy           </td><td>2987 Clairmont Rd   </td><td>Suite 500           </td><td>NA                  </td><td>Atlanta             </td><td>30329               </td><td>1                   </td><td>0                   </td><td>0                   </td><td>404-321-5711        </td><td>NA                  </td><td>NA                  </td><td>NA                  </td><td>1                   </td></tr>\n",
       "</tbody>\n",
       "</table>\n"
      ],
      "text/latex": [
       "\\begin{tabular}{r|lllllllllllllll}\n",
       " StateAbbrev & CName & Address1 & Address2 & Address3 & City & Zip & CuCurrent & PaCurrent & PoCurrent & Contact & Ext & Fax & email & Status\\\\\n",
       "\\hline\n",
       "\t OK                   & Tiger Natural Gas    & 1422 E 71st  Suite J & NA                   & NA                   & Tulsa                & 74136                & 0                    & 1                    & 0                    & 918-491-6998         &  0                   & 918-491-6659         & NA                   & 1                   \\\\\n",
       "\t GA                   & PS Energy            & 2987 Clairmont Rd    & Suite 500            & NA                   & Atlanta              & 30329                & 1                    & 0                    & 0                    & 404-321-5711         & NA                   & NA                   & NA                   & 1                   \\\\\n",
       "\\end{tabular}\n"
      ],
      "text/markdown": [
       "\n",
       "StateAbbrev | CName | Address1 | Address2 | Address3 | City | Zip | CuCurrent | PaCurrent | PoCurrent | Contact | Ext | Fax | email | Status | \n",
       "|---|---|\n",
       "| OK                   | Tiger Natural Gas    | 1422 E 71st  Suite J | NA                   | NA                   | Tulsa                | 74136                | 0                    | 1                    | 0                    | 918-491-6998         |  0                   | 918-491-6659         | NA                   | 1                    | \n",
       "| GA                   | PS Energy            | 2987 Clairmont Rd    | Suite 500            | NA                   | Atlanta              | 30329                | 1                    | 0                    | 0                    | 404-321-5711         | NA                   | NA                   | NA                   | 1                    | \n",
       "\n",
       "\n"
      ],
      "text/plain": [
       "  StateAbbrev CName             Address1             Address2  Address3 City   \n",
       "1 OK          Tiger Natural Gas 1422 E 71st  Suite J NA        NA       Tulsa  \n",
       "2 GA          PS Energy         2987 Clairmont Rd    Suite 500 NA       Atlanta\n",
       "  Zip   CuCurrent PaCurrent PoCurrent Contact      Ext Fax          email\n",
       "1 74136 0         1         0         918-491-6998  0  918-491-6659 NA   \n",
       "2 30329 1         0         0         404-321-5711 NA  NA           NA   \n",
       "  Status\n",
       "1 1     \n",
       "2 1     "
      ]
     },
     "metadata": {},
     "output_type": "display_data"
    }
   ],
   "source": [
    "my_data[1:2,]\n",
    "dat <- my_data[,7:15]"
   ]
  },
  {
   "cell_type": "code",
   "execution_count": 58,
   "metadata": {},
   "outputs": [
    {
     "data": {
      "text/html": [
       "<table>\n",
       "<thead><tr><th scope=col>Zip</th><th scope=col>CuCurrent</th><th scope=col>PaCurrent</th><th scope=col>PoCurrent</th><th scope=col>Contact</th><th scope=col>Ext</th><th scope=col>Fax</th><th scope=col>email</th><th scope=col>Status</th></tr></thead>\n",
       "<tbody>\n",
       "\t<tr><td>74136       </td><td>0           </td><td>1           </td><td>0           </td><td>918-491-6998</td><td>  0         </td><td>918-491-6659</td><td>NA          </td><td>1           </td></tr>\n",
       "\t<tr><td>30329       </td><td>1           </td><td>0           </td><td>0           </td><td>404-321-5711</td><td> NA         </td><td>NA          </td><td>NA          </td><td>1           </td></tr>\n",
       "\t<tr><td>74136       </td><td>1           </td><td>0           </td><td>0           </td><td>918-523-2516</td><td>  0         </td><td>918-523-2522</td><td>NA          </td><td>1           </td></tr>\n",
       "\t<tr><td>80203       </td><td>0           </td><td>1           </td><td>0           </td><td>303-864-1919</td><td>  0         </td><td>NA          </td><td>NA          </td><td>1           </td></tr>\n",
       "\t<tr><td>80120       </td><td>1           </td><td>0           </td><td>0           </td><td>345-098-8890</td><td>456         </td><td>NA          </td><td>NA          </td><td>1           </td></tr>\n",
       "</tbody>\n",
       "</table>\n"
      ],
      "text/latex": [
       "\\begin{tabular}{r|lllllllll}\n",
       " Zip & CuCurrent & PaCurrent & PoCurrent & Contact & Ext & Fax & email & Status\\\\\n",
       "\\hline\n",
       "\t 74136        & 0            & 1            & 0            & 918-491-6998 &   0          & 918-491-6659 & NA           & 1           \\\\\n",
       "\t 30329        & 1            & 0            & 0            & 404-321-5711 &  NA          & NA           & NA           & 1           \\\\\n",
       "\t 74136        & 1            & 0            & 0            & 918-523-2516 &   0          & 918-523-2522 & NA           & 1           \\\\\n",
       "\t 80203        & 0            & 1            & 0            & 303-864-1919 &   0          & NA           & NA           & 1           \\\\\n",
       "\t 80120        & 1            & 0            & 0            & 345-098-8890 & 456          & NA           & NA           & 1           \\\\\n",
       "\\end{tabular}\n"
      ],
      "text/markdown": [
       "\n",
       "Zip | CuCurrent | PaCurrent | PoCurrent | Contact | Ext | Fax | email | Status | \n",
       "|---|---|---|---|---|\n",
       "| 74136        | 0            | 1            | 0            | 918-491-6998 |   0          | 918-491-6659 | NA           | 1            | \n",
       "| 30329        | 1            | 0            | 0            | 404-321-5711 |  NA          | NA           | NA           | 1            | \n",
       "| 74136        | 1            | 0            | 0            | 918-523-2516 |   0          | 918-523-2522 | NA           | 1            | \n",
       "| 80203        | 0            | 1            | 0            | 303-864-1919 |   0          | NA           | NA           | 1            | \n",
       "| 80120        | 1            | 0            | 0            | 345-098-8890 | 456          | NA           | NA           | 1            | \n",
       "\n",
       "\n"
      ],
      "text/plain": [
       "  Zip   CuCurrent PaCurrent PoCurrent Contact      Ext Fax          email\n",
       "1 74136 0         1         0         918-491-6998   0 918-491-6659 NA   \n",
       "2 30329 1         0         0         404-321-5711  NA NA           NA   \n",
       "3 74136 1         0         0         918-523-2516   0 918-523-2522 NA   \n",
       "4 80203 0         1         0         303-864-1919   0 NA           NA   \n",
       "5 80120 1         0         0         345-098-8890 456 NA           NA   \n",
       "  Status\n",
       "1 1     \n",
       "2 1     \n",
       "3 1     \n",
       "4 1     \n",
       "5 1     "
      ]
     },
     "metadata": {},
     "output_type": "display_data"
    }
   ],
   "source": [
    "dat"
   ]
  },
  {
   "cell_type": "code",
   "execution_count": 59,
   "metadata": {},
   "outputs": [
    {
     "data": {
      "text/html": [
       "36534720"
      ],
      "text/latex": [
       "36534720"
      ],
      "text/markdown": [
       "36534720"
      ],
      "text/plain": [
       "[1] 36534720"
      ]
     },
     "metadata": {},
     "output_type": "display_data"
    }
   ],
   "source": [
    "sum(dat$Zip*dat$Ext,na.rm=T)"
   ]
  },
  {
   "cell_type": "code",
   "execution_count": 1,
   "metadata": {},
   "outputs": [
    {
     "ename": "ERROR",
     "evalue": "Error in parse(text = x, srcfile = src): <text>:1:7: unexpected symbol\n1: conda skeleton\n          ^\n",
     "execution_count": 1,
     "output_type": "error",
     "traceback": [
      "Error in parse(text = x, srcfile = src): <text>:1:7: unexpected symbol\n1: conda skeleton\n          ^\nTraceback:\n"
     ]
    }
   ],
   "source": [
    "conda skeleton cran r-xlsx\n",
    "conda build r-xlsx"
   ]
  },
  {
   "cell_type": "code",
   "execution_count": 6,
   "metadata": {},
   "outputs": [],
   "source": [
    "library(xml2)"
   ]
  },
  {
   "cell_type": "code",
   "execution_count": 7,
   "metadata": {},
   "outputs": [
    {
     "name": "stdout",
     "output_type": "stream",
     "text": [
      "List of 2\n",
      " $ node:<externalptr> \n",
      " $ doc :<externalptr> \n",
      " - attr(*, \"class\")= chr [1:2] \"xml_document\" \"xml_node\"\n"
     ]
    }
   ],
   "source": [
    "my_xml <- read_xml(\"getdata_data_restaurants.xml\")\n",
    "str(my_xml)"
   ]
  },
  {
   "cell_type": "code",
   "execution_count": 10,
   "metadata": {},
   "outputs": [
    {
     "data": {
      "text/plain": [
       "NULL"
      ]
     },
     "metadata": {},
     "output_type": "display_data"
    }
   ],
   "source": [
    "my_xml$xml_document"
   ]
  },
  {
   "cell_type": "code",
   "execution_count": 12,
   "metadata": {},
   "outputs": [],
   "source": [
    "library(\"XML\")\n",
    "library(\"methods\")"
   ]
  },
  {
   "cell_type": "code",
   "execution_count": 20,
   "metadata": {},
   "outputs": [],
   "source": [
    "result <- xmlParse(file = \"getdata_data_restaurants.xml\")\n",
    "xmldataframe <- xmlToDataFrame(\"getdata_data_restaurants.xml\")"
   ]
  },
  {
   "cell_type": "code",
   "execution_count": null,
   "metadata": {},
   "outputs": [],
   "source": [
    "result2 <- xmlTreeParse(\"getdata_data_restaurants.xml\", useInternal=TRUE)\n",
    "rootNode <- xmlRoot(result2)\n",
    "rootNode[[1]]"
   ]
  },
  {
   "cell_type": "code",
   "execution_count": 25,
   "metadata": {},
   "outputs": [
    {
     "data": {
      "text/plain": [
       "<row _id=\"1\" _uuid=\"93CACF6F-C8C2-4B87-95A8-8177806D5A6F\" _position=\"1\" _address=\"http://data.baltimorecity.gov/resource/k5ry-ef3g/1\">\n",
       "  <name>410</name>\n",
       "  <zipcode>21206</zipcode>\n",
       "  <neighborhood>Frankford</neighborhood>\n",
       "  <councildistrict>2</councildistrict>\n",
       "  <policedistrict>NORTHEASTERN</policedistrict>\n",
       "  <location_1 human_address=\"{&quot;address&quot;:&quot;4509 BELAIR ROAD&quot;,&quot;city&quot;:&quot;Baltimore&quot;,&quot;state&quot;:&quot;MD&quot;,&quot;zip&quot;:&quot;&quot;}\" needs_recoding=\"true\"/>\n",
       "</row> "
      ]
     },
     "metadata": {},
     "output_type": "display_data"
    }
   ],
   "source": [
    "rootNode[[1]][[1]]"
   ]
  },
  {
   "cell_type": "code",
   "execution_count": 27,
   "metadata": {},
   "outputs": [],
   "source": [
    "all_zip_codes <- xpathSApply(rootNode,\"//zipcode\",xmlValue)"
   ]
  },
  {
   "cell_type": "code",
   "execution_count": 28,
   "metadata": {},
   "outputs": [
    {
     "name": "stdout",
     "output_type": "stream",
     "text": [
      " chr [1:1327] \"21206\" \"21231\" \"21224\" \"21211\" \"21223\" \"21218\" \"21205\" ...\n"
     ]
    }
   ],
   "source": [
    "str(all_zip_codes)"
   ]
  },
  {
   "cell_type": "code",
   "execution_count": 29,
   "metadata": {},
   "outputs": [
    {
     "data": {
      "text/html": [
       "127"
      ],
      "text/latex": [
       "127"
      ],
      "text/markdown": [
       "127"
      ],
      "text/plain": [
       "[1] 127"
      ]
     },
     "metadata": {},
     "output_type": "display_data"
    }
   ],
   "source": [
    "count_zips <- length(which(all_zip_codes == \"21231\"))\n",
    "count_zips"
   ]
  },
  {
   "cell_type": "code",
   "execution_count": 31,
   "metadata": {},
   "outputs": [
    {
     "name": "stderr",
     "output_type": "stream",
     "text": [
      "starting httpd help server ... done\n"
     ]
    },
    {
     "data": {},
     "metadata": {},
     "output_type": "display_data"
    }
   ],
   "source": [
    "??fread"
   ]
  },
  {
   "cell_type": "code",
   "execution_count": 38,
   "metadata": {},
   "outputs": [
    {
     "ename": "ERROR",
     "evalue": "Error in df[, \"pwgtp15\"]: object of type 'closure' is not subsettable\n",
     "execution_count": 38,
     "output_type": "error",
     "traceback": [
      "Error in df[, \"pwgtp15\"]: object of type 'closure' is not subsettable\nTraceback:\n"
     ]
    }
   ],
   "source": [
    "DT <- read.csv(\"getdata_data_ss06pid.csv\", colClasses = \"character\")\n",
    "df[, \"pwgtp15\"] <- as.numeric(df[, \"pwgtp15\"])\n",
    "#DT <- fread(\"getdata_data_ss06pid.csv\")\n",
    "#str(DT)"
   ]
  },
  {
   "cell_type": "code",
   "execution_count": 39,
   "metadata": {},
   "outputs": [],
   "source": [
    "time_this <- function(x) {\n",
    "    system.time(x)\n",
    "}"
   ]
  },
  {
   "cell_type": "code",
   "execution_count": 40,
   "metadata": {},
   "outputs": [
    {
     "name": "stderr",
     "output_type": "stream",
     "text": [
      "Warning message in mean.default(DT$pwgtp15, by = DT$SEX):\n",
      "\"argument is not numeric or logical: returning NA\""
     ]
    },
    {
     "data": {
      "text/plain": [
       "   user  system elapsed \n",
       "      0       0       0 "
      ]
     },
     "metadata": {},
     "output_type": "display_data"
    }
   ],
   "source": [
    "my_func_call <- mean(DT$pwgtp15,by=DT$SEX)\n",
    "time_this(my_func_call)"
   ]
  },
  {
   "cell_type": "code",
   "execution_count": 41,
   "metadata": {},
   "outputs": [
    {
     "name": "stderr",
     "output_type": "stream",
     "text": [
      "Warning message in mean.default(DT$pwgtp15, by = DT$SEX):\n",
      "\"argument is not numeric or logical: returning NA\""
     ]
    },
    {
     "data": {
      "text/html": [
       "&lt;NA&gt;"
      ],
      "text/latex": [
       "<NA>"
      ],
      "text/markdown": [
       "&lt;NA&gt;"
      ],
      "text/plain": [
       "[1] NA"
      ]
     },
     "metadata": {},
     "output_type": "display_data"
    }
   ],
   "source": [
    "mean(DT$pwgtp15,by=DT$SEX)"
   ]
  },
  {
   "cell_type": "code",
   "execution_count": 42,
   "metadata": {},
   "outputs": [
    {
     "name": "stdout",
     "output_type": "stream",
     "text": [
      "'data.frame':\t14931 obs. of  239 variables:\n",
      " $ RT      : chr  \"P\" \"P\" \"P\" \"P\" ...\n",
      " $ SERIALNO: chr  \"186\" \"186\" \"186\" \"186\" ...\n",
      " $ SPORDER : chr  \"1\" \"2\" \"3\" \"4\" ...\n",
      " $ PUMA    : chr  \"00700\" \"00700\" \"00700\" \"00700\" ...\n",
      " $ ST      : chr  \"16\" \"16\" \"16\" \"16\" ...\n",
      " $ ADJUST  : chr  \"1015675\" \"1015675\" \"1015675\" \"1015675\" ...\n",
      " $ PWGTP   : chr  \"0089\" \"0092\" \"0107\" \"0091\" ...\n",
      " $ AGEP    : chr  \"43\" \"42\" \"16\" \"14\" ...\n",
      " $ CIT     : chr  \"1\" \"1\" \"1\" \"1\" ...\n",
      " $ COW     : chr  \"7\" \"4\" \"1\" \"\" ...\n",
      " $ DDRS    : chr  \"2\" \"2\" \"2\" \"2\" ...\n",
      " $ DEYE    : chr  \"2\" \"2\" \"2\" \"2\" ...\n",
      " $ DOUT    : chr  \"2\" \"2\" \"2\" \"\" ...\n",
      " $ DPHY    : chr  \"2\" \"2\" \"2\" \"2\" ...\n",
      " $ DREM    : chr  \"2\" \"2\" \"2\" \"2\" ...\n",
      " $ DWRK    : chr  \"2\" \"2\" \"2\" \"\" ...\n",
      " $ ENG     : chr  \"\" \"\" \"\" \"\" ...\n",
      " $ FER     : chr  \"\" \"2\" \"\" \"\" ...\n",
      " $ GCL     : chr  \"2\" \"2\" \"\" \"\" ...\n",
      " $ GCM     : chr  \"\" \"\" \"\" \"\" ...\n",
      " $ GCR     : chr  \"\" \"\" \"\" \"\" ...\n",
      " $ INTP    : chr  \"000000\" \"000000\" \"000000\" \"\" ...\n",
      " $ JWMNP   : chr  \"015\" \"\" \"005\" \"\" ...\n",
      " $ JWRIP   : chr  \"01\" \"\" \"01\" \"\" ...\n",
      " $ JWTR    : chr  \"01\" \"\" \"01\" \"\" ...\n",
      " $ LANX    : chr  \"2\" \"2\" \"2\" \"2\" ...\n",
      " $ MAR     : chr  \"1\" \"1\" \"5\" \"5\" ...\n",
      " $ MIG     : chr  \"1\" \"1\" \"1\" \"1\" ...\n",
      " $ MIL     : chr  \"3\" \"5\" \"\" \"\" ...\n",
      " $ MILY    : chr  \"2\" \"\" \"\" \"\" ...\n",
      " $ MLPA    : chr  \"0\" \"\" \"\" \"\" ...\n",
      " $ MLPB    : chr  \"0\" \"\" \"\" \"\" ...\n",
      " $ MLPC    : chr  \"1\" \"\" \"\" \"\" ...\n",
      " $ MLPD    : chr  \"0\" \"\" \"\" \"\" ...\n",
      " $ MLPE    : chr  \"0\" \"\" \"\" \"\" ...\n",
      " $ MLPF    : chr  \"0\" \"\" \"\" \"\" ...\n",
      " $ MLPG    : chr  \"0\" \"\" \"\" \"\" ...\n",
      " $ MLPH    : chr  \"0\" \"\" \"\" \"\" ...\n",
      " $ MLPI    : chr  \"0\" \"\" \"\" \"\" ...\n",
      " $ MLPJ    : chr  \"0\" \"\" \"\" \"\" ...\n",
      " $ MLPK    : chr  \"0\" \"\" \"\" \"\" ...\n",
      " $ NWAB    : chr  \"3\" \"2\" \"3\" \"\" ...\n",
      " $ NWAV    : chr  \"5\" \"5\" \"5\" \"\" ...\n",
      " $ NWLA    : chr  \"3\" \"2\" \"3\" \"\" ...\n",
      " $ NWLK    : chr  \"3\" \"2\" \"3\" \"\" ...\n",
      " $ NWRE    : chr  \"3\" \"3\" \"3\" \"\" ...\n",
      " $ OIP     : chr  \"000000\" \"000000\" \"000000\" \"\" ...\n",
      " $ PAP     : chr  \"00000\" \"00000\" \"00000\" \"\" ...\n",
      " $ REL     : chr  \"00\" \"01\" \"02\" \"02\" ...\n",
      " $ RETP    : chr  \"000000\" \"000000\" \"000000\" \"\" ...\n",
      " $ SCH     : chr  \"1\" \"1\" \"3\" \"3\" ...\n",
      " $ SCHG    : chr  \"\" \"\" \"5\" \"4\" ...\n",
      " $ SCHL    : chr  \"10\" \"09\" \"07\" \"04\" ...\n",
      " $ SEMP    : chr  \"050000\" \"000000\" \"000000\" \"\" ...\n",
      " $ SEX     : chr  \"1\" \"2\" \"1\" \"2\" ...\n",
      " $ SSIP    : chr  \"00000\" \"00000\" \"00000\" \"\" ...\n",
      " $ SSP     : chr  \"00000\" \"00000\" \"00000\" \"\" ...\n",
      " $ WAGP    : chr  \"050000\" \"000800\" \"004800\" \"\" ...\n",
      " $ WKHP    : chr  \"50\" \"04\" \"20\" \"\" ...\n",
      " $ WKL     : chr  \"1\" \"1\" \"1\" \"\" ...\n",
      " $ WKW     : chr  \"52\" \"20\" \"52\" \"\" ...\n",
      " $ YOEP    : chr  \"\" \"\" \"\" \"\" ...\n",
      " $ UWRK    : chr  \"1\" \"2\" \"1\" \"\" ...\n",
      " $ ANC     : chr  \"2\" \"1\" \"2\" \"1\" ...\n",
      " $ ANC1P   : chr  \"920\" \"920\" \"920\" \"920\" ...\n",
      " $ ANC2P   : chr  \"148\" \"999\" \"148\" \"999\" ...\n",
      " $ DECADE  : chr  \"\" \"\" \"\" \"\" ...\n",
      " $ DRIVESP : chr  \"1\" \"\" \"1\" \"\" ...\n",
      " $ DS      : chr  \"2\" \"2\" \"2\" \"2\" ...\n",
      " $ ESP     : chr  \"\" \"\" \"2\" \"2\" ...\n",
      " $ ESR     : chr  \"1\" \"6\" \"1\" \"\" ...\n",
      " $ HISP    : chr  \"01\" \"01\" \"01\" \"01\" ...\n",
      " $ INDP    : chr  \"7690\" \"7870\" \"8680\" \"\" ...\n",
      " $ JWAP    : chr  \"088\" \"\" \"200\" \"\" ...\n",
      " $ JWDP    : chr  \"046\" \"\" \"119\" \"\" ...\n",
      " $ LANP    : chr  \"\" \"\" \"\" \"\" ...\n",
      " $ MIGPUMA : chr  \"\" \"\" \"\" \"\" ...\n",
      " $ MIGSP   : chr  \"\" \"\" \"\" \"\" ...\n",
      " $ MSP     : chr  \"1\" \"1\" \"6\" \"\" ...\n",
      " $ NAICSP  : chr  \"5617Z\" \"611M1\" \"722Z\" \"\" ...\n",
      " $ NATIVITY: chr  \"1\" \"1\" \"1\" \"1\" ...\n",
      " $ NOP     : chr  \"\" \"\" \"1\" \"1\" ...\n",
      " $ OC      : chr  \"0\" \"0\" \"1\" \"1\" ...\n",
      " $ OCCP    : chr  \"4200\" \"2340\" \"4020\" \"\" ...\n",
      " $ PAOC    : chr  \"\" \"2\" \"\" \"\" ...\n",
      " $ PERNP   : chr  \"0100000\" \"0000800\" \"0004800\" \"\" ...\n",
      " $ PINCP   : chr  \"0100000\" \"0000800\" \"0004800\" \"\" ...\n",
      " $ POBP    : chr  \"053\" \"041\" \"016\" \"041\" ...\n",
      " $ POVPIP  : chr  \"501\" \"501\" \"501\" \"501\" ...\n",
      " $ POWPUMA : chr  \"00600\" \"\" \"00600\" \"\" ...\n",
      " $ POWSP   : chr  \"016\" \"\" \"016\" \"\" ...\n",
      " $ QTRBIR  : chr  \"3\" \"3\" \"2\" \"4\" ...\n",
      " $ RAC1P   : chr  \"1\" \"1\" \"1\" \"1\" ...\n",
      " $ RAC2P   : chr  \"01\" \"01\" \"01\" \"01\" ...\n",
      " $ RAC3P   : chr  \"69\" \"69\" \"69\" \"69\" ...\n",
      " $ RACAIAN : chr  \"0\" \"0\" \"0\" \"0\" ...\n",
      " $ RACASN  : chr  \"0\" \"0\" \"0\" \"0\" ...\n",
      " $ RACBLK  : chr  \"0\" \"0\" \"0\" \"0\" ...\n",
      " $ RACNHPI : chr  \"0\" \"0\" \"0\" \"0\" ...\n",
      "  [list output truncated]\n"
     ]
    }
   ],
   "source": [
    "str(DT)"
   ]
  },
  {
   "cell_type": "code",
   "execution_count": null,
   "metadata": {},
   "outputs": [],
   "source": []
  }
 ],
 "metadata": {
  "kernelspec": {
   "display_name": "R",
   "language": "R",
   "name": "ir"
  },
  "language_info": {
   "codemirror_mode": "r",
   "file_extension": ".r",
   "mimetype": "text/x-r-source",
   "name": "R",
   "pygments_lexer": "r",
   "version": "3.5.1"
  }
 },
 "nbformat": 4,
 "nbformat_minor": 2
}
