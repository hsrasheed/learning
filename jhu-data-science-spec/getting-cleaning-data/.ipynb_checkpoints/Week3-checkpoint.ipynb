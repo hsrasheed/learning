{
 "cells": [
  {
   "cell_type": "markdown",
   "metadata": {},
   "source": [
    "# Lecture Notes"
   ]
  },
  {
   "cell_type": "markdown",
   "metadata": {},
   "source": [
    "## Subsetting"
   ]
  },
  {
   "cell_type": "code",
   "execution_count": 7,
   "metadata": {},
   "outputs": [
    {
     "data": {
      "text/html": [
       "<table>\n",
       "<thead><tr><th></th><th scope=col>var1</th><th scope=col>var2</th><th scope=col>var3</th></tr></thead>\n",
       "<tbody>\n",
       "\t<tr><th scope=row>1</th><td>2 </td><td>NA</td><td>15</td></tr>\n",
       "\t<tr><th scope=row>4</th><td>1 </td><td>10</td><td>11</td></tr>\n",
       "\t<tr><th scope=row>2</th><td>3 </td><td>NA</td><td>12</td></tr>\n",
       "\t<tr><th scope=row>3</th><td>5 </td><td> 6</td><td>14</td></tr>\n",
       "\t<tr><th scope=row>5</th><td>4 </td><td> 9</td><td>13</td></tr>\n",
       "</tbody>\n",
       "</table>\n"
      ],
      "text/latex": [
       "\\begin{tabular}{r|lll}\n",
       "  & var1 & var2 & var3\\\\\n",
       "\\hline\n",
       "\t1 & 2  & NA & 15\\\\\n",
       "\t4 & 1  & 10 & 11\\\\\n",
       "\t2 & 3  & NA & 12\\\\\n",
       "\t3 & 5  &  6 & 14\\\\\n",
       "\t5 & 4  &  9 & 13\\\\\n",
       "\\end{tabular}\n"
      ],
      "text/markdown": [
       "\n",
       "| <!--/--> | var1 | var2 | var3 | \n",
       "|---|---|---|---|---|\n",
       "| 1 | 2  | NA | 15 | \n",
       "| 4 | 1  | 10 | 11 | \n",
       "| 2 | 3  | NA | 12 | \n",
       "| 3 | 5  |  6 | 14 | \n",
       "| 5 | 4  |  9 | 13 | \n",
       "\n",
       "\n"
      ],
      "text/plain": [
       "  var1 var2 var3\n",
       "1 2    NA   15  \n",
       "4 1    10   11  \n",
       "2 3    NA   12  \n",
       "3 5     6   14  \n",
       "5 4     9   13  "
      ]
     },
     "metadata": {},
     "output_type": "display_data"
    }
   ],
   "source": [
    "set.seed(13435)\n",
    "# create a dataframe with three variables\n",
    "X <- data.frame(\"var1\"=sample(1:5),\"var2\"=sample(6:10),\"var3\"=sample(11:15))\n",
    "# scramble some of the data and set some to NA\n",
    "# X[sample(1:5),] reshuffles a random row into the current index\n",
    "X <- X[sample(1:5),]; X$var2[c(1,3)] = NA\n",
    "X"
   ]
  },
  {
   "cell_type": "code",
   "execution_count": 8,
   "metadata": {},
   "outputs": [
    {
     "data": {
      "text/html": [
       "<ol class=list-inline>\n",
       "\t<li>2</li>\n",
       "\t<li>1</li>\n",
       "\t<li>3</li>\n",
       "\t<li>5</li>\n",
       "\t<li>4</li>\n",
       "</ol>\n"
      ],
      "text/latex": [
       "\\begin{enumerate*}\n",
       "\\item 2\n",
       "\\item 1\n",
       "\\item 3\n",
       "\\item 5\n",
       "\\item 4\n",
       "\\end{enumerate*}\n"
      ],
      "text/markdown": [
       "1. 2\n",
       "2. 1\n",
       "3. 3\n",
       "4. 5\n",
       "5. 4\n",
       "\n",
       "\n"
      ],
      "text/plain": [
       "[1] 2 1 3 5 4"
      ]
     },
     "metadata": {},
     "output_type": "display_data"
    }
   ],
   "source": [
    "# subset column 1\n",
    "X[,1]"
   ]
  },
  {
   "cell_type": "code",
   "execution_count": 9,
   "metadata": {},
   "outputs": [
    {
     "data": {
      "text/html": [
       "<ol class=list-inline>\n",
       "\t<li>2</li>\n",
       "\t<li>1</li>\n",
       "\t<li>3</li>\n",
       "\t<li>5</li>\n",
       "\t<li>4</li>\n",
       "</ol>\n"
      ],
      "text/latex": [
       "\\begin{enumerate*}\n",
       "\\item 2\n",
       "\\item 1\n",
       "\\item 3\n",
       "\\item 5\n",
       "\\item 4\n",
       "\\end{enumerate*}\n"
      ],
      "text/markdown": [
       "1. 2\n",
       "2. 1\n",
       "3. 3\n",
       "4. 5\n",
       "5. 4\n",
       "\n",
       "\n"
      ],
      "text/plain": [
       "[1] 2 1 3 5 4"
      ]
     },
     "metadata": {},
     "output_type": "display_data"
    }
   ],
   "source": [
    "# subset a column by variable name\n",
    "X[,\"var1\"]"
   ]
  },
  {
   "cell_type": "code",
   "execution_count": 10,
   "metadata": {},
   "outputs": [
    {
     "data": {
      "text/html": [
       "<ol class=list-inline>\n",
       "\t<li>&lt;NA&gt;</li>\n",
       "\t<li>10</li>\n",
       "</ol>\n"
      ],
      "text/latex": [
       "\\begin{enumerate*}\n",
       "\\item <NA>\n",
       "\\item 10\n",
       "\\end{enumerate*}\n"
      ],
      "text/markdown": [
       "1. &lt;NA&gt;\n",
       "2. 10\n",
       "\n",
       "\n"
      ],
      "text/plain": [
       "[1] NA 10"
      ]
     },
     "metadata": {},
     "output_type": "display_data"
    }
   ],
   "source": [
    "# subset first two rows of X and the 'var2' column\n",
    "X[1:2,\"var2\"]"
   ]
  },
  {
   "cell_type": "code",
   "execution_count": 11,
   "metadata": {},
   "outputs": [
    {
     "data": {
      "text/html": [
       "<table>\n",
       "<thead><tr><th scope=col>var1</th><th scope=col>var2</th><th scope=col>var3</th></tr></thead>\n",
       "<tbody>\n",
       "\t<tr><td>2 </td><td>NA</td><td>15</td></tr>\n",
       "\t<tr><td>3 </td><td>NA</td><td>12</td></tr>\n",
       "</tbody>\n",
       "</table>\n"
      ],
      "text/latex": [
       "\\begin{tabular}{r|lll}\n",
       " var1 & var2 & var3\\\\\n",
       "\\hline\n",
       "\t 2  & NA & 15\\\\\n",
       "\t 3  & NA & 12\\\\\n",
       "\\end{tabular}\n"
      ],
      "text/markdown": [
       "\n",
       "var1 | var2 | var3 | \n",
       "|---|---|\n",
       "| 2  | NA | 15 | \n",
       "| 3  | NA | 12 | \n",
       "\n",
       "\n"
      ],
      "text/plain": [
       "  var1 var2 var3\n",
       "1 2    NA   15  \n",
       "2 3    NA   12  "
      ]
     },
     "metadata": {},
     "output_type": "display_data"
    }
   ],
   "source": [
    "X[(X$var1 <= 3 & X$var3 > 11),]"
   ]
  },
  {
   "cell_type": "code",
   "execution_count": 12,
   "metadata": {},
   "outputs": [
    {
     "data": {
      "text/html": [
       "<table>\n",
       "<thead><tr><th></th><th scope=col>var1</th><th scope=col>var2</th><th scope=col>var3</th></tr></thead>\n",
       "<tbody>\n",
       "\t<tr><th scope=row>1</th><td>2 </td><td>NA</td><td>15</td></tr>\n",
       "\t<tr><th scope=row>4</th><td>1 </td><td>10</td><td>11</td></tr>\n",
       "\t<tr><th scope=row>2</th><td>3 </td><td>NA</td><td>12</td></tr>\n",
       "</tbody>\n",
       "</table>\n"
      ],
      "text/latex": [
       "\\begin{tabular}{r|lll}\n",
       "  & var1 & var2 & var3\\\\\n",
       "\\hline\n",
       "\t1 & 2  & NA & 15\\\\\n",
       "\t4 & 1  & 10 & 11\\\\\n",
       "\t2 & 3  & NA & 12\\\\\n",
       "\\end{tabular}\n"
      ],
      "text/markdown": [
       "\n",
       "| <!--/--> | var1 | var2 | var3 | \n",
       "|---|---|---|\n",
       "| 1 | 2  | NA | 15 | \n",
       "| 4 | 1  | 10 | 11 | \n",
       "| 2 | 3  | NA | 12 | \n",
       "\n",
       "\n"
      ],
      "text/plain": [
       "  var1 var2 var3\n",
       "1 2    NA   15  \n",
       "4 1    10   11  \n",
       "2 3    NA   12  "
      ]
     },
     "metadata": {},
     "output_type": "display_data"
    }
   ],
   "source": [
    "X[(X$var1 <= 3 | X$var3 > 15),]"
   ]
  },
  {
   "cell_type": "code",
   "execution_count": 13,
   "metadata": {},
   "outputs": [
    {
     "data": {
      "text/html": [
       "<table>\n",
       "<thead><tr><th></th><th scope=col>var1</th><th scope=col>var2</th><th scope=col>var3</th></tr></thead>\n",
       "<tbody>\n",
       "\t<tr><th scope=row>4</th><td>1 </td><td>10</td><td>11</td></tr>\n",
       "\t<tr><th scope=row>5</th><td>4 </td><td> 9</td><td>13</td></tr>\n",
       "</tbody>\n",
       "</table>\n"
      ],
      "text/latex": [
       "\\begin{tabular}{r|lll}\n",
       "  & var1 & var2 & var3\\\\\n",
       "\\hline\n",
       "\t4 & 1  & 10 & 11\\\\\n",
       "\t5 & 4  &  9 & 13\\\\\n",
       "\\end{tabular}\n"
      ],
      "text/markdown": [
       "\n",
       "| <!--/--> | var1 | var2 | var3 | \n",
       "|---|---|\n",
       "| 4 | 1  | 10 | 11 | \n",
       "| 5 | 4  |  9 | 13 | \n",
       "\n",
       "\n"
      ],
      "text/plain": [
       "  var1 var2 var3\n",
       "4 1    10   11  \n",
       "5 4     9   13  "
      ]
     },
     "metadata": {},
     "output_type": "display_data"
    }
   ],
   "source": [
    "# dealing with missing values - subset dataframe and exclude NAs\n",
    "X[which(X$var2 > 8),]"
   ]
  },
  {
   "cell_type": "code",
   "execution_count": null,
   "metadata": {},
   "outputs": [],
   "source": [
    "# sort\n",
    "sort(X$var1)\n",
    "\n",
    "sort(X$var1, decreasing=TRUE)\n",
    "\n",
    "sort(X$var2,na.last=TRUE)"
   ]
  },
  {
   "cell_type": "code",
   "execution_count": null,
   "metadata": {},
   "outputs": [],
   "source": [
    "# ordering\n",
    "X[order(X$var1),]\n",
    "\n",
    "X[order(X$var1, X$var3),]"
   ]
  },
  {
   "cell_type": "code",
   "execution_count": null,
   "metadata": {},
   "outputs": [],
   "source": [
    "# ordering with plyr package\n",
    "library(plyr)\n",
    "arrange(X, var1)\n",
    "arrange(X,desc(var1))"
   ]
  },
  {
   "cell_type": "code",
   "execution_count": null,
   "metadata": {},
   "outputs": [],
   "source": [
    "# add column\n",
    "X$var <- rnorm(5)\n",
    "\n",
    "# bind new column to the right side of the data frame\n",
    "Y <- cbind(X, rnorm(5))\n",
    "\n",
    "# add row to the bottom of the data frame\n",
    "Y <- rbind(X, rnorm(5))\n",
    "\n",
    "# http://www.biostat.jhsph.edu/%7Eajaffe/lec_winterR/Lecture%202.pdf"
   ]
  },
  {
   "cell_type": "markdown",
   "metadata": {},
   "source": [
    "## Summarizing Data"
   ]
  },
  {
   "cell_type": "code",
   "execution_count": 14,
   "metadata": {},
   "outputs": [],
   "source": [
    "if(!file.exists(\"./data\")){dir.create(\"./data\")}\n",
    "fileUrl <- \"https://data.baltimorecity.gov/api/views/k5ry-ef3g/rows.csv?accessType=DOWNLOAD\"\n",
    "download.file(fileUrl, destfile=\"./data/restaurants.csv\", method=\"curl\")\n",
    "restData <- read.csv(\"./data/restaurants.csv\")"
   ]
  },
  {
   "cell_type": "code",
   "execution_count": 15,
   "metadata": {},
   "outputs": [
    {
     "data": {
      "text/html": [
       "<table>\n",
       "<thead><tr><th scope=col>name</th><th scope=col>zipCode</th><th scope=col>neighborhood</th><th scope=col>councilDistrict</th><th scope=col>policeDistrict</th><th scope=col>Location.1</th></tr></thead>\n",
       "<tbody>\n",
       "\t<tr><td>410                            </td><td>21206                          </td><td>Frankford                      </td><td>2                              </td><td>NORTHEASTERN                   </td><td>4509 BELAIR ROAD\n",
       "Baltimore, MD</td></tr>\n",
       "\t<tr><td>1919                           </td><td>21231                          </td><td>Fells Point                    </td><td>1                              </td><td>SOUTHEASTERN                   </td><td>1919 FLEET ST\n",
       "Baltimore, MD   </td></tr>\n",
       "\t<tr><td>SAUTE                          </td><td>21224                          </td><td>Canton                         </td><td>1                              </td><td>SOUTHEASTERN                   </td><td>2844 HUDSON ST\n",
       "Baltimore, MD  </td></tr>\n",
       "</tbody>\n",
       "</table>\n"
      ],
      "text/latex": [
       "\\begin{tabular}{r|llllll}\n",
       " name & zipCode & neighborhood & councilDistrict & policeDistrict & Location.1\\\\\n",
       "\\hline\n",
       "\t 410                             & 21206                           & Frankford                       & 2                               & NORTHEASTERN                    & 4509 BELAIR ROAD\n",
       "Baltimore, MD\\\\\n",
       "\t 1919                            & 21231                           & Fells Point                     & 1                               & SOUTHEASTERN                    & 1919 FLEET ST\n",
       "Baltimore, MD   \\\\\n",
       "\t SAUTE                           & 21224                           & Canton                          & 1                               & SOUTHEASTERN                    & 2844 HUDSON ST\n",
       "Baltimore, MD  \\\\\n",
       "\\end{tabular}\n"
      ],
      "text/markdown": [
       "\n",
       "name | zipCode | neighborhood | councilDistrict | policeDistrict | Location.1 | \n",
       "|---|---|---|\n",
       "| 410                             | 21206                           | Frankford                       | 2                               | NORTHEASTERN                    | 4509 BELAIR ROAD\n",
       "Baltimore, MD | \n",
       "| 1919                            | 21231                           | Fells Point                     | 1                               | SOUTHEASTERN                    | 1919 FLEET ST\n",
       "Baltimore, MD    | \n",
       "| SAUTE                           | 21224                           | Canton                          | 1                               | SOUTHEASTERN                    | 2844 HUDSON ST\n",
       "Baltimore, MD   | \n",
       "\n",
       "\n"
      ],
      "text/plain": [
       "  name  zipCode neighborhood councilDistrict policeDistrict\n",
       "1 410   21206   Frankford    2               NORTHEASTERN  \n",
       "2 1919  21231   Fells Point  1               SOUTHEASTERN  \n",
       "3 SAUTE 21224   Canton       1               SOUTHEASTERN  \n",
       "  Location.1                     \n",
       "1 4509 BELAIR ROAD\\nBaltimore, MD\n",
       "2 1919 FLEET ST\\nBaltimore, MD   \n",
       "3 2844 HUDSON ST\\nBaltimore, MD  "
      ]
     },
     "metadata": {},
     "output_type": "display_data"
    }
   ],
   "source": [
    "# look at the top or bottom rows of the data frame\n",
    "head(restData,n=3)\n",
    "tail(restData,n=3)"
   ]
  },
  {
   "cell_type": "code",
   "execution_count": null,
   "metadata": {},
   "outputs": [],
   "source": [
    "summary(restData)\n",
    "str(restData)"
   ]
  },
  {
   "cell_type": "code",
   "execution_count": null,
   "metadata": {},
   "outputs": [],
   "source": [
    "#using quantiles to look at variability\n",
    "quantile(restData$councilDistrict,na.rm=TRUE)\n",
    "\n",
    "quantile(restData$councilDistrict, probs=c(.5,.75,.9))"
   ]
  },
  {
   "cell_type": "code",
   "execution_count": 20,
   "metadata": {},
   "outputs": [
    {
     "data": {
      "text/plain": [
       "\n",
       "-21226  21201  21202  21205  21206  21207  21208  21209  21210  21211  21212 \n",
       "     1    136    201     27     30      4      1      8     23     41     28 \n",
       " 21213  21214  21215  21216  21217  21218  21220  21222  21223  21224  21225 \n",
       "    31     17     54     10     32     69      1      7     56    199     19 \n",
       " 21226  21227  21229  21230  21231  21234  21237  21239  21251  21287 \n",
       "    18      4     13    156    127      7      1      3      2      1 "
      ]
     },
     "metadata": {},
     "output_type": "display_data"
    }
   ],
   "source": [
    "# make a table of a specific variable\n",
    "# adding the useNA parameter will add an additional column if there are any missing values\n",
    "table(restData$zipCode,useNA=\"ifany\")"
   ]
  },
  {
   "cell_type": "code",
   "execution_count": null,
   "metadata": {},
   "outputs": [],
   "source": [
    "# make a two dimensional table\n",
    "table(restData$councilDistrict,restData$zipCode)"
   ]
  },
  {
   "cell_type": "code",
   "execution_count": null,
   "metadata": {},
   "outputs": [],
   "source": [
    "#check for total number of missing values\n",
    "sum(is.na(restData$councilDistrict))\n",
    "\n",
    "# any checks to see if any member of a set of values satisfies a condition\n",
    "any(is.na(restData$councilDistrict))\n",
    "\n",
    "# all checks to see if all members of a set of values satisfy a condition\n",
    "all(restData$zipCode > 0)"
   ]
  },
  {
   "cell_type": "code",
   "execution_count": null,
   "metadata": {},
   "outputs": [],
   "source": [
    "# summing across rows and columns\n",
    "colSums(is.na(restData))\n",
    "\n",
    "all(colSums(is.na(restData)) == 0)"
   ]
  },
  {
   "cell_type": "code",
   "execution_count": null,
   "metadata": {},
   "outputs": [],
   "source": [
    "# values with specific characteristics\n",
    "# alternative to using the \"==\"\n",
    "table(restData$zipCode %in% c(\"21212\"))\n",
    "\n",
    "table(restData$zipCode %in% c(\"21212\",\"21213\"))\n",
    "#this will resturn counts"
   ]
  },
  {
   "cell_type": "code",
   "execution_count": null,
   "metadata": {},
   "outputs": [],
   "source": [
    "# can use the logical variable above to subset a dataframe\n",
    "restData[restData$zipCode %in% c(\"21212\",\"21213\"),]"
   ]
  },
  {
   "cell_type": "code",
   "execution_count": 22,
   "metadata": {},
   "outputs": [
    {
     "data": {
      "text/plain": [
       "      Admit       Gender   Dept       Freq      \n",
       " Admitted:12   Male  :12   A:4   Min.   :  8.0  \n",
       " Rejected:12   Female:12   B:4   1st Qu.: 80.0  \n",
       "                           C:4   Median :170.0  \n",
       "                           D:4   Mean   :188.6  \n",
       "                           E:4   3rd Qu.:302.5  \n",
       "                           F:4   Max.   :512.0  "
      ]
     },
     "metadata": {},
     "output_type": "display_data"
    }
   ],
   "source": [
    "# crosstabs\n",
    "\n",
    "data(UCBAdmissions)\n",
    "DF = as.data.frame(UCBAdmissions)\n",
    "summary(DF)"
   ]
  },
  {
   "cell_type": "code",
   "execution_count": 23,
   "metadata": {},
   "outputs": [
    {
     "data": {
      "text/plain": [
       "        Admit\n",
       "Gender   Admitted Rejected\n",
       "  Male       1198     1493\n",
       "  Female      557     1278"
      ]
     },
     "metadata": {},
     "output_type": "display_data"
    }
   ],
   "source": [
    "xt <- xtabs(Freq ~ Gender + Admit, data=DF)\n",
    "xt"
   ]
  },
  {
   "cell_type": "code",
   "execution_count": 25,
   "metadata": {},
   "outputs": [
    {
     "data": {
      "text/plain": [
       "             replicate  1  2  3  4  5  6  7  8  9\n",
       "wool tension                                     \n",
       "A    L                 26 30 54 25 70 52 51 26 67\n",
       "     M                 18 21 29 17 12 18 35 30 36\n",
       "     H                 36 21 24 18 10 43 28 15 26\n",
       "B    L                 27 14 29 19 29 31 41 20 44\n",
       "     M                 42 26 19 16 39 28 21 39 29\n",
       "     H                 20 21 24 17 13 15 15 16 28"
      ]
     },
     "metadata": {},
     "output_type": "display_data"
    }
   ],
   "source": [
    "warpbreaks$replicate <- rep(1:9, len = 54)\n",
    "xt = xtabs(breaks ~.,data=warpbreaks)\n",
    "#xt\n",
    "ftable(xt)"
   ]
  },
  {
   "cell_type": "code",
   "execution_count": null,
   "metadata": {},
   "outputs": [],
   "source": [
    "# Size of a dataset\n",
    "print(object.size(fakeData),units=\"Mb\")"
   ]
  },
  {
   "cell_type": "code",
   "execution_count": null,
   "metadata": {},
   "outputs": [],
   "source": []
  },
  {
   "cell_type": "code",
   "execution_count": null,
   "metadata": {},
   "outputs": [],
   "source": []
  },
  {
   "cell_type": "markdown",
   "metadata": {},
   "source": [
    "## Creating Variables"
   ]
  },
  {
   "cell_type": "code",
   "execution_count": null,
   "metadata": {},
   "outputs": [],
   "source": [
    "# Creating sequences or indexes\n",
    "\n",
    "# creates a sequence that goes up to the max number and increments by the \"by=\" each time\n",
    "s1 <- seq(1,10,by=2); s1\n",
    "\n",
    "# creates a sequence that starts and min and goes to the max, but includes the number of elements specified in 'length'\n",
    "s2 <- seq(1,10,length=3); s2\n",
    "\n",
    "# creates a sequcence of values to match the number of elements in a vector (x)\n",
    "x <- c(1,3,8,25,100); seq(along = x)"
   ]
  },
  {
   "cell_type": "code",
   "execution_count": 26,
   "metadata": {},
   "outputs": [
    {
     "data": {
      "text/plain": [
       "\n",
       "FALSE  TRUE \n",
       " 1314    13 "
      ]
     },
     "metadata": {},
     "output_type": "display_data"
    }
   ],
   "source": [
    "# subsetting variables\n",
    "#create a column in the dataframe based on a logical condition\n",
    "restData$nearMe = restData$neighborhood %in% c(\"Roland Park\", \"Homeland\")\n",
    "#print a table to summarize the column\n",
    "table(restData$nearMe)"
   ]
  },
  {
   "cell_type": "code",
   "execution_count": 29,
   "metadata": {},
   "outputs": [
    {
     "data": {
      "text/plain": [
       "       \n",
       "        FALSE TRUE\n",
       "  FALSE  1326    0\n",
       "  TRUE      0    1"
      ]
     },
     "metadata": {},
     "output_type": "display_data"
    }
   ],
   "source": [
    "# create binary variables\n",
    "restData$zipWrong = ifelse(restData$zipCode < 0, TRUE, FALSE)\n",
    "table(restData$zipWrong, restData$zipCode < 0)"
   ]
  },
  {
   "cell_type": "code",
   "execution_count": 30,
   "metadata": {},
   "outputs": [
    {
     "data": {
      "text/plain": [
       "\n",
       "(-2.123e+04,2.12e+04]  (2.12e+04,2.122e+04] (2.122e+04,2.123e+04] \n",
       "                  337                   375                   282 \n",
       "(2.123e+04,2.129e+04] \n",
       "                  332 "
      ]
     },
     "metadata": {},
     "output_type": "display_data"
    }
   ],
   "source": [
    "# creating categorical variables\n",
    "restData$zipGroups = cut(restData$zipCode, breaks=quantile(restData$zipCode))\n",
    "table(restData$zipGroups)"
   ]
  },
  {
   "cell_type": "code",
   "execution_count": 34,
   "metadata": {},
   "outputs": [
    {
     "data": {
      "text/plain": [
       "\n",
       "[-21226,21205) [ 21205,21220) [ 21220,21227) [ 21227,21287] \n",
       "           338            375            300            314 "
      ]
     },
     "metadata": {},
     "output_type": "display_data"
    }
   ],
   "source": [
    "# do the same as above without specifying the quantile breaks\n",
    "library('Hmisc')\n",
    "restData$zipGroups = cut2(restData$zipCode,g=4)\n",
    "table(restData$zipGroups)"
   ]
  },
  {
   "cell_type": "code",
   "execution_count": null,
   "metadata": {},
   "outputs": [],
   "source": [
    "# Creating factor variables\n",
    "\n",
    "restData$zcf <- factor(restData$zipCode)\n",
    "restData$zcf[1:10]\n",
    "\n",
    "class(restData$zcf)"
   ]
  },
  {
   "cell_type": "code",
   "execution_count": null,
   "metadata": {},
   "outputs": [],
   "source": [
    "# create a vector of 10 yeses and nos randomly\n",
    "yesno <- sample(c(\"yes\",\"no\"),size=10,replace=TRUE)\n",
    "# transform into factor variable\n",
    "yesnofac = factor(yesno, levels=c(\"yes\",\"no\"))\n",
    "# specify yes as a 1 and no as 2\n",
    "relevel(yesnofac,ref=\"yes\")\n",
    "#transform back into numeric\n",
    "as.numeric(yesnofac)"
   ]
  },
  {
   "cell_type": "code",
   "execution_count": null,
   "metadata": {},
   "outputs": [],
   "source": [
    "# produce factor variables with cutting\n",
    "library(Hmisc)\n",
    "restData$zipGroups = cut2(restData$zipCode,g=4)\n",
    "rable(restData$zipGroups)"
   ]
  },
  {
   "cell_type": "code",
   "execution_count": 37,
   "metadata": {},
   "outputs": [
    {
     "name": "stderr",
     "output_type": "stream",
     "text": [
      "\n",
      "Attaching package: 'plyr'\n",
      "\n",
      "The following objects are masked from 'package:Hmisc':\n",
      "\n",
      "    is.discrete, summarize\n",
      "\n"
     ]
    },
    {
     "data": {
      "text/plain": [
       "\n",
       "[-21226,21205) [ 21205,21220) [ 21220,21227) [ 21227,21287] \n",
       "           338            375            300            314 "
      ]
     },
     "metadata": {},
     "output_type": "display_data"
    }
   ],
   "source": [
    "# use mutate to create factor variable and add it to a data set\n",
    "library(Hmisc); library(plyr)\n",
    "#create new data frame restData2 by mutating the old one restData\n",
    "#the new dataframe will have a new column zipGroups that is a factor variable\n",
    "#produced by cutting the zipCode column into four subgroups\n",
    "restData2 = mutate(restData,zipGroups=cut2(zipCode,g=4))\n",
    "table(restData2$zipGroups)"
   ]
  },
  {
   "cell_type": "code",
   "execution_count": null,
   "metadata": {},
   "outputs": [],
   "source": [
    "# Common transforms\n",
    "\n",
    "# absolute value\n",
    "abs(x)\n",
    "\n",
    "sqrt(x)\n",
    "\n",
    "ceiling(x)\n",
    "\n",
    "floor(x)\n",
    "\n",
    "round(x, digits=n)\n",
    "\n",
    "signif(x, digits=n)\n",
    "\n",
    "cos(x), sin(x)\n",
    "\n",
    "log(x)\n",
    "\n",
    "log2(x), log10(x)\n",
    "\n",
    "exp(x)"
   ]
  },
  {
   "cell_type": "markdown",
   "metadata": {},
   "source": [
    "## Reshaping Data"
   ]
  },
  {
   "cell_type": "markdown",
   "metadata": {},
   "source": [
    "## Goal of reshaping \n",
    "\n",
    "Tidy data:\n",
    "\n",
    "* Each variable forms a column\n",
    "* Each observation forms a row\n",
    "* Each table/file stores data about one kind of observation (e.g. people/hospitals)"
   ]
  },
  {
   "cell_type": "code",
   "execution_count": 38,
   "metadata": {},
   "outputs": [
    {
     "data": {
      "text/html": [
       "<table>\n",
       "<thead><tr><th scope=col>carname</th><th scope=col>gear</th><th scope=col>cyl</th><th scope=col>variable</th><th scope=col>value</th></tr></thead>\n",
       "<tbody>\n",
       "\t<tr><td>Mazda RX4    </td><td>4            </td><td>6            </td><td>mpg          </td><td>21.0         </td></tr>\n",
       "\t<tr><td>Mazda RX4 Wag</td><td>4            </td><td>6            </td><td>mpg          </td><td>21.0         </td></tr>\n",
       "\t<tr><td>Datsun 710   </td><td>4            </td><td>4            </td><td>mpg          </td><td>22.8         </td></tr>\n",
       "</tbody>\n",
       "</table>\n"
      ],
      "text/latex": [
       "\\begin{tabular}{r|lllll}\n",
       " carname & gear & cyl & variable & value\\\\\n",
       "\\hline\n",
       "\t Mazda RX4     & 4             & 6             & mpg           & 21.0         \\\\\n",
       "\t Mazda RX4 Wag & 4             & 6             & mpg           & 21.0         \\\\\n",
       "\t Datsun 710    & 4             & 4             & mpg           & 22.8         \\\\\n",
       "\\end{tabular}\n"
      ],
      "text/markdown": [
       "\n",
       "carname | gear | cyl | variable | value | \n",
       "|---|---|---|\n",
       "| Mazda RX4     | 4             | 6             | mpg           | 21.0          | \n",
       "| Mazda RX4 Wag | 4             | 6             | mpg           | 21.0          | \n",
       "| Datsun 710    | 4             | 4             | mpg           | 22.8          | \n",
       "\n",
       "\n"
      ],
      "text/plain": [
       "  carname       gear cyl variable value\n",
       "1 Mazda RX4     4    6   mpg      21.0 \n",
       "2 Mazda RX4 Wag 4    6   mpg      21.0 \n",
       "3 Datsun 710    4    4   mpg      22.8 "
      ]
     },
     "metadata": {},
     "output_type": "display_data"
    },
    {
     "data": {
      "text/html": [
       "<table>\n",
       "<thead><tr><th></th><th scope=col>carname</th><th scope=col>gear</th><th scope=col>cyl</th><th scope=col>variable</th><th scope=col>value</th></tr></thead>\n",
       "<tbody>\n",
       "\t<tr><th scope=row>62</th><td>Ferrari Dino </td><td>5            </td><td>6            </td><td>hp           </td><td>175          </td></tr>\n",
       "\t<tr><th scope=row>63</th><td>Maserati Bora</td><td>5            </td><td>8            </td><td>hp           </td><td>335          </td></tr>\n",
       "\t<tr><th scope=row>64</th><td>Volvo 142E   </td><td>4            </td><td>4            </td><td>hp           </td><td>109          </td></tr>\n",
       "</tbody>\n",
       "</table>\n"
      ],
      "text/latex": [
       "\\begin{tabular}{r|lllll}\n",
       "  & carname & gear & cyl & variable & value\\\\\n",
       "\\hline\n",
       "\t62 & Ferrari Dino  & 5             & 6             & hp            & 175          \\\\\n",
       "\t63 & Maserati Bora & 5             & 8             & hp            & 335          \\\\\n",
       "\t64 & Volvo 142E    & 4             & 4             & hp            & 109          \\\\\n",
       "\\end{tabular}\n"
      ],
      "text/markdown": [
       "\n",
       "| <!--/--> | carname | gear | cyl | variable | value | \n",
       "|---|---|---|\n",
       "| 62 | Ferrari Dino  | 5             | 6             | hp            | 175           | \n",
       "| 63 | Maserati Bora | 5             | 8             | hp            | 335           | \n",
       "| 64 | Volvo 142E    | 4             | 4             | hp            | 109           | \n",
       "\n",
       "\n"
      ],
      "text/plain": [
       "   carname       gear cyl variable value\n",
       "62 Ferrari Dino  5    6   hp       175  \n",
       "63 Maserati Bora 5    8   hp       335  \n",
       "64 Volvo 142E    4    4   hp       109  "
      ]
     },
     "metadata": {},
     "output_type": "display_data"
    }
   ],
   "source": [
    "# Melting data frames\n",
    "# Melting transforms the data frame so that each row is a unique id-variable combination\n",
    "library(\"reshape2\")\n",
    "mtcars$carname <- rownames(mtcars)\n",
    "carMelt <- melt(mtcars,id=c(\"carname\",\"gear\",\"cyl\"),measure.vars=c(\"mpg\",\"hp\"))\n",
    "head(carMelt,n=3)\n",
    "tail(carMelt,n=3)"
   ]
  },
  {
   "cell_type": "code",
   "execution_count": 39,
   "metadata": {},
   "outputs": [
    {
     "name": "stderr",
     "output_type": "stream",
     "text": [
      "Aggregation function missing: defaulting to length\n"
     ]
    },
    {
     "data": {
      "text/html": [
       "<table>\n",
       "<thead><tr><th scope=col>cyl</th><th scope=col>mpg</th><th scope=col>hp</th></tr></thead>\n",
       "<tbody>\n",
       "\t<tr><td>4 </td><td>11</td><td>11</td></tr>\n",
       "\t<tr><td>6 </td><td> 7</td><td> 7</td></tr>\n",
       "\t<tr><td>8 </td><td>14</td><td>14</td></tr>\n",
       "</tbody>\n",
       "</table>\n"
      ],
      "text/latex": [
       "\\begin{tabular}{r|lll}\n",
       " cyl & mpg & hp\\\\\n",
       "\\hline\n",
       "\t 4  & 11 & 11\\\\\n",
       "\t 6  &  7 &  7\\\\\n",
       "\t 8  & 14 & 14\\\\\n",
       "\\end{tabular}\n"
      ],
      "text/markdown": [
       "\n",
       "cyl | mpg | hp | \n",
       "|---|---|---|\n",
       "| 4  | 11 | 11 | \n",
       "| 6  |  7 |  7 | \n",
       "| 8  | 14 | 14 | \n",
       "\n",
       "\n"
      ],
      "text/plain": [
       "  cyl mpg hp\n",
       "1 4   11  11\n",
       "2 6    7   7\n",
       "3 8   14  14"
      ]
     },
     "metadata": {},
     "output_type": "display_data"
    }
   ],
   "source": [
    "# reshape the data frame to have number of cylinders as row and other variables in columns\n",
    "# summarize data set with length as aggregate function\n",
    "cylData <- dcast(carMelt, cyl ~ variable)\n",
    "cylData"
   ]
  },
  {
   "cell_type": "code",
   "execution_count": 40,
   "metadata": {},
   "outputs": [
    {
     "data": {
      "text/html": [
       "<table>\n",
       "<thead><tr><th scope=col>cyl</th><th scope=col>mpg</th><th scope=col>hp</th></tr></thead>\n",
       "<tbody>\n",
       "\t<tr><td>4        </td><td>26.66364 </td><td> 82.63636</td></tr>\n",
       "\t<tr><td>6        </td><td>19.74286 </td><td>122.28571</td></tr>\n",
       "\t<tr><td>8        </td><td>15.10000 </td><td>209.21429</td></tr>\n",
       "</tbody>\n",
       "</table>\n"
      ],
      "text/latex": [
       "\\begin{tabular}{r|lll}\n",
       " cyl & mpg & hp\\\\\n",
       "\\hline\n",
       "\t 4         & 26.66364  &  82.63636\\\\\n",
       "\t 6         & 19.74286  & 122.28571\\\\\n",
       "\t 8         & 15.10000  & 209.21429\\\\\n",
       "\\end{tabular}\n"
      ],
      "text/markdown": [
       "\n",
       "cyl | mpg | hp | \n",
       "|---|---|---|\n",
       "| 4         | 26.66364  |  82.63636 | \n",
       "| 6         | 19.74286  | 122.28571 | \n",
       "| 8         | 15.10000  | 209.21429 | \n",
       "\n",
       "\n"
      ],
      "text/plain": [
       "  cyl mpg      hp       \n",
       "1 4   26.66364  82.63636\n",
       "2 6   19.74286 122.28571\n",
       "3 8   15.10000 209.21429"
      ]
     },
     "metadata": {},
     "output_type": "display_data"
    }
   ],
   "source": [
    "cylData <- dcast(carMelt, cyl ~ variable, mean)\n",
    "cylData"
   ]
  },
  {
   "cell_type": "code",
   "execution_count": 41,
   "metadata": {},
   "outputs": [
    {
     "data": {
      "text/html": [
       "<table>\n",
       "<thead><tr><th scope=col>count</th><th scope=col>spray</th></tr></thead>\n",
       "<tbody>\n",
       "\t<tr><td>10</td><td>A </td></tr>\n",
       "\t<tr><td> 7</td><td>A </td></tr>\n",
       "\t<tr><td>20</td><td>A </td></tr>\n",
       "\t<tr><td>14</td><td>A </td></tr>\n",
       "\t<tr><td>14</td><td>A </td></tr>\n",
       "\t<tr><td>12</td><td>A </td></tr>\n",
       "</tbody>\n",
       "</table>\n"
      ],
      "text/latex": [
       "\\begin{tabular}{r|ll}\n",
       " count & spray\\\\\n",
       "\\hline\n",
       "\t 10 & A \\\\\n",
       "\t  7 & A \\\\\n",
       "\t 20 & A \\\\\n",
       "\t 14 & A \\\\\n",
       "\t 14 & A \\\\\n",
       "\t 12 & A \\\\\n",
       "\\end{tabular}\n"
      ],
      "text/markdown": [
       "\n",
       "count | spray | \n",
       "|---|---|---|---|---|---|\n",
       "| 10 | A  | \n",
       "|  7 | A  | \n",
       "| 20 | A  | \n",
       "| 14 | A  | \n",
       "| 14 | A  | \n",
       "| 12 | A  | \n",
       "\n",
       "\n"
      ],
      "text/plain": [
       "  count spray\n",
       "1 10    A    \n",
       "2  7    A    \n",
       "3 20    A    \n",
       "4 14    A    \n",
       "5 14    A    \n",
       "6 12    A    "
      ]
     },
     "metadata": {},
     "output_type": "display_data"
    }
   ],
   "source": [
    "head(InsectSprays)"
   ]
  },
  {
   "cell_type": "code",
   "execution_count": null,
   "metadata": {},
   "outputs": [],
   "source": [
    "# apply aggregation function 'sum' to the column 'count', along the index 'spray'\n",
    "tapply(InsectSprays$count,InsectSprays$spray,sum)"
   ]
  },
  {
   "cell_type": "code",
   "execution_count": null,
   "metadata": {},
   "outputs": [],
   "source": [
    "# alternative method for applying an aggregation to columns based on index: split-apply-combine\n",
    "\n",
    "# split method 1\n",
    "spIns = split(InsectSprays$count, InsectSprays$spray)\n",
    "# output is a list of lists - each list contains counts for that specific spray\n",
    "spIns\n",
    "\n",
    "# apply method 1\n",
    "# apply the function 'sum' across all the elements of each list\n",
    "sprCount = lapply(spIns, sum)\n",
    "sprCount\n",
    "\n",
    "# combine method 1\n",
    "#transform the list back to a vector\n",
    "unlist(sprCount)\n",
    "\n",
    "# apply + combine method 2\n",
    "sapply(spIns,sum)"
   ]
  },
  {
   "cell_type": "code",
   "execution_count": null,
   "metadata": {},
   "outputs": [],
   "source": [
    "# another method for applying an aggregation to columns based on index -- plyr package\n",
    "library(plyr)\n",
    "# variables to summarize are listed as the second parameter between .()\n",
    "ddply(InsectSprays,.(spray),summarize,sum=sum(count))"
   ]
  },
  {
   "cell_type": "code",
   "execution_count": null,
   "metadata": {},
   "outputs": [],
   "source": [
    "# creating a new variable/column\n",
    "# want to summarize the counts by summing them up\n",
    "# using the ave function applied to count, where the summary function is sum???\n",
    "# this essentially creates a new variable that contains the total sum for a given 'spray' variable, in every row where that spray occurs\n",
    "spraySums <- ddply(InsectSprays,.(spray),summarize,sum=ave(count,FUN=sum))\n",
    "dim(spraySums)"
   ]
  },
  {
   "cell_type": "code",
   "execution_count": null,
   "metadata": {},
   "outputs": [],
   "source": [
    "# Other\n",
    "# acast - casting multi-dimensional arrays\n",
    "# arrange - for faster reorder w/o using order() commands\n",
    "# mutate - adding new variables"
   ]
  },
  {
   "cell_type": "markdown",
   "metadata": {},
   "source": [
    "## Managing Data Frames with dplyr"
   ]
  },
  {
   "cell_type": "markdown",
   "metadata": {},
   "source": [
    "## Merging Data"
   ]
  },
  {
   "cell_type": "markdown",
   "metadata": {},
   "source": [
    "# Quiz"
   ]
  },
  {
   "cell_type": "markdown",
   "metadata": {},
   "source": [
    "# Assigngment"
   ]
  },
  {
   "cell_type": "code",
   "execution_count": null,
   "metadata": {},
   "outputs": [],
   "source": []
  }
 ],
 "metadata": {
  "kernelspec": {
   "display_name": "R",
   "language": "R",
   "name": "ir"
  },
  "language_info": {
   "codemirror_mode": "r",
   "file_extension": ".r",
   "mimetype": "text/x-r-source",
   "name": "R",
   "pygments_lexer": "r",
   "version": "3.5.1"
  }
 },
 "nbformat": 4,
 "nbformat_minor": 2
}
