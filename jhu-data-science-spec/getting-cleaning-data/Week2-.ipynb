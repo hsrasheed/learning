{
 "cells": [
  {
   "cell_type": "markdown",
   "metadata": {},
   "source": [
    "Register an application with the Github API here https://github.com/settings/applications. Access the API to get information on your instructors repositories (hint: this is the url you want \"https://api.github.com/users/jtleek/repos\"). Use this data to find the time that the datasharing repo was created. What time was it created?\n",
    "\n",
    "This tutorial may be useful (https://github.com/hadley/httr/blob/master/demo/oauth2-github.r). You may also need to run the code in the base R package and not R studio."
   ]
  },
  {
   "cell_type": "markdown",
   "metadata": {},
   "source": [
    "Proceed to: https://github.com/settings/applications/new\n",
    "\n",
    "Client ID: 1606073bf58ad17c6662\n",
    "\n",
    "Client Secret: 8e7587f1f52cfdaf9708afe85e426f36cb48d30c"
   ]
  },
  {
   "cell_type": "code",
   "execution_count": 6,
   "metadata": {},
   "outputs": [
    {
     "data": {
      "text/plain": [
       "<oauth_endpoint>\n",
       " authorize: https://github.com/login/oauth/authorize\n",
       " access:    https://github.com/login/oauth/access_token"
      ]
     },
     "metadata": {},
     "output_type": "display_data"
    },
    {
     "name": "stderr",
     "output_type": "stream",
     "text": [
      "Waiting for authentication in browser...\n",
      "Press Esc/Ctrl + C to abort\n",
      "Please point your browser to the following url: \n",
      "https://github.com/login/oauth/authorize?client_id=1606073bf58ad17c6662&redirect_uri=http%3A%2F%2Flocalhost%3A1410%2F&response_type=code&state=nPRKPCjOcL\n",
      "Authentication complete.\n"
     ]
    }
   ],
   "source": [
    "library(httr)\n",
    "\n",
    "# 1. Find OAuth settings for github:\n",
    "#    http://developer.github.com/v3/oauth/\n",
    "oauth_endpoints(\"github\")\n",
    "\n",
    "# 2. To make your own application, register at\n",
    "#    https://github.com/settings/developers. Use any URL for the homepage URL\n",
    "#    (http://github.com is fine) and  http://localhost:1410 as the callback url\n",
    "#\n",
    "#    Replace your key and secret below.\n",
    "myapp <- oauth_app(\"github\",\n",
    "  key = \"1606073bf58ad17c6662\",\n",
    "  secret = \"8e7587f1f52cfdaf9708afe85e426f36cb48d30c\"\n",
    ")\n",
    "\n",
    "# 3. Get OAuth credentials\n",
    "github_token <- oauth2.0_token(oauth_endpoints(\"github\"), myapp)\n",
    "\n",
    "# 4. Use API\n",
    "gtoken <- config(token = github_token)\n",
    "req <- GET(\"https://api.github.com/users/jtleek/repos\", gtoken)\n",
    "stop_for_status(req)\n",
    "json_content <- content(req)\n",
    "\n",
    "# OR:\n",
    "#req <- with_config(gtoken, GET(\"https://api.github.com/rate_limit\"))\n",
    "#stop_for_status(req)\n",
    "#content(req)"
   ]
  },
  {
   "cell_type": "code",
   "execution_count": 15,
   "metadata": {},
   "outputs": [
    {
     "data": {
      "text/html": [
       "'response'"
      ],
      "text/latex": [
       "'response'"
      ],
      "text/markdown": [
       "'response'"
      ],
      "text/plain": [
       "[1] \"response\""
      ]
     },
     "metadata": {},
     "output_type": "display_data"
    }
   ],
   "source": [
    "class(req)"
   ]
  },
  {
   "cell_type": "code",
   "execution_count": 25,
   "metadata": {},
   "outputs": [
    {
     "data": {
      "text/html": [
       "<table>\n",
       "<thead><tr><th scope=col>name</th><th scope=col>full_name</th><th scope=col>created_at</th></tr></thead>\n",
       "<tbody>\n",
       "\t<tr><td>2018                </td><td>jtleek/2018         </td><td>2018-10-31T13:50:37Z</td></tr>\n",
       "\t<tr><td>advdatasci          </td><td>jtleek/advdatasci   </td><td>2017-08-25T10:38:16Z</td></tr>\n",
       "\t<tr><td>advdatasci-project       </td><td>jtleek/advdatasci-project</td><td>2017-11-20T18:33:29Z     </td></tr>\n",
       "\t<tr><td>advdatasci-swirl       </td><td>jtleek/advdatasci-swirl</td><td>2015-12-07T17:43:53Z   </td></tr>\n",
       "\t<tr><td>advdatasci15        </td><td>jtleek/advdatasci15 </td><td>2015-08-30T22:27:26Z</td></tr>\n",
       "\t<tr><td>advdatasci16        </td><td>jtleek/advdatasci16 </td><td>2016-08-17T16:08:20Z</td></tr>\n",
       "\t<tr><td>advdatasci_swirl       </td><td>jtleek/advdatasci_swirl</td><td>2016-08-24T00:44:35Z   </td></tr>\n",
       "\t<tr><td>ballgown            </td><td>jtleek/ballgown     </td><td>2013-08-28T18:18:50Z</td></tr>\n",
       "\t<tr><td>bookdown-start       </td><td>jtleek/bookdown-start</td><td>2016-11-30T02:05:00Z </td></tr>\n",
       "\t<tr><td>capitalIn21stCenturyinR       </td><td>jtleek/capitalIn21stCenturyinR</td><td>2014-05-27T20:38:31Z          </td></tr>\n",
       "\t<tr><td>careerplanning       </td><td>jtleek/careerplanning</td><td>2015-05-28T12:37:04Z </td></tr>\n",
       "\t<tr><td>crsra               </td><td>jtleek/crsra        </td><td>2018-06-04T12:29:13Z</td></tr>\n",
       "\t<tr><td>cshlcg-labs         </td><td>jtleek/cshlcg-labs  </td><td>2017-11-30T10:41:31Z</td></tr>\n",
       "\t<tr><td>dataanalysis        </td><td>jtleek/dataanalysis </td><td>2013-01-22T12:16:41Z</td></tr>\n",
       "\t<tr><td>datascientist       </td><td>jtleek/datascientist</td><td>2012-06-24T14:36:20Z</td></tr>\n",
       "\t<tr><td>datasharing         </td><td>jtleek/datasharing  </td><td>2013-11-07T13:25:07Z</td></tr>\n",
       "\t<tr><td>datawomenontwitter       </td><td>jtleek/datawomenontwitter</td><td>2014-09-09T15:49:57Z     </td></tr>\n",
       "\t<tr><td>day1                </td><td>jtleek/day1         </td><td>2017-07-10T21:44:28Z</td></tr>\n",
       "\t<tr><td>derfinder           </td><td>jtleek/derfinder    </td><td>2013-07-20T16:05:59Z</td></tr>\n",
       "\t<tr><td>derfinder-1         </td><td>jtleek/derfinder-1  </td><td>2013-11-08T18:16:27Z</td></tr>\n",
       "</tbody>\n",
       "</table>\n"
      ],
      "text/latex": [
       "\\begin{tabular}{r|lll}\n",
       " name & full\\_name & created\\_at\\\\\n",
       "\\hline\n",
       "\t 2018                 & jtleek/2018          & 2018-10-31T13:50:37Z\\\\\n",
       "\t advdatasci           & jtleek/advdatasci    & 2017-08-25T10:38:16Z\\\\\n",
       "\t advdatasci-project        & jtleek/advdatasci-project & 2017-11-20T18:33:29Z     \\\\\n",
       "\t advdatasci-swirl        & jtleek/advdatasci-swirl & 2015-12-07T17:43:53Z   \\\\\n",
       "\t advdatasci15         & jtleek/advdatasci15  & 2015-08-30T22:27:26Z\\\\\n",
       "\t advdatasci16         & jtleek/advdatasci16  & 2016-08-17T16:08:20Z\\\\\n",
       "\t advdatasci\\_swirl        & jtleek/advdatasci\\_swirl & 2016-08-24T00:44:35Z     \\\\\n",
       "\t ballgown             & jtleek/ballgown      & 2013-08-28T18:18:50Z\\\\\n",
       "\t bookdown-start        & jtleek/bookdown-start & 2016-11-30T02:05:00Z \\\\\n",
       "\t capitalIn21stCenturyinR        & jtleek/capitalIn21stCenturyinR & 2014-05-27T20:38:31Z          \\\\\n",
       "\t careerplanning        & jtleek/careerplanning & 2015-05-28T12:37:04Z \\\\\n",
       "\t crsra                & jtleek/crsra         & 2018-06-04T12:29:13Z\\\\\n",
       "\t cshlcg-labs          & jtleek/cshlcg-labs   & 2017-11-30T10:41:31Z\\\\\n",
       "\t dataanalysis         & jtleek/dataanalysis  & 2013-01-22T12:16:41Z\\\\\n",
       "\t datascientist        & jtleek/datascientist & 2012-06-24T14:36:20Z\\\\\n",
       "\t datasharing          & jtleek/datasharing   & 2013-11-07T13:25:07Z\\\\\n",
       "\t datawomenontwitter        & jtleek/datawomenontwitter & 2014-09-09T15:49:57Z     \\\\\n",
       "\t day1                 & jtleek/day1          & 2017-07-10T21:44:28Z\\\\\n",
       "\t derfinder            & jtleek/derfinder     & 2013-07-20T16:05:59Z\\\\\n",
       "\t derfinder-1          & jtleek/derfinder-1   & 2013-11-08T18:16:27Z\\\\\n",
       "\\end{tabular}\n"
      ],
      "text/markdown": [
       "\n",
       "name | full_name | created_at | \n",
       "|---|---|---|---|---|---|---|---|---|---|---|---|---|---|---|---|---|---|---|---|\n",
       "| 2018                 | jtleek/2018          | 2018-10-31T13:50:37Z | \n",
       "| advdatasci           | jtleek/advdatasci    | 2017-08-25T10:38:16Z | \n",
       "| advdatasci-project        | jtleek/advdatasci-project | 2017-11-20T18:33:29Z      | \n",
       "| advdatasci-swirl        | jtleek/advdatasci-swirl | 2015-12-07T17:43:53Z    | \n",
       "| advdatasci15         | jtleek/advdatasci15  | 2015-08-30T22:27:26Z | \n",
       "| advdatasci16         | jtleek/advdatasci16  | 2016-08-17T16:08:20Z | \n",
       "| advdatasci_swirl        | jtleek/advdatasci_swirl | 2016-08-24T00:44:35Z    | \n",
       "| ballgown             | jtleek/ballgown      | 2013-08-28T18:18:50Z | \n",
       "| bookdown-start        | jtleek/bookdown-start | 2016-11-30T02:05:00Z  | \n",
       "| capitalIn21stCenturyinR        | jtleek/capitalIn21stCenturyinR | 2014-05-27T20:38:31Z           | \n",
       "| careerplanning        | jtleek/careerplanning | 2015-05-28T12:37:04Z  | \n",
       "| crsra                | jtleek/crsra         | 2018-06-04T12:29:13Z | \n",
       "| cshlcg-labs          | jtleek/cshlcg-labs   | 2017-11-30T10:41:31Z | \n",
       "| dataanalysis         | jtleek/dataanalysis  | 2013-01-22T12:16:41Z | \n",
       "| datascientist        | jtleek/datascientist | 2012-06-24T14:36:20Z | \n",
       "| datasharing          | jtleek/datasharing   | 2013-11-07T13:25:07Z | \n",
       "| datawomenontwitter        | jtleek/datawomenontwitter | 2014-09-09T15:49:57Z      | \n",
       "| day1                 | jtleek/day1          | 2017-07-10T21:44:28Z | \n",
       "| derfinder            | jtleek/derfinder     | 2013-07-20T16:05:59Z | \n",
       "| derfinder-1          | jtleek/derfinder-1   | 2013-11-08T18:16:27Z | \n",
       "\n",
       "\n"
      ],
      "text/plain": [
       "   name                    full_name                      created_at          \n",
       "1  2018                    jtleek/2018                    2018-10-31T13:50:37Z\n",
       "2  advdatasci              jtleek/advdatasci              2017-08-25T10:38:16Z\n",
       "3  advdatasci-project      jtleek/advdatasci-project      2017-11-20T18:33:29Z\n",
       "4  advdatasci-swirl        jtleek/advdatasci-swirl        2015-12-07T17:43:53Z\n",
       "5  advdatasci15            jtleek/advdatasci15            2015-08-30T22:27:26Z\n",
       "6  advdatasci16            jtleek/advdatasci16            2016-08-17T16:08:20Z\n",
       "7  advdatasci_swirl        jtleek/advdatasci_swirl        2016-08-24T00:44:35Z\n",
       "8  ballgown                jtleek/ballgown                2013-08-28T18:18:50Z\n",
       "9  bookdown-start          jtleek/bookdown-start          2016-11-30T02:05:00Z\n",
       "10 capitalIn21stCenturyinR jtleek/capitalIn21stCenturyinR 2014-05-27T20:38:31Z\n",
       "11 careerplanning          jtleek/careerplanning          2015-05-28T12:37:04Z\n",
       "12 crsra                   jtleek/crsra                   2018-06-04T12:29:13Z\n",
       "13 cshlcg-labs             jtleek/cshlcg-labs             2017-11-30T10:41:31Z\n",
       "14 dataanalysis            jtleek/dataanalysis            2013-01-22T12:16:41Z\n",
       "15 datascientist           jtleek/datascientist           2012-06-24T14:36:20Z\n",
       "16 datasharing             jtleek/datasharing             2013-11-07T13:25:07Z\n",
       "17 datawomenontwitter      jtleek/datawomenontwitter      2014-09-09T15:49:57Z\n",
       "18 day1                    jtleek/day1                    2017-07-10T21:44:28Z\n",
       "19 derfinder               jtleek/derfinder               2013-07-20T16:05:59Z\n",
       "20 derfinder-1             jtleek/derfinder-1             2013-11-08T18:16:27Z"
      ]
     },
     "metadata": {},
     "output_type": "display_data"
    }
   ],
   "source": [
    "library('jsonlite')\n",
    "json1 = content(req)\n",
    "json2 = jsonlite::fromJSON(toJSON(json1))\n",
    "json2[1:20,c('name','full_name','created_at')]"
   ]
  },
  {
   "cell_type": "code",
   "execution_count": null,
   "metadata": {},
   "outputs": [],
   "source": [
    "names(json2)"
   ]
  },
  {
   "cell_type": "code",
   "execution_count": null,
   "metadata": {},
   "outputs": [],
   "source": [
    "json2[1,1:4]\n",
    "str(json2)"
   ]
  },
  {
   "cell_type": "markdown",
   "metadata": {},
   "source": [
    "The sqldf package allows for execution of SQL commands on R data frames. We will use the sqldf package to practice the queries we might send with the dbSendQuery command in RMySQL.\n",
    "\n",
    "Download the American Community Survey data and load it into an R object called\n",
    "\n",
    "https://d396qusza40orc.cloudfront.net/getdata%2Fdata%2Fss06pid.csv\n",
    "\n",
    "Which of the following commands will select only the data for the probability weights pwgtp1 with ages less than 50?"
   ]
  },
  {
   "cell_type": "markdown",
   "metadata": {},
   "source": [
    "Using the same data frame you created in the previous problem, what is the equivalent function to unique(acs$AGEP)"
   ]
  },
  {
   "cell_type": "code",
   "execution_count": null,
   "metadata": {},
   "outputs": [],
   "source": []
  },
  {
   "cell_type": "markdown",
   "metadata": {},
   "source": [
    "How many characters are in the 10th, 20th, 30th and 100th lines of HTML from this page:\n",
    "\n",
    "http://biostat.jhsph.edu/~jleek/contact.html\n",
    "\n",
    "(Hint: the nchar() function in R may be helpful)"
   ]
  },
  {
   "cell_type": "code",
   "execution_count": 40,
   "metadata": {},
   "outputs": [
    {
     "data": {
      "text/html": [
       "'character'"
      ],
      "text/latex": [
       "'character'"
      ],
      "text/markdown": [
       "'character'"
      ],
      "text/plain": [
       "[1] \"character\""
      ]
     },
     "metadata": {},
     "output_type": "display_data"
    }
   ],
   "source": [
    "con = url(\"http://biostat.jhsph.edu/~jleek/contact.html\")\n",
    "htmlCode = readLines(con)\n",
    "close(con)\n",
    "class(htmlCode)"
   ]
  },
  {
   "cell_type": "code",
   "execution_count": 42,
   "metadata": {},
   "outputs": [],
   "source": [
    "my_df <- data.frame(htmlCode)"
   ]
  },
  {
   "cell_type": "code",
   "execution_count": 59,
   "metadata": {},
   "outputs": [
    {
     "data": {
      "text/html": [
       "'&lt;meta name=\"Distribution\" content=\"Global\" /&gt;'"
      ],
      "text/latex": [
       "'<meta name=\"Distribution\" content=\"Global\" />'"
      ],
      "text/markdown": [
       "'&lt;meta name=\"Distribution\" content=\"Global\" /&gt;'"
      ],
      "text/plain": [
       "[1] \"<meta name=\\\"Distribution\\\" content=\\\"Global\\\" />\""
      ]
     },
     "metadata": {},
     "output_type": "display_data"
    },
    {
     "data": {
      "text/html": [
       "45"
      ],
      "text/latex": [
       "45"
      ],
      "text/markdown": [
       "45"
      ],
      "text/plain": [
       "[1] 45"
      ]
     },
     "metadata": {},
     "output_type": "display_data"
    },
    {
     "data": {
      "text/html": [
       "'&lt;script type=\"text/javascript\"&gt;'"
      ],
      "text/latex": [
       "'<script type=\"text/javascript\">'"
      ],
      "text/markdown": [
       "'&lt;script type=\"text/javascript\"&gt;'"
      ],
      "text/plain": [
       "[1] \"<script type=\\\"text/javascript\\\">\""
      ]
     },
     "metadata": {},
     "output_type": "display_data"
    },
    {
     "data": {
      "text/html": [
       "31"
      ],
      "text/latex": [
       "31"
      ],
      "text/markdown": [
       "31"
      ],
      "text/plain": [
       "[1] 31"
      ]
     },
     "metadata": {},
     "output_type": "display_data"
    },
    {
     "data": {
      "text/html": [
       "<span style=white-space:pre-wrap>'  })();'</span>"
      ],
      "text/latex": [
       "'  \\})();'"
      ],
      "text/markdown": [
       "<span style=white-space:pre-wrap>'  })();'</span>"
      ],
      "text/plain": [
       "[1] \"  })();\""
      ]
     },
     "metadata": {},
     "output_type": "display_data"
    },
    {
     "data": {
      "text/html": [
       "7"
      ],
      "text/latex": [
       "7"
      ],
      "text/markdown": [
       "7"
      ],
      "text/plain": [
       "[1] 7"
      ]
     },
     "metadata": {},
     "output_type": "display_data"
    },
    {
     "data": {
      "text/html": [
       "'\\t\\t\\t\\t&lt;ul class=\"sidemenu\"&gt;'"
      ],
      "text/latex": [
       "'\\textbackslash{}t\\textbackslash{}t\\textbackslash{}t\\textbackslash{}t<ul class=\"sidemenu\">'"
      ],
      "text/markdown": [
       "'\\t\\t\\t\\t&lt;ul class=\"sidemenu\"&gt;'"
      ],
      "text/plain": [
       "[1] \"\\t\\t\\t\\t<ul class=\\\"sidemenu\\\">\""
      ]
     },
     "metadata": {},
     "output_type": "display_data"
    },
    {
     "data": {
      "text/html": [
       "25"
      ],
      "text/latex": [
       "25"
      ],
      "text/markdown": [
       "25"
      ],
      "text/plain": [
       "[1] 25"
      ]
     },
     "metadata": {},
     "output_type": "display_data"
    }
   ],
   "source": [
    "as.character(my_df[10,1])\n",
    "nchar(as.character(my_df[10,1]))\n",
    "\n",
    "as.character(my_df[20,1])\n",
    "nchar(as.character(my_df[20,1]))\n",
    "\n",
    "as.character(my_df[30,1])\n",
    "nchar(as.character(my_df[30,1]))\n",
    "\n",
    "as.character(my_df[100,1])\n",
    "nchar(as.character(my_df[100,1]))"
   ]
  },
  {
   "cell_type": "markdown",
   "metadata": {},
   "source": [
    "Read this data set into R and report the sum of the numbers in the fourth of the nine columns.\n",
    "\n",
    "https://d396qusza40orc.cloudfront.net/getdata%2Fwksst8110.for\n",
    "\n",
    "Original source of the data: http://www.cpc.ncep.noaa.gov/data/indices/wksst8110.for\n",
    "\n",
    "(Hint this is a fixed width file format)"
   ]
  },
  {
   "cell_type": "code",
   "execution_count": 88,
   "metadata": {},
   "outputs": [
    {
     "name": "stderr",
     "output_type": "stream",
     "text": [
      "Parsed with column specification:\n",
      "cols(\n",
      "  X1 = col_character(),\n",
      "  X2 = col_double(),\n",
      "  X3 = col_double(),\n",
      "  X4 = col_double(),\n",
      "  X5 = col_double(),\n",
      "  X6 = col_double(),\n",
      "  X7 = col_double()\n",
      ")\n"
     ]
    }
   ],
   "source": [
    "library(readr)\n",
    "\n",
    "dt <- read_fwf(\n",
    "  file=\"getdata_wksst8110.for\",   \n",
    "  skip=2,\n",
    "  fwf_widths(c(14, 5, 4, 9, 4, 9, 4)))\n",
    "#dt <- read.table(\"getdata_wksst8110.for\")\n",
    "dt <- as.data.frame(dt)"
   ]
  },
  {
   "cell_type": "code",
   "execution_count": 89,
   "metadata": {},
   "outputs": [
    {
     "data": {
      "text/html": [
       "<table>\n",
       "<thead><tr><th scope=col>X1</th><th scope=col>X2</th><th scope=col>X3</th><th scope=col>X4</th><th scope=col>X5</th><th scope=col>X6</th><th scope=col>X7</th></tr></thead>\n",
       "<tbody>\n",
       "\t<tr><td>03JAN1990</td><td>23.4     </td><td>-0.4     </td><td>25.1     </td><td>-0.3     </td><td>26.6     </td><td> 0.0     </td></tr>\n",
       "\t<tr><td>10JAN1990</td><td>23.4     </td><td>-0.8     </td><td>25.2     </td><td>-0.3     </td><td>26.6     </td><td> 0.1     </td></tr>\n",
       "\t<tr><td>17JAN1990</td><td>24.2     </td><td>-0.3     </td><td>25.3     </td><td>-0.3     </td><td>26.5     </td><td>-0.1     </td></tr>\n",
       "\t<tr><td>24JAN1990</td><td>24.4     </td><td>-0.5     </td><td>25.5     </td><td>-0.4     </td><td>26.5     </td><td>-0.1     </td></tr>\n",
       "\t<tr><td>31JAN1990</td><td>25.1     </td><td>-0.2     </td><td>25.8     </td><td>-0.2     </td><td>26.7     </td><td> 0.1     </td></tr>\n",
       "\t<tr><td>07FEB1990</td><td>25.8     </td><td> 0.2     </td><td>26.1     </td><td>-0.1     </td><td>26.8     </td><td> 0.1     </td></tr>\n",
       "</tbody>\n",
       "</table>\n"
      ],
      "text/latex": [
       "\\begin{tabular}{r|lllllll}\n",
       " X1 & X2 & X3 & X4 & X5 & X6 & X7\\\\\n",
       "\\hline\n",
       "\t 03JAN1990 & 23.4      & -0.4      & 25.1      & -0.3      & 26.6      &  0.0     \\\\\n",
       "\t 10JAN1990 & 23.4      & -0.8      & 25.2      & -0.3      & 26.6      &  0.1     \\\\\n",
       "\t 17JAN1990 & 24.2      & -0.3      & 25.3      & -0.3      & 26.5      & -0.1     \\\\\n",
       "\t 24JAN1990 & 24.4      & -0.5      & 25.5      & -0.4      & 26.5      & -0.1     \\\\\n",
       "\t 31JAN1990 & 25.1      & -0.2      & 25.8      & -0.2      & 26.7      &  0.1     \\\\\n",
       "\t 07FEB1990 & 25.8      &  0.2      & 26.1      & -0.1      & 26.8      &  0.1     \\\\\n",
       "\\end{tabular}\n"
      ],
      "text/markdown": [
       "\n",
       "X1 | X2 | X3 | X4 | X5 | X6 | X7 | \n",
       "|---|---|---|---|---|---|\n",
       "| 03JAN1990 | 23.4      | -0.4      | 25.1      | -0.3      | 26.6      |  0.0      | \n",
       "| 10JAN1990 | 23.4      | -0.8      | 25.2      | -0.3      | 26.6      |  0.1      | \n",
       "| 17JAN1990 | 24.2      | -0.3      | 25.3      | -0.3      | 26.5      | -0.1      | \n",
       "| 24JAN1990 | 24.4      | -0.5      | 25.5      | -0.4      | 26.5      | -0.1      | \n",
       "| 31JAN1990 | 25.1      | -0.2      | 25.8      | -0.2      | 26.7      |  0.1      | \n",
       "| 07FEB1990 | 25.8      |  0.2      | 26.1      | -0.1      | 26.8      |  0.1      | \n",
       "\n",
       "\n"
      ],
      "text/plain": [
       "  X1        X2   X3   X4   X5   X6   X7  \n",
       "1 03JAN1990 23.4 -0.4 25.1 -0.3 26.6  0.0\n",
       "2 10JAN1990 23.4 -0.8 25.2 -0.3 26.6  0.1\n",
       "3 17JAN1990 24.2 -0.3 25.3 -0.3 26.5 -0.1\n",
       "4 24JAN1990 24.4 -0.5 25.5 -0.4 26.5 -0.1\n",
       "5 31JAN1990 25.1 -0.2 25.8 -0.2 26.7  0.1\n",
       "6 07FEB1990 25.8  0.2 26.1 -0.1 26.8  0.1"
      ]
     },
     "metadata": {},
     "output_type": "display_data"
    },
    {
     "name": "stdout",
     "output_type": "stream",
     "text": [
      "'data.frame':\t1254 obs. of  7 variables:\n",
      " $ X1: chr  \"03JAN1990\" \"10JAN1990\" \"17JAN1990\" \"24JAN1990\" ...\n",
      " $ X2: num  23.4 23.4 24.2 24.4 25.1 25.8 25.9 26.1 26.1 26.7 ...\n",
      " $ X3: num  -0.4 -0.8 -0.3 -0.5 -0.2 0.2 -0.1 -0.1 -0.2 0.3 ...\n",
      " $ X4: num  25.1 25.2 25.3 25.5 25.8 26.1 26.4 26.7 26.7 26.7 ...\n",
      " $ X5: num  -0.3 -0.3 -0.3 -0.4 -0.2 -0.1 0 0.2 -0.1 -0.2 ...\n",
      " $ X6: num  26.6 26.6 26.5 26.5 26.7 26.8 26.9 27.1 27.2 27.3 ...\n",
      " $ X7: num  0 0.1 -0.1 -0.1 0.1 0.1 0.2 0.3 0.3 0.2 ...\n",
      " - attr(*, \"spec\")=List of 2\n",
      "  ..$ cols   :List of 7\n",
      "  .. ..$ X1: list()\n",
      "  .. .. ..- attr(*, \"class\")= chr  \"collector_character\" \"collector\"\n",
      "  .. ..$ X2: list()\n",
      "  .. .. ..- attr(*, \"class\")= chr  \"collector_double\" \"collector\"\n",
      "  .. ..$ X3: list()\n",
      "  .. .. ..- attr(*, \"class\")= chr  \"collector_double\" \"collector\"\n",
      "  .. ..$ X4: list()\n",
      "  .. .. ..- attr(*, \"class\")= chr  \"collector_double\" \"collector\"\n",
      "  .. ..$ X5: list()\n",
      "  .. .. ..- attr(*, \"class\")= chr  \"collector_double\" \"collector\"\n",
      "  .. ..$ X6: list()\n",
      "  .. .. ..- attr(*, \"class\")= chr  \"collector_double\" \"collector\"\n",
      "  .. ..$ X7: list()\n",
      "  .. .. ..- attr(*, \"class\")= chr  \"collector_double\" \"collector\"\n",
      "  ..$ default: list()\n",
      "  .. ..- attr(*, \"class\")= chr  \"collector_guess\" \"collector\"\n",
      "  ..- attr(*, \"class\")= chr \"col_spec\"\n"
     ]
    }
   ],
   "source": [
    "head(dt)\n",
    "str(dt)\n",
    "\n",
    "#sum(dt$X7)"
   ]
  },
  {
   "cell_type": "code",
   "execution_count": 87,
   "metadata": {},
   "outputs": [
    {
     "ename": "ERROR",
     "evalue": "Error in eval(expr, envir, enclos): (list) object cannot be coerced to type 'double'\n",
     "execution_count": 87,
     "output_type": "error",
     "traceback": [
      "Error in eval(expr, envir, enclos): (list) object cannot be coerced to type 'double'\nTraceback:\n"
     ]
    }
   ],
   "source": [
    "dt[,7] <- as.double(dt[,7])"
   ]
  },
  {
   "cell_type": "code",
   "execution_count": 91,
   "metadata": {},
   "outputs": [
    {
     "data": {
      "text/html": [
       "32426.7"
      ],
      "text/latex": [
       "32426.7"
      ],
      "text/markdown": [
       "32426.7"
      ],
      "text/plain": [
       "[1] 32426.7"
      ]
     },
     "metadata": {},
     "output_type": "display_data"
    }
   ],
   "source": [
    "sum(dt$X4)"
   ]
  },
  {
   "cell_type": "code",
   "execution_count": null,
   "metadata": {},
   "outputs": [],
   "source": []
  }
 ],
 "metadata": {
  "kernelspec": {
   "display_name": "R",
   "language": "R",
   "name": "ir"
  },
  "language_info": {
   "codemirror_mode": "r",
   "file_extension": ".r",
   "mimetype": "text/x-r-source",
   "name": "R",
   "pygments_lexer": "r",
   "version": "3.5.1"
  }
 },
 "nbformat": 4,
 "nbformat_minor": 2
}
