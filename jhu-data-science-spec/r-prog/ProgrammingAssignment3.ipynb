{
 "cells": [
  {
   "cell_type": "code",
   "execution_count": null,
   "metadata": {},
   "outputs": [],
   "source": [
    "setwd(\"C:\\\\Content\\\\Dev\\\\jhu-data-science-spec\\\\r-prog\")\n",
    "outcome_df <- read.csv(\"assignment3/outcome-of-care-measures.csv\", colClasses = \"character\")\n",
    "str(outcome_df)\n",
    "outcome_df[, \"Hospital.30.Day.Death..Mortality..Rates.from.Heart.Attack\"] <- as.numeric(outcome_df[, \"Hospital.30.Day.Death..Mortality..Rates.from.Heart.Attack\"])\n",
    "outcome_df[, \"Hospital.30.Day.Death..Mortality..Rates.from.Heart.Failure\"] <- as.numeric(outcome_df[, \"Hospital.30.Day.Death..Mortality..Rates.from.Heart.Failure\"])\n",
    "outcome_df[, \"Hospital.30.Day.Death..Mortality..Rates.from.Pneumonia\"] <- as.numeric(outcome_df[, \"Hospital.30.Day.Death..Mortality..Rates.from.Pneumonia\"])"
   ]
  },
  {
   "cell_type": "code",
   "execution_count": null,
   "metadata": {},
   "outputs": [],
   "source": [
    "state_outcome[,c(\"Hospital.Name\",\"Hospital.30.Day.Death..Mortality..Rates.from.Heart.Attack\")]"
   ]
  },
  {
   "cell_type": "code",
   "execution_count": 181,
   "metadata": {},
   "outputs": [],
   "source": [
    "colString <- \"Hospital.30.Day.Death..Mortality..Rates.from.Pneumonia\"\n",
    "state_outcome <- outcome_df[ outcome_df[[\"State\"]] == \"NY\", ]\n",
    "state_outcome <- state_outcome[order(state_outcome[,colString],state_outcome[,\"Hospital.Name\"], na.last = NA),]"
   ]
  },
  {
   "cell_type": "code",
   "execution_count": null,
   "metadata": {},
   "outputs": [],
   "source": [
    "# Convert data types and plot a histogram\n",
    "outcome[, 11] <- as.numeric(outcome[, 11])\n",
    "hist(outcome[, 11])"
   ]
  },
  {
   "cell_type": "code",
   "execution_count": 188,
   "metadata": {},
   "outputs": [],
   "source": [
    "best <- function(state, outcome) {\n",
    "## Read outcome data\n",
    "    outcome_df <- read.csv(\"assignment3/outcome-of-care-measures.csv\", colClasses = \"character\")\n",
    "    ##outcome_df[, \"Hospital.30.Day.Death..Mortality..Rates.from.Heart.Attack\"] <- as.numeric(outcome_df[, \"Hospital.30.Day.Death..Mortality..Rates.from.Heart.Attack\"])\n",
    "    ##outcome_df[, \"Hospital.30.Day.Death..Mortality..Rates.from.Heart.Failure\"] <- as.numeric(outcome_df[, \"Hospital.30.Day.Death..Mortality..Rates.from.Heart.Failure\"])\n",
    "    ##outcome_df[, \"Hospital.30.Day.Death..Mortality..Rates.from.Pneumonia\"] <- as.numeric(outcome_df[, \"Hospital.30.Day.Death..Mortality..Rates.from.Pneumonia\"])\n",
    "## Check that state and outcome are valid\n",
    "## Return hospital name in that state with lowest 30-day death\n",
    "    colString <- NULL\n",
    "    if(outcome == \"heart attack\"){\n",
    "        ## column 11 - \"Hospital 30-Day Death (Mortality) Rates from Heart Attack\"\n",
    "        colString = \"Hospital.30.Day.Death..Mortality..Rates.from.Heart.Attack\"\n",
    "        outcome_df[, colString] <- as.numeric(outcome_df[, colString])\n",
    "    }\n",
    "    else if(outcome == \"heart failure\"){\n",
    "        colString = \"Hospital.30.Day.Death..Mortality..Rates.from.Heart.Failure\"\n",
    "        outcome_df[, colString] <- as.numeric(outcome_df[, colString])\n",
    "    }\n",
    "    else if(outcome == \"pneumonia\"){\n",
    "        colString = \"Hospital.30.Day.Death..Mortality..Rates.from.Pneumonia\"\n",
    "        outcome_df[, colString] <- as.numeric(outcome_df[, colString])\n",
    "    }\n",
    "        else{print(\"Unexpected Outcome\")}\n",
    "## rate\n",
    "\n",
    "#state_outcome\n",
    "        state_outcome <- outcome_df[ outcome_df[[\"State\"]] == state, ]\n",
    "        state_outcome <- state_outcome[order(state_outcome[,colString],state_outcome[,\"Hospital.Name\"], na.last = NA),]\n",
    "        #print(state_outcome[1:20,c(\"Hospital.Name\",colString)])\n",
    "        return(state_outcome[1,\"Hospital.Name\"])\n",
    "}"
   ]
  },
  {
   "cell_type": "code",
   "execution_count": 184,
   "metadata": {},
   "outputs": [],
   "source": [
    "rankhospital <- function(state, outcome, num = \"best\") {\n",
    "## Return hospital name in that state with the given rank\n",
    "## 30-day death rate\n",
    "## Read outcome data\n",
    "    outcome_df <- read.csv(\"assignment3/outcome-of-care-measures.csv\", colClasses = \"character\")\n",
    "## Check that state and outcome are valid\n",
    "## Return hospital name in that state with lowest 30-day death\n",
    "    colString <- NULL\n",
    "    rank <- NULL\n",
    "    if(outcome == \"heart attack\"){\n",
    "        ## column 11 - \"Hospital 30-Day Death (Mortality) Rates from Heart Attack\"\n",
    "        colString = \"Hospital.30.Day.Death..Mortality..Rates.from.Heart.Attack\"\n",
    "        outcome_df[, colString] <- as.numeric(outcome_df[, colString])\n",
    "    }\n",
    "    else if(outcome == \"heart failure\"){\n",
    "        colString = \"Hospital.30.Day.Death..Mortality..Rates.from.Heart.Failure\"\n",
    "        outcome_df[, colString] <- as.numeric(outcome_df[, colString])\n",
    "    }\n",
    "    else if(outcome == \"pneumonia\"){\n",
    "        colString = \"Hospital.30.Day.Death..Mortality..Rates.from.Pneumonia\"\n",
    "        outcome_df[, colString] <- as.numeric(outcome_df[, colString])\n",
    "    }\n",
    "## rate\n",
    "\n",
    "#state_outcome\n",
    "        state_outcome <- outcome_df[ outcome_df[[\"State\"]] == state, ]\n",
    "        state_outcome <- state_outcome[order(state_outcome[,colString],state_outcome[,\"Hospital.Name\"], na.last = NA),]\n",
    "        if(num == \"best\"){\n",
    "            rank <- 1\n",
    "        }\n",
    "        else if(num == \"worst\"){\n",
    "            rank <- nrow(state_outcome)\n",
    "        }\n",
    "        else {\n",
    "            rank <- num\n",
    "        }\n",
    "        return(state_outcome[eval(rank),\"Hospital.Name\"])\n",
    "}"
   ]
  },
  {
   "cell_type": "code",
   "execution_count": 185,
   "metadata": {},
   "outputs": [],
   "source": [
    "rankall <- function(outcome, num = \"best\") {\n",
    "## Read outcome data\n",
    "## Check that state and outcome are valid\n",
    "## For each state, find the hospital of the given rank\n",
    "## Return a data frame with the hospital names and the\n",
    "## (abbreviated) state name\n",
    "    outcome_df <- read.csv(\"assignment3/outcome-of-care-measures.csv\", colClasses = \"character\")\n",
    "    colString <- NULL\n",
    "\n",
    "    if(outcome == \"heart attack\"){\n",
    "        ## column 11 - \"Hospital 30-Day Death (Mortality) Rates from Heart Attack\"\n",
    "        colString = \"Hospital.30.Day.Death..Mortality..Rates.from.Heart.Attack\"\n",
    "        outcome_df[, colString] <- as.numeric(outcome_df[, colString])\n",
    "    }\n",
    "    else if(outcome == \"heart failure\"){\n",
    "        colString = \"Hospital.30.Day.Death..Mortality..Rates.from.Heart.Failure\"\n",
    "        outcome_df[, colString] <- as.numeric(outcome_df[, colString])\n",
    "    }\n",
    "    else if(outcome == \"pneumonia\"){\n",
    "        colString = \"Hospital.30.Day.Death..Mortality..Rates.from.Pneumonia\"\n",
    "        outcome_df[, colString] <- as.numeric(outcome_df[, colString])\n",
    "    }\n",
    "        ## rate\n",
    "        all_states <- unique(outcome_df[,7])\n",
    "        #print(all_states[1:5])\n",
    "        all_states_df <- NULL\n",
    "        for(i in 1:length(all_states)){\n",
    "            state <- all_states[i]\n",
    "            #print(state)\n",
    "            rank <- NULL\n",
    "            #state_outcome\n",
    "            state_outcome <- outcome_df[ outcome_df[[\"State\"]] == state, ]\n",
    "            state_outcome <- state_outcome[order(state_outcome[,colString],state_outcome[,\"Hospital.Name\"], na.last = NA),]\n",
    "            \n",
    "            if(num == \"best\"){\n",
    "                rank <- 1\n",
    "            }\n",
    "            else if(num == \"worst\"){\n",
    "                rank <- nrow(state_outcome)\n",
    "            }\n",
    "            else {\n",
    "                rank <- num\n",
    "            }            \n",
    "            \n",
    "            temp_list_df = data.frame(\n",
    "                                        hospital = state_outcome[eval(rank),\"Hospital.Name\"],\n",
    "                                         state = state_outcome[eval(rank),\"State\"]\n",
    "                                     )\n",
    "            #print(temp_list_df)\n",
    "            if(is.null(all_states_df)){\n",
    "                all_states_df <- temp_list_df\n",
    "            }else{\n",
    "                all_states_df <- rbind(all_states_df,temp_list_df)\n",
    "            }\n",
    "            \n",
    "        }\n",
    "\n",
    "        return(all_states_df)    \n",
    "}"
   ]
  },
  {
   "cell_type": "code",
   "execution_count": 100,
   "metadata": {},
   "outputs": [
    {
     "data": {
      "text/html": [
       "4706"
      ],
      "text/latex": [
       "4706"
      ],
      "text/markdown": [
       "4706"
      ],
      "text/plain": [
       "[1] 4706"
      ]
     },
     "metadata": {},
     "output_type": "display_data"
    },
    {
     "data": {
      "text/html": [
       "'MARSHALL MEDICAL CENTER SOUTH'"
      ],
      "text/latex": [
       "'MARSHALL MEDICAL CENTER SOUTH'"
      ],
      "text/markdown": [
       "'MARSHALL MEDICAL CENTER SOUTH'"
      ],
      "text/plain": [
       "[1] \"MARSHALL MEDICAL CENTER SOUTH\""
      ]
     },
     "metadata": {},
     "output_type": "display_data"
    }
   ],
   "source": [
    "# Test Cases\n",
    "nrow(outcome_df)\n",
    "rank <- 2\n",
    "outcome_df[rank,\"Hospital.Name\"]"
   ]
  },
  {
   "cell_type": "code",
   "execution_count": 189,
   "metadata": {},
   "outputs": [
    {
     "name": "stderr",
     "output_type": "stream",
     "text": [
      "Warning message in best(\"SC\", \"heart attack\"):\n",
      "\"NAs introduced by coercion\""
     ]
    },
    {
     "data": {
      "text/html": [
       "'MUSC MEDICAL CENTER'"
      ],
      "text/latex": [
       "'MUSC MEDICAL CENTER'"
      ],
      "text/markdown": [
       "'MUSC MEDICAL CENTER'"
      ],
      "text/plain": [
       "[1] \"MUSC MEDICAL CENTER\""
      ]
     },
     "metadata": {},
     "output_type": "display_data"
    }
   ],
   "source": [
    "best(\"SC\", \"heart attack\")"
   ]
  },
  {
   "cell_type": "code",
   "execution_count": 190,
   "metadata": {},
   "outputs": [
    {
     "name": "stderr",
     "output_type": "stream",
     "text": [
      "Warning message in best(\"NY\", \"pneumonia\"):\n",
      "\"NAs introduced by coercion\""
     ]
    },
    {
     "data": {
      "text/html": [
       "'MAIMONIDES MEDICAL CENTER'"
      ],
      "text/latex": [
       "'MAIMONIDES MEDICAL CENTER'"
      ],
      "text/markdown": [
       "'MAIMONIDES MEDICAL CENTER'"
      ],
      "text/plain": [
       "[1] \"MAIMONIDES MEDICAL CENTER\""
      ]
     },
     "metadata": {},
     "output_type": "display_data"
    }
   ],
   "source": [
    "best(\"NY\", \"pneumonia\")"
   ]
  },
  {
   "cell_type": "code",
   "execution_count": 191,
   "metadata": {},
   "outputs": [
    {
     "name": "stderr",
     "output_type": "stream",
     "text": [
      "Warning message in best(\"AK\", \"pneumonia\"):\n",
      "\"NAs introduced by coercion\""
     ]
    },
    {
     "data": {
      "text/html": [
       "'YUKON KUSKOKWIM DELTA REG HOSPITAL'"
      ],
      "text/latex": [
       "'YUKON KUSKOKWIM DELTA REG HOSPITAL'"
      ],
      "text/markdown": [
       "'YUKON KUSKOKWIM DELTA REG HOSPITAL'"
      ],
      "text/plain": [
       "[1] \"YUKON KUSKOKWIM DELTA REG HOSPITAL\""
      ]
     },
     "metadata": {},
     "output_type": "display_data"
    }
   ],
   "source": [
    "best(\"AK\", \"pneumonia\")"
   ]
  },
  {
   "cell_type": "code",
   "execution_count": 192,
   "metadata": {},
   "outputs": [
    {
     "name": "stderr",
     "output_type": "stream",
     "text": [
      "Warning message in rankhospital(\"NC\", \"heart attack\", \"worst\"):\n",
      "\"NAs introduced by coercion\""
     ]
    },
    {
     "data": {
      "text/html": [
       "'WAYNE MEMORIAL HOSPITAL'"
      ],
      "text/latex": [
       "'WAYNE MEMORIAL HOSPITAL'"
      ],
      "text/markdown": [
       "'WAYNE MEMORIAL HOSPITAL'"
      ],
      "text/plain": [
       "[1] \"WAYNE MEMORIAL HOSPITAL\""
      ]
     },
     "metadata": {},
     "output_type": "display_data"
    }
   ],
   "source": [
    "rankhospital(\"NC\", \"heart attack\", \"worst\")"
   ]
  },
  {
   "cell_type": "code",
   "execution_count": 193,
   "metadata": {},
   "outputs": [
    {
     "name": "stderr",
     "output_type": "stream",
     "text": [
      "Warning message in rankhospital(\"WA\", \"heart attack\", 7):\n",
      "\"NAs introduced by coercion\""
     ]
    },
    {
     "data": {
      "text/html": [
       "'YAKIMA VALLEY MEMORIAL HOSPITAL'"
      ],
      "text/latex": [
       "'YAKIMA VALLEY MEMORIAL HOSPITAL'"
      ],
      "text/markdown": [
       "'YAKIMA VALLEY MEMORIAL HOSPITAL'"
      ],
      "text/plain": [
       "[1] \"YAKIMA VALLEY MEMORIAL HOSPITAL\""
      ]
     },
     "metadata": {},
     "output_type": "display_data"
    }
   ],
   "source": [
    "rankhospital(\"WA\", \"heart attack\", 7)"
   ]
  },
  {
   "cell_type": "code",
   "execution_count": 194,
   "metadata": {},
   "outputs": [
    {
     "name": "stderr",
     "output_type": "stream",
     "text": [
      "Warning message in rankhospital(\"TX\", \"pneumonia\", 10):\n",
      "\"NAs introduced by coercion\""
     ]
    },
    {
     "data": {
      "text/html": [
       "'SETON SMITHVILLE REGIONAL HOSPITAL'"
      ],
      "text/latex": [
       "'SETON SMITHVILLE REGIONAL HOSPITAL'"
      ],
      "text/markdown": [
       "'SETON SMITHVILLE REGIONAL HOSPITAL'"
      ],
      "text/plain": [
       "[1] \"SETON SMITHVILLE REGIONAL HOSPITAL\""
      ]
     },
     "metadata": {},
     "output_type": "display_data"
    }
   ],
   "source": [
    "rankhospital(\"TX\", \"pneumonia\", 10)"
   ]
  },
  {
   "cell_type": "code",
   "execution_count": 195,
   "metadata": {},
   "outputs": [
    {
     "name": "stderr",
     "output_type": "stream",
     "text": [
      "Warning message in rankhospital(\"NY\", \"heart attack\", 7):\n",
      "\"NAs introduced by coercion\""
     ]
    },
    {
     "data": {
      "text/html": [
       "'BELLEVUE HOSPITAL CENTER'"
      ],
      "text/latex": [
       "'BELLEVUE HOSPITAL CENTER'"
      ],
      "text/markdown": [
       "'BELLEVUE HOSPITAL CENTER'"
      ],
      "text/plain": [
       "[1] \"BELLEVUE HOSPITAL CENTER\""
      ]
     },
     "metadata": {},
     "output_type": "display_data"
    }
   ],
   "source": [
    "rankhospital(\"NY\", \"heart attack\", 7)"
   ]
  },
  {
   "cell_type": "code",
   "execution_count": 196,
   "metadata": {},
   "outputs": [
    {
     "name": "stderr",
     "output_type": "stream",
     "text": [
      "Warning message in rankall(\"heart attack\", 4):\n",
      "\"NAs introduced by coercion\""
     ]
    },
    {
     "data": {
      "text/html": [
       "'CASTLE MEDICAL CENTER'"
      ],
      "text/latex": [
       "'CASTLE MEDICAL CENTER'"
      ],
      "text/markdown": [
       "'CASTLE MEDICAL CENTER'"
      ],
      "text/plain": [
       "[1] \"CASTLE MEDICAL CENTER\""
      ]
     },
     "metadata": {},
     "output_type": "display_data"
    }
   ],
   "source": [
    "r <- rankall(\"heart attack\", 4)\n",
    "as.character(subset(r, state == \"HI\")$hospital)"
   ]
  },
  {
   "cell_type": "code",
   "execution_count": 197,
   "metadata": {},
   "outputs": [
    {
     "name": "stderr",
     "output_type": "stream",
     "text": [
      "Warning message in rankall(\"pneumonia\", \"worst\"):\n",
      "\"NAs introduced by coercion\""
     ]
    },
    {
     "data": {
      "text/html": [
       "'BERGEN REGIONAL MEDICAL CENTER'"
      ],
      "text/latex": [
       "'BERGEN REGIONAL MEDICAL CENTER'"
      ],
      "text/markdown": [
       "'BERGEN REGIONAL MEDICAL CENTER'"
      ],
      "text/plain": [
       "[1] \"BERGEN REGIONAL MEDICAL CENTER\""
      ]
     },
     "metadata": {},
     "output_type": "display_data"
    }
   ],
   "source": [
    "r <- rankall(\"pneumonia\", \"worst\")\n",
    "as.character(subset(r, state == \"NJ\")$hospital)"
   ]
  },
  {
   "cell_type": "code",
   "execution_count": 198,
   "metadata": {},
   "outputs": [
    {
     "name": "stderr",
     "output_type": "stream",
     "text": [
      "Warning message in rankall(\"heart failure\", 10):\n",
      "\"NAs introduced by coercion\""
     ]
    },
    {
     "data": {
      "text/html": [
       "'RENOWN SOUTH MEADOWS MEDICAL CENTER'"
      ],
      "text/latex": [
       "'RENOWN SOUTH MEADOWS MEDICAL CENTER'"
      ],
      "text/markdown": [
       "'RENOWN SOUTH MEADOWS MEDICAL CENTER'"
      ],
      "text/plain": [
       "[1] \"RENOWN SOUTH MEADOWS MEDICAL CENTER\""
      ]
     },
     "metadata": {},
     "output_type": "display_data"
    }
   ],
   "source": [
    "r <- rankall(\"heart failure\", 10)\n",
    "as.character(subset(r, state == \"NV\")$hospital)"
   ]
  },
  {
   "cell_type": "code",
   "execution_count": null,
   "metadata": {},
   "outputs": [],
   "source": []
  }
 ],
 "metadata": {
  "kernelspec": {
   "display_name": "R",
   "language": "R",
   "name": "ir"
  },
  "language_info": {
   "codemirror_mode": "r",
   "file_extension": ".r",
   "mimetype": "text/x-r-source",
   "name": "R",
   "pygments_lexer": "r",
   "version": "3.5.1"
  }
 },
 "nbformat": 4,
 "nbformat_minor": 2
}
