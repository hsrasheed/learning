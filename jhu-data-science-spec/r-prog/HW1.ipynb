{
 "cells": [
  {
   "cell_type": "markdown",
   "metadata": {},
   "source": [
    "# Johns Hopkins - Data Science Specialization"
   ]
  },
  {
   "cell_type": "markdown",
   "metadata": {},
   "source": [
    "## Programming Assignment 1"
   ]
  },
  {
   "cell_type": "markdown",
   "metadata": {},
   "source": [
    "### Data\n",
    "\n",
    "The zip file containing the data can be downloaded here:\n",
    "\n",
    "    specdata.zip [2.4MB]\n",
    "\n",
    "The zip file contains 332 comma-separated-value (CSV) files containing pollution monitoring data for fine particulate matter (PM) air pollution at 332 locations in the United States. Each file contains data from a single monitor and the ID number for each monitor is contained in the file name. For example, data for monitor 200 is contained in the file \"200.csv\". Each file contains three variables:\n",
    "\n",
    "    Date: the date of the observation in YYYY-MM-DD format (year-month-day)\n",
    "    sulfate: the level of sulfate PM in the air on that date (measured in micrograms per cubic meter)\n",
    "    nitrate: the level of nitrate PM in the air on that date (measured in micrograms per cubic meter)\n",
    "\n",
    "For this programming assignment you will need to unzip this file and create the directory 'specdata'. Once you have unzipped the zip file, do not make any modifications to the files in the 'specdata' directory. In each file you'll notice that there are many days where either sulfate or nitrate (or both) are missing (coded as NA). This is common with air pollution monitoring data in the United States."
   ]
  },
  {
   "cell_type": "markdown",
   "metadata": {},
   "source": [
    "### Part 1\n",
    "\n",
    "Write a function named 'pollutantmean' that calculates the mean of a pollutant (sulfate or nitrate) across a specified list of monitors. The function 'pollutantmean' takes three arguments: 'directory', 'pollutant', and 'id'. Given a vector monitor ID numbers, 'pollutantmean' reads that monitors' particulate matter data from the directory specified in the 'directory' argument and returns the mean of the pollutant across all of the monitors, ignoring any missing values coded as NA."
   ]
  },
  {
   "cell_type": "code",
   "execution_count": 52,
   "metadata": {},
   "outputs": [],
   "source": [
    "pollutantmean <- function(directory, pollutant, id = 1:332){\n",
    "  ## Return the mean of the pollutant across all monitors listed\n",
    "  ## in the 'id' vector (ignoring NA values)\n",
    "  df_colClasses = c(\"Date\",\"double\",\"double\",\"integer\")\n",
    "  df_colNames = c(\"Date\",\"sulfate\",\"nitrate\",\"ID\")\n",
    "  total_df <- read.table(text=\"\",colClasses = df_colClasses,col.names = df_colNames)\n",
    "  for(x in id)\n",
    "  {\n",
    "    file_name = paste(getwd(),\"/\",directory,\"/\", sprintf(\"%03d\",x),\".csv\",sep=\"\")\n",
    "    new_df <- read.csv(file_name, header=TRUE)  \n",
    "    total_df <- rbind(new_df, total_df)\n",
    "  }\n",
    "  poll_mean <- mean(total_df[[pollutant]], na.rm=TRUE)\n",
    "  #print(total_df[1:2,])\n",
    "  print(poll_mean)\n",
    "}"
   ]
  },
  {
   "cell_type": "markdown",
   "metadata": {},
   "source": [
    "### Comments on Solution\n",
    "\n",
    "There are a few challenging things about this assignment:\n",
    "\n",
    "* Understanding the nature of the data - that ultimately what you want is a single dataframe that contains all of the observations from all of the selected stations (IDs)\n",
    "* Once you have that dataframe you will take the mean from the column as indicated by the\n",
    "* Based on that you will need to iterate through the list of IDs which is passed to the function and then load the corresponding csv file\n",
    "* Finding the corresponding csv file for the ID requires you to use the sprintf function to ensure that, not matter what the number is, it is represented by three digits. ie 1 => 001, 50 => 050, 121 => 121"
   ]
  },
  {
   "cell_type": "code",
   "execution_count": 2,
   "metadata": {},
   "outputs": [
    {
     "name": "stdout",
     "output_type": "stream",
     "text": [
      "[1] 4.389262\n"
     ]
    }
   ],
   "source": [
    "setwd(\"C:\\\\Users\\\\harash\\\\Dropbox\\\\github-repo\\\\learning\\\\courses\\\\jhu-data-science-spec\\\\r-prog\\\\\")\n",
    "my_id <- c(1:3)\n",
    "pollutantmean(\"specdata\",\"sulfate\",my_id)"
   ]
  },
  {
   "cell_type": "markdown",
   "metadata": {},
   "source": [
    "### Part 2\n",
    "\n",
    "Write a function that reads a directory full of files and reports the number of completely observed cases in each data file. The function should return a data frame where the first column is the name of the file and the second column is the number of complete cases. A prototype of this function follows"
   ]
  },
  {
   "cell_type": "code",
   "execution_count": 53,
   "metadata": {},
   "outputs": [],
   "source": [
    "row_complete <- function (row){\n",
    "    for(val in row){\n",
    "        if(is.na(val)){return(FALSE)}\n",
    "        else if(val == \"NA\"){return(FALSE)}\n",
    "    }\n",
    "    return(TRUE)\n",
    "}\n",
    "\n",
    "count_complete_rows_df2 <- function(dataframe){\n",
    "    total_complete_rows <- 0\n",
    "    for(row in 1:nrow(dataframe)){\n",
    "        if(sum(is.na(dataframe[row,])) == 0){\n",
    "            total_complete_rows<-total_complete_rows+1\n",
    "        }\n",
    "    }\n",
    "    return(total_complete_rows)\n",
    "}\n",
    "\n",
    "count_complete_rows_df <- function(dataframe){\n",
    "    total_complete_rows <- 0\n",
    "    for(row in 1:nrow(dataframe)){\n",
    "        if(row_complete(dataframe[row,])){\n",
    "            total_complete_rows<-total_complete_rows+1\n",
    "        }\n",
    "    }\n",
    "    return(total_complete_rows)\n",
    "}\n",
    "\n",
    "complete <- function(directory, ids = 1:332){\n",
    "  df_colClasses = c(\"character\",\"integer\")\n",
    "  df_colNames = c(\"FileName\",\"Count\")\n",
    "  total_df <- read.table(text=\"\",colClasses = df_colClasses,col.names = df_colNames)\n",
    "  for(id in ids){\n",
    "      file_name = paste(getwd(),\"/\",directory,\"/\", sprintf(\"%03d\",id),\".csv\",sep=\"\")\n",
    "      #print(file_name)\n",
    "      df_colClasses = c(\"character\",\"double\",\"double\",\"integer\")\n",
    "      new_df <- read.csv(file_name, header=TRUE, colClasses = df_colClasses) \n",
    "      #print(new_df[5,])\n",
    "      #print(sum(is.na(new_df[5,])))\n",
    "      nobs <- count_complete_rows_df(new_df)\n",
    "      new_entry <- data.frame(id, nobs)\n",
    "      total_df <- rbind(new_entry, total_df)\n",
    "  }\n",
    "    return(total_df)\n",
    "}"
   ]
  },
  {
   "cell_type": "code",
   "execution_count": 4,
   "metadata": {},
   "outputs": [
    {
     "data": {
      "text/html": [
       "<table>\n",
       "<thead><tr><th scope=col>id</th><th scope=col>nobs</th></tr></thead>\n",
       "<tbody>\n",
       "\t<tr><td>1  </td><td>117</td></tr>\n",
       "</tbody>\n",
       "</table>\n"
      ],
      "text/latex": [
       "\\begin{tabular}{r|ll}\n",
       " id & nobs\\\\\n",
       "\\hline\n",
       "\t 1   & 117\\\\\n",
       "\\end{tabular}\n"
      ],
      "text/markdown": [
       "\n",
       "id | nobs | \n",
       "|---|\n",
       "| 1   | 117 | \n",
       "\n",
       "\n"
      ],
      "text/plain": [
       "  id nobs\n",
       "1 1  117 "
      ]
     },
     "metadata": {},
     "output_type": "display_data"
    }
   ],
   "source": [
    "complete(\"specdata\", 1)\n",
    "##   id nobs\n",
    "## 1  1  117"
   ]
  },
  {
   "cell_type": "code",
   "execution_count": 5,
   "metadata": {},
   "outputs": [
    {
     "data": {
      "text/html": [
       "<table>\n",
       "<thead><tr><th scope=col>id</th><th scope=col>nobs</th></tr></thead>\n",
       "<tbody>\n",
       "\t<tr><td>12  </td><td>  96</td></tr>\n",
       "\t<tr><td>10  </td><td> 148</td></tr>\n",
       "\t<tr><td> 8  </td><td> 192</td></tr>\n",
       "\t<tr><td> 4  </td><td> 474</td></tr>\n",
       "\t<tr><td> 2  </td><td>1041</td></tr>\n",
       "</tbody>\n",
       "</table>\n"
      ],
      "text/latex": [
       "\\begin{tabular}{r|ll}\n",
       " id & nobs\\\\\n",
       "\\hline\n",
       "\t 12   &   96\\\\\n",
       "\t 10   &  148\\\\\n",
       "\t  8   &  192\\\\\n",
       "\t  4   &  474\\\\\n",
       "\t  2   & 1041\\\\\n",
       "\\end{tabular}\n"
      ],
      "text/markdown": [
       "\n",
       "id | nobs | \n",
       "|---|---|---|---|---|\n",
       "| 12   |   96 | \n",
       "| 10   |  148 | \n",
       "|  8   |  192 | \n",
       "|  4   |  474 | \n",
       "|  2   | 1041 | \n",
       "\n",
       "\n"
      ],
      "text/plain": [
       "  id nobs\n",
       "1 12   96\n",
       "2 10  148\n",
       "3  8  192\n",
       "4  4  474\n",
       "5  2 1041"
      ]
     },
     "metadata": {},
     "output_type": "display_data"
    }
   ],
   "source": [
    "complete(\"specdata\", c(2, 4, 8, 10, 12))\n",
    "##   id nobs\n",
    "## 1  2 1041\n",
    "## 2  4  474\n",
    "## 3  8  192\n",
    "## 4 10  148\n",
    "## 5 12   96"
   ]
  },
  {
   "cell_type": "code",
   "execution_count": 6,
   "metadata": {},
   "outputs": [
    {
     "data": {
      "text/html": [
       "<table>\n",
       "<thead><tr><th scope=col>id</th><th scope=col>nobs</th></tr></thead>\n",
       "<tbody>\n",
       "\t<tr><td>25 </td><td>463</td></tr>\n",
       "\t<tr><td>26 </td><td>586</td></tr>\n",
       "\t<tr><td>27 </td><td>338</td></tr>\n",
       "\t<tr><td>28 </td><td>475</td></tr>\n",
       "\t<tr><td>29 </td><td>711</td></tr>\n",
       "\t<tr><td>30 </td><td>932</td></tr>\n",
       "</tbody>\n",
       "</table>\n"
      ],
      "text/latex": [
       "\\begin{tabular}{r|ll}\n",
       " id & nobs\\\\\n",
       "\\hline\n",
       "\t 25  & 463\\\\\n",
       "\t 26  & 586\\\\\n",
       "\t 27  & 338\\\\\n",
       "\t 28  & 475\\\\\n",
       "\t 29  & 711\\\\\n",
       "\t 30  & 932\\\\\n",
       "\\end{tabular}\n"
      ],
      "text/markdown": [
       "\n",
       "id | nobs | \n",
       "|---|---|---|---|---|---|\n",
       "| 25  | 463 | \n",
       "| 26  | 586 | \n",
       "| 27  | 338 | \n",
       "| 28  | 475 | \n",
       "| 29  | 711 | \n",
       "| 30  | 932 | \n",
       "\n",
       "\n"
      ],
      "text/plain": [
       "  id nobs\n",
       "1 25 463 \n",
       "2 26 586 \n",
       "3 27 338 \n",
       "4 28 475 \n",
       "5 29 711 \n",
       "6 30 932 "
      ]
     },
     "metadata": {},
     "output_type": "display_data"
    }
   ],
   "source": [
    "complete(\"specdata\", 30:25)\n",
    "##   id nobs\n",
    "## 1 30  932\n",
    "## 2 29  711\n",
    "## 3 28  475\n",
    "## 4 27  338\n",
    "## 5 26  586\n",
    "## 6 25  463"
   ]
  },
  {
   "cell_type": "markdown",
   "metadata": {},
   "source": [
    "### Part 3\n",
    "\n",
    "Write a function that takes a directory of data files and a threshold for complete cases and calculates the correlation between sulfate and nitrate for monitor locations where the number of completely observed cases (on all variables) is greater than the threshold. The function should return a vector of correlations for the monitors that meet the threshold requirement. If no monitors meet the threshold requirement, then the function should return a numeric vector of length 0. A prototype of this function follows"
   ]
  },
  {
   "cell_type": "code",
   "execution_count": 68,
   "metadata": {},
   "outputs": [],
   "source": [
    "corr <- function(directory, threshold = 0){\n",
    "    \n",
    "    all_corr <- vector('numeric')\n",
    "    complete_df <- complete(directory)\n",
    "    for(row in 1:nrow(complete_df)){\n",
    "        if(complete_df[row, \"nobs\"] > threshold){\n",
    "            id_corr <- file_correlation(row, directory)\n",
    "            all_corr <- c(all_corr, id_corr)\n",
    "        }\n",
    "    }\n",
    "    return(all_corr)\n",
    "}\n",
    "\n",
    "file_correlation <- function(id, directory){\n",
    "\n",
    "    file_name = paste(getwd(),\"/\",directory,\"/\", sprintf(\"%03d\",id),\".csv\",sep=\"\")\n",
    "    df_colClasses = c(\"character\",\"double\",\"double\",\"integer\")\n",
    "    new_df <- read.csv(file_name, header=TRUE, colClasses = df_colClasses) \n",
    "    #print(new_df[,1:2])\n",
    "    id_corr <- cor(new_df$sulfate,new_df$nitrate,use=\"pairwise.complete.obs\")\n",
    "    return(id_corr)\n",
    "}"
   ]
  },
  {
   "cell_type": "code",
   "execution_count": 69,
   "metadata": {},
   "outputs": [
    {
     "data": {
      "text/html": [
       "<ol class=list-inline>\n",
       "\t<li>-0.0189575409702549</li>\n",
       "\t<li>-0.140512544015892</li>\n",
       "\t<li>-0.0438973721387846</li>\n",
       "\t<li>-0.0681595622977732</li>\n",
       "\t<li>-0.123506665841487</li>\n",
       "\t<li>-0.0758881442189889</li>\n",
       "</ol>\n"
      ],
      "text/latex": [
       "\\begin{enumerate*}\n",
       "\\item -0.0189575409702549\n",
       "\\item -0.140512544015892\n",
       "\\item -0.0438973721387846\n",
       "\\item -0.0681595622977732\n",
       "\\item -0.123506665841487\n",
       "\\item -0.0758881442189889\n",
       "\\end{enumerate*}\n"
      ],
      "text/markdown": [
       "1. -0.0189575409702549\n",
       "2. -0.140512544015892\n",
       "3. -0.0438973721387846\n",
       "4. -0.0681595622977732\n",
       "5. -0.123506665841487\n",
       "6. -0.0758881442189889\n",
       "\n",
       "\n"
      ],
      "text/plain": [
       "[1] -0.01895754 -0.14051254 -0.04389737 -0.06815956 -0.12350667 -0.07588814"
      ]
     },
     "metadata": {},
     "output_type": "display_data"
    }
   ],
   "source": [
    "cr <- corr(\"specdata\", 150)\n",
    "head(cr)\n",
    "## [1] -0.01895754 -0.14051254 -0.04389737 -0.06815956 -0.12350667 -0.07588814\n",
    "#file_correlation(1,\"specdata\")"
   ]
  },
  {
   "cell_type": "code",
   "execution_count": 49,
   "metadata": {},
   "outputs": [
    {
     "data": {
      "text/plain": [
       "    Min.  1st Qu.   Median     Mean  3rd Qu.     Max.     NA's \n",
       "-1.00000 -0.06437  0.06476  0.11682  0.25894  1.00000        7 "
      ]
     },
     "metadata": {},
     "output_type": "display_data"
    }
   ],
   "source": [
    "summary(cr)\n",
    "##     Min.  1st Qu.   Median     Mean  3rd Qu.     Max. \n",
    "## -0.21057 -0.04999  0.09463  0.12525  0.26844  0.76313"
   ]
  },
  {
   "cell_type": "code",
   "execution_count": 50,
   "metadata": {},
   "outputs": [
    {
     "data": {
      "text/html": [
       "<ol class=list-inline>\n",
       "\t<li>-0.140512544015892</li>\n",
       "\t<li>-0.0438973721387846</li>\n",
       "\t<li>-0.0681595622977732</li>\n",
       "\t<li>-0.159673651500667</li>\n",
       "\t<li>-0.545372687862517</li>\n",
       "\t<li>-0.156998918906685</li>\n",
       "</ol>\n"
      ],
      "text/latex": [
       "\\begin{enumerate*}\n",
       "\\item -0.140512544015892\n",
       "\\item -0.0438973721387846\n",
       "\\item -0.0681595622977732\n",
       "\\item -0.159673651500667\n",
       "\\item -0.545372687862517\n",
       "\\item -0.156998918906685\n",
       "\\end{enumerate*}\n"
      ],
      "text/markdown": [
       "1. -0.140512544015892\n",
       "2. -0.0438973721387846\n",
       "3. -0.0681595622977732\n",
       "4. -0.159673651500667\n",
       "5. -0.545372687862517\n",
       "6. -0.156998918906685\n",
       "\n",
       "\n"
      ],
      "text/plain": [
       "[1] -0.14051254 -0.04389737 -0.06815956 -0.15967365 -0.54537269 -0.15699892"
      ]
     },
     "metadata": {},
     "output_type": "display_data"
    }
   ],
   "source": [
    "cr <- corr(\"specdata\", 400)\n",
    "head(cr)\n",
    "## [1] -0.01895754 -0.04389737 -0.06815956 -0.07588814  0.76312884 -0.15782860\n"
   ]
  },
  {
   "cell_type": "code",
   "execution_count": 51,
   "metadata": {},
   "outputs": [
    {
     "data": {
      "text/plain": [
       "    Min.  1st Qu.   Median     Mean  3rd Qu.     Max.     NA's \n",
       "-1.00000 -0.06797  0.04161  0.10744  0.23312  1.00000        3 "
      ]
     },
     "metadata": {},
     "output_type": "display_data"
    }
   ],
   "source": [
    "summary(cr)\n",
    "##     Min.  1st Qu.   Median     Mean  3rd Qu.     Max. \n",
    "## -0.17623 -0.03109  0.10021  0.13969  0.26849  0.76313"
   ]
  },
  {
   "cell_type": "markdown",
   "metadata": {},
   "source": [
    "## Prototyping Section"
   ]
  },
  {
   "cell_type": "code",
   "execution_count": 46,
   "metadata": {},
   "outputs": [
    {
     "name": "stdout",
     "output_type": "stream",
     "text": [
      "[1] -0.549  1.500\n"
     ]
    }
   ],
   "source": [
    "#file_name <- \"C:\\\\Users\\\\harash\\\\Dropbox\\\\github-repo\\\\learning\\\\courses\\\\jhu-data-science-spec\\\\r-prog\\\\specdata\\\\001.csv\"\n",
    "#new_df <- read.csv(file_name, header=TRUE) \n",
    "#new_df[,2]\n",
    "#id_corr <- cor(new_df$sulfate,new_df$nitrate, use='complete.obs')\n",
    "#print(id_corr)\n",
    "corr <- vector('numeric')\n",
    "corr <- c(corr,-.5490)\n",
    "corr <- c(corr, 1.5)\n",
    "print(corr)"
   ]
  },
  {
   "cell_type": "code",
   "execution_count": 36,
   "metadata": {},
   "outputs": [
    {
     "data": {
      "text/html": [
       "447"
      ],
      "text/latex": [
       "447"
      ],
      "text/markdown": [
       "447"
      ],
      "text/plain": [
       "[1] 447"
      ]
     },
     "metadata": {},
     "output_type": "display_data"
    }
   ],
   "source": [
    "complete_df <- complete(\"specdata\")\n",
    "complete_df[3, \"nobs\"]"
   ]
  },
  {
   "cell_type": "code",
   "execution_count": null,
   "metadata": {},
   "outputs": [],
   "source": [
    "is.na(new_df)"
   ]
  },
  {
   "cell_type": "code",
   "execution_count": 12,
   "metadata": {},
   "outputs": [
    {
     "data": {
      "text/html": [
       "<ol>\n",
       "\t<li>'002.csv'</li>\n",
       "</ol>\n"
      ],
      "text/latex": [
       "\\begin{enumerate}\n",
       "\\item '002.csv'\n",
       "\\end{enumerate}\n"
      ],
      "text/markdown": [
       "1. '002.csv'\n",
       "\n",
       "\n"
      ],
      "text/plain": [
       "[[1]]\n",
       "[1] \"002.csv\"\n"
      ]
     },
     "metadata": {},
     "output_type": "display_data"
    }
   ],
   "source": [
    "list(paste(sprintf(\"%03d\",2),\".csv\",sep=\"\"))"
   ]
  },
  {
   "cell_type": "code",
   "execution_count": 11,
   "metadata": {},
   "outputs": [
    {
     "name": "stdout",
     "output_type": "stream",
     "text": [
      "[[1]]\n",
      "[1] 1\n",
      "\n",
      "[[2]]\n",
      "[1] 2\n",
      "\n",
      "[[3]]\n",
      "[1] 3\n",
      "\n",
      "[[4]]\n",
      "[1] 4\n",
      "\n"
     ]
    }
   ],
   "source": [
    "list(1,2,3,4))"
   ]
  },
  {
   "cell_type": "code",
   "execution_count": 56,
   "metadata": {},
   "outputs": [
    {
     "name": "stdout",
     "output_type": "stream",
     "text": [
      "[1] 4.064128\n"
     ]
    }
   ],
   "source": [
    "pollutantmean(\"specdata\", \"sulfate\", 1:10)"
   ]
  },
  {
   "cell_type": "code",
   "execution_count": 57,
   "metadata": {},
   "outputs": [
    {
     "name": "stdout",
     "output_type": "stream",
     "text": [
      "[1] 1.706047\n"
     ]
    }
   ],
   "source": [
    "pollutantmean(\"specdata\", \"nitrate\", 70:72)"
   ]
  },
  {
   "cell_type": "code",
   "execution_count": 58,
   "metadata": {},
   "outputs": [
    {
     "name": "stdout",
     "output_type": "stream",
     "text": [
      "[1] 1.477143\n"
     ]
    }
   ],
   "source": [
    "pollutantmean(\"specdata\", \"sulfate\", 34)"
   ]
  },
  {
   "cell_type": "code",
   "execution_count": 59,
   "metadata": {},
   "outputs": [
    {
     "name": "stdout",
     "output_type": "stream",
     "text": [
      "[1] 1.702932\n"
     ]
    }
   ],
   "source": [
    "pollutantmean(\"specdata\", \"nitrate\")"
   ]
  },
  {
   "cell_type": "code",
   "execution_count": 60,
   "metadata": {},
   "outputs": [
    {
     "name": "stdout",
     "output_type": "stream",
     "text": [
      "[1] 232 460 104 165 124 148 228\n"
     ]
    }
   ],
   "source": [
    "cc <- complete(\"specdata\", c(6, 10, 20, 34, 100, 200, 310))\n",
    "print(cc$nobs)"
   ]
  },
  {
   "cell_type": "code",
   "execution_count": 61,
   "metadata": {},
   "outputs": [
    {
     "name": "stdout",
     "output_type": "stream",
     "text": [
      "[1] 219\n"
     ]
    }
   ],
   "source": [
    "cc <- complete(\"specdata\", 54)\n",
    "print(cc$nobs)"
   ]
  },
  {
   "cell_type": "code",
   "execution_count": 63,
   "metadata": {},
   "outputs": [
    {
     "name": "stdout",
     "output_type": "stream",
     "text": [
      " [1] 135  65  81   4 121 741 439 283 345 548\n"
     ]
    }
   ],
   "source": [
    "set.seed(42)\n",
    "cc <- complete(\"specdata\", 332:1)\n",
    "use <- sample(332, 10)\n",
    "print(cc[use, \"nobs\"])"
   ]
  },
  {
   "cell_type": "code",
   "execution_count": 70,
   "metadata": {},
   "outputs": [
    {
     "name": "stdout",
     "output_type": "stream",
     "text": [
      "[1]  0.2621  0.1072 -0.0088  0.4407  0.0419\n"
     ]
    }
   ],
   "source": [
    "cr <- corr(\"specdata\")                \n",
    "cr <- sort(cr)                \n",
    "set.seed(868)                \n",
    "out <- round(cr[sample(length(cr), 5)], 4)\n",
    "print(out)"
   ]
  },
  {
   "cell_type": "code",
   "execution_count": 71,
   "metadata": {},
   "outputs": [
    {
     "name": "stdout",
     "output_type": "stream",
     "text": [
      "[1] 236.0000   0.2481   0.0413  -0.1563  -0.1781   0.7173\n"
     ]
    }
   ],
   "source": [
    "cr <- corr(\"specdata\", 129)                \n",
    "cr <- sort(cr)                \n",
    "n <- length(cr)                \n",
    "set.seed(197)                \n",
    "out <- c(n, round(cr[sample(n, 5)], 4))\n",
    "print(out)"
   ]
  },
  {
   "cell_type": "code",
   "execution_count": 72,
   "metadata": {},
   "outputs": [
    {
     "name": "stdout",
     "output_type": "stream",
     "text": [
      "[1] 0.0000 0.0229 0.2365 0.2871\n"
     ]
    }
   ],
   "source": [
    "cr <- corr(\"specdata\", 2000)                \n",
    "n <- length(cr)                \n",
    "cr <- corr(\"specdata\", 1000)                \n",
    "cr <- sort(cr)\n",
    "print(c(n, round(cr, 4)))"
   ]
  },
  {
   "cell_type": "code",
   "execution_count": null,
   "metadata": {},
   "outputs": [],
   "source": []
  }
 ],
 "metadata": {
  "kernelspec": {
   "display_name": "R",
   "language": "R",
   "name": "ir"
  },
  "language_info": {
   "codemirror_mode": "r",
   "file_extension": ".r",
   "mimetype": "text/x-r-source",
   "name": "R",
   "pygments_lexer": "r",
   "version": "3.5.1"
  }
 },
 "nbformat": 4,
 "nbformat_minor": 2
}
