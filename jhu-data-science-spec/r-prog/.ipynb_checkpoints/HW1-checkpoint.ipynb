{
 "cells": [
  {
   "cell_type": "markdown",
   "metadata": {},
   "source": [
    "# Johns Hopkins - Data Science Specialization"
   ]
  },
  {
   "cell_type": "markdown",
   "metadata": {},
   "source": [
    "## Programming Assignment 1"
   ]
  },
  {
   "cell_type": "markdown",
   "metadata": {},
   "source": [
    "### Data\n",
    "\n",
    "The zip file containing the data can be downloaded here:\n",
    "\n",
    "    specdata.zip [2.4MB]\n",
    "\n",
    "The zip file contains 332 comma-separated-value (CSV) files containing pollution monitoring data for fine particulate matter (PM) air pollution at 332 locations in the United States. Each file contains data from a single monitor and the ID number for each monitor is contained in the file name. For example, data for monitor 200 is contained in the file \"200.csv\". Each file contains three variables:\n",
    "\n",
    "    Date: the date of the observation in YYYY-MM-DD format (year-month-day)\n",
    "    sulfate: the level of sulfate PM in the air on that date (measured in micrograms per cubic meter)\n",
    "    nitrate: the level of nitrate PM in the air on that date (measured in micrograms per cubic meter)\n",
    "\n",
    "For this programming assignment you will need to unzip this file and create the directory 'specdata'. Once you have unzipped the zip file, do not make any modifications to the files in the 'specdata' directory. In each file you'll notice that there are many days where either sulfate or nitrate (or both) are missing (coded as NA). This is common with air pollution monitoring data in the United States."
   ]
  },
  {
   "cell_type": "markdown",
   "metadata": {},
   "source": [
    "### Part 1\n",
    "\n",
    "Write a function named 'pollutantmean' that calculates the mean of a pollutant (sulfate or nitrate) across a specified list of monitors. The function 'pollutantmean' takes three arguments: 'directory', 'pollutant', and 'id'. Given a vector monitor ID numbers, 'pollutantmean' reads that monitors' particulate matter data from the directory specified in the 'directory' argument and returns the mean of the pollutant across all of the monitors, ignoring any missing values coded as NA."
   ]
  },
  {
   "cell_type": "code",
   "execution_count": 1,
   "metadata": {},
   "outputs": [],
   "source": [
    "pollutantmean <- function(directory, pollutant, id = 1:332){\n",
    "  ## Return the mean of the pollutant across all monitors listed\n",
    "  ## in the 'id' vector (ignoring NA values)\n",
    "  df_colClasses = c(\"Date\",\"double\",\"double\",\"integer\")\n",
    "  df_colNames = c(\"Date\",\"sulfate\",\"nitrate\",\"ID\")\n",
    "  total_df <- read.table(text=\"\",colClasses = df_colClasses,col.names = df_colNames)\n",
    "  for(x in id)\n",
    "  {\n",
    "    file_name = paste(getwd(),\"/\",directory,\"/\", sprintf(\"%03d\",x),\".csv\",sep=\"\")\n",
    "    new_df <- read.csv(file_name, header=TRUE)  \n",
    "    total_df <- rbind(new_df, total_df)\n",
    "  }\n",
    "  poll_mean <- mean(total_df[[pollutant]], na.rm=TRUE)\n",
    "  #print(total_df[1:2,])\n",
    "  print(poll_mean)\n",
    "}"
   ]
  },
  {
   "cell_type": "markdown",
   "metadata": {},
   "source": [
    "### Comments on Solution\n",
    "\n",
    "There are a few challenging things about this assignment:\n",
    "\n",
    "* Understanding the nature of the data - that ultimately what you want is a single dataframe that contains all of the observations from all of the selected stations (IDs)\n",
    "* Once you have that dataframe you will take the mean from the column as indicated by the\n",
    "* Based on that you will need to iterate through the list of IDs which is passed to the function and then load the corresponding csv file\n",
    "* Finding the corresponding csv file for the ID requires you to use the sprintf function to ensure that, not matter what the number is, it is represented by three digits. ie 1 => 001, 50 => 050, 121 => 121"
   ]
  },
  {
   "cell_type": "code",
   "execution_count": 4,
   "metadata": {},
   "outputs": [
    {
     "name": "stdout",
     "output_type": "stream",
     "text": [
      "[1] 4.389262\n"
     ]
    }
   ],
   "source": [
    "setwd(\"C:\\\\Users\\\\harash\\\\Dropbox\\\\github-repo\\\\learning\\\\courses\\\\jhu-data-science-spec\\\\r-prog\\\\\")\n",
    "my_id <- c(1:3)\n",
    "pollutantmean(\"specdata\",\"sulfate\",my_id)"
   ]
  },
  {
   "cell_type": "markdown",
   "metadata": {},
   "source": [
    "### Part 2\n",
    "\n",
    "Write a function that reads a directory full of files and reports the number of completely observed cases in each data file. The function should return a data frame where the first column is the name of the file and the second column is the number of complete cases. A prototype of this function follows"
   ]
  },
  {
   "cell_type": "code",
   "execution_count": 113,
   "metadata": {},
   "outputs": [],
   "source": [
    "row_complete <- function (row){\n",
    "    for(val in row){\n",
    "        if(is.na(val)){return(FALSE)}\n",
    "        else if(val == \"NA\"){return(FALSE)}\n",
    "    }\n",
    "    return(TRUE)\n",
    "}\n",
    "\n",
    "count_complete_rows_df2 <- function(dataframe){\n",
    "    total_complete_rows <- 0\n",
    "    for(row in 1:nrow(dataframe)){\n",
    "        if(sum(is.na(dataframe[row,])) == 0){\n",
    "            total_complete_rows<-total_complete_rows+1\n",
    "        }\n",
    "    }\n",
    "    return(total_complete_rows)\n",
    "}\n",
    "\n",
    "count_complete_rows_df <- function(dataframe){\n",
    "    total_complete_rows <- 0\n",
    "    for(row in 1:nrow(dataframe)){\n",
    "        if(row_complete(dataframe[row,])){\n",
    "            total_complete_rows<-total_complete_rows+1\n",
    "        }\n",
    "    }\n",
    "    return(total_complete_rows)\n",
    "}\n",
    "\n",
    "complete <- function(directory, ids = 1:332){\n",
    "  df_colClasses = c(\"character\",\"integer\")\n",
    "  df_colNames = c(\"FileName\",\"Count\")\n",
    "  total_df <- read.table(text=\"\",colClasses = df_colClasses,col.names = df_colNames)\n",
    "  for(id in ids){\n",
    "      file_name = paste(getwd(),\"/\",directory,\"/\", sprintf(\"%03d\",id),\".csv\",sep=\"\")\n",
    "      #print(file_name)\n",
    "      df_colClasses = c(\"character\",\"double\",\"double\",\"integer\")\n",
    "      new_df <- read.csv(file_name, header=TRUE, colClasses = df_colClasses) \n",
    "      #print(new_df[5,])\n",
    "      #print(sum(is.na(new_df[5,])))\n",
    "      nobs <- count_complete_rows_df(new_df)\n",
    "      new_entry <- data.frame(id, nobs)\n",
    "      total_df <- rbind(new_entry, total_df)\n",
    "  }\n",
    "    return(total_df)\n",
    "}"
   ]
  },
  {
   "cell_type": "code",
   "execution_count": 110,
   "metadata": {},
   "outputs": [
    {
     "name": "stdout",
     "output_type": "stream",
     "text": [
      "  id nobs\n",
      "1  1  117\n"
     ]
    }
   ],
   "source": [
    "complete(\"specdata\", 1)\n",
    "##   id nobs\n",
    "## 1  1  117"
   ]
  },
  {
   "cell_type": "code",
   "execution_count": 111,
   "metadata": {},
   "outputs": [
    {
     "name": "stdout",
     "output_type": "stream",
     "text": [
      "  id nobs\n",
      "1 12   96\n",
      "2 10  148\n",
      "3  8  192\n",
      "4  4  474\n",
      "5  2 1041\n"
     ]
    }
   ],
   "source": [
    "complete(\"specdata\", c(2, 4, 8, 10, 12))\n",
    "##   id nobs\n",
    "## 1  2 1041\n",
    "## 2  4  474\n",
    "## 3  8  192\n",
    "## 4 10  148\n",
    "## 5 12   96"
   ]
  },
  {
   "cell_type": "code",
   "execution_count": 112,
   "metadata": {},
   "outputs": [
    {
     "name": "stdout",
     "output_type": "stream",
     "text": [
      "  id nobs\n",
      "1 25  463\n",
      "2 26  586\n",
      "3 27  338\n",
      "4 28  475\n",
      "5 29  711\n",
      "6 30  932\n"
     ]
    }
   ],
   "source": [
    "complete(\"specdata\", 30:25)\n",
    "##   id nobs\n",
    "## 1 30  932\n",
    "## 2 29  711\n",
    "## 3 28  475\n",
    "## 4 27  338\n",
    "## 5 26  586\n",
    "## 6 25  463"
   ]
  },
  {
   "cell_type": "markdown",
   "metadata": {},
   "source": [
    "### Part 3\n",
    "\n",
    "Write a function that takes a directory of data files and a threshold for complete cases and calculates the correlation between sulfate and nitrate for monitor locations where the number of completely observed cases (on all variables) is greater than the threshold. The function should return a vector of correlations for the monitors that meet the threshold requirement. If no monitors meet the threshold requirement, then the function should return a numeric vector of length 0. A prototype of this function follows"
   ]
  },
  {
   "cell_type": "code",
   "execution_count": null,
   "metadata": {},
   "outputs": [],
   "source": [
    "corr <- function(directory, threshold = 0){\n",
    "    \n",
    "    all_corr <- list()\n",
    "    complete_df <- complete(directory)\n",
    "    for(row in 1:nrow(complete_df)){\n",
    "        if(complete_df[,row][2] > threshold){\n",
    "            id_corr <- file_correlation(row)\n",
    "            list.append(all_corr, id_corr)\n",
    "        }\n",
    "    }\n",
    "    return(all_corr)\n",
    "}\n",
    "\n",
    "file_correlation <- function(id){\n",
    "\n",
    "    file_name = paste(getwd(),\"/\",directory,\"/\", sprintf(\"%03d\",id),\".csv\",sep=\"\")\n",
    "    df_colClasses = c(\"character\",\"double\",\"double\",\"integer\")\n",
    "    new_df <- read.csv(file_name, header=TRUE, colClasses = df_colClasses) \n",
    "    id_corr <- corr(new_df[2],new_df[3])\n",
    "    return(id_corr)\n",
    "}"
   ]
  },
  {
   "cell_type": "code",
   "execution_count": null,
   "metadata": {},
   "outputs": [],
   "source": [
    "cr <- corr(\"specdata\", 150)\n",
    "head(cr)\n",
    "## [1] -0.01895754 -0.14051254 -0.04389737 -0.06815956 -0.12350667 -0.07588814"
   ]
  },
  {
   "cell_type": "code",
   "execution_count": null,
   "metadata": {},
   "outputs": [],
   "source": [
    "summary(cr)\n",
    "##     Min.  1st Qu.   Median     Mean  3rd Qu.     Max. \n",
    "## -0.21057 -0.04999  0.09463  0.12525  0.26844  0.76313"
   ]
  },
  {
   "cell_type": "code",
   "execution_count": null,
   "metadata": {},
   "outputs": [],
   "source": [
    "cr <- corr(\"specdata\", 400)\n",
    "head(cr)\n",
    "## [1] -0.01895754 -0.04389737 -0.06815956 -0.07588814  0.76312884 -0.15782860\n"
   ]
  },
  {
   "cell_type": "code",
   "execution_count": null,
   "metadata": {},
   "outputs": [],
   "source": [
    "summary(cr)\n",
    "##     Min.  1st Qu.   Median     Mean  3rd Qu.     Max. \n",
    "## -0.17623 -0.03109  0.10021  0.13969  0.26849  0.76313"
   ]
  },
  {
   "cell_type": "markdown",
   "metadata": {},
   "source": [
    "## Prototyping Section"
   ]
  },
  {
   "cell_type": "code",
   "execution_count": 5,
   "metadata": {},
   "outputs": [],
   "source": [
    "file_name <- \"C:\\\\Users\\\\harash\\\\Dropbox\\\\github-repo\\\\learning\\\\courses\\\\jhu-data-science-spec\\\\r-prog\\\\specdata\\\\001.csv\"\n",
    "new_df <- read.csv(file_name, header=TRUE) "
   ]
  },
  {
   "cell_type": "code",
   "execution_count": null,
   "metadata": {},
   "outputs": [],
   "source": [
    "is.na(new_df)"
   ]
  },
  {
   "cell_type": "code",
   "execution_count": 12,
   "metadata": {},
   "outputs": [
    {
     "data": {
      "text/html": [
       "<ol>\n",
       "\t<li>'002.csv'</li>\n",
       "</ol>\n"
      ],
      "text/latex": [
       "\\begin{enumerate}\n",
       "\\item '002.csv'\n",
       "\\end{enumerate}\n"
      ],
      "text/markdown": [
       "1. '002.csv'\n",
       "\n",
       "\n"
      ],
      "text/plain": [
       "[[1]]\n",
       "[1] \"002.csv\"\n"
      ]
     },
     "metadata": {},
     "output_type": "display_data"
    }
   ],
   "source": [
    "list(paste(sprintf(\"%03d\",2),\".csv\",sep=\"\"))"
   ]
  },
  {
   "cell_type": "code",
   "execution_count": 11,
   "metadata": {},
   "outputs": [
    {
     "name": "stdout",
     "output_type": "stream",
     "text": [
      "[[1]]\n",
      "[1] 1\n",
      "\n",
      "[[2]]\n",
      "[1] 2\n",
      "\n",
      "[[3]]\n",
      "[1] 3\n",
      "\n",
      "[[4]]\n",
      "[1] 4\n",
      "\n"
     ]
    }
   ],
   "source": [
    "print(list(1,2,3,4))"
   ]
  },
  {
   "cell_type": "code",
   "execution_count": null,
   "metadata": {},
   "outputs": [],
   "source": []
  }
 ],
 "metadata": {
  "kernelspec": {
   "display_name": "R",
   "language": "R",
   "name": "ir"
  },
  "language_info": {
   "codemirror_mode": "r",
   "file_extension": ".r",
   "mimetype": "text/x-r-source",
   "name": "R",
   "pygments_lexer": "r",
   "version": "3.5.1"
  }
 },
 "nbformat": 4,
 "nbformat_minor": 2
}
