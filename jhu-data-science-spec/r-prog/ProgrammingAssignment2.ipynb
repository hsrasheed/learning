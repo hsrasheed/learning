{
 "cells": [
  {
   "cell_type": "code",
   "execution_count": null,
   "metadata": {},
   "outputs": [],
   "source": []
  },
  {
   "cell_type": "markdown",
   "metadata": {},
   "source": [
    "## Examples"
   ]
  },
  {
   "cell_type": "code",
   "execution_count": 8,
   "metadata": {},
   "outputs": [],
   "source": [
    "makeVector <- function(x = numeric()) {\n",
    "        m <- NULL\n",
    "        set <- function(y) {\n",
    "                x <<- y\n",
    "                m <<- NULL\n",
    "        }\n",
    "        get <- function() x\n",
    "        ## What does this mean?\n",
    "        setmean <- function(mean) m <<- mean\n",
    "        getmean <- function() m\n",
    "        list(set = set, get = get,\n",
    "             setmean = setmean,\n",
    "             getmean = getmean)\n",
    "}"
   ]
  },
  {
   "cell_type": "code",
   "execution_count": 9,
   "metadata": {},
   "outputs": [],
   "source": [
    "cachemean <- function(x, ...) {\n",
    "        m <- x$getmean()\n",
    "        if(!is.null(m)) {\n",
    "                message(\"getting cached data\")\n",
    "                return(m)\n",
    "        }\n",
    "        data <- x$get()\n",
    "        m <- mean(data, ...)\n",
    "        x$setmean(m)\n",
    "        m\n",
    "}"
   ]
  },
  {
   "cell_type": "code",
   "execution_count": null,
   "metadata": {},
   "outputs": [],
   "source": [
    "## Assignment"
   ]
  },
  {
   "cell_type": "code",
   "execution_count": 1,
   "metadata": {},
   "outputs": [],
   "source": [
    "\n",
    "## Write a short comment describing this function\n",
    "\n",
    "makeCacheMatrix <- function(x = matrix()) {\n",
    "    i <- NULL\n",
    "    set <- function(y) {\n",
    "        x <<- y\n",
    "        i <<- NULL\n",
    "    }\n",
    "    get <- function() x\n",
    "    setinverse <- function(inverse) i <<- inverse\n",
    "    getinverse <- function() i\n",
    "    list(set = set, get = get,\n",
    "        setinverse = setinverse,\n",
    "        getinverse = getinverse)\n",
    "}"
   ]
  },
  {
   "cell_type": "code",
   "execution_count": 2,
   "metadata": {},
   "outputs": [],
   "source": [
    "## Write a short comment describing this function\n",
    "\n",
    "cacheSolve <- function(x, ...) {\n",
    "        ## Return a matrix that is the inverse of 'x'\n",
    "    i <- x$getinverse()\n",
    "    if(!is.null(i)){\n",
    "        message(\"getting cached data\")\n",
    "        return(i)\n",
    "    }\n",
    "    data <- x$get()\n",
    "    i <- solve(data, ...)\n",
    "    x$setinverse(i)\n",
    "    i\n",
    "}"
   ]
  },
  {
   "cell_type": "code",
   "execution_count": 4,
   "metadata": {},
   "outputs": [],
   "source": [
    "B = matrix( \n",
    "c(2, 4, 3, 1, 5, 7, 12, 14, 18), \n",
    "nrow=3, \n",
    "ncol=3) "
   ]
  },
  {
   "cell_type": "code",
   "execution_count": 5,
   "metadata": {},
   "outputs": [
    {
     "data": {
      "text/html": [
       "<table>\n",
       "<tbody>\n",
       "\t<tr><td>2 </td><td>1 </td><td>12</td></tr>\n",
       "\t<tr><td>4 </td><td>5 </td><td>14</td></tr>\n",
       "\t<tr><td>3 </td><td>7 </td><td>18</td></tr>\n",
       "</tbody>\n",
       "</table>\n"
      ],
      "text/latex": [
       "\\begin{tabular}{lll}\n",
       "\t 2  & 1  & 12\\\\\n",
       "\t 4  & 5  & 14\\\\\n",
       "\t 3  & 7  & 18\\\\\n",
       "\\end{tabular}\n"
      ],
      "text/markdown": [
       "\n",
       "| 2  | 1  | 12 | \n",
       "| 4  | 5  | 14 | \n",
       "| 3  | 7  | 18 | \n",
       "\n",
       "\n"
      ],
      "text/plain": [
       "     [,1] [,2] [,3]\n",
       "[1,] 2    1    12  \n",
       "[2,] 4    5    14  \n",
       "[3,] 3    7    18  "
      ]
     },
     "metadata": {},
     "output_type": "display_data"
    }
   ],
   "source": [
    "B"
   ]
  },
  {
   "cell_type": "code",
   "execution_count": 16,
   "metadata": {},
   "outputs": [],
   "source": [
    "temp_vector <- c(1,3,5,7,9,11)"
   ]
  },
  {
   "cell_type": "code",
   "execution_count": 17,
   "metadata": {},
   "outputs": [],
   "source": [
    "myVector <- makeVector(temp_vector)"
   ]
  },
  {
   "cell_type": "code",
   "execution_count": 18,
   "metadata": {},
   "outputs": [
    {
     "data": {
      "text/html": [
       "<ol class=list-inline>\n",
       "\t<li>1</li>\n",
       "\t<li>3</li>\n",
       "\t<li>5</li>\n",
       "\t<li>7</li>\n",
       "\t<li>9</li>\n",
       "\t<li>11</li>\n",
       "</ol>\n"
      ],
      "text/latex": [
       "\\begin{enumerate*}\n",
       "\\item 1\n",
       "\\item 3\n",
       "\\item 5\n",
       "\\item 7\n",
       "\\item 9\n",
       "\\item 11\n",
       "\\end{enumerate*}\n"
      ],
      "text/markdown": [
       "1. 1\n",
       "2. 3\n",
       "3. 5\n",
       "4. 7\n",
       "5. 9\n",
       "6. 11\n",
       "\n",
       "\n"
      ],
      "text/plain": [
       "[1]  1  3  5  7  9 11"
      ]
     },
     "metadata": {},
     "output_type": "display_data"
    }
   ],
   "source": [
    "myVector$get()"
   ]
  },
  {
   "cell_type": "code",
   "execution_count": 19,
   "metadata": {},
   "outputs": [
    {
     "data": {
      "text/plain": [
       "NULL"
      ]
     },
     "metadata": {},
     "output_type": "display_data"
    }
   ],
   "source": [
    "myVector$getmean()"
   ]
  },
  {
   "cell_type": "code",
   "execution_count": 20,
   "metadata": {},
   "outputs": [
    {
     "ename": "ERROR",
     "evalue": "Error in myVector$setmean(): argument \"mean\" is missing, with no default\n",
     "execution_count": 20,
     "output_type": "error",
     "traceback": [
      "Error in myVector$setmean(): argument \"mean\" is missing, with no default\nTraceback:\n",
      "1. myVector$setmean()"
     ]
    }
   ],
   "source": [
    "myVector$setmean()"
   ]
  },
  {
   "cell_type": "code",
   "execution_count": 22,
   "metadata": {},
   "outputs": [
    {
     "data": {
      "text/html": [
       "<ol class=list-inline>\n",
       "\t<li>1</li>\n",
       "\t<li>3</li>\n",
       "\t<li>5</li>\n",
       "\t<li>7</li>\n",
       "\t<li>9</li>\n",
       "\t<li>11</li>\n",
       "</ol>\n"
      ],
      "text/latex": [
       "\\begin{enumerate*}\n",
       "\\item 1\n",
       "\\item 3\n",
       "\\item 5\n",
       "\\item 7\n",
       "\\item 9\n",
       "\\item 11\n",
       "\\end{enumerate*}\n"
      ],
      "text/markdown": [
       "1. 1\n",
       "2. 3\n",
       "3. 5\n",
       "4. 7\n",
       "5. 9\n",
       "6. 11\n",
       "\n",
       "\n"
      ],
      "text/plain": [
       "[1]  1  3  5  7  9 11"
      ]
     },
     "metadata": {},
     "output_type": "display_data"
    }
   ],
   "source": [
    "myVector$get()"
   ]
  },
  {
   "cell_type": "code",
   "execution_count": 23,
   "metadata": {},
   "outputs": [
    {
     "data": {
      "text/html": [
       "6"
      ],
      "text/latex": [
       "6"
      ],
      "text/markdown": [
       "6"
      ],
      "text/plain": [
       "[1] 6"
      ]
     },
     "metadata": {},
     "output_type": "display_data"
    }
   ],
   "source": [
    "cachemean(myVector)"
   ]
  },
  {
   "cell_type": "code",
   "execution_count": 24,
   "metadata": {},
   "outputs": [],
   "source": [
    "myMatrix <- makeCacheMatrix(B)"
   ]
  },
  {
   "cell_type": "code",
   "execution_count": 25,
   "metadata": {},
   "outputs": [
    {
     "data": {
      "text/html": [
       "<table>\n",
       "<tbody>\n",
       "\t<tr><td>-0.07272727  </td><td> 6.000000e-01</td><td>-0.41818182  </td></tr>\n",
       "\t<tr><td>-0.27272727  </td><td>-3.416071e-17</td><td> 0.18181818  </td></tr>\n",
       "\t<tr><td> 0.11818182  </td><td>-1.000000e-01</td><td> 0.05454545  </td></tr>\n",
       "</tbody>\n",
       "</table>\n"
      ],
      "text/latex": [
       "\\begin{tabular}{lll}\n",
       "\t -0.07272727   &  6.000000e-01 & -0.41818182  \\\\\n",
       "\t -0.27272727   & -3.416071e-17 &  0.18181818  \\\\\n",
       "\t  0.11818182   & -1.000000e-01 &  0.05454545  \\\\\n",
       "\\end{tabular}\n"
      ],
      "text/markdown": [
       "\n",
       "| -0.07272727   |  6.000000e-01 | -0.41818182   | \n",
       "| -0.27272727   | -3.416071e-17 |  0.18181818   | \n",
       "|  0.11818182   | -1.000000e-01 |  0.05454545   | \n",
       "\n",
       "\n"
      ],
      "text/plain": [
       "     [,1]        [,2]          [,3]       \n",
       "[1,] -0.07272727  6.000000e-01 -0.41818182\n",
       "[2,] -0.27272727 -3.416071e-17  0.18181818\n",
       "[3,]  0.11818182 -1.000000e-01  0.05454545"
      ]
     },
     "metadata": {},
     "output_type": "display_data"
    }
   ],
   "source": [
    "cacheSolve(myMatrix)"
   ]
  },
  {
   "cell_type": "code",
   "execution_count": 26,
   "metadata": {},
   "outputs": [
    {
     "data": {
      "text/html": [
       "<ol class=list-inline>\n",
       "\t<li>1</li>\n",
       "\t<li>1</li>\n",
       "\t<li>2</li>\n",
       "\t<li>4</li>\n",
       "\t<li>1</li>\n",
       "</ol>\n"
      ],
      "text/latex": [
       "\\begin{enumerate*}\n",
       "\\item 1\n",
       "\\item 1\n",
       "\\item 2\n",
       "\\item 4\n",
       "\\item 1\n",
       "\\end{enumerate*}\n"
      ],
      "text/markdown": [
       "1. 1\n",
       "2. 1\n",
       "3. 2\n",
       "4. 4\n",
       "5. 1\n",
       "\n",
       "\n"
      ],
      "text/plain": [
       "[1] 1 1 2 4 1"
      ]
     },
     "metadata": {},
     "output_type": "display_data"
    }
   ],
   "source": [
    "set.seed(1)\n",
    "rpois(5, 2)"
   ]
  },
  {
   "cell_type": "code",
   "execution_count": 30,
   "metadata": {},
   "outputs": [
    {
     "data": {
      "text/html": [
       "<ol class=list-inline>\n",
       "\t<li>1</li>\n",
       "\t<li>2</li>\n",
       "\t<li>3</li>\n",
       "\t<li>4</li>\n",
       "\t<li>1</li>\n",
       "\t<li>2</li>\n",
       "\t<li>3</li>\n",
       "\t<li>4</li>\n",
       "</ol>\n"
      ],
      "text/latex": [
       "\\begin{enumerate*}\n",
       "\\item 1\n",
       "\\item 2\n",
       "\\item 3\n",
       "\\item 4\n",
       "\\item 1\n",
       "\\item 2\n",
       "\\item 3\n",
       "\\item 4\n",
       "\\end{enumerate*}\n"
      ],
      "text/markdown": [
       "1. 1\n",
       "2. 2\n",
       "3. 3\n",
       "4. 4\n",
       "5. 1\n",
       "6. 2\n",
       "7. 3\n",
       "8. 4\n",
       "\n",
       "\n"
      ],
      "text/plain": [
       "[1] 1 2 3 4 1 2 3 4"
      ]
     },
     "metadata": {},
     "output_type": "display_data"
    }
   ],
   "source": [
    "rep(1:4, 2)"
   ]
  },
  {
   "cell_type": "code",
   "execution_count": 31,
   "metadata": {},
   "outputs": [],
   "source": [
    "set.seed(10)\n",
    "x <- rep(0:1, each = 5)\n",
    "e <- rnorm(10, 0, 20)\n",
    "y <- 0.5 + 2 * x + e"
   ]
  },
  {
   "cell_type": "code",
   "execution_count": 32,
   "metadata": {},
   "outputs": [
    {
     "data": {
      "text/html": [
       "<ol class=list-inline>\n",
       "\t<li>0.874923418836528</li>\n",
       "\t<li>-3.18505084138127</li>\n",
       "\t<li>-26.9266109984502</li>\n",
       "\t<li>-11.4833543156744</li>\n",
       "\t<li>6.39090253135016</li>\n",
       "\t<li>10.2958860140033</li>\n",
       "\t<li>-21.6615235085897</li>\n",
       "\t<li>-4.77352034941725</li>\n",
       "\t<li>-30.0334536340618</li>\n",
       "\t<li>-2.62956788247983</li>\n",
       "</ol>\n"
      ],
      "text/latex": [
       "\\begin{enumerate*}\n",
       "\\item 0.874923418836528\n",
       "\\item -3.18505084138127\n",
       "\\item -26.9266109984502\n",
       "\\item -11.4833543156744\n",
       "\\item 6.39090253135016\n",
       "\\item 10.2958860140033\n",
       "\\item -21.6615235085897\n",
       "\\item -4.77352034941725\n",
       "\\item -30.0334536340618\n",
       "\\item -2.62956788247983\n",
       "\\end{enumerate*}\n"
      ],
      "text/markdown": [
       "1. 0.874923418836528\n",
       "2. -3.18505084138127\n",
       "3. -26.9266109984502\n",
       "4. -11.4833543156744\n",
       "5. 6.39090253135016\n",
       "6. 10.2958860140033\n",
       "7. -21.6615235085897\n",
       "8. -4.77352034941725\n",
       "9. -30.0334536340618\n",
       "10. -2.62956788247983\n",
       "\n",
       "\n"
      ],
      "text/plain": [
       " [1]   0.8749234  -3.1850508 -26.9266110 -11.4833543   6.3909025  10.2958860\n",
       " [7] -21.6615235  -4.7735203 -30.0334536  -2.6295679"
      ]
     },
     "metadata": {},
     "output_type": "display_data"
    }
   ],
   "source": [
    "y"
   ]
  },
  {
   "cell_type": "code",
   "execution_count": 33,
   "metadata": {},
   "outputs": [
    {
     "data": {
      "text/html": [
       "\n",
       "<table width=\"100%\" summary=\"page for Poisson {stats}\"><tr><td>Poisson {stats}</td><td style=\"text-align: right;\">R Documentation</td></tr></table>\n",
       "\n",
       "<h2>The Poisson Distribution</h2>\n",
       "\n",
       "<h3>Description</h3>\n",
       "\n",
       "<p>Density, distribution function, quantile function and random\n",
       "generation for the Poisson distribution with parameter <code>lambda</code>.\n",
       "</p>\n",
       "\n",
       "\n",
       "<h3>Usage</h3>\n",
       "\n",
       "<pre>\n",
       "dpois(x, lambda, log = FALSE)\n",
       "ppois(q, lambda, lower.tail = TRUE, log.p = FALSE)\n",
       "qpois(p, lambda, lower.tail = TRUE, log.p = FALSE)\n",
       "rpois(n, lambda)\n",
       "</pre>\n",
       "\n",
       "\n",
       "<h3>Arguments</h3>\n",
       "\n",
       "<table summary=\"R argblock\">\n",
       "<tr valign=\"top\"><td><code>x</code></td>\n",
       "<td>\n",
       "<p>vector of (non-negative integer) quantiles.</p>\n",
       "</td></tr>\n",
       "<tr valign=\"top\"><td><code>q</code></td>\n",
       "<td>\n",
       "<p>vector of quantiles.</p>\n",
       "</td></tr>\n",
       "<tr valign=\"top\"><td><code>p</code></td>\n",
       "<td>\n",
       "<p>vector of probabilities.</p>\n",
       "</td></tr>\n",
       "<tr valign=\"top\"><td><code>n</code></td>\n",
       "<td>\n",
       "<p>number of random values to return.</p>\n",
       "</td></tr>\n",
       "<tr valign=\"top\"><td><code>lambda</code></td>\n",
       "<td>\n",
       "<p>vector of (non-negative) means.</p>\n",
       "</td></tr>\n",
       "<tr valign=\"top\"><td><code>log, log.p</code></td>\n",
       "<td>\n",
       "<p>logical; if TRUE, probabilities p are given as log(p).</p>\n",
       "</td></tr>\n",
       "<tr valign=\"top\"><td><code>lower.tail</code></td>\n",
       "<td>\n",
       "<p>logical; if TRUE (default), probabilities are\n",
       "<i>P[X &le; x]</i>, otherwise, <i>P[X &gt; x]</i>.</p>\n",
       "</td></tr>\n",
       "</table>\n",
       "\n",
       "\n",
       "<h3>Details</h3>\n",
       "\n",
       "<p>The Poisson distribution has density\n",
       "\n",
       "</p>\n",
       "<p style=\"text-align: center;\"><i>p(x) = &lambda;^x exp(-&lambda;)/x!</i></p>\n",
       "\n",
       "<p>for <i>x = 0, 1, 2, &hellip;</i> .\n",
       "The mean and variance are <i>E(X) = Var(X) = &lambda;</i>.\n",
       "</p>\n",
       "<p>Note that <i>&lambda; = 0</i> is really a limit case (setting\n",
       "<i>0^0 = 1</i>) resulting in a point mass at <i>0</i>, see also the example.\n",
       "</p>\n",
       "<p>If an element of <code>x</code> is not integer, the result of <code>dpois</code>\n",
       "is zero, with a warning.\n",
       "<i>p(x)</i> is computed using Loader's algorithm, see the reference in\n",
       "<code>dbinom</code>.\n",
       "</p>\n",
       "<p>The quantile is right continuous: <code>qpois(p, lambda)</code> is the smallest\n",
       "integer <i>x</i> such that <i>P(X &le; x) &ge; p</i>.\n",
       "</p>\n",
       "<p>Setting <code>lower.tail = FALSE</code> allows to get much more precise\n",
       "results when the default, <code>lower.tail = TRUE</code> would return 1, see\n",
       "the example below.\n",
       "</p>\n",
       "\n",
       "\n",
       "<h3>Value</h3>\n",
       "\n",
       "<p><code>dpois</code> gives the (log) density,\n",
       "<code>ppois</code> gives the (log) distribution function,\n",
       "<code>qpois</code> gives the quantile function, and\n",
       "<code>rpois</code> generates random deviates.\n",
       "</p>\n",
       "<p>Invalid <code>lambda</code> will result in return value <code>NaN</code>, with a warning.\n",
       "</p>\n",
       "<p>The length of the result is determined by <code>n</code> for\n",
       "<code>rpois</code>, and is the maximum of the lengths of the\n",
       "numerical arguments for the other functions.\n",
       "</p>\n",
       "<p>The numerical arguments other than <code>n</code> are recycled to the\n",
       "length of the result.  Only the first elements of the logical\n",
       "arguments are used.\n",
       "</p>\n",
       "\n",
       "\n",
       "<h3>Source</h3>\n",
       "\n",
       "<p><code>dpois</code> uses C code contributed by Catherine Loader\n",
       "(see <code>dbinom</code>).\n",
       "</p>\n",
       "<p><code>ppois</code> uses <code>pgamma</code>.\n",
       "</p>\n",
       "<p><code>qpois</code> uses the Cornish&ndash;Fisher Expansion to include a skewness\n",
       "correction to a normal approximation, followed by a search.\n",
       "</p>\n",
       "<p><code>rpois</code> uses\n",
       "</p>\n",
       "<p>Ahrens, J. H. and Dieter, U. (1982).\n",
       "Computer generation of Poisson deviates from modified normal distributions.\n",
       "<em>ACM Transactions on Mathematical Software</em>, <b>8</b>, 163&ndash;179.\n",
       "</p>\n",
       "\n",
       "\n",
       "<h3>See Also</h3>\n",
       "\n",
       "<p>Distributions for other standard distributions, including\n",
       "<code>dbinom</code> for the binomial and <code>dnbinom</code> for\n",
       "the negative binomial distribution.\n",
       "</p>\n",
       "<p><code>poisson.test</code>.\n",
       "</p>\n",
       "\n",
       "\n",
       "<h3>Examples</h3>\n",
       "\n",
       "<pre>\n",
       "require(graphics)\n",
       "\n",
       "-log(dpois(0:7, lambda = 1) * gamma(1+ 0:7)) # == 1\n",
       "Ni &lt;- rpois(50, lambda = 4); table(factor(Ni, 0:max(Ni)))\n",
       "\n",
       "1 - ppois(10*(15:25), lambda = 100)  # becomes 0 (cancellation)\n",
       "    ppois(10*(15:25), lambda = 100, lower.tail = FALSE)  # no cancellation\n",
       "\n",
       "par(mfrow = c(2, 1))\n",
       "x &lt;- seq(-0.01, 5, 0.01)\n",
       "plot(x, ppois(x, 1), type = \"s\", ylab = \"F(x)\", main = \"Poisson(1) CDF\")\n",
       "plot(x, pbinom(x, 100, 0.01), type = \"s\", ylab = \"F(x)\",\n",
       "     main = \"Binomial(100, 0.01) CDF\")\n",
       "\n",
       "## The (limit) case  lambda = 0 :\n",
       "stopifnot(identical(dpois(0,0), 1),\n",
       "\t  identical(ppois(0,0), 1),\n",
       "\t  identical(qpois(1,0), 0))\n",
       "</pre>\n",
       "\n",
       "<hr /><div style=\"text-align: center;\">[Package <em>stats</em> version 3.5.1 ]</div>"
      ],
      "text/latex": [
       "\\inputencoding{utf8}\n",
       "\\HeaderA{Poisson}{The Poisson Distribution}{Poisson}\n",
       "\\aliasA{dpois}{Poisson}{dpois}\n",
       "\\aliasA{ppois}{Poisson}{ppois}\n",
       "\\aliasA{qpois}{Poisson}{qpois}\n",
       "\\aliasA{rpois}{Poisson}{rpois}\n",
       "\\keyword{distribution}{Poisson}\n",
       "%\n",
       "\\begin{Description}\\relax\n",
       "Density, distribution function, quantile function and random\n",
       "generation for the Poisson distribution with parameter \\code{lambda}.\n",
       "\\end{Description}\n",
       "%\n",
       "\\begin{Usage}\n",
       "\\begin{verbatim}\n",
       "dpois(x, lambda, log = FALSE)\n",
       "ppois(q, lambda, lower.tail = TRUE, log.p = FALSE)\n",
       "qpois(p, lambda, lower.tail = TRUE, log.p = FALSE)\n",
       "rpois(n, lambda)\n",
       "\\end{verbatim}\n",
       "\\end{Usage}\n",
       "%\n",
       "\\begin{Arguments}\n",
       "\\begin{ldescription}\n",
       "\\item[\\code{x}] vector of (non-negative integer) quantiles.\n",
       "\\item[\\code{q}] vector of quantiles.\n",
       "\\item[\\code{p}] vector of probabilities.\n",
       "\\item[\\code{n}] number of random values to return.\n",
       "\\item[\\code{lambda}] vector of (non-negative) means.\n",
       "\\item[\\code{log, log.p}] logical; if TRUE, probabilities p are given as log(p).\n",
       "\\item[\\code{lower.tail}] logical; if TRUE (default), probabilities are\n",
       "\\eqn{P[X \\le x]}{}, otherwise, \\eqn{P[X > x]}{}.\n",
       "\\end{ldescription}\n",
       "\\end{Arguments}\n",
       "%\n",
       "\\begin{Details}\\relax\n",
       "The Poisson distribution has density\n",
       "\n",
       "\\deqn{p(x) = \\frac{\\lambda^x e^{-\\lambda}}{x!}}{}\n",
       "for \\eqn{x = 0, 1, 2, \\ldots}{} .\n",
       "The mean and variance are \\eqn{E(X) = Var(X) = \\lambda}{}.\n",
       "\n",
       "Note that \\eqn{\\lambda = 0}{} is really a limit case (setting\n",
       "\\eqn{0^0 = 1}{}) resulting in a point mass at \\eqn{0}{}, see also the example.\n",
       "\n",
       "If an element of \\code{x} is not integer, the result of \\code{dpois}\n",
       "is zero, with a warning.\n",
       "\\eqn{p(x)}{} is computed using Loader's algorithm, see the reference in\n",
       "\\code{\\LinkA{dbinom}{dbinom}}.\n",
       "\n",
       "The quantile is right continuous: \\code{qpois(p, lambda)} is the smallest\n",
       "integer \\eqn{x}{} such that \\eqn{P(X \\le x) \\ge p}{}.\n",
       "\n",
       "Setting \\code{lower.tail = FALSE} allows to get much more precise\n",
       "results when the default, \\code{lower.tail = TRUE} would return 1, see\n",
       "the example below.\n",
       "\\end{Details}\n",
       "%\n",
       "\\begin{Value}\n",
       "\\code{dpois} gives the (log) density,\n",
       "\\code{ppois} gives the (log) distribution function,\n",
       "\\code{qpois} gives the quantile function, and\n",
       "\\code{rpois} generates random deviates.\n",
       "\n",
       "Invalid \\code{lambda} will result in return value \\code{NaN}, with a warning.\n",
       "\n",
       "The length of the result is determined by \\code{n} for\n",
       "\\code{rpois}, and is the maximum of the lengths of the\n",
       "numerical arguments for the other functions.\n",
       "\n",
       "The numerical arguments other than \\code{n} are recycled to the\n",
       "length of the result.  Only the first elements of the logical\n",
       "arguments are used.\n",
       "\\end{Value}\n",
       "%\n",
       "\\begin{Source}\\relax\n",
       "\\code{dpois} uses C code contributed by Catherine Loader\n",
       "(see \\code{\\LinkA{dbinom}{dbinom}}).\n",
       "\n",
       "\\code{ppois} uses \\code{pgamma}.\n",
       "\n",
       "\\code{qpois} uses the Cornish--Fisher Expansion to include a skewness\n",
       "correction to a normal approximation, followed by a search.\n",
       "\n",
       "\\code{rpois} uses\n",
       "\n",
       "Ahrens, J. H. and Dieter, U. (1982).\n",
       "Computer generation of Poisson deviates from modified normal distributions.\n",
       "\\emph{ACM Transactions on Mathematical Software}, \\bold{8}, 163--179.\n",
       "\\end{Source}\n",
       "%\n",
       "\\begin{SeeAlso}\\relax\n",
       "\\LinkA{Distributions}{Distributions} for other standard distributions, including\n",
       "\\code{\\LinkA{dbinom}{dbinom}} for the binomial and \\code{\\LinkA{dnbinom}{dnbinom}} for\n",
       "the negative binomial distribution.\n",
       "\n",
       "\\code{\\LinkA{poisson.test}{poisson.test}}.\n",
       "\\end{SeeAlso}\n",
       "%\n",
       "\\begin{Examples}\n",
       "\\begin{ExampleCode}\n",
       "require(graphics)\n",
       "\n",
       "-log(dpois(0:7, lambda = 1) * gamma(1+ 0:7)) # == 1\n",
       "Ni <- rpois(50, lambda = 4); table(factor(Ni, 0:max(Ni)))\n",
       "\n",
       "1 - ppois(10*(15:25), lambda = 100)  # becomes 0 (cancellation)\n",
       "    ppois(10*(15:25), lambda = 100, lower.tail = FALSE)  # no cancellation\n",
       "\n",
       "par(mfrow = c(2, 1))\n",
       "x <- seq(-0.01, 5, 0.01)\n",
       "plot(x, ppois(x, 1), type = \"s\", ylab = \"F(x)\", main = \"Poisson(1) CDF\")\n",
       "plot(x, pbinom(x, 100, 0.01), type = \"s\", ylab = \"F(x)\",\n",
       "     main = \"Binomial(100, 0.01) CDF\")\n",
       "\n",
       "## The (limit) case  lambda = 0 :\n",
       "stopifnot(identical(dpois(0,0), 1),\n",
       "\t  identical(ppois(0,0), 1),\n",
       "\t  identical(qpois(1,0), 0))\n",
       "\\end{ExampleCode}\n",
       "\\end{Examples}"
      ],
      "text/plain": [
       "Poisson                 package:stats                  R Documentation\n",
       "\n",
       "_\bT_\bh_\be _\bP_\bo_\bi_\bs_\bs_\bo_\bn _\bD_\bi_\bs_\bt_\br_\bi_\bb_\bu_\bt_\bi_\bo_\bn\n",
       "\n",
       "_\bD_\be_\bs_\bc_\br_\bi_\bp_\bt_\bi_\bo_\bn:\n",
       "\n",
       "     Density, distribution function, quantile function and random\n",
       "     generation for the Poisson distribution with parameter 'lambda'.\n",
       "\n",
       "_\bU_\bs_\ba_\bg_\be:\n",
       "\n",
       "     dpois(x, lambda, log = FALSE)\n",
       "     ppois(q, lambda, lower.tail = TRUE, log.p = FALSE)\n",
       "     qpois(p, lambda, lower.tail = TRUE, log.p = FALSE)\n",
       "     rpois(n, lambda)\n",
       "     \n",
       "_\bA_\br_\bg_\bu_\bm_\be_\bn_\bt_\bs:\n",
       "\n",
       "       x: vector of (non-negative integer) quantiles.\n",
       "\n",
       "       q: vector of quantiles.\n",
       "\n",
       "       p: vector of probabilities.\n",
       "\n",
       "       n: number of random values to return.\n",
       "\n",
       "  lambda: vector of (non-negative) means.\n",
       "\n",
       "log, log.p: logical; if TRUE, probabilities p are given as log(p).\n",
       "\n",
       "lower.tail: logical; if TRUE (default), probabilities are P[X <= x],\n",
       "          otherwise, P[X > x].\n",
       "\n",
       "_\bD_\be_\bt_\ba_\bi_\bl_\bs:\n",
       "\n",
       "     The Poisson distribution has density\n",
       "\n",
       "                       p(x) = lambda^x exp(-lambda)/x!                  \n",
       "     \n",
       "     for x = 0, 1, 2, ... .  The mean and variance are E(X) = Var(X) =\n",
       "     lambda.\n",
       "\n",
       "     Note that lambda = 0 is really a limit case (setting 0^0 = 1)\n",
       "     resulting in a point mass at 0, see also the example.\n",
       "\n",
       "     If an element of 'x' is not integer, the result of 'dpois' is\n",
       "     zero, with a warning.  p(x) is computed using Loader's algorithm,\n",
       "     see the reference in 'dbinom'.\n",
       "\n",
       "     The quantile is right continuous: 'qpois(p, lambda)' is the\n",
       "     smallest integer x such that P(X <= x) >= p.\n",
       "\n",
       "     Setting 'lower.tail = FALSE' allows to get much more precise\n",
       "     results when the default, 'lower.tail = TRUE' would return 1, see\n",
       "     the example below.\n",
       "\n",
       "_\bV_\ba_\bl_\bu_\be:\n",
       "\n",
       "     'dpois' gives the (log) density, 'ppois' gives the (log)\n",
       "     distribution function, 'qpois' gives the quantile function, and\n",
       "     'rpois' generates random deviates.\n",
       "\n",
       "     Invalid 'lambda' will result in return value 'NaN', with a\n",
       "     warning.\n",
       "\n",
       "     The length of the result is determined by 'n' for 'rpois', and is\n",
       "     the maximum of the lengths of the numerical arguments for the\n",
       "     other functions.\n",
       "\n",
       "     The numerical arguments other than 'n' are recycled to the length\n",
       "     of the result.  Only the first elements of the logical arguments\n",
       "     are used.\n",
       "\n",
       "_\bS_\bo_\bu_\br_\bc_\be:\n",
       "\n",
       "     'dpois' uses C code contributed by Catherine Loader (see\n",
       "     'dbinom').\n",
       "\n",
       "     'ppois' uses 'pgamma'.\n",
       "\n",
       "     'qpois' uses the Cornish-Fisher Expansion to include a skewness\n",
       "     correction to a normal approximation, followed by a search.\n",
       "\n",
       "     'rpois' uses\n",
       "\n",
       "     Ahrens, J. H. and Dieter, U. (1982).  Computer generation of\n",
       "     Poisson deviates from modified normal distributions.  _ACM\n",
       "     Transactions on Mathematical Software_, *8*, 163-179.\n",
       "\n",
       "_\bS_\be_\be _\bA_\bl_\bs_\bo:\n",
       "\n",
       "     Distributions for other standard distributions, including 'dbinom'\n",
       "     for the binomial and 'dnbinom' for the negative binomial\n",
       "     distribution.\n",
       "\n",
       "     'poisson.test'.\n",
       "\n",
       "_\bE_\bx_\ba_\bm_\bp_\bl_\be_\bs:\n",
       "\n",
       "     require(graphics)\n",
       "     \n",
       "     -log(dpois(0:7, lambda = 1) * gamma(1+ 0:7)) # == 1\n",
       "     Ni <- rpois(50, lambda = 4); table(factor(Ni, 0:max(Ni)))\n",
       "     \n",
       "     1 - ppois(10*(15:25), lambda = 100)  # becomes 0 (cancellation)\n",
       "         ppois(10*(15:25), lambda = 100, lower.tail = FALSE)  # no cancellation\n",
       "     \n",
       "     par(mfrow = c(2, 1))\n",
       "     x <- seq(-0.01, 5, 0.01)\n",
       "     plot(x, ppois(x, 1), type = \"s\", ylab = \"F(x)\", main = \"Poisson(1) CDF\")\n",
       "     plot(x, pbinom(x, 100, 0.01), type = \"s\", ylab = \"F(x)\",\n",
       "          main = \"Binomial(100, 0.01) CDF\")\n",
       "     \n",
       "     ## The (limit) case  lambda = 0 :\n",
       "     stopifnot(identical(dpois(0,0), 1),\n",
       "               identical(ppois(0,0), 1),\n",
       "               identical(qpois(1,0), 0))\n",
       "     "
      ]
     },
     "metadata": {},
     "output_type": "display_data"
    }
   ],
   "source": [
    "?dpois"
   ]
  },
  {
   "cell_type": "code",
   "execution_count": null,
   "metadata": {},
   "outputs": [],
   "source": []
  }
 ],
 "metadata": {
  "kernelspec": {
   "display_name": "R",
   "language": "R",
   "name": "ir"
  },
  "language_info": {
   "codemirror_mode": "r",
   "file_extension": ".r",
   "mimetype": "text/x-r-source",
   "name": "R",
   "pygments_lexer": "r",
   "version": "3.5.1"
  }
 },
 "nbformat": 4,
 "nbformat_minor": 2
}
