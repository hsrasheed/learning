{
 "cells": [
  {
   "cell_type": "markdown",
   "metadata": {},
   "source": [
    "# Part 1 - The Mean"
   ]
  },
  {
   "cell_type": "markdown",
   "metadata": {},
   "source": [
    "# Introduction\n",
    "\n",
    "* Throughout this course we'll learn to summarize the distribution of a variable with a single value. Depending on the particular characteristics of a distribution, we'll see that we can summarize it using the mean, the weighted mean, the median, or the mode.\n",
    "* We'll learn to quantify variability using measures like variance and standard deviation.\n",
    "* Use z-score to find out if a particular value is common or extreme in a distribution\n",
    "\n",
    "* the arithmetic mean, or the mean - sum all the values in the distribution, and then divide the total by the number of values\n"
   ]
  },
  {
   "cell_type": "markdown",
   "metadata": {},
   "source": [
    "* Think of the mean as the value located at that particular point in the distribution where the total distance of the values below the mean is the same as the total distance of the values that are above the mean.\n",
    "* this is true for the distribution of any variable measured on an interval or ratio scale."
   ]
  },
  {
   "cell_type": "code",
   "execution_count": 2,
   "metadata": {},
   "outputs": [],
   "source": [
    "import pandas as pd\n",
    "\n",
    "houses = pd.read_csv('AmesHousing_1.txt',sep = '\\t')"
   ]
  },
  {
   "cell_type": "markdown",
   "metadata": {},
   "source": [
    "# 3 The Mean as a Balance point\n",
    "\n",
    "\n",
    "\n",
    "    Generate 5000 different distributions, measure the total distances above and below the mean, and check whether they are equal. For each of the 5000 iterations of a for loop:\n",
    "        Set a seed using the seed() function from numpy.random. For the first iteration, the seed number should be 0, for the second iteration it should be 1, for the third it should be 2, and so on.\n",
    "        Generate randomly a distribution of integers using the randint() function from numpy.random. Pass the right arguments to randint() such that each distribution will:\n",
    "            Have 10 values.\n",
    "            The values can range from 0 to 1000.\n",
    "        Compute the mean of the distribution.\n",
    "        Measure the total distance above and below the mean.\n",
    "            Round off each distance to 1 decimal place using the round() function. This will prevent rounding errors at the 13th or 14th decimal place.\n",
    "        Compare the two sums. If they are equal, then increment a variable named equal_distances with 1. You'll need to define equal_distances outside the loop with a value of 0.\n",
    "\n",
    "    At the end equal_distances should have a value of 5000. This will confirm that for each of the 5000 distributions the total distance of the values above the mean is equal to the total distance of the values below the mean.\n"
   ]
  },
  {
   "cell_type": "code",
   "execution_count": 3,
   "metadata": {},
   "outputs": [
    {
     "name": "stdout",
     "output_type": "stream",
     "text": [
      "5000\n"
     ]
    }
   ],
   "source": [
    "from numpy.random import randint, seed\n",
    "equal_distances = 0\n",
    "for i in range(5000):\n",
    "    seed(i)\n",
    "    distrib = randint(low=0,high=1000, size=10)\n",
    "    mean = distrib.mean()\n",
    "    total_dist_above = 0\n",
    "    total_dist_below = 0\n",
    "    for j in range(10):\n",
    "        if distrib[j] < mean:\n",
    "            total_dist_below += round(mean-distrib[j], ndigits=1)\n",
    "        else:\n",
    "            total_dist_above += round(distrib[j]-mean, ndigits=1)\n",
    "    if round(total_dist_above,ndigits=1) == round(total_dist_below,ndigits=1):\n",
    "        equal_distances += 1\n",
    "#    else:\n",
    "#        print(\"TDA \"+ str(total_dist_above) + \" TDB \"+str(total_dist_below))\n",
    "\n",
    "print(str(equal_distances))    "
   ]
  },
  {
   "cell_type": "code",
   "execution_count": null,
   "metadata": {},
   "outputs": [],
   "source": []
  },
  {
   "cell_type": "markdown",
   "metadata": {},
   "source": [
    "* population mean denoted with \"mu\", number of elements denoted with \"N\"\n",
    "* sample mean denoted with \"x-bar\", number of elements denoted with \"n\""
   ]
  },
  {
   "cell_type": "markdown",
   "metadata": {},
   "source": [
    "# 5 An Alternative Definition"
   ]
  },
  {
   "cell_type": "markdown",
   "metadata": {},
   "source": [
    "# 6\n",
    "\n",
    "\n",
    "    This data set has variables measured on every scale of measurement: nominal, ordinal, interval and ratio. (If you think this is true, assign the boolean True to the variable one, otherwise assign False.)\n",
    "    The SalePrice column is continuous and measured on an interval scale. (If you think this is true, assign the boolean True to the variable two, otherwise assign False.)\n",
    "    In the paper he published here, professor Dean DeCock wrote \"The initial Excel file contained 113 variables describing 3970 property sales that had occurred in Ames, Iowa between 2006 an 2010\". If we wanted to measure the mean sale prices for all the houses sold between 2006 and 2010 in Ames, Iowa, the data stored in the AmesHousing_1.txt would be a sample. (If you think the last sentence is true, assign the boolean True to the variable three, otherwise assign False.)\n"
   ]
  },
  {
   "cell_type": "code",
   "execution_count": 5,
   "metadata": {},
   "outputs": [],
   "source": [
    "import pandas as pd\n",
    "\n",
    "houses = pd.read_csv('AmesHousing_1.txt', sep='\\t')\n",
    "\n",
    "# A: there are one or two ordinal columns, many nominal variables, all the square footage measurements are ratios, the years are intervals\n",
    "one = True\n",
    "\n",
    "# A: sale price is a Ratio -> there is an absolute zero (even if one doesnt appear in the data set)\n",
    "two = False\n",
    "\n",
    "# A: we only have 3970 out of an unknown number of actual sales.\n",
    "three = True"
   ]
  },
  {
   "cell_type": "markdown",
   "metadata": {},
   "source": [
    "# 7 Mean House Prices\n",
    "\n",
    "* We can get a good overview of the prices distribution using describe()\n",
    "\n",
    "```python\n",
    "print(houses['SalePrice'].describe())\n",
    "```"
   ]
  },
  {
   "cell_type": "code",
   "execution_count": 7,
   "metadata": {},
   "outputs": [
    {
     "name": "stdout",
     "output_type": "stream",
     "text": [
      "count      2930.000000\n",
      "mean     180796.060068\n",
      "std       79886.692357\n",
      "min       12789.000000\n",
      "25%      129500.000000\n",
      "50%      160000.000000\n",
      "75%      213500.000000\n",
      "max      755000.000000\n",
      "Name: SalePrice, dtype: float64\n"
     ]
    }
   ],
   "source": [
    "def mean(distribution):\n",
    "    sum_distribution = 0\n",
    "    for value in distribution:\n",
    "        sum_distribution += value\n",
    "        \n",
    "    return sum_distribution / len(distribution)\n",
    "\n",
    "print(houses['SalePrice'].describe())\n",
    "\n",
    "function_mean = mean(houses['SalePrice'])\n",
    "\n",
    "pandas_mean = houses['SalePrice'].mean()\n",
    "\n",
    "means_are_equal = False\n",
    "\n",
    "if function_mean == pandas_mean:\n",
    "    means_are_equal = True\n"
   ]
  },
  {
   "cell_type": "markdown",
   "metadata": {},
   "source": [
    "# 8 Estimating the Population Mean\n",
    "\n",
    "When estimating the population mean \"mu\" using the sample mean, there are three possible scenarios:\n",
    "\n",
    "1. The sample mean overestimates the population mean . This means that x-bar > mu.\n",
    "1. The sample mean underestimates the population mean . This means that x-bar < mu.\n",
    "1. The sample mean is equal to the population mean . This means that x-bar = mu.\n",
    "\n",
    "When and 1 & 2 occur, sampling error occurs. Remember that sampling error is given by the difference between a population's parameter and a sample's statistic. \"mu\" is a parameter, and \"x-bar\" is a statistic, so the sampling error is given by:\n",
    "\n",
    "sampling_error = \"mu\" - \"x-bar\"\n",
    "\n",
    "Our aim is to reduce the sampling error. Two important factors that influence the sampling error are:\n",
    "\n",
    "* Sample representativity — the more representative a sample is, the closer x-bar will be to mu.\n",
    "* Sample size — the larger the sample, the more chances we have to get a representative sample. By consequence, this means less sampling error."
   ]
  },
  {
   "cell_type": "markdown",
   "metadata": {},
   "source": [
    "\n",
    "\n",
    "Compute the mean of the SalePrice variable. We'll assume that the data we have is a population relative to the question \"What's the mean sale price of a house in Ames, Iowa for the period 2006-2010?\".\n",
    "\n",
    "For each iteration of a for loop that iterates 101 times:\n",
    "\n",
    "    Sample the SalePrice distribution using the Series.sample() method.\n",
    "        For the first iteration, the random_state parameter is 0, for the second iteration is 1, for the third is 2, and so on.\n",
    "        For the first iteration, the sample size is 5.\n",
    "        The last sample size is 2905 (which is close to 2930, the population's size).\n",
    "        To achieve that, you'll need to increment the sample size by 29 for every new iteration. Note that you'll first have to define the sample size with a value of 5 outside the loop.\n",
    "    Compute the sample mean.\n",
    "    Compute the sampling error. For answer checking purposes, use parameter-statistic, not statistic-parameter\n",
    "\n",
    "    .\n",
    "\n",
    "Generate a scatter plot to represent visually how the sampling error changes as the sample size increases.\n",
    "\n",
    "    Place the sample sizes on the x-axis.\n",
    "    Place the sampling errors on the y-axis.\n",
    "    Use plt.axhline() to generate a horizontal line at 0 to illustrate the point where the sampling error is 0.\n",
    "    Use plt.axvline() to generate a vertical line at 2930 to illustrate the population size.\n",
    "    Label the x-axis \"Sample size\".\n",
    "    Label the y-axis \"Sampling error\".\n",
    "\n"
   ]
  },
  {
   "cell_type": "code",
   "execution_count": 10,
   "metadata": {},
   "outputs": [
    {
     "data": {
      "image/png": "[encoded data removed]",
      "text/plain": [
       "<Figure size 432x288 with 1 Axes>"
      ]
     },
     "metadata": {
      "needs_background": "light"
     },
     "output_type": "display_data"
    }
   ],
   "source": [
    "import matplotlib.pyplot as plt\n",
    "\n",
    "loop_sample_size = 5\n",
    "sampling_errors = []\n",
    "sampling_sizes = []\n",
    "population_mean = houses['SalePrice'].mean()\n",
    "\n",
    "for i in range(101):\n",
    "    sample = houses['SalePrice'].sample(random_state=i, n=loop_sample_size)\n",
    "    sample_mean = sample.mean()\n",
    "    sampling_error = population_mean - sample_mean\n",
    "    sampling_errors.append(sampling_error)\n",
    "    sampling_sizes.append(loop_sample_size)\n",
    "    loop_sample_size += 29\n",
    "    \n",
    "plt.scatter(x=sampling_sizes,y=sampling_errors)\n",
    "plt.axhline(y=0)\n",
    "plt.axvline(x=2930)\n",
    "plt.xlabel(\"Sample size\")\n",
    "plt.ylabel(\"Sampling error\")\n",
    "plt.show()"
   ]
  },
  {
   "cell_type": "markdown",
   "metadata": {},
   "source": [
    "# 9 Estimates from Low-Sized Samples"
   ]
  },
  {
   "cell_type": "markdown",
   "metadata": {},
   "source": [
    "\n",
    "\n",
    "    Take 10000 samples of sample size 100 from the population of sale prices and measure the mean of each sample. For each of the 10000 iterations of a for loop:\n",
    "        Use Series.sample() to take a sample of size 100 from the SalePrice variable. The random_state parameter is 0 for the first iteration, 1 for the second iteration, 2 for the third iteration, and so on.\n",
    "        Compute the mean of the sample.\n",
    "\n",
    "    Use plt.hist() to generate a histogram to visualize the distribution of sample means.\n",
    "        Draw a vertical line for the population mean.\n",
    "        Label the x-axis \"Sample mean\".\n",
    "        Label the y-axis \"Frequency\".\n",
    "        Set the range of the x-axis to (0,500000). This is the same range as the histogram we built above has. Can you observe any obvious difference between the two histograms now that we've increased the sample size?\n"
   ]
  },
  {
   "cell_type": "code",
   "execution_count": 4,
   "metadata": {},
   "outputs": [
    {
     "data": {
      "image/png": "[encoded data removed]",
      "text/plain": [
       "<Figure size 432x288 with 1 Axes>"
      ]
     },
     "metadata": {
      "needs_background": "light"
     },
     "output_type": "display_data"
    }
   ],
   "source": [
    "import matplotlib.pyplot as plt\n",
    "import pandas as pd\n",
    "\n",
    "houses = pd.read_csv('AmesHousing_1.txt', sep='\\t')\n",
    "sample_means = []\n",
    "\n",
    "for i in range(1000):\n",
    "    sample = houses['SalePrice'].sample(n=100, random_state=i)\n",
    "    sample_mean = sample.mean()\n",
    "    sample_means.append(sample_mean)\n",
    "    \n",
    "plt.hist(sample_means, range=(0,500000))\n",
    "plt.xlabel('Sample mean')\n",
    "plt.ylabel('Frequency')\n",
    "plt.show()"
   ]
  },
  {
   "cell_type": "code",
   "execution_count": 5,
   "metadata": {},
   "outputs": [
    {
     "data": {
      "image/png": "[encoded data removed]",
      "text/plain": [
       "<Figure size 432x288 with 1 Axes>"
      ]
     },
     "metadata": {
      "needs_background": "light"
     },
     "output_type": "display_data"
    }
   ],
   "source": [
    "# Version using xlim that matches the expected output\n",
    "\n",
    "sample_means = []\n",
    "\n",
    "for i in range(10000):\n",
    "    sample = houses['SalePrice'].sample(n=100, random_state=i)\n",
    "    sample_mean = sample.mean()\n",
    "    sample_means.append(sample_mean)\n",
    "    \n",
    "plt.hist(sample_means)\n",
    "plt.xlabel('Sample mean')\n",
    "plt.ylabel('Frequency')\n",
    "plt.axvline(houses['SalePrice'].mean())\n",
    "plt.xlim(0,500000)\n",
    "plt.show()"
   ]
  },
  {
   "cell_type": "markdown",
   "metadata": {},
   "source": [
    "# 10 Variability around the population mean\n",
    "\n",
    "* Generally, as we increase the sample size, there will be less and less variability around the population mean. If there's less variability, there are less chances to get a poor estimate for the population mean — the worst sample means we can get are fairly close to the population mean, which is good.\n",
    "* The value we got is the same as the population mean . So on average the sample mean is equal to the population mean. This is true for the distribution above and for any other distribution of real numbers.\n",
    "* When a statistic is on average equal to the parameter it estimates, we call that statistic an **unbiased estimator**."
   ]
  },
  {
   "cell_type": "markdown",
   "metadata": {},
   "source": [
    "Excercise"
   ]
  },
  {
   "cell_type": "code",
   "execution_count": 6,
   "metadata": {},
   "outputs": [
    {
     "name": "stdout",
     "output_type": "stream",
     "text": [
      "True\n"
     ]
    }
   ],
   "source": [
    "population = [3, 7, 2]\n",
    "sample_means = []\n",
    "unbiased = False\n",
    "\n",
    "for i in range(3):\n",
    "    sample = []\n",
    "    for j in range(3):\n",
    "        if i != j:\n",
    "            sample.append(population[j])\n",
    "    sample_means.append(sum(sample)/len(sample))\n",
    "    \n",
    "if sum(population)/len(population) == sum(sample_means)/len(sample_means):\n",
    "    unbiased = True\n",
    "print(unbiased)"
   ]
  },
  {
   "cell_type": "markdown",
   "metadata": {},
   "source": [
    "In this mission, we explored in more depth the mean:\n",
    "\n",
    "    We saw that the mean can be intuitively understood as the \"balance point\" of a distribution.\n",
    "    We learned to distinguish conceptually between the sample and the population mean, and we saw that we use different notation for each case.\n",
    "    We demonstrated with a few examples that the sample mean x-bar is an unbiased estimator for the population mean mu.\n",
    "\n",
    "In the next mission, we'll explore a few edge cases where it's either impossible to compute the mean, or it's possible but not theoretically sound."
   ]
  },
  {
   "cell_type": "markdown",
   "metadata": {},
   "source": [
    "# Part 2 - The Weighted mean and the median"
   ]
  },
  {
   "cell_type": "markdown",
   "metadata": {},
   "source": [
    "Rather counterintuitively, we noticed in the previous exercise that the mean of the Mean Price column is not equal to that of the SalePrice column. **The root of the problem is related to the fact that we have different number of houses sold each year (notice the Houses Sold column)**:\n",
    "\n",
    "|Year|Mean Price|Houses Sold|\n",
    "|---|---|---|\n",
    "|0|2006|181761.648000|625|\n",
    "|1|2007|185138.207493|694|\n",
    "|2|2008|178841.750804|622|\n",
    "|3|2009|181404.567901|648|\n",
    "|4|2010|172597.598240|341|\n",
    "\n",
    "Because each year has a different number of sold houses, the mean of sale prices for each individual year weighs differently in the overall mean. But when we computed the mean of the Mean Price column, we gave each year the same weight because we added all the five mean prices and then divided by 5.\n",
    "\n",
    "To compute the correct overall mean, we need to:\n",
    "\n",
    "    Find the sum of prices for each year individually. \n",
    "    Add all the sums together.\n",
    "    Divide the final sum by the number of houses sold (not by the number of years) to find the mean sale price per house."
   ]
  },
  {
   "cell_type": "markdown",
   "metadata": {},
   "source": [
    "# Part 3 - The Mode"
   ]
  },
  {
   "cell_type": "markdown",
   "metadata": {},
   "source": [
    "# Part 4 - Measures of Variability"
   ]
  },
  {
   "cell_type": "markdown",
   "metadata": {},
   "source": [
    "# Part 5 - Z-Scores"
   ]
  },
  {
   "cell_type": "markdown",
   "metadata": {},
   "source": [
    "\n",
    "\n",
    "    Generate a kernel density plot for the SalePrice variable to find out how far off $220,000 is from the mean.\n",
    "        Generate the plot using Series.plot.kde().\n",
    "            The limits of the x-axis should be the minimum and the maximum value of the SalePrice variable. To set the limits you can use the xlim parameter of Series.plot.kde().\n",
    "        Plot a vertical line to indicate visually the location of the mean using plt.axvline().\n",
    "            The color of the line should be black, and its label should be 'Mean'. You can use the color and label parameters of plt.axvline().\n",
    "        Plot a vertical line to indicate visually the standard deviation distance above the mean — you'll have to generate a vertical line for the sum of the mean and standard deviation.\n",
    "            Assume that the data is a population and compute the standard deviation without using Bessel's correction.\n",
    "            The color of the line should be red and its label should be 'Standard deviation'.\n",
    "        Plot a vertical line for the $220,000 price.\n",
    "            The color of the line should be orange and its label should be '220000'.\n",
    "        Display all the labels using plt.legend().\n",
    "\n",
    "    Examine the graph and figure out whether a price of $220,000 is very expensive. If it's very expensive, assign True to variable named very_expensive, otherwise assign False.\n"
   ]
  },
  {
   "cell_type": "code",
   "execution_count": 2,
   "metadata": {},
   "outputs": [
    {
     "name": "stderr",
     "output_type": "stream",
     "text": [
      "C:\\Users\\hrasheed\\AppData\\Local\\Continuum\\anaconda3\\lib\\site-packages\\ipykernel_launcher.py:4: FutureWarning: read_table is deprecated, use read_csv instead, passing sep='\\t'.\n",
      "  after removing the cwd from sys.path.\n"
     ]
    },
    {
     "data": {
      "image/png": "[encoded data removed]",
      "text/plain": [
       "<Figure size 432x288 with 1 Axes>"
      ]
     },
     "metadata": {
      "needs_background": "light"
     },
     "output_type": "display_data"
    }
   ],
   "source": [
    "import pandas as pd\n",
    "import matplotlib.pyplot as plt\n",
    "\n",
    "houses = pd.read_table('AmesHousing_1.txt')\n",
    "max_sale_price = houses['SalePrice'].max()\n",
    "min_sale_price = houses['SalePrice'].min()\n",
    "houses['SalePrice'].plot.kde(xlim=[min_sale_price,max_sale_price])\n",
    "plt.axvline(houses['SalePrice'].mean(),color='black',label='Mean')\n",
    "std_dev_mean = houses['SalePrice'].std() + houses['SalePrice'].mean()\n",
    "plt.axvline(std_dev_mean,color='red',label='Standard deviation')\n",
    "plt.axvline(220000,color='orange',label='220000')\n",
    "plt.legend()\n",
    "very_expensive = False"
   ]
  },
  {
   "cell_type": "markdown",
   "metadata": {},
   "source": [
    "Find out the number of standard deviations away from the mean for a price of $220,000 in the distribution of the SalePrice variable.\n",
    "\n",
    "    Measure the distance between $220,000 and the mean of the SalePrice column.\n",
    "    Divide the distance by the standard deviation of the SalePrice column (assume the data we have is a population) to find the number of standard deviations away from the mean.\n",
    "        Assign your result to a variable named st_devs_away.\n",
    "\n",
    "Does the number of standard deviations match our visual estimate from the last exercise?"
   ]
  },
  {
   "cell_type": "code",
   "execution_count": 3,
   "metadata": {},
   "outputs": [],
   "source": [
    "price_of_interest = 220000\n",
    "distance_from_mean = abs(price_of_interest-houses['SalePrice'].mean())\n",
    "st_devs_away = distance_from_mean/houses['SalePrice'].std(ddof=0)"
   ]
  },
  {
   "cell_type": "markdown",
   "metadata": {},
   "source": [
    "for any value in a population with mean and standard deviation , the number of standard deviations away from the mean is given by the formula below, where we denote the number of standard deviations away from the mean with :\n",
    "\n",
    "z = (x - mu)/sigma\n",
    "\n",
    "The value representing the number of standard deviations away from the mean is commonly known as the standard score, or the z-score. We'll use the term \"z-score\" throughout our courses.\n",
    "\n",
    "Z-scores can also be defined fairly easy for samples. For any value x in a sample with mean x-bar and standard deviation s (with Bessel's correction), the z-score is given by the formula:\n",
    "\n",
    "z = (x -x-bar)/s\n"
   ]
  },
  {
   "cell_type": "markdown",
   "metadata": {},
   "source": [
    "\n",
    "\n",
    "    Write a function that takes in a value, the array the value belongs to, and returns the z-score of that value. Inside the function's definition:\n",
    "        Compute the mean of the array.\n",
    "        Compute the standard deviation of the array. Make sure your function is flexible enough to compute z-scores for both samples and populations.\n",
    "            You can use the std() function from numpy.\n",
    "        Find out the distance between the value and the mean of the array.\n",
    "        Compute the z-score by dividing the distance to the standard deviation of the array.\n",
    "        Return the z-score.\n",
    "\n",
    "    Compute the z-score for min_val, mean_val, max_val, which are already defined in the code editor. Assume that the values come from a population.\n",
    "        Assign the z-score for min_val to a variable named min_z.\n",
    "        Assign the z-score for mean_val to a variable named mean_z.\n",
    "        Assign the z-score for max_val to a variable named max_z.\n"
   ]
  },
  {
   "cell_type": "code",
   "execution_count": 4,
   "metadata": {},
   "outputs": [],
   "source": [
    "import numpy as np\n",
    "\n",
    "def find_z_score(value,array):\n",
    "    array_mean = array.mean()\n",
    "    array_std = np.std(array)\n",
    "    value_distance = value-array_mean\n",
    "    value_z_score = value_distance/array_std\n",
    "    return value_z_score\n",
    "\n",
    "min_val = houses['SalePrice'].min()\n",
    "mean_val = houses['SalePrice'].mean()\n",
    "max_val = houses['SalePrice'].max()\n",
    "\n",
    "min_z = find_z_score(min_val, houses['SalePrice'])\n",
    "mean_z = find_z_score(mean_val, houses['SalePrice'])\n",
    "max_z = find_z_score(max_val, houses['SalePrice'])"
   ]
  },
  {
   "cell_type": "markdown",
   "metadata": {},
   "source": [
    "# 4/11\n",
    "\n",
    "Let's say we're working as data analysts for a real estate company, and we want to find the best neighborhood in Ames to invest in (remember that our data set describes sale prices for houses in Ames, Iowa). Our company wants to buy a couple of houses that we can then rent and ideally sell back later at a higher price. We think that location is an important factor driving rental and sale prices, and we want to target our investment based on location.\n",
    "\n",
    "The company budgeted 10,000,000 for this investment, and the plan is to buy 50 houses of 200,000 each. Depending on the market particularities of each neighborhood, a 200,000 house can be considered cheap, average-priced, or expensive. We want to find a neighborhood where a price of 200,000 goes as average because average-priced houses are the ones that are most rented and easiest to sell.\n",
    "\n",
    "Sale prices are lower in a bad neighborhood, and someone can get a high-quality house for 200,000, but usually people avoid bad neighborhood nonetheless for a variety of reasons: distance from the workplace, lack of schools, pollution, noise, etc.\n",
    "\n",
    "High-quality neighborhoods will tend to be avoided as well because of the higher sale prices — with 200,000, you may only be able to get a poor-quality house in a good location. So most people will aim for something in the middle — these people make up the market we intend to reach.\n",
    "\n",
    "We're asked by our real estate specialists to analyze historical data on five neighborhoods:\n",
    "\n",
    "    North Ames.\n",
    "    College Creek.\n",
    "    Old Town.\n",
    "    Edwards.\n",
    "    Somerset.\n",
    "\n",
    "Our goal is to find out for which of these neighborhoods a 200,000 house is average-priced. We can solve this task quickly by measuring the z-score for a 200,000 value for each of the five distributions — each of the five neighborhoods has its own distribution of sale prices with its own mean and standard deviation."
   ]
  },
  {
   "cell_type": "markdown",
   "metadata": {},
   "source": [
    "**Instructions**: Find out the location for which $200,000 has the z-score closest to 0. Code-wise, there are several ways to complete this task, and we encourage you to think of a way yourself."
   ]
  },
  {
   "cell_type": "code",
   "execution_count": 5,
   "metadata": {},
   "outputs": [
    {
     "name": "stdout",
     "output_type": "stream",
     "text": [
      "Index(['Order', 'PID', 'MS SubClass', 'MS Zoning', 'Lot Frontage', 'Lot Area',\n",
      "       'Street', 'Alley', 'Lot Shape', 'Land Contour', 'Utilities',\n",
      "       'Lot Config', 'Land Slope', 'Neighborhood', 'Condition 1',\n",
      "       'Condition 2', 'Bldg Type', 'House Style', 'Overall Qual',\n",
      "       'Overall Cond', 'Year Built', 'Year Remod/Add', 'Roof Style',\n",
      "       'Roof Matl', 'Exterior 1st', 'Exterior 2nd', 'Mas Vnr Type',\n",
      "       'Mas Vnr Area', 'Exter Qual', 'Exter Cond', 'Foundation', 'Bsmt Qual',\n",
      "       'Bsmt Cond', 'Bsmt Exposure', 'BsmtFin Type 1', 'BsmtFin SF 1',\n",
      "       'BsmtFin Type 2', 'BsmtFin SF 2', 'Bsmt Unf SF', 'Total Bsmt SF',\n",
      "       'Heating', 'Heating QC', 'Central Air', 'Electrical', '1st Flr SF',\n",
      "       '2nd Flr SF', 'Low Qual Fin SF', 'Gr Liv Area', 'Bsmt Full Bath',\n",
      "       'Bsmt Half Bath', 'Full Bath', 'Half Bath', 'Bedroom AbvGr',\n",
      "       'Kitchen AbvGr', 'Kitchen Qual', 'TotRms AbvGrd', 'Functional',\n",
      "       'Fireplaces', 'Fireplace Qu', 'Garage Type', 'Garage Yr Blt',\n",
      "       'Garage Finish', 'Garage Cars', 'Garage Area', 'Garage Qual',\n",
      "       'Garage Cond', 'Paved Drive', 'Wood Deck SF', 'Open Porch SF',\n",
      "       'Enclosed Porch', '3Ssn Porch', 'Screen Porch', 'Pool Area', 'Pool QC',\n",
      "       'Fence', 'Misc Feature', 'Misc Val', 'Mo Sold', 'Yr Sold', 'Sale Type',\n",
      "       'Sale Condition', 'SalePrice'],\n",
      "      dtype='object')\n",
      "['NAmes' 'Gilbert' 'StoneBr' 'NWAmes' 'Somerst' 'BrDale' 'NPkVill'\n",
      " 'NridgHt' 'Blmngtn' 'NoRidge' 'SawyerW' 'Sawyer' 'Greens' 'BrkSide'\n",
      " 'OldTown' 'IDOTRR' 'ClearCr' 'SWISU' 'Edwards' 'CollgCr' 'Crawfor'\n",
      " 'Blueste' 'Mitchel' 'Timber' 'MeadowV' 'Veenker' 'GrnHill' 'Landmrk']\n"
     ]
    }
   ],
   "source": [
    "houses.head(3)\n",
    "print(houses.columns)\n",
    "print(houses['Neighborhood'].unique())"
   ]
  },
  {
   "cell_type": "code",
   "execution_count": 18,
   "metadata": {},
   "outputs": [
    {
     "name": "stdout",
     "output_type": "stream",
     "text": [
      "College Creek\n"
     ]
    }
   ],
   "source": [
    "from numpy import std\n",
    "    \n",
    "def z_score(value, array, bessel = 0):\n",
    "    \n",
    "    if len(array) == 0:\n",
    "        return 0\n",
    "    \n",
    "    mean = sum(array) / len(array)\n",
    "    \n",
    "    st_dev = std(array, ddof = bessel)\n",
    "    \n",
    "    distance = value - mean\n",
    "    if st_dev != 0:\n",
    "        z = distance / st_dev\n",
    "    else:\n",
    "        z=0    \n",
    "    return z\n",
    "\n",
    "# Approximately 28 neighborhoods in the dataset\n",
    "# Simple solution would be to create a forloop that iterates through all of the neighborhoods\n",
    "# subset the dataframe so that only rows in that neighborhood are returned > population array\n",
    "# For each neighborhood calculate the z score of $200,000\n",
    "## z-score function calculates the mean of the array and its std_dev\n",
    "## z = (value-mean)/std_dev\n",
    "# store results in hashmap with keys for neighborhood name\n",
    "# Once the forloop finishes, extract the min value from the hashmap\n",
    "\n",
    "z_score_hash = {}\n",
    "neighborhoods = ['North Ames','College Creek','Old Town','Edwards','Somerset']\n",
    "neighborhoods_of_interest = ['NAmes','CollgCr','OldTown','Edwards','Somerst']\n",
    "for neighborhood in neighborhoods_of_interest:\n",
    "    pop_array = houses[houses['Neighborhood'] == neighborhood]\n",
    "    z_score_hash[neighborhood] = z_score(200000, pop_array['SalePrice'])\n",
    "    \n",
    "best_investment_short = min(z_score_hash, key=lambda x: abs(z_score_hash[x]))\n",
    "print(neighborhoods[neighborhoods_of_interest.index(best_investment_short)])"
   ]
  },
  {
   "cell_type": "markdown",
   "metadata": {},
   "source": [
    "# 5/11\n",
    "\n",
    "    We've already transformed the distribution of the SalePrice variable to distribution of z-scores and saved the new values to a column named z_prices.\n",
    "        Compute the mean of the z_prices column and assign the result to a variable named z_mean_price.\n",
    "        Compute the standard deviation of the z_prices column and assign the result to a variable named z_stdev_price. Assume that you're computing the standard deviation for a population.\n",
    "\n",
    "    Transform the distribution of the Lot Area variable into a distribution of z-scores.\n",
    "        Compute the mean of the new distribution of z-scores and assign the result to a variable named z_mean_area.\n",
    "        Compute the standard deviation of the new distribution of z-scores and assign the result to a variable named z_stdev_area. Assume that you're computing the standard deviation for a population.\n",
    "\n",
    "    Compare the values of z_mean_price and z_mean_area. What do you observe? How can you explain that?\n",
    "    Compare the values of z_stdev_price and z_stdev_area. What do you observe? How can you explain that?\n"
   ]
  },
  {
   "cell_type": "code",
   "execution_count": 22,
   "metadata": {},
   "outputs": [
    {
     "data": {
      "image/png": "[encoded data removed]",
      "text/plain": [
       "<Figure size 792x252 with 2 Axes>"
      ]
     },
     "metadata": {
      "needs_background": "light"
     },
     "output_type": "display_data"
    }
   ],
   "source": [
    "mean = houses['SalePrice'].mean()\n",
    "st_dev = houses['SalePrice'].std(ddof = 0)\n",
    "houses['z_prices'] = houses['SalePrice'].apply(\n",
    "    lambda x: ((x - mean) / st_dev)\n",
    "    )\n",
    "\n",
    "\n",
    "plt.figure(figsize = (11,3.5))\n",
    "plt.subplot(1,2,1)\n",
    "houses['z_prices'].plot.kde(xlim = (houses['z_prices'].min(),\n",
    "                                houses['z_prices'].max()\n",
    "                                )\n",
    "                        )\n",
    "plt.subplot(1,2,2)\n",
    "houses['SalePrice'].plot.kde(xlim = (houses['SalePrice'].min(),\n",
    "                                    houses['SalePrice'].max()\n",
    "                                     )\n",
    "                            )\n",
    "plt.tight_layout() # otherwise the plots will overlay partially\n",
    "z_mean_price = houses['z_prices'].mean()\n",
    "z_stdev_price = houses['z_prices'].std(ddof = 0)\n",
    "\n",
    "area_mean = houses['Lot Area'].mean()\n",
    "area_st_dev = houses['Lot Area'].std(ddof = 0)\n",
    "houses['z_areas'] = houses['Lot Area'].apply(\n",
    "    lambda x: ((x - area_mean) / area_st_dev)\n",
    "    )\n",
    "z_mean_area = houses['z_areas'].mean()\n",
    "z_stdev_area = houses['z_areas'].std(ddof=0)"
   ]
  },
  {
   "cell_type": "code",
   "execution_count": 24,
   "metadata": {},
   "outputs": [
    {
     "data": {
      "image/png": "[encoded data removed]",
      "text/plain": [
       "<Figure size 792x252 with 2 Axes>"
      ]
     },
     "metadata": {
      "needs_background": "light"
     },
     "output_type": "display_data"
    }
   ],
   "source": [
    "plt.figure(figsize = (11,3.5))\n",
    "plt.subplot(1,2,1)\n",
    "houses['z_areas'].plot.kde(xlim = (houses['z_areas'].min(),\n",
    "                                houses['z_areas'].max()\n",
    "                                )\n",
    "                        )\n",
    "plt.subplot(1,2,2)\n",
    "houses['Lot Area'].plot.kde(xlim = (houses['Lot Area'].min(),\n",
    "                                    houses['Lot Area'].max()\n",
    "                                     )\n",
    "                            )\n",
    "plt.tight_layout()"
   ]
  },
  {
   "cell_type": "code",
   "execution_count": 26,
   "metadata": {},
   "outputs": [
    {
     "name": "stdout",
     "output_type": "stream",
     "text": [
      "Z-Mean Prices -1.1429992333726227e-16\n",
      "Z-Std Dev Prices 1.0000000000000002\n",
      "Z-Mean Lot Area 8.771898641662927e-18\n",
      "Z-Std Dev Lot Area 0.9999999999999997\n"
     ]
    }
   ],
   "source": [
    "print(\"Z-Mean Prices \"+str(z_mean_price))\n",
    "print(\"Z-Std Dev Prices \"+str(z_stdev_price))\n",
    "print(\"Z-Mean Lot Area \"+str(z_mean_area))\n",
    "print(\"Z-Std Dev Lot Area \"+str(z_stdev_area))"
   ]
  },
  {
   "cell_type": "code",
   "execution_count": 30,
   "metadata": {},
   "outputs": [
    {
     "name": "stdout",
     "output_type": "stream",
     "text": [
      "Z Mean0.0\n",
      "Z Std Dev1.0\n"
     ]
    }
   ],
   "source": [
    "from numpy import std, mean\n",
    "population = [0,8,0,8]\n",
    "pop_mean = sum(population)/len(population)\n",
    "pop_std = std(population,ddof=0)\n",
    "population_z = list(map(lambda x: ((x-pop_mean)/pop_std),population))\n",
    "mean_z = sum(population_z)/len(population_z)\n",
    "stdev_z = std(population_z,ddof=0)\n",
    "\n",
    "print(\"Z Mean\"+str(mean_z))\n",
    "print(\"Z Std Dev\"+str(stdev_z))"
   ]
  },
  {
   "cell_type": "markdown",
   "metadata": {},
   "source": [
    "\n",
    "    Compute the standard deviation of standardized_sample using the sample standard deviation formula, and assign the result to a variable named stdev_sample.\n",
    "    Inspect the result to see if the standard deviation equals 1.\n"
   ]
  },
  {
   "cell_type": "code",
   "execution_count": 31,
   "metadata": {},
   "outputs": [],
   "source": [
    "from numpy import std, mean\n",
    "sample = [0,8,0,8]\n",
    "\n",
    "x_bar = mean(sample)\n",
    "s = std(sample, ddof = 1)\n",
    "\n",
    "standardized_sample = []\n",
    "for value in sample:\n",
    "    z = (value - x_bar) / s\n",
    "    standardized_sample.append(z)\n",
    "    \n",
    "stdev_sample = std(standardized_sample, ddof = 1)"
   ]
  },
  {
   "cell_type": "markdown",
   "metadata": {},
   "source": [
    "# 8/11 Using Standardization for Comparisons\n",
    "\n",
    "Standardizing distributions can prove very useful when we need to compare values coming from different systems of measurement. Let's say there are two companies in Ames which offer services in evaluating overall house quality. Inspectors from each company examine houses and rate them with an index score which describes the overall quality of the house.\n",
    "\n",
    "One thing the two systems have in common is that the index is directly proportional with the house quality — a lower index means lower quality, and a higher index means higher quality. To compare these indices coming from different measurement systems, we can:\n",
    "\n",
    "    Standardize each distribution of index values (transform each index to a z-score).\n",
    "    Then compare the z-scores.\n"
   ]
  },
  {
   "cell_type": "code",
   "execution_count": null,
   "metadata": {},
   "outputs": [],
   "source": [
    "houses2 = pd.read_table('AmesHousing_2.txt')\n",
    "i1_mean = houses2['index_1'].mean()\n",
    "i1_std = std(houses2['index_1'],ddof=0)\n",
    "i2_mean = houses2['index_2'].mean()\n",
    "i2_std = std(houses2['index_2'],ddof=0)\n",
    "houses2['index_1_z'] = (houses2['index_1']-i1_mean)/i1_std\n",
    "houses2['index_2_z'] = (houses2['index_2']-i2_mean)/i2_std\n",
    "houses2.iloc[0:2]\n",
    "better = 'first'"
   ]
  },
  {
   "cell_type": "code",
   "execution_count": null,
   "metadata": {},
   "outputs": [],
   "source": []
  },
  {
   "cell_type": "code",
   "execution_count": null,
   "metadata": {},
   "outputs": [],
   "source": []
  },
  {
   "cell_type": "code",
   "execution_count": null,
   "metadata": {},
   "outputs": [],
   "source": []
  },
  {
   "cell_type": "code",
   "execution_count": null,
   "metadata": {},
   "outputs": [],
   "source": []
  },
  {
   "cell_type": "markdown",
   "metadata": {},
   "source": [
    "# Part 6 - Project"
   ]
  }
 ],
 "metadata": {
  "kernelspec": {
   "display_name": "Python 3",
   "language": "python",
   "name": "python3"
  },
  "language_info": {
   "codemirror_mode": {
    "name": "ipython",
    "version": 3
   },
   "file_extension": ".py",
   "mimetype": "text/x-python",
   "name": "python",
   "nbconvert_exporter": "python",
   "pygments_lexer": "ipython3",
   "version": "3.7.3"
  }
 },
 "nbformat": 4,
 "nbformat_minor": 4
}
