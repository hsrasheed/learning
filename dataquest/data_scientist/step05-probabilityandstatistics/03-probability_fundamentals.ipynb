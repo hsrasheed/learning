{
 "cells": [
  {
   "cell_type": "markdown",
   "metadata": {},
   "source": [
    "* Remember that a random experiment is any process for which we can't predict outcomes with certainty. \n",
    "* An outcome is a possible result of a random experiment, while an event can include more than one outcome."
   ]
  },
  {
   "cell_type": "markdown",
   "metadata": {},
   "source": [
    "* **Empirical probablity** - # of times the event occurred/# of times we ran the experiment\n",
    "* **Theorectical probability** - (# successful outcomes)/(# of possible outcomes) (assuming all are equally likely)"
   ]
  },
  {
   "cell_type": "markdown",
   "metadata": {},
   "source": [
    "Although an event can include a single outcome (like the event of getting a 2 when we roll a die), the two concepts still have a different meaning. We always assign probabilities to events, not outcomes, even if the event includes only one outcome.\n",
    "\n",
    "P(E) = (number of successful outcomes)/(total number of possible outcomes)\n",
    "\n",
    "The \"number of successful outcomes\" part represents the number of outcomes included in the event E, and \"total number of possible outcomes\" is the number of possible outcomes that the random experiment associated with the event E could terminate in."
   ]
  },
  {
   "cell_type": "markdown",
   "metadata": {},
   "source": [
    "* a sample space is a set containing all the possible outcomes of a random experiment"
   ]
  },
  {
   "cell_type": "markdown",
   "metadata": {},
   "source": [
    "Probability Rules\n",
    "\n",
    "* Addition rule - P(C or D) = P(C) + P(D) - only works for events that dont share corresponding outcomes (mutually exclusive)\n",
    "* Addition rule 2 (for mutually non exclusive events) - P(C or D) = P(C) + P(D) - P(C and D)"
   ]
  },
  {
   "cell_type": "markdown",
   "metadata": {},
   "source": [
    "Find the probability that it takes four flips or more for a coin to land heads up (let's call this event \"B\").\n",
    "Inverse: that it takes 1,2 or 3 flips for the coin to land heads up\n",
    "Omega = {\n",
    "HHH, HTH, HHT, HTT, \n",
    "(-)TTT, THT, THH, TTH}"
   ]
  },
  {
   "cell_type": "markdown",
   "metadata": {},
   "source": [
    "# Multiplication rule of probability\n",
    "\n",
    "P(H1 intersect H2) = P(H1) x P(H2)\n",
    "\n",
    "Only works for events that are independent"
   ]
  },
  {
   "cell_type": "markdown",
   "metadata": {},
   "source": [
    "```python\n",
    "P(A) = probability of getting at least one six\n",
    "P(Ac) = probability of getting NO sixes\n",
    "P(Ac) = (5/6)**4\n",
    "```\n",
    "\n",
    "\"Find the probability of getting at least one double-six in 24 throws of two six-sided dice (the two dice are thrown simultaneously). Assign your answer to p_one_double_6. The table below shows all the outcomes of throwing two six-sided dice.\"\n",
    "\n",
    "```python\n",
    "P(X) = probability of getting one double six in 24 throws\n",
    "P(Xc) = probability of getting NO double sixes in 24 throws\n",
    "P(Xc) = (35/36)**24\n",
    "P(X) = 1-P(Xc)\n",
    "```"
   ]
  },
  {
   "cell_type": "markdown",
   "metadata": {},
   "source": [
    "## Excercise\n",
    "\n",
    "We're sampling without replacement from a standard 52-card deck. Find the probability of:\n",
    "\n",
    "    Getting two kings in a row. Assign your answer to p_kk.\n",
    "    Getting a seven of hearts, followed by a queen of diamonds. Assign your answer to p_7q.\n",
    "    Getting a jack, followed by a queen of diamonds, followed by a king, followed by another jack. Assign your answer to p_jqkj. This one is a bit tricky, so pay attention to the details of the question.\n",
    "\n",
    "p_kk = (4/52)*(3/51)\n",
    "p_7q = (1/52)*(1/51)\n",
    "p_jqkj = (4/52)*(1/51)*(4/50)*(3/49)"
   ]
  },
  {
   "cell_type": "markdown",
   "metadata": {},
   "source": [
    "# the rule of product (or the multiplication principle)\n",
    "\n",
    "if we have an experiment E1 (like flipping a coin) with a outcomes, followed by an experiment E2 (like rolling a die) with b outcomes, then the total number of outcomes for the composite experiment E1E2 can be found by multiplying a with b: \n",
    "\n",
    "Number of outcomes = a * b\n",
    "\n"
   ]
  },
  {
   "cell_type": "markdown",
   "metadata": {},
   "source": [
    "# Unique Arrangements\n",
    "\n",
    "\n",
    "\n",
    "    Use the factorial() and permutation() functions to calculate the number of unique 5-card arrangements when drawing without replacement from a standard 52-card deck. Assign your answer to a variable named c.\n",
    "\n",
    "    Calculate the probability of getting a 5-card hand with four aces and a seven of diamonds (assume we're drawing randomly and without replacement from the deck). Assign your answer to p_aces_7.\n",
    "\n",
    "    For a state lottery, six numbers are drawn randomly and without replacement from an urn containing numbers from 1 to 49. Using the factorial() and the permutation() functions, find the total number of unique 6-number arrangements that could result. Assign your answer to c_lottery.\n",
    "\n",
    "    Calculate the probability of winning the big prize for this state lottery provided you use the numbers (3, 20, 37, 44, 45, 49) — the big prize means the numbers match exactly those resulted from the official drawing.\n",
    "        Assign your answer to p_big_prize.\n",
    "        Print p_big_prize to see what are the chances of winning the big prize and think whether you'd recommend spending money on lottery to a close friend.\n"
   ]
  },
  {
   "cell_type": "code",
   "execution_count": 1,
   "metadata": {},
   "outputs": [
    {
     "name": "stdout",
     "output_type": "stream",
     "text": [
      "7.151123842018516e-08\n"
     ]
    }
   ],
   "source": [
    "def factorial(n):\n",
    "    final_product = 1\n",
    "    for i in range(n, 0, -1):\n",
    "        final_product *= i\n",
    "    return final_product\n",
    "\n",
    "def permutation(n, k):\n",
    "    numerator = factorial(n)\n",
    "    denominator = factorial(n-k)\n",
    "    return numerator/denominator\n",
    "\n",
    "c = permutation(52,5)/factorial(5)\n",
    "p_aces_7 = 1/c\n",
    "c_lottery = permutation(49,6)/factorial(6)\n",
    "p_big_prize = 1/c_lottery\n",
    "print(p_big_prize)"
   ]
  },
  {
   "cell_type": "code",
   "execution_count": 2,
   "metadata": {},
   "outputs": [
    {
     "data": {
      "text/plain": [
       "720"
      ]
     },
     "execution_count": 2,
     "metadata": {},
     "output_type": "execute_result"
    }
   ],
   "source": [
    "factorial(6)"
   ]
  }
 ],
 "metadata": {
  "kernelspec": {
   "display_name": "Python 3",
   "language": "python",
   "name": "python3"
  },
  "language_info": {
   "codemirror_mode": {
    "name": "ipython",
    "version": 3
   },
   "file_extension": ".py",
   "mimetype": "text/x-python",
   "name": "python",
   "nbconvert_exporter": "python",
   "pygments_lexer": "ipython3",
   "version": "3.7.3"
  }
 },
 "nbformat": 4,
 "nbformat_minor": 4
}
