{
 "cells": [
  {
   "cell_type": "markdown",
   "metadata": {},
   "source": [
    "# Guided Project: Investigating Fandango Movie Ratings\n",
    "\n",
    "## Purpose of the project\n",
    "\n",
    "In October 2015, a data journalist named Walt Hickey analyzed movie ratings data and found strong evidence to suggest that Fandango's rating system was biased and dishonest. Fandango displays a 5-star rating system on their website, where the minimum rating is 0 stars and the maximum is 5 stars. Hickey found that there's a significant discrepancy between the number of stars displayed to users and the actual rating.\n",
    "\n",
    "## Goal of the project\n",
    "\n",
    "In this project, we'll analyze more recent movie ratings data to determine whether there has been any change in Fandango's rating system after Hickey's analysis."
   ]
  },
  {
   "cell_type": "markdown",
   "metadata": {},
   "source": [
    "# Part 2/8 - Understanding the Data - Instructions\n",
    "\n",
    "\n",
    "* Read in and explore briefly the two data sets (fandango_score_comparison.csv and movie_ratings_16_17.csv) to understand their structure. You can find the documentation of both data sets in the GitHub repositories we linked to above.\n",
    "\n",
    "* Isolate the columns that offer information about Fandango's ratings in separate variables so we have just the data we're interested in more readily available for later use.\n",
    "    * For the data set with ratings previous to Hickey's analysis, select the following columns: 'FILM', 'Fandango_Stars', 'Fandango_Ratingvalue', 'Fandango_votes', 'Fandango_Difference'.\n",
    "    * For the other data set, select the the following columns: 'movie', 'year', 'fandango'.\n",
    "\n",
    "* Define the population of interest for our goal — remember that our goal is to determine whether there has been any change in Fandango's rating system after Hickey's analysis.\n",
    "* By reading the README.md files of the two repositories, figure out whether the two samples are representative for the population we're trying to describe.\n",
    "    * Determine whether the sampling is random or not — did all the movies have an equal chance to be included in the two samples?\n",
    "    * Useful information can also be found in Hickey's article.\n",
    "    * You can acess the two README.md files directly using this link and this link.\n"
   ]
  },
  {
   "cell_type": "code",
   "execution_count": 120,
   "metadata": {},
   "outputs": [],
   "source": [
    "import pandas as pd\n",
    "import seaborn as sns\n",
    "import matplotlib.pyplot as plt"
   ]
  },
  {
   "cell_type": "code",
   "execution_count": 20,
   "metadata": {},
   "outputs": [],
   "source": [
    "df1 = pd.read_csv('fandango_score_comparison.csv')\n",
    "df2 = pd.read_csv('movie_ratings_16_17.csv')"
   ]
  },
  {
   "cell_type": "code",
   "execution_count": 21,
   "metadata": {},
   "outputs": [
    {
     "data": {
      "text/plain": [
       "Index(['FILM', 'RottenTomatoes', 'RottenTomatoes_User', 'Metacritic',\n",
       "       'Metacritic_User', 'IMDB', 'Fandango_Stars', 'Fandango_Ratingvalue',\n",
       "       'RT_norm', 'RT_user_norm', 'Metacritic_norm', 'Metacritic_user_nom',\n",
       "       'IMDB_norm', 'RT_norm_round', 'RT_user_norm_round',\n",
       "       'Metacritic_norm_round', 'Metacritic_user_norm_round',\n",
       "       'IMDB_norm_round', 'Metacritic_user_vote_count', 'IMDB_user_vote_count',\n",
       "       'Fandango_votes', 'Fandango_Difference'],\n",
       "      dtype='object')"
      ]
     },
     "execution_count": 21,
     "metadata": {},
     "output_type": "execute_result"
    }
   ],
   "source": [
    "df1.columns"
   ]
  },
  {
   "cell_type": "code",
   "execution_count": 22,
   "metadata": {},
   "outputs": [],
   "source": [
    "def extract_title(row):\n",
    "    year1 = row['FILM'].find('(')+1\n",
    "    year2 = row['FILM'].find(')')-1\n",
    "    title = row['FILM'][:year1-2]\n",
    "    return title\n",
    "    \n",
    "def extract_year(row):\n",
    "    year1 = row['FILM'].find('(')+1\n",
    "    year2 = row['FILM'].find(')')\n",
    "    year_num = row['FILM'][year1:year2]\n",
    "    return year_num"
   ]
  },
  {
   "cell_type": "code",
   "execution_count": 23,
   "metadata": {},
   "outputs": [],
   "source": [
    "df1['movie'] = df1.apply(extract_title, axis=1)\n",
    "df1['year'] = df1.apply(extract_year, axis=1)"
   ]
  },
  {
   "cell_type": "code",
   "execution_count": 11,
   "metadata": {},
   "outputs": [
    {
     "data": {
      "text/plain": [
       "Index(['movie', 'year', 'metascore', 'imdb', 'tmeter', 'audience', 'fandango',\n",
       "       'n_metascore', 'n_imdb', 'n_tmeter', 'n_audience', 'nr_metascore',\n",
       "       'nr_imdb', 'nr_tmeter', 'nr_audience'],\n",
       "      dtype='object')"
      ]
     },
     "execution_count": 11,
     "metadata": {},
     "output_type": "execute_result"
    }
   ],
   "source": [
    "df2.columns"
   ]
  },
  {
   "cell_type": "code",
   "execution_count": 50,
   "metadata": {},
   "outputs": [],
   "source": [
    "df1['year'] = df1['year'].astype(int)\n",
    "df2['year'] = df2['year'].astype(int)"
   ]
  },
  {
   "cell_type": "code",
   "execution_count": null,
   "metadata": {},
   "outputs": [],
   "source": [
    "df1_film = df1['FILM']\n",
    "df1_f_stars = df1['Fandango_Stars']\n",
    "df1_f_stars = df1['Fandango_Ratingvalue']\n",
    "df1_f_stars = df1['Fandango_votes']\n",
    "df1_f_stars = df1['Fandango_Stars']\n",
    "df2_movie = df2['movie']\n",
    "df2_year = df2['year']\n",
    "df2_fandango = df2['fandango']"
   ]
  },
  {
   "cell_type": "code",
   "execution_count": 53,
   "metadata": {},
   "outputs": [
    {
     "name": "stdout",
     "output_type": "stream",
     "text": [
      "Number of movies in original data set: 146\n",
      "Number of movies in second data set: 214\n"
     ]
    }
   ],
   "source": [
    "print(\"Number of movies in original data set: \"+str(len(df1)))\n",
    "print(\"Number of movies in second data set: \"+str(len(df2)))"
   ]
  },
  {
   "cell_type": "markdown",
   "metadata": {},
   "source": [
    "# General Questions about the data\n",
    "\n",
    "## Q: Is the data representative? Was the sampling random?\n",
    "\n",
    "* True Population:  \"510 films on Fandango.com that had tickets on sale this year\"\n",
    "* Population2: \"437 films with at least one review\"\n",
    "* Population3: \"209 films with 30 or more user reviews\"\n",
    "* Subset of Population we have data for: \"146 films in theaters in 2015 that had 30+ reviews on Fandango.com\"\n",
    "\n",
    "**Problem**: The sampling was not random and the sample is not representative of the overall population.\n",
    "\n",
    "## Q: What will be the population of interest for our updated testing?\n",
    "\n",
    "* Suggestion: Films in theaters in 2016-2017 that had 30+ reviews\n",
    "\n",
    "**Problem**: The second data set doesnt provide any data on the number of actual user reviews, just remarking without justification that the dataset contains \"movie ratings data for 214 of the most popular movies (with a significant number of votes) released in 2016 and 2017\". There is also no data provided on the sampling methodology. But when comparing the distribution of votes in the smaller sample to the distribution in a larger sample, [it was roughly the same](https://www.freecodecamp.org/news/whose-reviews-should-you-trust-imdb-rotten-tomatoes-metacritic-or-fandango-7d1010c6cf19/), which provides some confidence that the small sample was nonetheless representative of the overall population."
   ]
  },
  {
   "cell_type": "code",
   "execution_count": 54,
   "metadata": {},
   "outputs": [
    {
     "name": "stdout",
     "output_type": "stream",
     "text": [
      "Number of popular movies in original data set: 146\n",
      "Number of popular movies in the second data set: 0\n"
     ]
    }
   ],
   "source": [
    "popular_movies_2015 = df1[df1['Fandango_votes'] >= 30]\n",
    "print(\"Number of popular movies in original data set: \"+str(len(popular_movies_2015)))\n",
    "popular_movies_2016 = df2[df2['fandango'] >= 30]\n",
    "print(\"Number of popular movies in the second data set: \"+str(len(popular_movies_2016)))"
   ]
  },
  {
   "cell_type": "markdown",
   "metadata": {},
   "source": [
    "## Q: How can we verify the extent to which our second sample matches the criteria for the original sample (ie popularity) if we can't programmatically verify the number of ratings?\n",
    "\n",
    "A: We can sample at random and manually verify the number of ratings."
   ]
  },
  {
   "cell_type": "code",
   "execution_count": 55,
   "metadata": {},
   "outputs": [
    {
     "data": {
      "text/html": [
       "<div>\n",
       "<style scoped>\n",
       "    .dataframe tbody tr th:only-of-type {\n",
       "        vertical-align: middle;\n",
       "    }\n",
       "\n",
       "    .dataframe tbody tr th {\n",
       "        vertical-align: top;\n",
       "    }\n",
       "\n",
       "    .dataframe thead th {\n",
       "        text-align: right;\n",
       "    }\n",
       "</style>\n",
       "<table border=\"1\" class=\"dataframe\">\n",
       "  <thead>\n",
       "    <tr style=\"text-align: right;\">\n",
       "      <th></th>\n",
       "      <th>movie</th>\n",
       "      <th>year</th>\n",
       "      <th>metascore</th>\n",
       "      <th>imdb</th>\n",
       "      <th>tmeter</th>\n",
       "      <th>audience</th>\n",
       "      <th>fandango</th>\n",
       "      <th>n_metascore</th>\n",
       "      <th>n_imdb</th>\n",
       "      <th>n_tmeter</th>\n",
       "      <th>n_audience</th>\n",
       "      <th>nr_metascore</th>\n",
       "      <th>nr_imdb</th>\n",
       "      <th>nr_tmeter</th>\n",
       "      <th>nr_audience</th>\n",
       "    </tr>\n",
       "  </thead>\n",
       "  <tbody>\n",
       "    <tr>\n",
       "      <th>108</th>\n",
       "      <td>Mechanic: Resurrection</td>\n",
       "      <td>2016</td>\n",
       "      <td>38</td>\n",
       "      <td>5.6</td>\n",
       "      <td>29</td>\n",
       "      <td>41</td>\n",
       "      <td>4.0</td>\n",
       "      <td>1.90</td>\n",
       "      <td>2.80</td>\n",
       "      <td>1.45</td>\n",
       "      <td>2.05</td>\n",
       "      <td>2.0</td>\n",
       "      <td>3.0</td>\n",
       "      <td>1.5</td>\n",
       "      <td>2.0</td>\n",
       "    </tr>\n",
       "    <tr>\n",
       "      <th>206</th>\n",
       "      <td>Warcraft</td>\n",
       "      <td>2016</td>\n",
       "      <td>32</td>\n",
       "      <td>7.0</td>\n",
       "      <td>28</td>\n",
       "      <td>71</td>\n",
       "      <td>4.0</td>\n",
       "      <td>1.60</td>\n",
       "      <td>3.50</td>\n",
       "      <td>1.40</td>\n",
       "      <td>3.55</td>\n",
       "      <td>1.5</td>\n",
       "      <td>3.5</td>\n",
       "      <td>1.5</td>\n",
       "      <td>3.5</td>\n",
       "    </tr>\n",
       "    <tr>\n",
       "      <th>106</th>\n",
       "      <td>Max Steel</td>\n",
       "      <td>2016</td>\n",
       "      <td>22</td>\n",
       "      <td>4.6</td>\n",
       "      <td>0</td>\n",
       "      <td>38</td>\n",
       "      <td>3.5</td>\n",
       "      <td>1.10</td>\n",
       "      <td>2.30</td>\n",
       "      <td>0.00</td>\n",
       "      <td>1.90</td>\n",
       "      <td>1.0</td>\n",
       "      <td>2.5</td>\n",
       "      <td>0.0</td>\n",
       "      <td>2.0</td>\n",
       "    </tr>\n",
       "    <tr>\n",
       "      <th>107</th>\n",
       "      <td>Me Before You</td>\n",
       "      <td>2016</td>\n",
       "      <td>51</td>\n",
       "      <td>7.4</td>\n",
       "      <td>58</td>\n",
       "      <td>73</td>\n",
       "      <td>4.5</td>\n",
       "      <td>2.55</td>\n",
       "      <td>3.70</td>\n",
       "      <td>2.90</td>\n",
       "      <td>3.65</td>\n",
       "      <td>2.5</td>\n",
       "      <td>3.5</td>\n",
       "      <td>3.0</td>\n",
       "      <td>3.5</td>\n",
       "    </tr>\n",
       "    <tr>\n",
       "      <th>51</th>\n",
       "      <td>Fantastic Beasts and Where to Find Them</td>\n",
       "      <td>2016</td>\n",
       "      <td>66</td>\n",
       "      <td>7.5</td>\n",
       "      <td>73</td>\n",
       "      <td>81</td>\n",
       "      <td>4.5</td>\n",
       "      <td>3.30</td>\n",
       "      <td>3.75</td>\n",
       "      <td>3.65</td>\n",
       "      <td>4.05</td>\n",
       "      <td>3.5</td>\n",
       "      <td>4.0</td>\n",
       "      <td>3.5</td>\n",
       "      <td>4.0</td>\n",
       "    </tr>\n",
       "    <tr>\n",
       "      <th>33</th>\n",
       "      <td>Cell</td>\n",
       "      <td>2016</td>\n",
       "      <td>38</td>\n",
       "      <td>4.3</td>\n",
       "      <td>11</td>\n",
       "      <td>16</td>\n",
       "      <td>3.0</td>\n",
       "      <td>1.90</td>\n",
       "      <td>2.15</td>\n",
       "      <td>0.55</td>\n",
       "      <td>0.80</td>\n",
       "      <td>2.0</td>\n",
       "      <td>2.0</td>\n",
       "      <td>0.5</td>\n",
       "      <td>1.0</td>\n",
       "    </tr>\n",
       "    <tr>\n",
       "      <th>59</th>\n",
       "      <td>Genius</td>\n",
       "      <td>2016</td>\n",
       "      <td>56</td>\n",
       "      <td>6.5</td>\n",
       "      <td>51</td>\n",
       "      <td>45</td>\n",
       "      <td>3.5</td>\n",
       "      <td>2.80</td>\n",
       "      <td>3.25</td>\n",
       "      <td>2.55</td>\n",
       "      <td>2.25</td>\n",
       "      <td>3.0</td>\n",
       "      <td>3.0</td>\n",
       "      <td>2.5</td>\n",
       "      <td>2.0</td>\n",
       "    </tr>\n",
       "    <tr>\n",
       "      <th>152</th>\n",
       "      <td>Sully</td>\n",
       "      <td>2016</td>\n",
       "      <td>74</td>\n",
       "      <td>7.5</td>\n",
       "      <td>85</td>\n",
       "      <td>85</td>\n",
       "      <td>4.5</td>\n",
       "      <td>3.70</td>\n",
       "      <td>3.75</td>\n",
       "      <td>4.25</td>\n",
       "      <td>4.25</td>\n",
       "      <td>3.5</td>\n",
       "      <td>4.0</td>\n",
       "      <td>4.0</td>\n",
       "      <td>4.0</td>\n",
       "    </tr>\n",
       "    <tr>\n",
       "      <th>4</th>\n",
       "      <td>A Hologram for the King</td>\n",
       "      <td>2016</td>\n",
       "      <td>58</td>\n",
       "      <td>6.1</td>\n",
       "      <td>70</td>\n",
       "      <td>57</td>\n",
       "      <td>3.0</td>\n",
       "      <td>2.90</td>\n",
       "      <td>3.05</td>\n",
       "      <td>3.50</td>\n",
       "      <td>2.85</td>\n",
       "      <td>3.0</td>\n",
       "      <td>3.0</td>\n",
       "      <td>3.5</td>\n",
       "      <td>3.0</td>\n",
       "    </tr>\n",
       "    <tr>\n",
       "      <th>31</th>\n",
       "      <td>Captain America: Civil War</td>\n",
       "      <td>2016</td>\n",
       "      <td>75</td>\n",
       "      <td>7.9</td>\n",
       "      <td>90</td>\n",
       "      <td>89</td>\n",
       "      <td>4.5</td>\n",
       "      <td>3.75</td>\n",
       "      <td>3.95</td>\n",
       "      <td>4.50</td>\n",
       "      <td>4.45</td>\n",
       "      <td>4.0</td>\n",
       "      <td>4.0</td>\n",
       "      <td>4.5</td>\n",
       "      <td>4.5</td>\n",
       "    </tr>\n",
       "  </tbody>\n",
       "</table>\n",
       "</div>"
      ],
      "text/plain": [
       "                                       movie  year  metascore  imdb  tmeter  \\\n",
       "108                   Mechanic: Resurrection  2016         38   5.6      29   \n",
       "206                                 Warcraft  2016         32   7.0      28   \n",
       "106                                Max Steel  2016         22   4.6       0   \n",
       "107                            Me Before You  2016         51   7.4      58   \n",
       "51   Fantastic Beasts and Where to Find Them  2016         66   7.5      73   \n",
       "33                                      Cell  2016         38   4.3      11   \n",
       "59                                    Genius  2016         56   6.5      51   \n",
       "152                                    Sully  2016         74   7.5      85   \n",
       "4                    A Hologram for the King  2016         58   6.1      70   \n",
       "31                Captain America: Civil War  2016         75   7.9      90   \n",
       "\n",
       "     audience  fandango  n_metascore  n_imdb  n_tmeter  n_audience  \\\n",
       "108        41       4.0         1.90    2.80      1.45        2.05   \n",
       "206        71       4.0         1.60    3.50      1.40        3.55   \n",
       "106        38       3.5         1.10    2.30      0.00        1.90   \n",
       "107        73       4.5         2.55    3.70      2.90        3.65   \n",
       "51         81       4.5         3.30    3.75      3.65        4.05   \n",
       "33         16       3.0         1.90    2.15      0.55        0.80   \n",
       "59         45       3.5         2.80    3.25      2.55        2.25   \n",
       "152        85       4.5         3.70    3.75      4.25        4.25   \n",
       "4          57       3.0         2.90    3.05      3.50        2.85   \n",
       "31         89       4.5         3.75    3.95      4.50        4.45   \n",
       "\n",
       "     nr_metascore  nr_imdb  nr_tmeter  nr_audience  \n",
       "108           2.0      3.0        1.5          2.0  \n",
       "206           1.5      3.5        1.5          3.5  \n",
       "106           1.0      2.5        0.0          2.0  \n",
       "107           2.5      3.5        3.0          3.5  \n",
       "51            3.5      4.0        3.5          4.0  \n",
       "33            2.0      2.0        0.5          1.0  \n",
       "59            3.0      3.0        2.5          2.0  \n",
       "152           3.5      4.0        4.0          4.0  \n",
       "4             3.0      3.0        3.5          3.0  \n",
       "31            4.0      4.0        4.5          4.5  "
      ]
     },
     "execution_count": 55,
     "metadata": {},
     "output_type": "execute_result"
    }
   ],
   "source": [
    "df2.sample(10, random_state = 1)"
   ]
  },
  {
   "cell_type": "markdown",
   "metadata": {},
   "source": [
    "# 4/8 Isolating Needed Samples\n",
    "\n",
    "* Dataset1: movies from 2015\n",
    "* Dataset2: movies from 2016"
   ]
  },
  {
   "cell_type": "code",
   "execution_count": 57,
   "metadata": {},
   "outputs": [
    {
     "name": "stdout",
     "output_type": "stream",
     "text": [
      "Num movies from 2015 129\n",
      "Num movies from 2016 191\n"
     ]
    }
   ],
   "source": [
    "pop_movies_2015 = df1[df1['year'] == 2015]\n",
    "print(\"Num movies from 2015 \"+str(len(pop_movies_2015)))\n",
    "pop_movies_2016 = df2[df2['year'] == 2016]\n",
    "print(\"Num movies from 2016 \"+str(len(pop_movies_2016)))"
   ]
  },
  {
   "cell_type": "code",
   "execution_count": 59,
   "metadata": {},
   "outputs": [
    {
     "data": {
      "text/html": [
       "<div>\n",
       "<style scoped>\n",
       "    .dataframe tbody tr th:only-of-type {\n",
       "        vertical-align: middle;\n",
       "    }\n",
       "\n",
       "    .dataframe tbody tr th {\n",
       "        vertical-align: top;\n",
       "    }\n",
       "\n",
       "    .dataframe thead th {\n",
       "        text-align: right;\n",
       "    }\n",
       "</style>\n",
       "<table border=\"1\" class=\"dataframe\">\n",
       "  <thead>\n",
       "    <tr style=\"text-align: right;\">\n",
       "      <th></th>\n",
       "      <th>FILM</th>\n",
       "      <th>RottenTomatoes</th>\n",
       "      <th>RottenTomatoes_User</th>\n",
       "      <th>Metacritic</th>\n",
       "      <th>Metacritic_User</th>\n",
       "      <th>IMDB</th>\n",
       "      <th>Fandango_Stars</th>\n",
       "      <th>Fandango_Ratingvalue</th>\n",
       "      <th>RT_norm</th>\n",
       "      <th>RT_user_norm</th>\n",
       "      <th>...</th>\n",
       "      <th>RT_user_norm_round</th>\n",
       "      <th>Metacritic_norm_round</th>\n",
       "      <th>Metacritic_user_norm_round</th>\n",
       "      <th>IMDB_norm_round</th>\n",
       "      <th>Metacritic_user_vote_count</th>\n",
       "      <th>IMDB_user_vote_count</th>\n",
       "      <th>Fandango_votes</th>\n",
       "      <th>Fandango_Difference</th>\n",
       "      <th>movie</th>\n",
       "      <th>year</th>\n",
       "    </tr>\n",
       "  </thead>\n",
       "  <tbody>\n",
       "    <tr>\n",
       "      <th>0</th>\n",
       "      <td>Avengers: Age of Ultron (2015)</td>\n",
       "      <td>74</td>\n",
       "      <td>86</td>\n",
       "      <td>66</td>\n",
       "      <td>7.1</td>\n",
       "      <td>7.8</td>\n",
       "      <td>5.0</td>\n",
       "      <td>4.5</td>\n",
       "      <td>3.70</td>\n",
       "      <td>4.3</td>\n",
       "      <td>...</td>\n",
       "      <td>4.5</td>\n",
       "      <td>3.5</td>\n",
       "      <td>3.5</td>\n",
       "      <td>4.0</td>\n",
       "      <td>1330</td>\n",
       "      <td>271107</td>\n",
       "      <td>14846</td>\n",
       "      <td>0.5</td>\n",
       "      <td>Avengers: Age of Ultron</td>\n",
       "      <td>2015</td>\n",
       "    </tr>\n",
       "    <tr>\n",
       "      <th>1</th>\n",
       "      <td>Cinderella (2015)</td>\n",
       "      <td>85</td>\n",
       "      <td>80</td>\n",
       "      <td>67</td>\n",
       "      <td>7.5</td>\n",
       "      <td>7.1</td>\n",
       "      <td>5.0</td>\n",
       "      <td>4.5</td>\n",
       "      <td>4.25</td>\n",
       "      <td>4.0</td>\n",
       "      <td>...</td>\n",
       "      <td>4.0</td>\n",
       "      <td>3.5</td>\n",
       "      <td>4.0</td>\n",
       "      <td>3.5</td>\n",
       "      <td>249</td>\n",
       "      <td>65709</td>\n",
       "      <td>12640</td>\n",
       "      <td>0.5</td>\n",
       "      <td>Cinderella</td>\n",
       "      <td>2015</td>\n",
       "    </tr>\n",
       "    <tr>\n",
       "      <th>2</th>\n",
       "      <td>Ant-Man (2015)</td>\n",
       "      <td>80</td>\n",
       "      <td>90</td>\n",
       "      <td>64</td>\n",
       "      <td>8.1</td>\n",
       "      <td>7.8</td>\n",
       "      <td>5.0</td>\n",
       "      <td>4.5</td>\n",
       "      <td>4.00</td>\n",
       "      <td>4.5</td>\n",
       "      <td>...</td>\n",
       "      <td>4.5</td>\n",
       "      <td>3.0</td>\n",
       "      <td>4.0</td>\n",
       "      <td>4.0</td>\n",
       "      <td>627</td>\n",
       "      <td>103660</td>\n",
       "      <td>12055</td>\n",
       "      <td>0.5</td>\n",
       "      <td>Ant-Man</td>\n",
       "      <td>2015</td>\n",
       "    </tr>\n",
       "  </tbody>\n",
       "</table>\n",
       "<p>3 rows × 24 columns</p>\n",
       "</div>"
      ],
      "text/plain": [
       "                             FILM  RottenTomatoes  RottenTomatoes_User  \\\n",
       "0  Avengers: Age of Ultron (2015)              74                   86   \n",
       "1               Cinderella (2015)              85                   80   \n",
       "2                  Ant-Man (2015)              80                   90   \n",
       "\n",
       "   Metacritic  Metacritic_User  IMDB  Fandango_Stars  Fandango_Ratingvalue  \\\n",
       "0          66              7.1   7.8             5.0                   4.5   \n",
       "1          67              7.5   7.1             5.0                   4.5   \n",
       "2          64              8.1   7.8             5.0                   4.5   \n",
       "\n",
       "   RT_norm  RT_user_norm  ...  RT_user_norm_round  Metacritic_norm_round  \\\n",
       "0     3.70           4.3  ...                 4.5                    3.5   \n",
       "1     4.25           4.0  ...                 4.0                    3.5   \n",
       "2     4.00           4.5  ...                 4.5                    3.0   \n",
       "\n",
       "   Metacritic_user_norm_round  IMDB_norm_round  Metacritic_user_vote_count  \\\n",
       "0                         3.5              4.0                        1330   \n",
       "1                         4.0              3.5                         249   \n",
       "2                         4.0              4.0                         627   \n",
       "\n",
       "   IMDB_user_vote_count  Fandango_votes  Fandango_Difference  \\\n",
       "0                271107           14846                  0.5   \n",
       "1                 65709           12640                  0.5   \n",
       "2                103660           12055                  0.5   \n",
       "\n",
       "                     movie  year  \n",
       "0  Avengers: Age of Ultron  2015  \n",
       "1               Cinderella  2015  \n",
       "2                  Ant-Man  2015  \n",
       "\n",
       "[3 rows x 24 columns]"
      ]
     },
     "execution_count": 59,
     "metadata": {},
     "output_type": "execute_result"
    }
   ],
   "source": [
    "pop_movies_2015.head(3)"
   ]
  },
  {
   "cell_type": "code",
   "execution_count": 60,
   "metadata": {},
   "outputs": [
    {
     "data": {
      "text/html": [
       "<div>\n",
       "<style scoped>\n",
       "    .dataframe tbody tr th:only-of-type {\n",
       "        vertical-align: middle;\n",
       "    }\n",
       "\n",
       "    .dataframe tbody tr th {\n",
       "        vertical-align: top;\n",
       "    }\n",
       "\n",
       "    .dataframe thead th {\n",
       "        text-align: right;\n",
       "    }\n",
       "</style>\n",
       "<table border=\"1\" class=\"dataframe\">\n",
       "  <thead>\n",
       "    <tr style=\"text-align: right;\">\n",
       "      <th></th>\n",
       "      <th>movie</th>\n",
       "      <th>year</th>\n",
       "      <th>metascore</th>\n",
       "      <th>imdb</th>\n",
       "      <th>tmeter</th>\n",
       "      <th>audience</th>\n",
       "      <th>fandango</th>\n",
       "      <th>n_metascore</th>\n",
       "      <th>n_imdb</th>\n",
       "      <th>n_tmeter</th>\n",
       "      <th>n_audience</th>\n",
       "      <th>nr_metascore</th>\n",
       "      <th>nr_imdb</th>\n",
       "      <th>nr_tmeter</th>\n",
       "      <th>nr_audience</th>\n",
       "    </tr>\n",
       "  </thead>\n",
       "  <tbody>\n",
       "    <tr>\n",
       "      <th>0</th>\n",
       "      <td>10 Cloverfield Lane</td>\n",
       "      <td>2016</td>\n",
       "      <td>76</td>\n",
       "      <td>7.2</td>\n",
       "      <td>90</td>\n",
       "      <td>79</td>\n",
       "      <td>3.5</td>\n",
       "      <td>3.80</td>\n",
       "      <td>3.60</td>\n",
       "      <td>4.5</td>\n",
       "      <td>3.95</td>\n",
       "      <td>4.0</td>\n",
       "      <td>3.5</td>\n",
       "      <td>4.5</td>\n",
       "      <td>4.0</td>\n",
       "    </tr>\n",
       "    <tr>\n",
       "      <th>1</th>\n",
       "      <td>13 Hours</td>\n",
       "      <td>2016</td>\n",
       "      <td>48</td>\n",
       "      <td>7.3</td>\n",
       "      <td>50</td>\n",
       "      <td>83</td>\n",
       "      <td>4.5</td>\n",
       "      <td>2.40</td>\n",
       "      <td>3.65</td>\n",
       "      <td>2.5</td>\n",
       "      <td>4.15</td>\n",
       "      <td>2.5</td>\n",
       "      <td>3.5</td>\n",
       "      <td>2.5</td>\n",
       "      <td>4.0</td>\n",
       "    </tr>\n",
       "    <tr>\n",
       "      <th>2</th>\n",
       "      <td>A Cure for Wellness</td>\n",
       "      <td>2016</td>\n",
       "      <td>47</td>\n",
       "      <td>6.6</td>\n",
       "      <td>40</td>\n",
       "      <td>47</td>\n",
       "      <td>3.0</td>\n",
       "      <td>2.35</td>\n",
       "      <td>3.30</td>\n",
       "      <td>2.0</td>\n",
       "      <td>2.35</td>\n",
       "      <td>2.5</td>\n",
       "      <td>3.5</td>\n",
       "      <td>2.0</td>\n",
       "      <td>2.5</td>\n",
       "    </tr>\n",
       "  </tbody>\n",
       "</table>\n",
       "</div>"
      ],
      "text/plain": [
       "                 movie  year  metascore  imdb  tmeter  audience  fandango  \\\n",
       "0  10 Cloverfield Lane  2016         76   7.2      90        79       3.5   \n",
       "1             13 Hours  2016         48   7.3      50        83       4.5   \n",
       "2  A Cure for Wellness  2016         47   6.6      40        47       3.0   \n",
       "\n",
       "   n_metascore  n_imdb  n_tmeter  n_audience  nr_metascore  nr_imdb  \\\n",
       "0         3.80    3.60       4.5        3.95           4.0      3.5   \n",
       "1         2.40    3.65       2.5        4.15           2.5      3.5   \n",
       "2         2.35    3.30       2.0        2.35           2.5      3.5   \n",
       "\n",
       "   nr_tmeter  nr_audience  \n",
       "0        4.5          4.0  \n",
       "1        2.5          4.0  \n",
       "2        2.0          2.5  "
      ]
     },
     "execution_count": 60,
     "metadata": {},
     "output_type": "execute_result"
    }
   ],
   "source": [
    "pop_movies_2016.head(3)"
   ]
  },
  {
   "cell_type": "code",
   "execution_count": 73,
   "metadata": {},
   "outputs": [
    {
     "data": {
      "text/plain": [
       "<matplotlib.axes._subplots.AxesSubplot at 0x182a6b2d4e0>"
      ]
     },
     "execution_count": 73,
     "metadata": {},
     "output_type": "execute_result"
    },
    {
     "data": {
      "image/png": "[encoded data removed]",
      "text/plain": [
       "<Figure size 432x288 with 1 Axes>"
      ]
     },
     "metadata": {},
     "output_type": "display_data"
    }
   ],
   "source": [
    "plt.style.use('fivethirtyeight')\n",
    "pop_movies_2015['Fandango_Stars'].plot.kde(label='2015', legend=True)\n",
    "pop_movies_2016['fandango'].plot.kde(title='Fandango Movie Ratings 2015 vs 2016',label='2016', legend=True, x='Movie Rating', xticks=[0, 0.5, 1.0, 1.5, 2.0, 2.5, 3.0, 3.5, 4.0, 4.5, 5.0])"
   ]
  },
  {
   "cell_type": "markdown",
   "metadata": {},
   "source": [
    "# Analysis Questions:\n",
    "\n",
    "## Q: What is the shape of each distribution?\n",
    "\n",
    "**A:** The 2015 distribution is left skewed. The 2016 data is *roughly* normal with a slight skewing to the left.\n",
    "\n",
    "## Q: How do their shapes compare?\n",
    "\n",
    "**A:** they are relatively similar.\n",
    "    \n",
    "## Q: If their shapes are similar, is there anything that clearly differentiates them?\n",
    "\n",
    "**A:** the 2016 graph features spikes of probability density at 3.5, 4.0 and 4.5. The 2015 graph is more of a gradual slope to around 4.25, after which is begins to fall off.\n",
    "\n",
    "## Q: Can we see any evidence on the graph that suggests that there is indeed a change between Fandango's ratings for popular movies in 2015 and Fandango's ratings for popular movies in 2016?\n",
    "\n",
    "Yes, the differences between the two graphs do not seem to be incidental, or due to temporal shifts in movie ratings.\n",
    "\n",
    "## Q: Provided there's a difference, can we tell anything about the direction of the difference? In other words, were movies in 2016 rated lower or higher compared to 2015?\n",
    "\n",
    "The probability of movies getting 4.0 rating is much higher in the 2016 data (.9 density versus .6 density) than it was in 2015. Whereas the probability of movies getting a 4.5 rating was higher in 2015 (.8 versus ~.55).\n"
   ]
  },
  {
   "cell_type": "markdown",
   "metadata": {},
   "source": [
    "# 6/8 Comparing Relative Frequencies\n",
    "\n",
    "*  Examine the frequency distribution tables of the two distributions.\n",
    "    * The samples have different number of movies. Does it make sense to compare the two tables using absolute frequencies?\n",
    "    * If absolute frequencies are not useful here, would relative frequencies be of more help? If so, what would be better for readability — proportions or percentages?\n",
    "\n",
    "* Analyze the two tables and try to answer the following questions:\n",
    "    * Is it still clear that there is a difference between the two distributions?\n",
    "    * What can you tell about the direction of the difference just from the tables? Is the direction still that clear anymore?\n"
   ]
  },
  {
   "cell_type": "markdown",
   "metadata": {},
   "source": [
    "# Approach\n",
    "\n",
    "In order to provide a better view on the differences between the two datasets, we will use normalized frequency tables."
   ]
  },
  {
   "cell_type": "code",
   "execution_count": 77,
   "metadata": {},
   "outputs": [
    {
     "name": "stdout",
     "output_type": "stream",
     "text": [
      "2015 Frequencies\n"
     ]
    },
    {
     "data": {
      "text/plain": [
       "3.0     8.527132\n",
       "3.5    17.829457\n",
       "4.0    28.682171\n",
       "4.5    37.984496\n",
       "5.0     6.976744\n",
       "Name: Fandango_Stars, dtype: float64"
      ]
     },
     "execution_count": 77,
     "metadata": {},
     "output_type": "execute_result"
    }
   ],
   "source": [
    "print(\"2015 Frequencies\")\n",
    "pop_movies_2015['Fandango_Stars'].value_counts(normalize = True).sort_index(ascending = True)*100"
   ]
  },
  {
   "cell_type": "code",
   "execution_count": 78,
   "metadata": {},
   "outputs": [
    {
     "name": "stdout",
     "output_type": "stream",
     "text": [
      "2016 Frequencies\n"
     ]
    },
    {
     "data": {
      "text/plain": [
       "2.5     3.141361\n",
       "3.0     7.329843\n",
       "3.5    24.083770\n",
       "4.0    40.314136\n",
       "4.5    24.607330\n",
       "5.0     0.523560\n",
       "Name: fandango, dtype: float64"
      ]
     },
     "execution_count": 78,
     "metadata": {},
     "output_type": "execute_result"
    }
   ],
   "source": [
    "print(\"2016 Frequencies\")\n",
    "pop_movies_2016['fandango'].value_counts(normalize = True).sort_index(ascending = True)*100"
   ]
  },
  {
   "cell_type": "markdown",
   "metadata": {},
   "source": [
    "# Analysis\n",
    "\n",
    "The 2016 shows a 4.0 rating as the most likely at 40% followed by 3.5 or 4.5, at 24% and 25% respectively. In 2015, the most likely rating was 4.5 at 37%, followed by 4.0 at 29%. The direction seems to indicate a definite downward shift in ratings between 2015 and 2016."
   ]
  },
  {
   "cell_type": "markdown",
   "metadata": {},
   "source": [
    "# Summary statistics"
   ]
  },
  {
   "cell_type": "code",
   "execution_count": 82,
   "metadata": {},
   "outputs": [
    {
     "name": "stdout",
     "output_type": "stream",
     "text": [
      "Mean: 4.0852713178294575 Median: 4.0 Mode: 0    4.5\n",
      "dtype: float64\n",
      "Mean: 3.887434554973822 Median: 4.0 Mode: 0    4.0\n",
      "dtype: float64\n"
     ]
    }
   ],
   "source": [
    "print('Mean: '+str(pop_movies_2015['Fandango_Stars'].mean())+' Median: '+str(pop_movies_2015['Fandango_Stars'].median())+' Mode: '+str(pop_movies_2015['Fandango_Stars'].mode()))\n",
    "print('Mean: '+str(pop_movies_2016['fandango'].mean())+' Median: '+str(pop_movies_2016['fandango'].median())+' Mode: '+str(pop_movies_2016['fandango'].mode()))\n",
    "#print(pop_movies_2016['fandango'].describe())"
   ]
  },
  {
   "cell_type": "code",
   "execution_count": 84,
   "metadata": {},
   "outputs": [],
   "source": [
    "summ_stat_df = pd.DataFrame([{'year':2015,'mean':pop_movies_2015['Fandango_Stars'].mean(),'median':pop_movies_2015['Fandango_Stars'].median(),'mode':pop_movies_2015['Fandango_Stars'].mode()},\n",
    "                          {'year':2016,'mean':pop_movies_2016['fandango'].mean(),'median':pop_movies_2016['fandango'].median(),'mode':pop_movies_2016['fandango'].mode()}])"
   ]
  },
  {
   "cell_type": "code",
   "execution_count": 93,
   "metadata": {},
   "outputs": [],
   "source": [
    "summ_stat_df2 = pd.DataFrame([{'year':2015,'stat':'mean','count':pop_movies_2015['Fandango_Stars'].mean()},\n",
    "                               {'year':2015,'stat':'median','count':pop_movies_2015['Fandango_Stars'].median()},\n",
    "                               {'year':2015,'stat':'mode','count':pop_movies_2015['Fandango_Stars'].mode()},\n",
    "                          {'year':2016,'stat':'mean','count':pop_movies_2016['fandango'].mean()},\n",
    "                        {'year':2016,'stat':'median','count':pop_movies_2016['fandango'].median()},\n",
    "                           {'year':2016,'stat':'mode','count':pop_movies_2016['fandango'].mode()}])"
   ]
  },
  {
   "cell_type": "code",
   "execution_count": 111,
   "metadata": {},
   "outputs": [],
   "source": [
    "summ_stat_df3 = pd.DataFrame([{'2015':pop_movies_2015['Fandango_Stars'].mean(),'2016':pop_movies_2016['fandango'].mean()},\n",
    "                              {'2015':pop_movies_2015['Fandango_Stars'].median(),'2016':pop_movies_2016['fandango'].median()},\n",
    "                              {'2015':pop_movies_2015['Fandango_Stars'].mode()[0],'2016':pop_movies_2016['fandango'].mode()[0]}])\n",
    "summ_stat_df3.index = ['mean','median','mode']"
   ]
  },
  {
   "cell_type": "code",
   "execution_count": 112,
   "metadata": {},
   "outputs": [
    {
     "data": {
      "text/html": [
       "<div>\n",
       "<style scoped>\n",
       "    .dataframe tbody tr th:only-of-type {\n",
       "        vertical-align: middle;\n",
       "    }\n",
       "\n",
       "    .dataframe tbody tr th {\n",
       "        vertical-align: top;\n",
       "    }\n",
       "\n",
       "    .dataframe thead th {\n",
       "        text-align: right;\n",
       "    }\n",
       "</style>\n",
       "<table border=\"1\" class=\"dataframe\">\n",
       "  <thead>\n",
       "    <tr style=\"text-align: right;\">\n",
       "      <th></th>\n",
       "      <th>2015</th>\n",
       "      <th>2016</th>\n",
       "    </tr>\n",
       "  </thead>\n",
       "  <tbody>\n",
       "    <tr>\n",
       "      <th>mean</th>\n",
       "      <td>4.085271</td>\n",
       "      <td>3.887435</td>\n",
       "    </tr>\n",
       "    <tr>\n",
       "      <th>median</th>\n",
       "      <td>4.000000</td>\n",
       "      <td>4.000000</td>\n",
       "    </tr>\n",
       "    <tr>\n",
       "      <th>mode</th>\n",
       "      <td>4.500000</td>\n",
       "      <td>4.000000</td>\n",
       "    </tr>\n",
       "  </tbody>\n",
       "</table>\n",
       "</div>"
      ],
      "text/plain": [
       "            2015      2016\n",
       "mean    4.085271  3.887435\n",
       "median  4.000000  4.000000\n",
       "mode    4.500000  4.000000"
      ]
     },
     "execution_count": 112,
     "metadata": {},
     "output_type": "execute_result"
    }
   ],
   "source": [
    "summ_stat_df3.head(3)"
   ]
  },
  {
   "cell_type": "code",
   "execution_count": 113,
   "metadata": {},
   "outputs": [
    {
     "data": {
      "text/plain": [
       "2015    float64\n",
       "2016    float64\n",
       "dtype: object"
      ]
     },
     "execution_count": 113,
     "metadata": {},
     "output_type": "execute_result"
    }
   ],
   "source": [
    "summ_stat_df3.dtypes"
   ]
  },
  {
   "cell_type": "code",
   "execution_count": 98,
   "metadata": {},
   "outputs": [],
   "source": [
    "summ_stat_df2['count'] = summ_stat_df2['count'].astype(float)"
   ]
  },
  {
   "cell_type": "code",
   "execution_count": null,
   "metadata": {},
   "outputs": [],
   "source": [
    "#sns.countplot(x = summ_stat_df3.index, hue = 'year' , data=summ_stat_df3)\n",
    "#sns.countplot(x = 'median', hue = 'year' , data=summ_stat_df)\n",
    "#sns.countplot(x = 'mode', hue = 'year' , data=summ_stat_df)"
   ]
  },
  {
   "cell_type": "code",
   "execution_count": 123,
   "metadata": {},
   "outputs": [
    {
     "data": {
      "image/png": "[encoded data removed]",
      "text/plain": [
       "<Figure size 432x288 with 1 Axes>"
      ]
     },
     "metadata": {},
     "output_type": "display_data"
    }
   ],
   "source": [
    "summ_stat_df3['2015'].plot.bar(color='#FFFFFF',align='center',label='2015')\n",
    "summ_stat_df3['2016'].plot.bar(color='#000000',align='edge',label='2016')\n",
    "plt.title('Summary Statistic Comparison')\n",
    "plt.legend()\n",
    "plt.show()"
   ]
  },
  {
   "cell_type": "markdown",
   "metadata": {},
   "source": [
    "# Analysis\n",
    "\n",
    "The summary statistics show that the difference between the two datasets is actually very small. The mean and the median are almost identical. The most frequently given rating did, however decrease from 4.5 to 4.0."
   ]
  },
  {
   "cell_type": "markdown",
   "metadata": {},
   "source": [
    "# Next Steps\n",
    "\n",
    "These are a few next steps to consider:\n",
    "\n",
    "* Customize your graphs more by reproducing almost completely the FiveThirtyEight style. You can take a look at [this tutorial](https://www.dataquest.io/blog/making-538-plots/) if you want to do that.\n",
    "* Improve your project from a stylistical point of view by following the guidelines discussed in [this style guide](https://www.dataquest.io/blog/data-science-project-style-guide/).\n",
    "* Use the two samples to compare ratings of different movie ratings aggregators and recommend what's the best website to check for a movie rating. There are many approaches you can take here — you can take some inspiration from [this article](https://medium.freecodecamp.org/whose-reviews-should-you-trust-imdb-rotten-tomatoes-metacritic-or-fandango-7d1010c6cf19).\n",
    "* Collect recent movie ratings data and formulate your own research questions. You can take a look at [this blog post](https://www.dataquest.io/blog/web-scraping-beautifulsoup/) to learn how to scrape movie ratings for IMDB and Metacritic.\n",
    "* Review the [solution guide](https://github.com/dataquestio/solutions/blob/master/Mission288Solutions.ipynb)\n",
    "\n"
   ]
  },
  {
   "cell_type": "code",
   "execution_count": null,
   "metadata": {},
   "outputs": [],
   "source": []
  }
 ],
 "metadata": {
  "kernelspec": {
   "display_name": "Python 3",
   "language": "python",
   "name": "python3"
  },
  "language_info": {
   "codemirror_mode": {
    "name": "ipython",
    "version": 3
   },
   "file_extension": ".py",
   "mimetype": "text/x-python",
   "name": "python",
   "nbconvert_exporter": "python",
   "pygments_lexer": "ipython3",
   "version": "3.7.3"
  }
 },
 "nbformat": 4,
 "nbformat_minor": 4
}
