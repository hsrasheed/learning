{
 "cells": [
  {
   "cell_type": "markdown",
   "metadata": {},
   "source": [
    "# Report: Analysis of Bike Rentals"
   ]
  },
  {
   "cell_type": "markdown",
   "metadata": {},
   "source": [
    "Hassan Rasheed, April 2020"
   ]
  },
  {
   "cell_type": "markdown",
   "metadata": {},
   "source": [
    "## Executive Summary"
   ]
  },
  {
   "cell_type": "markdown",
   "metadata": {},
   "source": [
    "This document presents an analysis of data concerning bike rentals in ____ from _____ to _____ . This analysis is based on 17379 observations of hourly bike rental data. Each observation contains information about the day, time, season of the rental reservations.\n",
    "\n",
    "After exploring the data by calculating summart and descriptive statistics, and by creating visualizations of the data, several critical factors were identified for estimating bike rental rate.\n",
    "\n",
    "After exploring the data, Linear Regression, Decision Tree Regression and Random Forest Regression models were created to predict the number of bike rentals per hour based on different factors.\n",
    "\n",
    "After performing the analysis, the author presents the following conclusions:\n",
    "\n",
    "\n",
    "\n",
    "* The factors with highest correlation to the rental count were:\n",
    "    * Temperature\n",
    "    * ...\n",
    "    * ...\n",
    "    * ...\n",
    "    * ...\n",
    "* The model with best performance was ______ using features of _______\n",
    "* \n",
    "\n"
   ]
  },
  {
   "cell_type": "markdown",
   "metadata": {},
   "source": [
    "## Initial Data Exploration"
   ]
  },
  {
   "cell_type": "markdown",
   "metadata": {},
   "source": [
    "### Individual Feature Statistics"
   ]
  },
  {
   "cell_type": "code",
   "execution_count": null,
   "metadata": {},
   "outputs": [],
   "source": [
    "# Table with summary statistics for each column in the data set"
   ]
  },
  {
   "cell_type": "markdown",
   "metadata": {},
   "source": [
    "### Correlation and Apparent Relationships"
   ]
  },
  {
   "cell_type": "markdown",
   "metadata": {},
   "source": [
    "#### Numeric Relationships"
   ]
  },
  {
   "cell_type": "code",
   "execution_count": 1,
   "metadata": {},
   "outputs": [],
   "source": [
    "# Scatter plot matrix 6x6 showing relationship between important factors and the target column"
   ]
  },
  {
   "cell_type": "markdown",
   "metadata": {},
   "source": [
    "These plots show an apparent relationship between features X, Y, Z and the rental count - when they increase, count also increases.\n",
    "\n",
    "The relationships between these features and the count appears to be LINEAR, CURVED, etc.\n",
    "\n",
    "The following correlation matrix shows the relationships between numeric columns in the data set."
   ]
  },
  {
   "cell_type": "markdown",
   "metadata": {},
   "source": [
    "#### Categorical relationship"
   ]
  },
  {
   "cell_type": "markdown",
   "metadata": {},
   "source": [
    "## Regression"
   ]
  },
  {
   "cell_type": "markdown",
   "metadata": {},
   "source": [
    "After creating a classification model to predict price categories, a regression model to predict the actual price of automobiles was created. Based on the apparent relationships identified when analyzing the data, a linear regression model was created to predict the log-normal value for price, from which the predicted price can be calculated.\n",
    "\n",
    "The model was trained with 70% of the data, and tested with the remaining 30%. A scatter plot showing the predicted log prices and the actual log prices is shown below:"
   ]
  },
  {
   "cell_type": "markdown",
   "metadata": {},
   "source": [
    "## Conclusion\n",
    "\n",
    "This analysis has shown that the price of an automobile can be confidently predicted from its characteristics. In particular, the manufacturer, number of cylinders, horsepower, city MPG, and drive wheels have a significant effect on the price of an automobile. Secondary features, such as fuel type can help further classify automobiles and determine price groupings to which they belong."
   ]
  }
 ],
 "metadata": {
  "kernelspec": {
   "display_name": "Python 3",
   "language": "python",
   "name": "python3"
  },
  "language_info": {
   "codemirror_mode": {
    "name": "ipython",
    "version": 3
   },
   "file_extension": ".py",
   "mimetype": "text/x-python",
   "name": "python",
   "nbconvert_exporter": "python",
   "pygments_lexer": "ipython3",
   "version": "3.7.3"
  }
 },
 "nbformat": 4,
 "nbformat_minor": 4
}
