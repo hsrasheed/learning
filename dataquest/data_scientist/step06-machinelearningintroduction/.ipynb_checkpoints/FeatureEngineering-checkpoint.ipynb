{
 "cells": [
  {
   "cell_type": "markdown",
   "metadata": {},
   "source": [
    "# Feature Engineering"
   ]
  },
  {
   "cell_type": "markdown",
   "metadata": {},
   "source": [
    "## Task 1: Removing Null Values"
   ]
  },
  {
   "cell_type": "markdown",
   "metadata": {},
   "source": [
    "* Select just the columns from the train data frame that contain no missing values.\n",
    "* Assign the resulting data frame, that contains just these columns, to df_no_mv.\n",
    "* Use the variables display to become familiar with these columns."
   ]
  },
  {
   "cell_type": "code",
   "execution_count": 1,
   "metadata": {},
   "outputs": [
    {
     "name": "stdout",
     "output_type": "stream",
     "text": [
      "Order                0\n",
      "PID                  0\n",
      "MS SubClass          0\n",
      "MS Zoning            0\n",
      "Lot Frontage       249\n",
      "Lot Area             0\n",
      "Street               0\n",
      "Alley             1351\n",
      "Lot Shape            0\n",
      "Land Contour         0\n",
      "Utilities            0\n",
      "Lot Config           0\n",
      "Land Slope           0\n",
      "Neighborhood         0\n",
      "Condition 1          0\n",
      "Condition 2          0\n",
      "Bldg Type            0\n",
      "House Style          0\n",
      "Overall Qual         0\n",
      "Overall Cond         0\n",
      "Year Built           0\n",
      "Year Remod/Add       0\n",
      "Roof Style           0\n",
      "Roof Matl            0\n",
      "Exterior 1st         0\n",
      "Exterior 2nd         0\n",
      "Mas Vnr Type        11\n",
      "Mas Vnr Area        11\n",
      "Exter Qual           0\n",
      "Exter Cond           0\n",
      "                  ... \n",
      "Bedroom AbvGr        0\n",
      "Kitchen AbvGr        0\n",
      "Kitchen Qual         0\n",
      "TotRms AbvGrd        0\n",
      "Functional           0\n",
      "Fireplaces           0\n",
      "Fireplace Qu       717\n",
      "Garage Type         74\n",
      "Garage Yr Blt       75\n",
      "Garage Finish       75\n",
      "Garage Cars          0\n",
      "Garage Area          0\n",
      "Garage Qual         75\n",
      "Garage Cond         75\n",
      "Paved Drive          0\n",
      "Wood Deck SF         0\n",
      "Open Porch SF        0\n",
      "Enclosed Porch       0\n",
      "3Ssn Porch           0\n",
      "Screen Porch         0\n",
      "Pool Area            0\n",
      "Pool QC           1459\n",
      "Fence             1163\n",
      "Misc Feature      1400\n",
      "Misc Val             0\n",
      "Mo Sold              0\n",
      "Yr Sold              0\n",
      "Sale Type            0\n",
      "Sale Condition       0\n",
      "SalePrice            0\n",
      "Length: 82, dtype: int64\n"
     ]
    }
   ],
   "source": [
    "import pandas as pd\n",
    "\n",
    "data = pd.read_csv('AmesHousing.txt', delimiter=\"\\t\")\n",
    "train = data[0:1460]\n",
    "test = data[1460:]\n",
    "\n",
    "train_null_counts = train.isnull().sum()\n",
    "print(train_null_counts)\n",
    "df_no_mv = train[train_null_counts[train_null_counts == 0].index]"
   ]
  },
  {
   "cell_type": "markdown",
   "metadata": {},
   "source": [
    "## Task 2: Changing text columns to categorical"
   ]
  },
  {
   "cell_type": "markdown",
   "metadata": {},
   "source": [
    "* Convert all of the text columns in train to the categorical data type.\n",
    "* Select the Utilities column, return the categorical codes, and display the unique value counts for those codes: train['Utilities'].cat.codes.value_counts()"
   ]
  },
  {
   "cell_type": "code",
   "execution_count": 2,
   "metadata": {},
   "outputs": [
    {
     "name": "stdout",
     "output_type": "stream",
     "text": [
      "MS Zoning: 6\n",
      "Street: 2\n",
      "Lot Shape: 4\n",
      "Land Contour: 4\n",
      "Utilities:"
     ]
    },
    {
     "name": "stderr",
     "output_type": "stream",
     "text": [
      "C:\\Users\\hrasheed\\AppData\\Local\\Continuum\\anaconda3\\lib\\site-packages\\ipykernel_launcher.py:5: SettingWithCopyWarning: \n",
      "A value is trying to be set on a copy of a slice from a DataFrame.\n",
      "Try using .loc[row_indexer,col_indexer] = value instead\n",
      "\n",
      "See the caveats in the documentation: http://pandas.pydata.org/pandas-docs/stable/indexing.html#indexing-view-versus-copy\n",
      "  \"\"\"\n"
     ]
    },
    {
     "name": "stdout",
     "output_type": "stream",
     "text": [
      " 3\n",
      "Lot Config: 5\n",
      "Land Slope: 3\n",
      "Neighborhood: 26\n",
      "Condition 1: 9\n",
      "Condition 2: 6\n",
      "Bldg Type: 5\n",
      "House Style: 8\n",
      "Roof Style: 6\n",
      "Roof Matl: 5\n",
      "Exterior 1st: 14\n",
      "Exterior 2nd: 16\n",
      "Exter Qual: 4\n",
      "Exter Cond: 5\n",
      "Foundation: 6\n",
      "Heating: 6\n",
      "Heating QC: 4\n",
      "Central Air: 2\n",
      "Electrical: 4\n",
      "Kitchen Qual: 5\n",
      "Functional: 7\n",
      "Paved Drive: 3\n",
      "Sale Type: 9\n",
      "Sale Condition: 5\n"
     ]
    },
    {
     "data": {
      "text/plain": [
       "0    1457\n",
       "2       2\n",
       "1       1\n",
       "dtype: int64"
      ]
     },
     "execution_count": 2,
     "metadata": {},
     "output_type": "execute_result"
    }
   ],
   "source": [
    "text_cols = df_no_mv.select_dtypes(include=['object']).columns\n",
    "\n",
    "for col in text_cols:\n",
    "    print(col+\":\", len(train[col].unique()))\n",
    "    train[col] = train[col].astype('category')\n",
    "    \n",
    "train['Utilities'].cat.codes.value_counts()"
   ]
  },
  {
   "cell_type": "markdown",
   "metadata": {},
   "source": [
    "## Task 3: Changing categorical to ordinal using one-hot encoding or dummy columns"
   ]
  },
  {
   "cell_type": "markdown",
   "metadata": {},
   "source": [
    "* Convert all of the columns in text_cols from the train data frame into dummy columns.\n",
    "* Delete the original columns from text_cols from the train data frame."
   ]
  },
  {
   "cell_type": "code",
   "execution_count": 5,
   "metadata": {},
   "outputs": [
    {
     "name": "stdout",
     "output_type": "stream",
     "text": [
      "Original data frame contains: 82 columns\n",
      "Output of get_dummies contains: 236 columns\n"
     ]
    }
   ],
   "source": [
    "print(\"Original data frame contains: \"+str(len(train.columns))+\" columns\")\n",
    "dummy_cols = pd.DataFrame()\n",
    "dummy_cols = pd.get_dummies(train, columns=text_cols)\n",
    "print(\"Output of get_dummies contains: \"+str(len(dummy_cols.columns))+\" columns\")\n",
    "# Note: current version of pandas removes the old categorical columns as well"
   ]
  },
  {
   "cell_type": "code",
   "execution_count": null,
   "metadata": {},
   "outputs": [],
   "source": [
    "#Another implementation if explicit removal of the old columns is necessary\n",
    "dummy_cols = pd.DataFrame()\n",
    "for col in text_cols:\n",
    "    col_dummies = pd.get_dummies(train[col])\n",
    "    train = pd.concat([train, col_dummies], axis=1)\n",
    "    del train[col]"
   ]
  },
  {
   "cell_type": "markdown",
   "metadata": {},
   "source": [
    "## Task 4: Improving usefulness of numerical features that arent useful for linear regression like year"
   ]
  },
  {
   "cell_type": "markdown",
   "metadata": {},
   "source": [
    "* Problem: Year values aren't representative of how old a house is\n",
    "* Solution:  Create a new column that gives the time elapsed between when two events took place - like house being built and being sold\n"
   ]
  },
  {
   "cell_type": "code",
   "execution_count": null,
   "metadata": {},
   "outputs": [],
   "source": [
    "train['years_until_remod'] = train['Year Remod/Add'] - train['Year Built']"
   ]
  },
  {
   "cell_type": "markdown",
   "metadata": {},
   "source": [
    "# Task 5: Handling null values"
   ]
  },
  {
   "cell_type": "markdown",
   "metadata": {},
   "source": [
    "## Two main approaches for handling missing values: remove or impute\n",
    "\n",
    "### Remove rows containing missing values for specific columns\n",
    "\n",
    "* Pro: Rows containing missing values are removed, leaving only clean data for modeling\n",
    "* Con: Entire observations from the training set are removed, which can reduce overall prediction accuracy\n",
    "* Rule of thumb: if 50% of the values are missing, drop the column\n",
    "\n",
    "### Impute (or replace) missing values using a descriptive statistic from the column\n",
    "\n",
    "* Pro: Missing values are replaced with potentially similar estimates, preserving the rest of the observation in the model.\n",
    "* Con: Depending on the approach, we may be adding noisy data for the model to learn\n",
    "* Rule of thumb: if up to 25% of the column values are missing, impute"
   ]
  },
  {
   "cell_type": "code",
   "execution_count": 13,
   "metadata": {},
   "outputs": [],
   "source": [
    "import pandas as pd\n",
    "\n",
    "data = pd.read_csv('AmesHousing.txt', delimiter=\"\\t\")\n",
    "train = data[0:1460]\n",
    "test = data[1460:]\n",
    "\n",
    "# train_null_counts is now a series with indexes of column names and values of the number of null rows in that column\n",
    "train_null_counts = train.isnull().sum()\n",
    "\n",
    "# get a list of all columns with between 1 and 584 null values (~25% of the total columns) - these are candidates for imputing the missing values\n",
    "cols_to_keep = train_null_counts[(train_null_counts > 0) & (train_null_counts < 584)].index"
   ]
  },
  {
   "cell_type": "code",
   "execution_count": 14,
   "metadata": {},
   "outputs": [
    {
     "name": "stdout",
     "output_type": "stream",
     "text": [
      "Index(['Lot Frontage', 'Mas Vnr Type', 'Mas Vnr Area', 'Bsmt Qual',\n",
      "       'Bsmt Cond', 'Bsmt Exposure', 'BsmtFin Type 1', 'BsmtFin SF 1',\n",
      "       'BsmtFin Type 2', 'BsmtFin SF 2', 'Bsmt Unf SF', 'Total Bsmt SF',\n",
      "       'Bsmt Full Bath', 'Bsmt Half Bath', 'Garage Type', 'Garage Yr Blt',\n",
      "       'Garage Finish', 'Garage Qual', 'Garage Cond'],\n",
      "      dtype='object')\n"
     ]
    }
   ],
   "source": [
    "print(cols_to_keep)"
   ]
  },
  {
   "cell_type": "code",
   "execution_count": 17,
   "metadata": {},
   "outputs": [
    {
     "name": "stdout",
     "output_type": "stream",
     "text": [
      "Lot Frontage      249\n",
      "Mas Vnr Type       11\n",
      "Mas Vnr Area       11\n",
      "Bsmt Qual          40\n",
      "Bsmt Cond          40\n",
      "Bsmt Exposure      41\n",
      "BsmtFin Type 1     40\n",
      "BsmtFin SF 1        1\n",
      "BsmtFin Type 2     41\n",
      "BsmtFin SF 2        1\n",
      "Bsmt Unf SF         1\n",
      "Total Bsmt SF       1\n",
      "Bsmt Full Bath      1\n",
      "Bsmt Half Bath      1\n",
      "Garage Type        74\n",
      "Garage Yr Blt      75\n",
      "Garage Finish      75\n",
      "Garage Qual        75\n",
      "Garage Cond        75\n",
      "dtype: int64\n"
     ]
    }
   ],
   "source": [
    "# get a dataframe with just the columns that have a number of missing values <= 25%\n",
    "df_missing_values = train[cols_to_keep]\n",
    "print(df_missing_values.isnull().sum())"
   ]
  },
  {
   "cell_type": "code",
   "execution_count": 22,
   "metadata": {},
   "outputs": [
    {
     "name": "stdout",
     "output_type": "stream",
     "text": [
      "Column name: Lot Frontage Data type: float64\n",
      "Column name: Mas Vnr Type Data type: object\n",
      "Column name: Mas Vnr Area Data type: float64\n",
      "Column name: Bsmt Qual Data type: object\n",
      "Column name: Bsmt Cond Data type: object\n",
      "Column name: Bsmt Exposure Data type: object\n",
      "Column name: BsmtFin Type 1 Data type: object\n",
      "Column name: BsmtFin SF 1 Data type: float64\n",
      "Column name: BsmtFin Type 2 Data type: object\n",
      "Column name: BsmtFin SF 2 Data type: float64\n",
      "Column name: Bsmt Unf SF Data type: float64\n",
      "Column name: Total Bsmt SF Data type: float64\n",
      "Column name: Bsmt Full Bath Data type: float64\n",
      "Column name: Bsmt Half Bath Data type: float64\n",
      "Column name: Garage Type Data type: object\n",
      "Column name: Garage Yr Blt Data type: float64\n",
      "Column name: Garage Finish Data type: object\n",
      "Column name: Garage Qual Data type: object\n",
      "Column name: Garage Cond Data type: object\n"
     ]
    }
   ],
   "source": [
    "for col in df_missing_values.columns:\n",
    "    print(\"Column name: \"+col+\" Data type: \"+str(df_missing_values[col].dtype))"
   ]
  },
  {
   "cell_type": "code",
   "execution_count": 23,
   "metadata": {},
   "outputs": [
    {
     "name": "stdout",
     "output_type": "stream",
     "text": [
      "Lot Frontage      0\n",
      "Mas Vnr Area      0\n",
      "BsmtFin SF 1      0\n",
      "BsmtFin SF 2      0\n",
      "Bsmt Unf SF       0\n",
      "Total Bsmt SF     0\n",
      "Bsmt Full Bath    0\n",
      "Bsmt Half Bath    0\n",
      "Garage Yr Blt     0\n",
      "dtype: int64\n"
     ]
    }
   ],
   "source": [
    "# get the columns that are of datatype float\n",
    "float_cols = df_missing_values.select_dtypes(include=['float'])\n",
    "\n",
    "# Strategy 1: Impute with 0\n",
    "# Returns a data frame with missing values replaced with 0.\n",
    "# fill_with_zero = missing_floats.fillna(0)\n",
    "\n",
    "# Strategy 2: Impute with the mean\n",
    "# Returns a data frame with missing values replaced with mean of that column.\n",
    "float_cols = float_cols.fillna(float_cols.mean())\n",
    "print(float_cols.isnull().sum())"
   ]
  },
  {
   "cell_type": "code",
   "execution_count": null,
   "metadata": {},
   "outputs": [],
   "source": []
  }
 ],
 "metadata": {
  "kernelspec": {
   "display_name": "Python 3",
   "language": "python",
   "name": "python3"
  },
  "language_info": {
   "codemirror_mode": {
    "name": "ipython",
    "version": 3
   },
   "file_extension": ".py",
   "mimetype": "text/x-python",
   "name": "python",
   "nbconvert_exporter": "python",
   "pygments_lexer": "ipython3",
   "version": "3.7.3"
  }
 },
 "nbformat": 4,
 "nbformat_minor": 4
}
