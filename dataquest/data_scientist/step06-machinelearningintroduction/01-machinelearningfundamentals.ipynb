{
 "cells": [
  {
   "cell_type": "markdown",
   "metadata": {},
   "source": [
    "# Part 1 - Introduction to K-Nearest Neighbors"
   ]
  },
  {
   "cell_type": "markdown",
   "metadata": {},
   "source": [
    "* machine learning - The process of discovering patterns in existing data\n",
    "* Summary of K-nearest neighbors: Find clusters of k elements based on some similarity measure\n",
    "* Application to the problem of selecting AirBnB prices:\n",
    "    * Find a few similar listings.\n",
    "    * Calculate the average nightly rental price of these listings.\n",
    "    * Set the average price as the price for our listing.\n",
    "* Measure of similarity: Euclidean distance\n",
    "\n",
    "d = sqrt((q1-p1)^2 + (q2-p2)^2 + ... + (qn-pn)^2)\n"
   ]
  },
  {
   "cell_type": "code",
   "execution_count": 2,
   "metadata": {},
   "outputs": [],
   "source": [
    "import numpy as np\n",
    "import pandas as pd\n",
    "dc_listings = pd.read_csv('dc_airbnb.csv')"
   ]
  },
  {
   "cell_type": "markdown",
   "metadata": {},
   "source": [
    "* Univariate case - the use of one feature/variable\n",
    "\n",
    "d = | q1 - p1 |"
   ]
  },
  {
   "cell_type": "markdown",
   "metadata": {},
   "source": [
    "# 5/10 Calculate a distance column"
   ]
  },
  {
   "cell_type": "code",
   "execution_count": 3,
   "metadata": {},
   "outputs": [
    {
     "name": "stdout",
     "output_type": "stream",
     "text": [
      "1     2294\n",
      "2      503\n",
      "0      461\n",
      "3      279\n",
      "5       73\n",
      "4       35\n",
      "7       22\n",
      "6       17\n",
      "9       12\n",
      "13       8\n",
      "8        7\n",
      "12       6\n",
      "11       4\n",
      "10       2\n",
      "Name: distance, dtype: int64\n"
     ]
    }
   ],
   "source": [
    "dc_listings['distance'] = dc_listings['accommodates'].apply(lambda x:abs(x-3))\n",
    "print(dc_listings['distance'].value_counts())"
   ]
  },
  {
   "cell_type": "markdown",
   "metadata": {},
   "source": [
    "# 6/10 Introduction to K-Nearest Neighbors\n",
    "\n",
    "\n",
    "* Randomize the order of the rows in dc_listings:\n",
    "    * Use the np.random.permutation() function to return a NumPy array of shuffled index values.\n",
    "    * Use the Dataframe method loc[] to return a new Dataframe containing the shuffled order.\n",
    "    * Assign the new Dataframe back to dc_listings.\n",
    "* After randomization, sort dc_listings by the distance column and assign back to dc_listings.\n",
    "* Display the first 10 values in the price column using the print function.\n"
   ]
  },
  {
   "cell_type": "code",
   "execution_count": 4,
   "metadata": {},
   "outputs": [
    {
     "name": "stdout",
     "output_type": "stream",
     "text": [
      "577     $185.00\n",
      "2166    $180.00\n",
      "3631    $175.00\n",
      "71      $128.00\n",
      "1011    $115.00\n",
      "380     $219.00\n",
      "943     $125.00\n",
      "3107    $250.00\n",
      "1499     $94.00\n",
      "Name: price, dtype: object\n"
     ]
    }
   ],
   "source": [
    "np.random.seed(1)\n",
    "shuffle_order = np.random.permutation(len(dc_listings))\n",
    "dc_listings = dc_listings.loc[shuffle_order]\n",
    "dc_listings = dc_listings.sort_values(by='distance')\n",
    "print(dc_listings[0:9]['price'])"
   ]
  },
  {
   "cell_type": "markdown",
   "metadata": {},
   "source": [
    "# 7/10 Average Price\n",
    "\n",
    "* Remove the commas (,) and dollar sign characters ($) from the price column:\n",
    "    * Use the str accessor so we can apply string methods to each value in the column followed by the string method replace to replace all comma characters with the empty character: stripped_commas = dc_listings['price'].str.replace(',', '')\n",
    "    * Repeat to remove the dollar sign characters as well.\n",
    "* Convert the new Series object containing the cleaned values to the float datatype and assign back to the price column in dc_listings.\n",
    "* Calculate the mean of the first 5 values in the price column and assign to mean_price.\n",
    "* Use the print function or the variable inspector below to display mean_price.\n"
   ]
  },
  {
   "cell_type": "code",
   "execution_count": 5,
   "metadata": {},
   "outputs": [],
   "source": [
    "cleaned_prices = dc_listings['price'].str.replace(',','')\n",
    "cleaned_prices = cleaned_prices.str.replace('$','')\n",
    "dc_listings['price'] = cleaned_prices.astype(float)\n",
    "mean_price = dc_listings.iloc[0:5]['price'].mean()"
   ]
  },
  {
   "cell_type": "code",
   "execution_count": 6,
   "metadata": {},
   "outputs": [
    {
     "data": {
      "text/plain": [
       "156.6"
      ]
     },
     "execution_count": 6,
     "metadata": {},
     "output_type": "execute_result"
    }
   ],
   "source": [
    "mean_price"
   ]
  },
  {
   "cell_type": "markdown",
   "metadata": {},
   "source": [
    "* Write a function named predict_price that can use the k-nearest neighbors machine learning technique to calculate the suggested price for any value for accommodates. This function should:\n",
    "    * Take in a single parameter, new_listing, that describes the number of bedrooms.\n",
    "    * We've added code that assigns dc_listings to a new Dataframe named temp_df. We used the pandas.DataFrame.copy() method so the underlying dataframe is assigned to temp_df, instead of just a reference to dc_listings.\n",
    "    * Calculate the distance between each value in the accommodates column and the new_listing value that was passed in. Assign the resulting Series object to the distance column in temp_df.\n",
    "    * Sort temp_df by the distance column and select the first 5 values in the price column. Don't randomize the ordering of temp_df.\n",
    "    * Calculate the mean of these 5 values and use that as the return value for the entire predict_price function.\n",
    "\n",
    "    * Use the predict_price function to suggest a price for a living space that:\n",
    "        * accommodates 1 person, assign the suggested price to acc_one.\n",
    "        * accommodates 2 people, assign the suggested price to acc_two.\n",
    "        * accommodates 4 people, assign the suggested price to acc_four.\n"
   ]
  },
  {
   "cell_type": "code",
   "execution_count": 7,
   "metadata": {},
   "outputs": [],
   "source": [
    "# Brought along the changes we made to the `dc_listings` Dataframe.\n",
    "dc_listings = pd.read_csv('dc_airbnb.csv')\n",
    "stripped_commas = dc_listings['price'].str.replace(',', '')\n",
    "stripped_dollars = stripped_commas.str.replace('$', '')\n",
    "dc_listings['price'] = stripped_dollars.astype('float')\n",
    "dc_listings = dc_listings.loc[np.random.permutation(len(dc_listings))]\n",
    "\n",
    "def predict_price(new_listing):\n",
    "    temp_df = dc_listings.copy()\n",
    "    ## Complete the function.\n",
    "    temp_df['distance'] = temp_df['accommodates'].apply(lambda x: abs(x -new_listing))\n",
    "    \n",
    "    return(temp_df.sort_values(by = 'distance').iloc[0:5]['price'].mean())\n",
    "\n",
    "acc_one = predict_price(1)\n",
    "acc_two = predict_price(2)\n",
    "acc_four = predict_price(4)"
   ]
  },
  {
   "cell_type": "code",
   "execution_count": 9,
   "metadata": {},
   "outputs": [
    {
     "name": "stdout",
     "output_type": "stream",
     "text": [
      "Price prediction for accommodation 171.8\n",
      "Price prediction for accommodation 296.8\n",
      "Price prediction for accommodation 496.0\n"
     ]
    }
   ],
   "source": [
    "print(\"Price prediction for accommodation 1\"+str(acc_one))\n",
    "print(\"Price prediction for accommodation 2\"+str(acc_two))\n",
    "print(\"Price prediction for accommodation 4\"+str(acc_four))"
   ]
  },
  {
   "cell_type": "markdown",
   "metadata": {},
   "source": [
    "* The function we wrote represents a machine learning model, which means that it outputs a prediction based on the input to the model."
   ]
  },
  {
   "cell_type": "markdown",
   "metadata": {},
   "source": [
    "# Part 2 - Evaluating Model Performance"
   ]
  },
  {
   "cell_type": "markdown",
   "metadata": {},
   "source": [
    "# 1/8 Testing quality of predictions"
   ]
  },
  {
   "cell_type": "markdown",
   "metadata": {},
   "source": [
    "* A simple way to test the quality of your model is to:\n",
    "\n",
    "    * split the dataset into 2 partitions:\n",
    "        * the training set: contains the majority of the rows (75%)\n",
    "        * the test set: contains the remaining minority of the rows (25%)\n",
    "\n",
    "    * use the rows in the training set to predict the price value for the rows in the test set\n",
    "        * add new column named predicted_price to the test set\n",
    "    * compare the predicted_price values with the actual price values in the test set to see how accurate the predicted values were.\n",
    "\n",
    "* This validation process, where we use the training set to make predictions and the test set to predict values for, is known as **train/test validation**."
   ]
  },
  {
   "cell_type": "markdown",
   "metadata": {},
   "source": [
    "* Within the predict_price function, change the Dataframe that temp_df is assigned to. Change it from dc_listings to train_df, so only the training set is used.\n",
    "* Use the Series method apply to pass all of the values in the accommodates column from test_df through the predict_price function.\n",
    "* Assign the resulting Series object to the predicted_price column in test_df.\n"
   ]
  },
  {
   "cell_type": "code",
   "execution_count": 23,
   "metadata": {},
   "outputs": [
    {
     "name": "stderr",
     "output_type": "stream",
     "text": [
      "C:\\Users\\hrasheed\\AppData\\Local\\Continuum\\anaconda3\\lib\\site-packages\\ipykernel_launcher.py:19: SettingWithCopyWarning: \n",
      "A value is trying to be set on a copy of a slice from a DataFrame.\n",
      "Try using .loc[row_indexer,col_indexer] = value instead\n",
      "\n",
      "See the caveats in the documentation: http://pandas.pydata.org/pandas-docs/stable/indexing.html#indexing-view-versus-copy\n"
     ]
    }
   ],
   "source": [
    "import pandas as pd\n",
    "import numpy as np\n",
    "\n",
    "def predict_price(new_listing):\n",
    "    ## DataFrame.copy() performs a deep copy\n",
    "    temp_df = train_df.copy()\n",
    "    temp_df['distance'] = temp_df['accommodates'].apply(lambda x: np.abs(x - new_listing))\n",
    "    temp_df = temp_df.sort_values('distance')\n",
    "    nearest_neighbor_prices = temp_df.iloc[0:5]['price']\n",
    "    predicted_price = nearest_neighbor_prices.mean()\n",
    "    return(predicted_price)\n",
    "\n",
    "dc_listings = pd.read_csv(\"dc_airbnb.csv\")\n",
    "stripped_commas = dc_listings['price'].str.replace(',', '')\n",
    "stripped_dollars = stripped_commas.str.replace('$', '')\n",
    "dc_listings['price'] = stripped_dollars.astype('float')\n",
    "train_df = dc_listings.iloc[0:2792]\n",
    "test_df = dc_listings.iloc[2792:]\n",
    "test_df['predicted_price'] = test_df['accommodates'].apply(predict_price)"
   ]
  },
  {
   "cell_type": "code",
   "execution_count": 24,
   "metadata": {},
   "outputs": [
    {
     "name": "stdout",
     "output_type": "stream",
     "text": [
      "     host_response_rate host_acceptance_rate  host_listings_count  \\\n",
      "2792                20%                  75%                    1   \n",
      "2793               100%                  25%                    2   \n",
      "2794                NaN                  NaN                    1   \n",
      "2795               100%                 100%                    1   \n",
      "2796               100%                 100%                    1   \n",
      "\n",
      "      accommodates        room_type  bedrooms  bathrooms  beds  price  \\\n",
      "2792             2  Entire home/apt       0.0        1.0   1.0  120.0   \n",
      "2793             3  Entire home/apt       2.0        2.0   1.0  140.0   \n",
      "2794             4  Entire home/apt       2.0        1.0   1.0  299.0   \n",
      "2795             3  Entire home/apt       1.0        1.0   1.0   85.0   \n",
      "2796             6  Entire home/apt       2.0        2.0   3.0  175.0   \n",
      "\n",
      "     cleaning_fee security_deposit  minimum_nights  maximum_nights  \\\n",
      "2792          NaN              NaN               1            1125   \n",
      "2793       $75.00          $150.00               2            1125   \n",
      "2794          NaN              NaN               2            1125   \n",
      "2795       $30.00          $250.00               1              92   \n",
      "2796       $65.00          $850.00               1            1125   \n",
      "\n",
      "      number_of_reviews   latitude  longitude        city zipcode state  \\\n",
      "2792                  8  38.922187 -77.032475  Washington   20009    DC   \n",
      "2793                  7  38.931681 -77.044739  Washington   20010    DC   \n",
      "2794                  5  38.933765 -77.031488  Washington   20010    DC   \n",
      "2795                  2  38.925692 -77.032616  Washington   20009    DC   \n",
      "2796                 62  38.927572 -77.033604  Washington   20009    DC   \n",
      "\n",
      "      predicted_price  \n",
      "2792            104.0  \n",
      "2793            177.4  \n",
      "2794            145.8  \n",
      "2795            177.4  \n",
      "2796            187.2  \n"
     ]
    }
   ],
   "source": [
    "print(test_df.head(5))"
   ]
  },
  {
   "cell_type": "markdown",
   "metadata": {},
   "source": [
    "# 2/8 - Error Metrics"
   ]
  },
  {
   "cell_type": "markdown",
   "metadata": {},
   "source": [
    "* a metric that quantifies how good the predictions were on the test set. This class of metrics is called an **error metric**.\n",
    "* We could start by calculating the difference between each predicted and actual value and then averaging these differences. This is referred to as mean error.\n",
    "* mean absolute error, where we compute the absolute value of each error before we average all the errors."
   ]
  },
  {
   "cell_type": "code",
   "execution_count": 25,
   "metadata": {},
   "outputs": [],
   "source": [
    "import numpy as np\n",
    "\n",
    "mae = sum(np.absolute(test_df['predicted_price'] - test_df['price']))/len(test_df)"
   ]
  },
  {
   "cell_type": "code",
   "execution_count": 26,
   "metadata": {},
   "outputs": [
    {
     "data": {
      "text/plain": [
       "56.29001074113876"
      ]
     },
     "execution_count": 26,
     "metadata": {},
     "output_type": "execute_result"
    }
   ],
   "source": [
    "mae"
   ]
  },
  {
   "cell_type": "markdown",
   "metadata": {},
   "source": [
    "# 3/8 Mean Squared Error"
   ]
  },
  {
   "cell_type": "markdown",
   "metadata": {},
   "source": [
    "* We can instead take the mean of the squared error values, which is called the mean squared error or MSE for short. The MSE makes the gap between the predicted and actual values more clear. A prediction that's off by 100 dollars will have an error (of 10,000) that's 100 times more than a prediction that's off by only 10 dollars (which will have an error of 100)."
   ]
  },
  {
   "cell_type": "code",
   "execution_count": 27,
   "metadata": {},
   "outputs": [
    {
     "name": "stdout",
     "output_type": "stream",
     "text": [
      "18646.525370569325\n"
     ]
    }
   ],
   "source": [
    "import numpy as np\n",
    "\n",
    "mse = sum((test_df['predicted_price']-test_df['price'])**2)/len(test_df)\n",
    "\n",
    "print(mse)"
   ]
  },
  {
   "cell_type": "markdown",
   "metadata": {},
   "source": [
    "# 4/8  Train another model"
   ]
  },
  {
   "cell_type": "markdown",
   "metadata": {},
   "source": [
    "* Modify the predict_price function to the right to use the bathrooms column instead of the accommodates column to make predictions.\n",
    "* Apply the function to test_df and assign the resulting Series object containing the predicted price values to the predicted_price column in test_df.\n",
    "* Calculate the squared error between the price and predicted_price columns in test_df and assign the resulting Series object to the squared_error column in test_df.\n",
    "* Calculate the mean of the squared_error column in test_df and assign to mse.\n",
    "* Use the print function or the variables inspector to display the MSE value.\n"
   ]
  },
  {
   "cell_type": "code",
   "execution_count": 28,
   "metadata": {},
   "outputs": [
    {
     "name": "stdout",
     "output_type": "stream",
     "text": [
      "18405.444081632548\n"
     ]
    },
    {
     "name": "stderr",
     "output_type": "stream",
     "text": [
      "C:\\Users\\hrasheed\\AppData\\Local\\Continuum\\anaconda3\\lib\\site-packages\\ipykernel_launcher.py:12: SettingWithCopyWarning: \n",
      "A value is trying to be set on a copy of a slice from a DataFrame.\n",
      "Try using .loc[row_indexer,col_indexer] = value instead\n",
      "\n",
      "See the caveats in the documentation: http://pandas.pydata.org/pandas-docs/stable/indexing.html#indexing-view-versus-copy\n",
      "  if sys.path[0] == '':\n",
      "C:\\Users\\hrasheed\\AppData\\Local\\Continuum\\anaconda3\\lib\\site-packages\\ipykernel_launcher.py:14: SettingWithCopyWarning: \n",
      "A value is trying to be set on a copy of a slice from a DataFrame.\n",
      "Try using .loc[row_indexer,col_indexer] = value instead\n",
      "\n",
      "See the caveats in the documentation: http://pandas.pydata.org/pandas-docs/stable/indexing.html#indexing-view-versus-copy\n",
      "  \n"
     ]
    }
   ],
   "source": [
    "train_df = dc_listings.iloc[0:2792]\n",
    "test_df = dc_listings.iloc[2792:]\n",
    "\n",
    "def predict_price(new_listing):\n",
    "    temp_df = train_df.copy()\n",
    "    temp_df['distance'] = temp_df['bathrooms'].apply(lambda x: np.abs(x - new_listing))\n",
    "    temp_df = temp_df.sort_values('distance')\n",
    "    nearest_neighbors_prices = temp_df.iloc[0:5]['price']\n",
    "    predicted_price = nearest_neighbors_prices.mean()\n",
    "    return(predicted_price)\n",
    "\n",
    "test_df['predicted_price'] = test_df['bathrooms'].apply(predict_price)\n",
    "\n",
    "test_df['squared_error'] = np.abs(test_df['price'] - test_df['predicted_price'])**2\n",
    "\n",
    "mse = test_df['squared_error'].mean()\n",
    "print(mse)"
   ]
  },
  {
   "cell_type": "markdown",
   "metadata": {},
   "source": [
    "# 5/8 Root Mean Squared Error\n",
    "\n",
    "Root mean squared error is an error metric whose units are the base unit (in our case, dollars). RMSE for short, this error metric is calculated by taking the square root of the MSE value"
   ]
  },
  {
   "cell_type": "code",
   "execution_count": 30,
   "metadata": {},
   "outputs": [
    {
     "name": "stderr",
     "output_type": "stream",
     "text": [
      "C:\\Users\\hrasheed\\AppData\\Local\\Continuum\\anaconda3\\lib\\site-packages\\ipykernel_launcher.py:11: SettingWithCopyWarning: \n",
      "A value is trying to be set on a copy of a slice from a DataFrame.\n",
      "Try using .loc[row_indexer,col_indexer] = value instead\n",
      "\n",
      "See the caveats in the documentation: http://pandas.pydata.org/pandas-docs/stable/indexing.html#indexing-view-versus-copy\n",
      "  # This is added back by InteractiveShellApp.init_path()\n",
      "C:\\Users\\hrasheed\\AppData\\Local\\Continuum\\anaconda3\\lib\\site-packages\\ipykernel_launcher.py:12: SettingWithCopyWarning: \n",
      "A value is trying to be set on a copy of a slice from a DataFrame.\n",
      "Try using .loc[row_indexer,col_indexer] = value instead\n",
      "\n",
      "See the caveats in the documentation: http://pandas.pydata.org/pandas-docs/stable/indexing.html#indexing-view-versus-copy\n",
      "  if sys.path[0] == '':\n"
     ]
    }
   ],
   "source": [
    "import math as mt\n",
    "\n",
    "def predict_price(new_listing):\n",
    "    temp_df = train_df.copy()\n",
    "    temp_df['distance'] = temp_df['bathrooms'].apply(lambda x: np.abs(x - new_listing))\n",
    "    temp_df = temp_df.sort_values('distance')\n",
    "    nearest_neighbors_prices = temp_df.iloc[0:5]['price']\n",
    "    predicted_price = nearest_neighbors_prices.mean()\n",
    "    return(predicted_price)\n",
    "\n",
    "test_df['predicted_price'] = test_df['bathrooms'].apply(lambda x: predict_price(x))\n",
    "test_df['squared_error'] = (test_df['predicted_price'] - test_df['price'])**(2)\n",
    "mse = test_df['squared_error'].mean()\n",
    "rmse = mt.sqrt(mse)"
   ]
  },
  {
   "cell_type": "code",
   "execution_count": 31,
   "metadata": {},
   "outputs": [
    {
     "name": "stdout",
     "output_type": "stream",
     "text": [
      "135.6666653295221\n"
     ]
    }
   ],
   "source": [
    "print(rmse)"
   ]
  },
  {
   "cell_type": "markdown",
   "metadata": {},
   "source": [
    "# 6/8 Comparing MAE and RMSE\n",
    "\n",
    "* If you look at the equation for MAE, you'll notice that that the differences between predicted and actual values grow linearly. A prediction that's off by 10 dollars has a 10 times higher error than a prediction that's off by 1 dollar.\n",
    "* If you look at the equation for RMSE, however, you'll notice that each error is squared before the square root of the sum of all the errors is taken. This means that the individual errors grows quadratically and has a different effect on the final RMSE value. "
   ]
  },
  {
   "cell_type": "code",
   "execution_count": 32,
   "metadata": {},
   "outputs": [],
   "source": [
    "import math as mt\n",
    "\n",
    "errors_one = pd.Series([5, 10, 5, 10, 5, 10, 5, 10, 5, 10, 5, 10, 5, 10, 5, 10, 5, 10])\n",
    "errors_two = pd.Series([5, 10, 5, 10, 5, 10, 5, 10, 5, 10, 5, 10, 5, 10, 5, 10, 5, 1000])\n",
    "\n",
    "mae_one = 1/len(errors_one)*sum(errors_one)\n",
    "rmse_one = mt.sqrt(sum(errors_one.apply(lambda x: x**2))/len(errors_one))\n",
    "\n",
    "mae_two = 1/len(errors_two)*sum(errors_two)\n",
    "rmse_two = mt.sqrt(sum(errors_two.apply(lambda x: x**2))/len(errors_two))"
   ]
  },
  {
   "cell_type": "code",
   "execution_count": 33,
   "metadata": {},
   "outputs": [
    {
     "name": "stdout",
     "output_type": "stream",
     "text": [
      "7.5\n",
      "7.905694150420948\n"
     ]
    }
   ],
   "source": [
    "print(mae_one)\n",
    "print(rmse_one)"
   ]
  },
  {
   "cell_type": "code",
   "execution_count": 34,
   "metadata": {},
   "outputs": [
    {
     "name": "stdout",
     "output_type": "stream",
     "text": [
      "62.5\n",
      "235.82302686548658\n"
     ]
    }
   ],
   "source": [
    "print(mae_two)\n",
    "print(rmse_two)"
   ]
  },
  {
   "cell_type": "markdown",
   "metadata": {},
   "source": [
    "# 7/8\n",
    "\n",
    "* In general, we should expect that the MAE value be much less than the RMSE value. The only difference between the 2 sets of errors is the extreme 1000 value in errors_two instead of 10."
   ]
  },
  {
   "cell_type": "markdown",
   "metadata": {},
   "source": [
    "# Part 3 - Multivariate K-Nearest Neighbors"
   ]
  },
  {
   "cell_type": "markdown",
   "metadata": {},
   "source": [
    "# 1/8  Removing features\n",
    "\n",
    "\n",
    "\n",
    "Use the DataFrame.info() method to return the number of non-null values in each column."
   ]
  },
  {
   "cell_type": "code",
   "execution_count": 35,
   "metadata": {},
   "outputs": [
    {
     "name": "stdout",
     "output_type": "stream",
     "text": [
      "<class 'pandas.core.frame.DataFrame'>\n",
      "RangeIndex: 3723 entries, 0 to 3722\n",
      "Data columns (total 19 columns):\n",
      "host_response_rate      3289 non-null object\n",
      "host_acceptance_rate    3109 non-null object\n",
      "host_listings_count     3723 non-null int64\n",
      "accommodates            3723 non-null int64\n",
      "room_type               3723 non-null object\n",
      "bedrooms                3702 non-null float64\n",
      "bathrooms               3696 non-null float64\n",
      "beds                    3712 non-null float64\n",
      "price                   3723 non-null float64\n",
      "cleaning_fee            2335 non-null object\n",
      "security_deposit        1426 non-null object\n",
      "minimum_nights          3723 non-null int64\n",
      "maximum_nights          3723 non-null int64\n",
      "number_of_reviews       3723 non-null int64\n",
      "latitude                3723 non-null float64\n",
      "longitude               3723 non-null float64\n",
      "city                    3723 non-null object\n",
      "zipcode                 3714 non-null object\n",
      "state                   3723 non-null object\n",
      "dtypes: float64(6), int64(5), object(8)\n",
      "memory usage: 552.7+ KB\n"
     ]
    }
   ],
   "source": [
    "dc_listings.info()"
   ]
  },
  {
   "cell_type": "markdown",
   "metadata": {},
   "source": [
    "# 2/8\n",
    "\n",
    "* Main idea: remove colums from the dataset that cant be used in a Euclidean distance formula\n",
    "\n",
    "Remove the 9 columns we discussed above from dc_listings:\n",
    "\n",
    "    3 containing non-numerical values\n",
    "    3 containing numerical but non-ordinal values\n",
    "    3 describing the host instead of the living space itself\n",
    "\n"
   ]
  },
  {
   "cell_type": "code",
   "execution_count": 36,
   "metadata": {},
   "outputs": [],
   "source": [
    "dc_listings = dc_listings.drop(columns=['room_type','city','state','latitude','longitude','zipcode','host_response_rate','host_acceptance_rate','host_listings_count'])"
   ]
  },
  {
   "cell_type": "markdown",
   "metadata": {},
   "source": [
    "# 3/8\n",
    "\n",
    "\n",
    "    Drop the cleaning_fee and security_deposit columns from dc_listings.\n",
    "    Then, remove all rows that contain a missing value for the bedrooms, bathrooms, or beds column from dc_listings.\n",
    "        You can accomplish this by using the Dataframe method dropna() and setting the axis parameter to 0.\n",
    "        Since only the bedrooms, bathrooms, and beds columns contain any missing values, rows containing missing values in these columns will be removed.\n",
    "    Display the null value counts for the updated dc_listings Dataframe to confirm that there are no missing values left.\n"
   ]
  },
  {
   "cell_type": "code",
   "execution_count": 37,
   "metadata": {},
   "outputs": [
    {
     "name": "stdout",
     "output_type": "stream",
     "text": [
      "<class 'pandas.core.frame.DataFrame'>\n",
      "Int64Index: 3671 entries, 0 to 3722\n",
      "Data columns (total 8 columns):\n",
      "accommodates         3671 non-null int64\n",
      "bedrooms             3671 non-null float64\n",
      "bathrooms            3671 non-null float64\n",
      "beds                 3671 non-null float64\n",
      "price                3671 non-null float64\n",
      "minimum_nights       3671 non-null int64\n",
      "maximum_nights       3671 non-null int64\n",
      "number_of_reviews    3671 non-null int64\n",
      "dtypes: float64(4), int64(4)\n",
      "memory usage: 258.1 KB\n"
     ]
    }
   ],
   "source": [
    "dc_listings = dc_listings.drop(columns=['cleaning_fee','security_deposit'])\n",
    "dc_listings.dropna(axis=0,subset=['bedrooms','bathrooms','beds'],inplace=True)\n",
    "dc_listings.info()"
   ]
  },
  {
   "cell_type": "markdown",
   "metadata": {},
   "source": [
    "# 4/8\n",
    "\n",
    "* Note that some attributes in the table vary widely -- could have a disproportionate affect on the ML model\n",
    "* Need to normalize all columns to have mean 0 and std 1\n",
    "* Normalizing the values in each column to the standard normal distribution (mean of 0, standard deviation of 1) preserves the distribution of the values in each column while aligning the scales.\n",
    "\n",
    "* To normalize the values in a column to the standard normal distribution, you need to:\n",
    "\n",
    "    from each value, subtract the mean of the column\n",
    "    divide each value by the standard deviation of the column\n"
   ]
  },
  {
   "cell_type": "code",
   "execution_count": 55,
   "metadata": {},
   "outputs": [
    {
     "data": {
      "text/plain": [
       "accommodates          -0.596544\n",
       "bedrooms              -0.249467\n",
       "bathrooms             -0.439151\n",
       "beds                  -0.546858\n",
       "price                100.000000\n",
       "minimum_nights        -0.065038\n",
       "maximum_nights        -0.016573\n",
       "number_of_reviews     -0.516709\n",
       "Name: 586, dtype: float64"
      ]
     },
     "execution_count": 55,
     "metadata": {},
     "output_type": "execute_result"
    }
   ],
   "source": [
    "normalized_listings = (dc_listings - dc_listings.mean())/dc_listings.std()\n",
    "normalized_listings['price'] = dc_listings['price']\n",
    "#normalized_listings.head(3)\n",
    "normalized_listings.iloc[574]\n",
    "#normalized_listings.iloc[1593]\n",
    "#normalized_listings.iloc[3091]"
   ]
  },
  {
   "cell_type": "code",
   "execution_count": 52,
   "metadata": {},
   "outputs": [
    {
     "name": "stdout",
     "output_type": "stream",
     "text": [
      "<class 'pandas.core.frame.DataFrame'>\n",
      "Int64Index: 3671 entries, 0 to 3722\n",
      "Data columns (total 8 columns):\n",
      "accommodates         3671 non-null float64\n",
      "bedrooms             3671 non-null float64\n",
      "bathrooms            3671 non-null float64\n",
      "beds                 3671 non-null float64\n",
      "price                3671 non-null float64\n",
      "minimum_nights       3671 non-null float64\n",
      "maximum_nights       3671 non-null float64\n",
      "number_of_reviews    3671 non-null float64\n",
      "dtypes: float64(8)\n",
      "memory usage: 418.1 KB\n"
     ]
    }
   ],
   "source": [
    "normalized_listings.info()"
   ]
  },
  {
   "cell_type": "markdown",
   "metadata": {},
   "source": [
    "# 5/8 Euclidean distance for multivariate case\n",
    "\n",
    "# Note\n",
    "\n",
    "The results that I got in this case werent the same as the online solution, even though the code was the same. Perhaps there was a reshuffling in the dataset"
   ]
  },
  {
   "cell_type": "code",
   "execution_count": 56,
   "metadata": {},
   "outputs": [
    {
     "name": "stdout",
     "output_type": "stream",
     "text": [
      "Vector 1:accommodates    0.401366\n",
      "bathrooms      -0.439151\n",
      "Name: 0, dtype: float64\n",
      "Vector 2:accommodates    0.401366\n",
      "bathrooms      -0.439151\n",
      "Name: 4, dtype: float64\n",
      "0.0\n"
     ]
    }
   ],
   "source": [
    "from scipy.spatial import distance\n",
    "\n",
    "first_fifth_distance = distance.euclidean(normalized_listings.iloc[0][['accommodates','bathrooms']],normalized_listings.iloc[4][['accommodates','bathrooms']])\n",
    "print(\"Vector 1:\"+str(normalized_listings.iloc[0][['accommodates','bathrooms']]))\n",
    "print(\"Vector 2:\"+str(normalized_listings.iloc[4][['accommodates','bathrooms']]))\n",
    "print(first_fifth_distance)"
   ]
  },
  {
   "cell_type": "markdown",
   "metadata": {},
   "source": [
    "# 6/8 Introduction to scikit-learn\n",
    "\n",
    "* The scikit-learn workflow consists of 4 main steps:\n",
    "\n",
    "    * instantiate the specific machine learning model you want to use\n",
    "    * fit the model to the training data\n",
    "    * use the model to make predictions\n",
    "    * evaluate the accuracy of the predictions\n",
    "\n",
    "* Any model that helps us predict numerical values, like listing price in our case, is known as a regression model. \n",
    "* The other main class of machine learning models is called classification, where we're trying to predict a label from a fixed set of labels (e.g. blood type or gender)\n",
    "\n",
    "* by default:\n",
    "\n",
    "    * n_neighbors: the number of neighbors, is set to 5\n",
    "    * algorithm: for computing nearest neighbors, is set to auto\n",
    "    * p: set to 2, corresponding to Euclidean distance\n",
    "\n",
    "\n",
    "```python\n",
    "from sklearn.neighbors import KNeighborsRegressor\n",
    "knn = KNeighborsRegressor()\n",
    "knn = KNeighborsRegressor(algorithm='brute')\n",
    "```\n"
   ]
  },
  {
   "cell_type": "markdown",
   "metadata": {},
   "source": [
    "# 7/12  Fitting a model and making predictions\n",
    "\n",
    "You can select the target column from the Dataframe and use that as the second parameter to the fit method:\n",
    "\n",
    "```python\n",
    "# Split full dataset into train and test sets.\n",
    "\n",
    "train_df = normalized_listings.iloc[0:2792]\n",
    "\n",
    "test_df = normalized_listings.iloc[2792:]\n",
    "\n",
    "# Matrix-like object, containing just the 2 columns of interest from training set.\n",
    "\n",
    "train_features = train_df[['accommodates', 'bathrooms']]\n",
    "\n",
    "# List-like object, containing just the target column, `price`.\n",
    "\n",
    "train_target = train_df['price']\n",
    "\n",
    "# Pass everything into the fit method.\n",
    "\n",
    "knn.fit(train_features, train_target)\n",
    "```\n",
    "\n",
    "\n",
    "\n",
    "The number of feature columns you use during both training and testing need to match or scikit-learn will return an error:\n",
    "\n",
    "```python\n",
    "predictions = knn.predict(test_df[['accommodates', 'bathrooms']])\n",
    "```\n",
    "\n",
    "The predict() method returns a NumPy array containing the predicted price values for the test set.\n"
   ]
  },
  {
   "cell_type": "markdown",
   "metadata": {},
   "source": [
    "\n",
    "\n",
    "    Create an instance of the KNeighborsRegressor class with the following parameters:\n",
    "        n_neighbors: 5\n",
    "        algorithm: brute\n",
    "\n",
    "    Use the fit method to specify the data we want the k-nearest neighbor model to use. Use the following parameters:\n",
    "        training data, feature columns: just the accommodates and bathrooms columns, in that order, from train_df.\n",
    "        training data, target column: the price column from train_df.\n",
    "\n",
    "    Call the predict method to make predictions on:\n",
    "        the accommodates and bathrooms columns from test_df\n",
    "        assign the resulting NumPy array of predicted price values to predictions.\n"
   ]
  },
  {
   "cell_type": "code",
   "execution_count": 57,
   "metadata": {},
   "outputs": [],
   "source": [
    "from sklearn.neighbors import KNeighborsRegressor\n",
    "\n",
    "train_df = normalized_listings.iloc[0:2792]\n",
    "test_df = normalized_listings.iloc[2792:]\n",
    "\n",
    "knn = KNeighborsRegressor(n_neighbors=5,algorithm='brute')\n",
    "\n",
    "knn.fit(train_df[['accommodates','bathrooms']], train_df['price'])\n",
    "\n",
    "predictions = knn.predict(test_df[['accommodates','bathrooms']])"
   ]
  },
  {
   "cell_type": "code",
   "execution_count": 58,
   "metadata": {},
   "outputs": [
    {
     "data": {
      "text/plain": [
       "array([  62.8,  120.2,   91. ,  305.6,  120.2,  120.2,  266.6,  120.2,\n",
       "         91. ,  120.2,  120.2,   62.8,   91. ,  120.2,  120.2,  120.2,\n",
       "        134.6,  120.2,  113. ,  234.8,  120.2,  120.2,  120.2,  120.2,\n",
       "         74.2,   91. ,   91. ,   91. ,  120.2,  113. ,  120.2,   91. ,\n",
       "        120.2,  120.2,  120.2,  120.2,  120.2,  120.2,  120.2,  120.2,\n",
       "        120.2,  120.2,  120.2,  204.8,  120.2,  120.2,   91. ,   91. ,\n",
       "        305.6,  120.8,  569.8,  120.2,  204.8,   62.8,  113. ,  120.2,\n",
       "        120.8,  120.2,  146.4,   91. ,  120.2,   91. ,  113. ,  120.2,\n",
       "         91. ,  120.2,   62.8,  120.2,   74.2,  146.4,   65.4,  120.2,\n",
       "        120.8,   91. ,  305.6,  120.2,  120.2,  288. ,  297.8,  113. ,\n",
       "        120.2,  134.6,  213.6,  120.8,  120.2,  113. ,   91. ,  494.8,\n",
       "        120.2,   62.8,  120.2,  113. ,  113. ,  120.2,  113. ,   91. ,\n",
       "        305.6,  120.2,  120.2,  234.8,  120.2,   91. ,  120.2,   91. ,\n",
       "        204.8,  120.2,  120.2,  141.4,  120.2,   74.2,   91. ,   91. ,\n",
       "         62.8,  120.2,  120.2,  228.8,  113. ,   91. ,  297.8,   91. ,\n",
       "        317.8,  120.2,  247.4,  120.2,  204.8,  213.6,  146.4,  120.2,\n",
       "         62.8,   91. ,  120.2,  120.2,  113. ,  120.2,   74.2,   91. ,\n",
       "        197.6,  120.2,   91. ,  113. ,  120.2,  120.2,  113. ,  120.2,\n",
       "        204.8,  113. ,  120.2,   91. ,  414.6,  120.2,  120.2,  120.2,\n",
       "        120.2,   62.8,  849. ,  247.4,  113. ,  120.2,  120.2,  120.2,\n",
       "         62.8,  120.2,  494.8,  120.2,  120.2,   74.2,  120.2,   91. ,\n",
       "        120.2,  113. ,  120.8,  120.2,  228.8,   74.2,  120.2,  191.4,\n",
       "        120.2,   91. ,  120.2,  120.2,  120.2,  120.2,  113. ,  113. ,\n",
       "        120.2,   91. ,  113. ,  120.2,   62.8,  120.2,   62.8,  120.2,\n",
       "         90. ,   91. ,   91. ,  113. ,   91. ,  204.8,   90. ,   62.8,\n",
       "        113. ,  120.2,  120.2,  146.4,   91. ,  204.8,  113. ,  120.2,\n",
       "         62.8,  120.2,  120.2,  120.2,  120.2,  440. ,  120.2,  120.2,\n",
       "        146.4,   62.8,  113. ,  247.4,  141.4,  247.4,   62.8,   62.8,\n",
       "        305.6,  120.2,   91. ,  120.8,  120.2,  120.2,  113. ,  120.2,\n",
       "        120.8,  120.8,  120.2,  120.2,   91. ,   91. ,   90. ,   62.8,\n",
       "        120.2,   91. ,  120.2,  120.2,   74.2,  120.2,  120.2,   91. ,\n",
       "        120.2,   65.4,  120.2,  120.2,  146.4,   91. ,  120.2,  120.2,\n",
       "        113. ,  120.2,  113. ,  120.2,  247.4,  120.2,  396.8,   62.8,\n",
       "        120.2,  113. ,  120.2,   74.2,  120.2,  247.4,  146.4,  120.8,\n",
       "        120.2,   91. ,   91. ,   62.8,  120.2,  113. ,   74.2,   91. ,\n",
       "        120.2,   74.2,   91. ,   62.8,   91. ,  204.8,  113. ,  204.8,\n",
       "        120.2,   91. ,  120.2,  120.2,  120.2,  120.2,   91. ,   91. ,\n",
       "         91. ,   62.8,  113. ,  120.8,  120.2,   91. ,  113. ,  141.4,\n",
       "        204.8,  204.8,   74.2,  113. ,   91. ,   62.8,  120.2,   91. ,\n",
       "        120.2,   91. ,  120.2,  120.2,  305.6,   62.8,  120.2,  506.8,\n",
       "        120.2,  113. ,   62.8,  120.2,  120.2,  494.8,  120.2,  147.8,\n",
       "        120.2,  120.2,   74.2,  146.4,  120.2,  120.2,  288. ,  120.2,\n",
       "         91. ,  113. ,  120.2,   91. ,  120.2,  120.2,  297.8,  120.2,\n",
       "         74.2,  120.2,  120.2,  113. ,  113. ,  120.2,  120.2,   91. ,\n",
       "         74.2,  317.8,  120.2,  120.2,  120.2,  247.4,  266.6,   91. ,\n",
       "         91. ,  120.2,  204.8,  228.8,   62.8,  204.8,  141.4,  113. ,\n",
       "        120.8,  113. ,   91. ,  305.6,  120.2,  146.4,  120.2,  120.2,\n",
       "        113. ,  113. ,  146.4,  120.8,  506.8,  120.8,  297.8,   62.8,\n",
       "        113. ,   91. ,  120.2,  113. ,  120.2,   74.2,  120.2,  120.2,\n",
       "         90. ,   74.2,  120.2,  113. ,  120.2,  120.2,  134.6,  120.8,\n",
       "        120.2,   74.2,  317. ,  204.8,  120.2,  375. ,   74.2,  120.2,\n",
       "        494.8,   74.2,  120.2,   91. ,  120.2,  120.2,   62.8,  120.2,\n",
       "        120.2,  120.2,  146.4,  113. ,  317. ,   91. ,   91. ,  120.2,\n",
       "        120.2,  228.8,  120.2,  120.8,  120.2,  146.4,  326.6,  120.2,\n",
       "        120.2,  934. ,   91. ,  120.2,   91. ,  120.2,  146.4,  120.2,\n",
       "         62.8,  234.8,  113. ,  414.6,   62.8,   91. ,  305.6,   90. ,\n",
       "         91. ,   62.8,  191.4,   91. ,  147.8,   62.8,  120.2,   62.8,\n",
       "         91. ,  120.2,  120.2,  146.4,  120.2,  247.4,  247.4, 1213.4,\n",
       "        120.2,   91. ,  146.4,  120.2,   62.8,  102. ,  197.6,   62.8,\n",
       "         91. ,  120.2,  120.2,  120.2,  120.2,   90. ,  288. ,  120.2,\n",
       "         62.8,  113. ,  120.2,  120.2,  120.2,   62.8,  113. ,  120.2,\n",
       "        134.6,  120.2,  120.2,   91. ,  120.8,   62.8,  305.6,  120.2,\n",
       "         91. ,   74.2,  113. ,  113. ,  102. ,  113. ,   91. ,  120.2,\n",
       "         91. ,  120.2,  141.4,  113. ,  120.2,  213.6,  113. ,  120.2,\n",
       "        120.2,  305.6,  113. ,  120.2,  120.2,   62.8,  120.2,  120.2,\n",
       "        317. ,   62.8,   62.8,  120.2,   62.8,  120.2,  120.2,  120.2,\n",
       "        113. ,   91. ,   91. ,  120.2,  375. ,  113. ,  146.4,  120.2,\n",
       "        120.2,  120.2,  494.8,  120.2,   91. ,   91. ,  120.2,  120.2,\n",
       "        120.2,  113. ,  120.2,  113. ,   62.8,  120.2,  120.2,   91. ,\n",
       "         91. ,  120.8,  120.2,   62.8,  120.2,  120.2,   91. ,  120.2,\n",
       "        113. ,  120.2,  120.2,  120.2,  120.2,  120.2,  120.2,  120.2,\n",
       "        120.2,   91. ,  120.2,  113. ,   91. ,   91. ,  120.2,  120.2,\n",
       "        120.2,  120.2,  145.2,  146.4,  146.4,  197.6,  197.6,  120.2,\n",
       "        120.2,  120.2,   91. ,   91. ,   62.8,  120.2,  204.8,  134.6,\n",
       "        199. ,  120.2,  317.8,  145.2,   91. ,   91. ,   90. ,   73.6,\n",
       "         91. ,  120.2,  120.2,  120.2,  120.2,  120.2,  120.2,  120.2,\n",
       "        475. ,  113. ,  120.2,   62.8,  146.4,   91. ,  120.8,  120.2,\n",
       "        228.8,  317.8,  197.6,  120.2,   91. ,  197.6,   91. ,  120.2,\n",
       "         91. ,   91. ,  204.8,  120.2,  120.2,  139. ,   91. ,  317.8,\n",
       "        228.8,  197.6,  134.6,  113. ,  120.2,  120.2,  494.8,  120.2,\n",
       "        120.2,   74.2,   91. ,  120.2,  120.2,  113. ,   91. ,   91. ,\n",
       "        120.8,  297.8,   91. ,  120.2,  146.4,  120.8,   91. ,   91. ,\n",
       "        120.2,  204.8,  120.2,  247.4,  279.6,  120.2,  134.6,  120.2,\n",
       "        197.6,  120.2,  113. ,   91. ,  204.8,  120.8,  113. ,  113. ,\n",
       "        120.2,  120.2,   91. ,  317.8,   91. ,   91. ,  197.6,  120.2,\n",
       "        882.2,   91. ,  120.8,  506.8,  139. ,  139. ,  197.6,  120.2,\n",
       "        120.2,   91. ,  120.2,   62.8,   91. ,   74.2,   91. ,  234.8,\n",
       "        120.2,  197.6,   91. ,  506.8,  247.4,  120.2,  113. ,  120.2,\n",
       "         91. ,  228.8,  120.2,  494.8,   74.2,  120.2,  494.8,  113. ,\n",
       "         62.8,   91. ,   62.8,   91. ,  113. ,  120.2,  247.4,  120.2,\n",
       "        120.2,  120.2,  120.2,  120.2,  113. ,  228.8,   91. ,  120.2,\n",
       "        113. ,  228.8,  139. ,  272.4,  506.8,  204.8,  113. ,   91. ,\n",
       "        120.2,  275.4,  113. ,   62.8,  120.2,  139. ,   91. ,  297.8,\n",
       "        494.8,   91. ,   91. ,   90. ,   91. ,  113. ,  120.8,   91. ,\n",
       "        120.2,   91. ,  396.8,  120.2,  120.2,  120.2,  440. ,  102. ,\n",
       "         91. ,   91. ,  120.2,  134.6,   74.2,  494.8,   91. ,   91. ,\n",
       "        113. ,  475. ,  120.2,   91. ,  204.8,   91. ,  146.4,  145.2,\n",
       "        120.2,  120.2,   91. ,  120.2,  120.2,  113. ,  113. ,  120.2,\n",
       "        120.2,   91. ,  120.2,  113. ,  120.2,   91. ,   90. ,   62.8,\n",
       "        120.2,   91. ,   91. ,  146.4,  113. ,  228.8,  120.2,  146.4,\n",
       "        120.2,  120.2,   91. ,  494.8,  120.2,  120.2,  494.8,  113. ,\n",
       "         91. ,  396.8,   62.8,  120.2,  146.4,  141.4,  120.2,  234.8,\n",
       "        120.2,   91. ,  120.2,   62.8,  120.2,  120.2,  228.8,  113. ,\n",
       "         73.6,   91. ,  120.2,  120.2,   91. ,   91. ,  120.2,  113. ,\n",
       "        120.2,  494.8,  120.2,  120.2,   91. ,  440. ,  120.2,  494.8,\n",
       "        120.2,  120.8,   91. ,   91. ,  120.2,  120.2,  120.2,   91. ,\n",
       "         62.8,   62.8,  197.6,   91. ,  120.2,  113. ,  120.2,  228.8,\n",
       "         91. ,  120.2,  228.8,  204.8,  204.8,  146.4,  204.8,  113. ,\n",
       "        120.2,  120.2,  120.2,  120.2,   91. ,  146.4,  113. ,   62.8,\n",
       "        146.4,  266.6,   91. ,  134.6,  120.8,  120.2,  113. ])"
      ]
     },
     "execution_count": 58,
     "metadata": {},
     "output_type": "execute_result"
    }
   ],
   "source": [
    "predictions"
   ]
  },
  {
   "cell_type": "markdown",
   "metadata": {},
   "source": [
    "# 8/8"
   ]
  }
 ],
 "metadata": {
  "kernelspec": {
   "display_name": "Python 3",
   "language": "python",
   "name": "python3"
  },
  "language_info": {
   "codemirror_mode": {
    "name": "ipython",
    "version": 3
   },
   "file_extension": ".py",
   "mimetype": "text/x-python",
   "name": "python",
   "nbconvert_exporter": "python",
   "pygments_lexer": "ipython3",
   "version": "3.7.3"
  }
 },
 "nbformat": 4,
 "nbformat_minor": 4
}
